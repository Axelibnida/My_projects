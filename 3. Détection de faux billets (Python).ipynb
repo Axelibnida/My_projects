{
 "cells": [
  {
   "cell_type": "markdown",
   "id": "f3eeaace",
   "metadata": {},
   "source": [
    "# Détection de faux billets avec Python\n",
    "### \n",
    "<figure>\n",
    "   <img src=\"./images/ONCFM logo.png\" >\n",
    "</figure>\n",
    "\n",
    "## [Cahier des charges](https://s3-eu-west-1.amazonaws.com/static.oc-static.com/prod/courses/files/parcours-data-analyst/DAN-P10-cdc-detection-faux-billets.pdf)\n",
    "## Sommaire\n",
    " - [1. Préparation](#1)\n",
    "   - [1.1 Importation des librairies](#1.1)\n",
    "   - [1.2 Importation des bases de données](#1.2)\n",
    "   - [1.3 Aperçu des données](#1.3)\n",
    "   - [1.4 Recherche de potentiels \"outliers\" dans les données](#1.4)\n",
    " - [2. Régression linéaire](#2)\n",
    "   - [2.1 Préparation du modèle](#2.1)\n",
    "   - [2.2 Prédiction des valeurs manquantes](#2.2)\n",
    "   - [2.3 DataFrame complète avec les données manquantes](#2.3)\n",
    " - [3. Régression logistique](#3)\n",
    "   - [3.1 Préparation du modèle](#3.1)\n",
    "   - [3.2 Matrice de confusion](#3.2)\n",
    "   - [3.3 Prédictions sur le test dataset](#3.3) \n",
    " - [4. K-Means clustering for classification](#4)\n",
    "   - [4.1 Préparation du modèle](4.1)\n",
    "   - [4.2 Matrice de confusion](#4.2)\n",
    "   - [4.3 Prédictions sur le test dataset](#4.3)\n",
    " - [5. Application finale](#5)\n",
    "\n",
    "<a name=\"1\"></a>\n",
    "## 1. Préparation\n",
    "<a name=\"1.1\"></a>\n",
    "### 1.1 Importation des librairies"
   ]
  },
  {
   "cell_type": "code",
   "execution_count": 1,
   "id": "0b3bc727",
   "metadata": {},
   "outputs": [
    {
     "name": "stdout",
     "output_type": "stream",
     "text": [
      "Populating the interactive namespace from numpy and matplotlib\n"
     ]
    }
   ],
   "source": [
    "import pandas as pd\n",
    "import numpy as np\n",
    "import matplotlib.pyplot as plt\n",
    "#%matplotlib inline\n",
    "%pylab inline\n",
    "import seaborn as sns\n",
    "import plotly.express as px\n",
    "from sklearn.model_selection import train_test_split\n",
    "from sklearn.linear_model import LinearRegression\n",
    "from sklearn import metrics\n",
    "from sklearn.linear_model import LogisticRegression\n",
    "from sklearn.metrics import confusion_matrix\n",
    "from sklearn.metrics import classification_report\n",
    "from sklearn.cluster import KMeans\n",
    "import warnings\n",
    "warnings.filterwarnings('ignore')"
   ]
  },
  {
   "cell_type": "markdown",
   "id": "b6ef1105",
   "metadata": {},
   "source": [
    "<a name=\"1.2\"></a>\n",
    "### 1.2 Importation des bases de données"
   ]
  },
  {
   "cell_type": "code",
   "execution_count": 2,
   "id": "2a3d7828",
   "metadata": {},
   "outputs": [],
   "source": [
    "data = pd.read_csv('C:\\\\Users\\\\axeli\\\\OneDrive\\\\Desktop\\\\Projet 10\\\\billets.csv', sep=';')\n",
    "data_test = pd.read_csv('C:\\\\Users\\\\axeli\\\\OneDrive\\\\Desktop\\\\Projet 10\\\\billets_production.csv', sep=',')\n",
    "\n",
    "test3 = pd.read_csv('C:\\\\Users\\\\axeli\\\\OneDrive\\\\Desktop\\\\Projet 10\\\\billets_test.csv', sep=',')\n"
   ]
  },
  {
   "cell_type": "markdown",
   "id": "70ac69c8",
   "metadata": {},
   "source": [
    "Nous séparons les faux billets des vrais billets en deux bases de données :"
   ]
  },
  {
   "cell_type": "code",
   "execution_count": 3,
   "id": "eee2b070",
   "metadata": {},
   "outputs": [],
   "source": [
    "data_true = data[data['is_genuine'] == True]\n",
    "data_false = data[data['is_genuine'] == False]"
   ]
  },
  {
   "cell_type": "markdown",
   "id": "9f576d57",
   "metadata": {},
   "source": [
    "<a name=\"1.3\"></a>\n",
    "### 1.3 Aperçu des données"
   ]
  },
  {
   "cell_type": "markdown",
   "id": "182641d8",
   "metadata": {},
   "source": [
    "Dimensions de nos deux bases de données :"
   ]
  },
  {
   "cell_type": "code",
   "execution_count": 4,
   "id": "f50bb5d5",
   "metadata": {},
   "outputs": [
    {
     "name": "stdout",
     "output_type": "stream",
     "text": [
      "Vrais billets : (1000, 7)\n",
      "Faux billets : (500, 7)\n"
     ]
    }
   ],
   "source": [
    "print('Vrais billets :', data_true.shape)\n",
    "print('Faux billets :', data_false.shape)"
   ]
  },
  {
   "cell_type": "markdown",
   "id": "259a89d0",
   "metadata": {},
   "source": [
    "Aperçu de la DataFrame des vrais billets :"
   ]
  },
  {
   "cell_type": "code",
   "execution_count": 5,
   "id": "b28787ce",
   "metadata": {},
   "outputs": [
    {
     "data": {
      "text/html": [
       "<div>\n",
       "<style scoped>\n",
       "    .dataframe tbody tr th:only-of-type {\n",
       "        vertical-align: middle;\n",
       "    }\n",
       "\n",
       "    .dataframe tbody tr th {\n",
       "        vertical-align: top;\n",
       "    }\n",
       "\n",
       "    .dataframe thead th {\n",
       "        text-align: right;\n",
       "    }\n",
       "</style>\n",
       "<table border=\"1\" class=\"dataframe\">\n",
       "  <thead>\n",
       "    <tr style=\"text-align: right;\">\n",
       "      <th></th>\n",
       "      <th>is_genuine</th>\n",
       "      <th>diagonal</th>\n",
       "      <th>height_left</th>\n",
       "      <th>height_right</th>\n",
       "      <th>margin_low</th>\n",
       "      <th>margin_up</th>\n",
       "      <th>length</th>\n",
       "    </tr>\n",
       "  </thead>\n",
       "  <tbody>\n",
       "    <tr>\n",
       "      <th>0</th>\n",
       "      <td>True</td>\n",
       "      <td>171.81</td>\n",
       "      <td>104.86</td>\n",
       "      <td>104.95</td>\n",
       "      <td>4.52</td>\n",
       "      <td>2.89</td>\n",
       "      <td>112.83</td>\n",
       "    </tr>\n",
       "    <tr>\n",
       "      <th>1</th>\n",
       "      <td>True</td>\n",
       "      <td>171.46</td>\n",
       "      <td>103.36</td>\n",
       "      <td>103.66</td>\n",
       "      <td>3.77</td>\n",
       "      <td>2.99</td>\n",
       "      <td>113.09</td>\n",
       "    </tr>\n",
       "    <tr>\n",
       "      <th>2</th>\n",
       "      <td>True</td>\n",
       "      <td>172.69</td>\n",
       "      <td>104.48</td>\n",
       "      <td>103.50</td>\n",
       "      <td>4.40</td>\n",
       "      <td>2.94</td>\n",
       "      <td>113.16</td>\n",
       "    </tr>\n",
       "    <tr>\n",
       "      <th>3</th>\n",
       "      <td>True</td>\n",
       "      <td>171.36</td>\n",
       "      <td>103.91</td>\n",
       "      <td>103.94</td>\n",
       "      <td>3.62</td>\n",
       "      <td>3.01</td>\n",
       "      <td>113.51</td>\n",
       "    </tr>\n",
       "    <tr>\n",
       "      <th>4</th>\n",
       "      <td>True</td>\n",
       "      <td>171.73</td>\n",
       "      <td>104.28</td>\n",
       "      <td>103.46</td>\n",
       "      <td>4.04</td>\n",
       "      <td>3.48</td>\n",
       "      <td>112.54</td>\n",
       "    </tr>\n",
       "    <tr>\n",
       "      <th>...</th>\n",
       "      <td>...</td>\n",
       "      <td>...</td>\n",
       "      <td>...</td>\n",
       "      <td>...</td>\n",
       "      <td>...</td>\n",
       "      <td>...</td>\n",
       "      <td>...</td>\n",
       "    </tr>\n",
       "    <tr>\n",
       "      <th>995</th>\n",
       "      <td>True</td>\n",
       "      <td>171.66</td>\n",
       "      <td>103.92</td>\n",
       "      <td>103.47</td>\n",
       "      <td>4.26</td>\n",
       "      <td>2.83</td>\n",
       "      <td>113.20</td>\n",
       "    </tr>\n",
       "    <tr>\n",
       "      <th>996</th>\n",
       "      <td>True</td>\n",
       "      <td>172.16</td>\n",
       "      <td>103.72</td>\n",
       "      <td>103.61</td>\n",
       "      <td>4.30</td>\n",
       "      <td>2.72</td>\n",
       "      <td>113.51</td>\n",
       "    </tr>\n",
       "    <tr>\n",
       "      <th>997</th>\n",
       "      <td>True</td>\n",
       "      <td>171.78</td>\n",
       "      <td>103.38</td>\n",
       "      <td>104.22</td>\n",
       "      <td>4.23</td>\n",
       "      <td>3.07</td>\n",
       "      <td>113.77</td>\n",
       "    </tr>\n",
       "    <tr>\n",
       "      <th>998</th>\n",
       "      <td>True</td>\n",
       "      <td>171.44</td>\n",
       "      <td>103.96</td>\n",
       "      <td>103.92</td>\n",
       "      <td>3.68</td>\n",
       "      <td>2.89</td>\n",
       "      <td>113.21</td>\n",
       "    </tr>\n",
       "    <tr>\n",
       "      <th>999</th>\n",
       "      <td>True</td>\n",
       "      <td>171.56</td>\n",
       "      <td>104.07</td>\n",
       "      <td>103.58</td>\n",
       "      <td>3.55</td>\n",
       "      <td>3.02</td>\n",
       "      <td>112.96</td>\n",
       "    </tr>\n",
       "  </tbody>\n",
       "</table>\n",
       "<p>1000 rows × 7 columns</p>\n",
       "</div>"
      ],
      "text/plain": [
       "     is_genuine  diagonal  height_left  height_right  margin_low  margin_up  \\\n",
       "0          True    171.81       104.86        104.95        4.52       2.89   \n",
       "1          True    171.46       103.36        103.66        3.77       2.99   \n",
       "2          True    172.69       104.48        103.50        4.40       2.94   \n",
       "3          True    171.36       103.91        103.94        3.62       3.01   \n",
       "4          True    171.73       104.28        103.46        4.04       3.48   \n",
       "..          ...       ...          ...           ...         ...        ...   \n",
       "995        True    171.66       103.92        103.47        4.26       2.83   \n",
       "996        True    172.16       103.72        103.61        4.30       2.72   \n",
       "997        True    171.78       103.38        104.22        4.23       3.07   \n",
       "998        True    171.44       103.96        103.92        3.68       2.89   \n",
       "999        True    171.56       104.07        103.58        3.55       3.02   \n",
       "\n",
       "     length  \n",
       "0    112.83  \n",
       "1    113.09  \n",
       "2    113.16  \n",
       "3    113.51  \n",
       "4    112.54  \n",
       "..      ...  \n",
       "995  113.20  \n",
       "996  113.51  \n",
       "997  113.77  \n",
       "998  113.21  \n",
       "999  112.96  \n",
       "\n",
       "[1000 rows x 7 columns]"
      ]
     },
     "metadata": {},
     "output_type": "display_data"
    },
    {
     "name": "stdout",
     "output_type": "stream",
     "text": [
      "<class 'pandas.core.frame.DataFrame'>\n",
      "Int64Index: 1000 entries, 0 to 999\n",
      "Data columns (total 7 columns):\n",
      " #   Column        Non-Null Count  Dtype  \n",
      "---  ------        --------------  -----  \n",
      " 0   is_genuine    1000 non-null   bool   \n",
      " 1   diagonal      1000 non-null   float64\n",
      " 2   height_left   1000 non-null   float64\n",
      " 3   height_right  1000 non-null   float64\n",
      " 4   margin_low    971 non-null    float64\n",
      " 5   margin_up     1000 non-null   float64\n",
      " 6   length        1000 non-null   float64\n",
      "dtypes: bool(1), float64(6)\n",
      "memory usage: 55.7 KB\n",
      "None\n"
     ]
    }
   ],
   "source": [
    "display(data_true)\n",
    "print(data_true.info())"
   ]
  },
  {
   "cell_type": "markdown",
   "id": "e30c9a1f",
   "metadata": {},
   "source": [
    "Aperçu de la DataFrame des faux billets :"
   ]
  },
  {
   "cell_type": "code",
   "execution_count": 6,
   "id": "4e11e66b",
   "metadata": {},
   "outputs": [
    {
     "data": {
      "text/html": [
       "<div>\n",
       "<style scoped>\n",
       "    .dataframe tbody tr th:only-of-type {\n",
       "        vertical-align: middle;\n",
       "    }\n",
       "\n",
       "    .dataframe tbody tr th {\n",
       "        vertical-align: top;\n",
       "    }\n",
       "\n",
       "    .dataframe thead th {\n",
       "        text-align: right;\n",
       "    }\n",
       "</style>\n",
       "<table border=\"1\" class=\"dataframe\">\n",
       "  <thead>\n",
       "    <tr style=\"text-align: right;\">\n",
       "      <th></th>\n",
       "      <th>is_genuine</th>\n",
       "      <th>diagonal</th>\n",
       "      <th>height_left</th>\n",
       "      <th>height_right</th>\n",
       "      <th>margin_low</th>\n",
       "      <th>margin_up</th>\n",
       "      <th>length</th>\n",
       "    </tr>\n",
       "  </thead>\n",
       "  <tbody>\n",
       "    <tr>\n",
       "      <th>1000</th>\n",
       "      <td>False</td>\n",
       "      <td>172.28</td>\n",
       "      <td>103.95</td>\n",
       "      <td>103.91</td>\n",
       "      <td>4.78</td>\n",
       "      <td>3.31</td>\n",
       "      <td>111.40</td>\n",
       "    </tr>\n",
       "    <tr>\n",
       "      <th>1001</th>\n",
       "      <td>False</td>\n",
       "      <td>171.92</td>\n",
       "      <td>103.86</td>\n",
       "      <td>104.30</td>\n",
       "      <td>4.96</td>\n",
       "      <td>3.13</td>\n",
       "      <td>111.29</td>\n",
       "    </tr>\n",
       "    <tr>\n",
       "      <th>1002</th>\n",
       "      <td>False</td>\n",
       "      <td>171.59</td>\n",
       "      <td>104.14</td>\n",
       "      <td>104.38</td>\n",
       "      <td>4.97</td>\n",
       "      <td>3.47</td>\n",
       "      <td>111.22</td>\n",
       "    </tr>\n",
       "    <tr>\n",
       "      <th>1003</th>\n",
       "      <td>False</td>\n",
       "      <td>172.02</td>\n",
       "      <td>104.33</td>\n",
       "      <td>104.33</td>\n",
       "      <td>5.19</td>\n",
       "      <td>3.21</td>\n",
       "      <td>111.99</td>\n",
       "    </tr>\n",
       "    <tr>\n",
       "      <th>1004</th>\n",
       "      <td>False</td>\n",
       "      <td>172.55</td>\n",
       "      <td>104.25</td>\n",
       "      <td>104.23</td>\n",
       "      <td>5.60</td>\n",
       "      <td>3.13</td>\n",
       "      <td>111.72</td>\n",
       "    </tr>\n",
       "    <tr>\n",
       "      <th>...</th>\n",
       "      <td>...</td>\n",
       "      <td>...</td>\n",
       "      <td>...</td>\n",
       "      <td>...</td>\n",
       "      <td>...</td>\n",
       "      <td>...</td>\n",
       "      <td>...</td>\n",
       "    </tr>\n",
       "    <tr>\n",
       "      <th>1495</th>\n",
       "      <td>False</td>\n",
       "      <td>171.75</td>\n",
       "      <td>104.38</td>\n",
       "      <td>104.17</td>\n",
       "      <td>4.42</td>\n",
       "      <td>3.09</td>\n",
       "      <td>111.28</td>\n",
       "    </tr>\n",
       "    <tr>\n",
       "      <th>1496</th>\n",
       "      <td>False</td>\n",
       "      <td>172.19</td>\n",
       "      <td>104.63</td>\n",
       "      <td>104.44</td>\n",
       "      <td>5.27</td>\n",
       "      <td>3.37</td>\n",
       "      <td>110.97</td>\n",
       "    </tr>\n",
       "    <tr>\n",
       "      <th>1497</th>\n",
       "      <td>False</td>\n",
       "      <td>171.80</td>\n",
       "      <td>104.01</td>\n",
       "      <td>104.12</td>\n",
       "      <td>5.51</td>\n",
       "      <td>3.36</td>\n",
       "      <td>111.95</td>\n",
       "    </tr>\n",
       "    <tr>\n",
       "      <th>1498</th>\n",
       "      <td>False</td>\n",
       "      <td>172.06</td>\n",
       "      <td>104.28</td>\n",
       "      <td>104.06</td>\n",
       "      <td>5.17</td>\n",
       "      <td>3.46</td>\n",
       "      <td>112.25</td>\n",
       "    </tr>\n",
       "    <tr>\n",
       "      <th>1499</th>\n",
       "      <td>False</td>\n",
       "      <td>171.47</td>\n",
       "      <td>104.15</td>\n",
       "      <td>103.82</td>\n",
       "      <td>4.63</td>\n",
       "      <td>3.37</td>\n",
       "      <td>112.07</td>\n",
       "    </tr>\n",
       "  </tbody>\n",
       "</table>\n",
       "<p>500 rows × 7 columns</p>\n",
       "</div>"
      ],
      "text/plain": [
       "      is_genuine  diagonal  height_left  height_right  margin_low  margin_up  \\\n",
       "1000       False    172.28       103.95        103.91        4.78       3.31   \n",
       "1001       False    171.92       103.86        104.30        4.96       3.13   \n",
       "1002       False    171.59       104.14        104.38        4.97       3.47   \n",
       "1003       False    172.02       104.33        104.33        5.19       3.21   \n",
       "1004       False    172.55       104.25        104.23        5.60       3.13   \n",
       "...          ...       ...          ...           ...         ...        ...   \n",
       "1495       False    171.75       104.38        104.17        4.42       3.09   \n",
       "1496       False    172.19       104.63        104.44        5.27       3.37   \n",
       "1497       False    171.80       104.01        104.12        5.51       3.36   \n",
       "1498       False    172.06       104.28        104.06        5.17       3.46   \n",
       "1499       False    171.47       104.15        103.82        4.63       3.37   \n",
       "\n",
       "      length  \n",
       "1000  111.40  \n",
       "1001  111.29  \n",
       "1002  111.22  \n",
       "1003  111.99  \n",
       "1004  111.72  \n",
       "...      ...  \n",
       "1495  111.28  \n",
       "1496  110.97  \n",
       "1497  111.95  \n",
       "1498  112.25  \n",
       "1499  112.07  \n",
       "\n",
       "[500 rows x 7 columns]"
      ]
     },
     "metadata": {},
     "output_type": "display_data"
    },
    {
     "name": "stdout",
     "output_type": "stream",
     "text": [
      "<class 'pandas.core.frame.DataFrame'>\n",
      "Int64Index: 500 entries, 1000 to 1499\n",
      "Data columns (total 7 columns):\n",
      " #   Column        Non-Null Count  Dtype  \n",
      "---  ------        --------------  -----  \n",
      " 0   is_genuine    500 non-null    bool   \n",
      " 1   diagonal      500 non-null    float64\n",
      " 2   height_left   500 non-null    float64\n",
      " 3   height_right  500 non-null    float64\n",
      " 4   margin_low    492 non-null    float64\n",
      " 5   margin_up     500 non-null    float64\n",
      " 6   length        500 non-null    float64\n",
      "dtypes: bool(1), float64(6)\n",
      "memory usage: 27.8 KB\n",
      "None\n"
     ]
    }
   ],
   "source": [
    "display(data_false)\n",
    "print(data_false.info())"
   ]
  },
  {
   "cell_type": "markdown",
   "id": "fac2f558",
   "metadata": {},
   "source": [
    "Nous pouvons aussi afficher une matrice de corrélation pour voir si certaines variables sont corrélées. Cela n'a pas l'air d'être le cas."
   ]
  },
  {
   "cell_type": "code",
   "execution_count": 7,
   "id": "866baf23",
   "metadata": {},
   "outputs": [
    {
     "data": {
      "text/html": [
       "<div>\n",
       "<style scoped>\n",
       "    .dataframe tbody tr th:only-of-type {\n",
       "        vertical-align: middle;\n",
       "    }\n",
       "\n",
       "    .dataframe tbody tr th {\n",
       "        vertical-align: top;\n",
       "    }\n",
       "\n",
       "    .dataframe thead th {\n",
       "        text-align: right;\n",
       "    }\n",
       "</style>\n",
       "<table border=\"1\" class=\"dataframe\">\n",
       "  <thead>\n",
       "    <tr style=\"text-align: right;\">\n",
       "      <th></th>\n",
       "      <th>is_genuine</th>\n",
       "      <th>diagonal</th>\n",
       "      <th>height_left</th>\n",
       "      <th>height_right</th>\n",
       "      <th>margin_low</th>\n",
       "      <th>margin_up</th>\n",
       "      <th>length</th>\n",
       "    </tr>\n",
       "  </thead>\n",
       "  <tbody>\n",
       "    <tr>\n",
       "      <th>is_genuine</th>\n",
       "      <td>1.000000</td>\n",
       "      <td>0.132756</td>\n",
       "      <td>-0.379833</td>\n",
       "      <td>-0.485092</td>\n",
       "      <td>-0.783032</td>\n",
       "      <td>-0.606262</td>\n",
       "      <td>0.849285</td>\n",
       "    </tr>\n",
       "    <tr>\n",
       "      <th>diagonal</th>\n",
       "      <td>0.132756</td>\n",
       "      <td>1.000000</td>\n",
       "      <td>0.019472</td>\n",
       "      <td>-0.024492</td>\n",
       "      <td>-0.111534</td>\n",
       "      <td>-0.055649</td>\n",
       "      <td>0.097587</td>\n",
       "    </tr>\n",
       "    <tr>\n",
       "      <th>height_left</th>\n",
       "      <td>-0.379833</td>\n",
       "      <td>0.019472</td>\n",
       "      <td>1.000000</td>\n",
       "      <td>0.242279</td>\n",
       "      <td>0.302643</td>\n",
       "      <td>0.246522</td>\n",
       "      <td>-0.320863</td>\n",
       "    </tr>\n",
       "    <tr>\n",
       "      <th>height_right</th>\n",
       "      <td>-0.485092</td>\n",
       "      <td>-0.024492</td>\n",
       "      <td>0.242279</td>\n",
       "      <td>1.000000</td>\n",
       "      <td>0.391085</td>\n",
       "      <td>0.307005</td>\n",
       "      <td>-0.401751</td>\n",
       "    </tr>\n",
       "    <tr>\n",
       "      <th>margin_low</th>\n",
       "      <td>-0.783032</td>\n",
       "      <td>-0.111534</td>\n",
       "      <td>0.302643</td>\n",
       "      <td>0.391085</td>\n",
       "      <td>1.000000</td>\n",
       "      <td>0.431606</td>\n",
       "      <td>-0.666753</td>\n",
       "    </tr>\n",
       "    <tr>\n",
       "      <th>margin_up</th>\n",
       "      <td>-0.606262</td>\n",
       "      <td>-0.055649</td>\n",
       "      <td>0.246522</td>\n",
       "      <td>0.307005</td>\n",
       "      <td>0.431606</td>\n",
       "      <td>1.000000</td>\n",
       "      <td>-0.520575</td>\n",
       "    </tr>\n",
       "    <tr>\n",
       "      <th>length</th>\n",
       "      <td>0.849285</td>\n",
       "      <td>0.097587</td>\n",
       "      <td>-0.320863</td>\n",
       "      <td>-0.401751</td>\n",
       "      <td>-0.666753</td>\n",
       "      <td>-0.520575</td>\n",
       "      <td>1.000000</td>\n",
       "    </tr>\n",
       "  </tbody>\n",
       "</table>\n",
       "</div>"
      ],
      "text/plain": [
       "              is_genuine  diagonal  height_left  height_right  margin_low  \\\n",
       "is_genuine      1.000000  0.132756    -0.379833     -0.485092   -0.783032   \n",
       "diagonal        0.132756  1.000000     0.019472     -0.024492   -0.111534   \n",
       "height_left    -0.379833  0.019472     1.000000      0.242279    0.302643   \n",
       "height_right   -0.485092 -0.024492     0.242279      1.000000    0.391085   \n",
       "margin_low     -0.783032 -0.111534     0.302643      0.391085    1.000000   \n",
       "margin_up      -0.606262 -0.055649     0.246522      0.307005    0.431606   \n",
       "length          0.849285  0.097587    -0.320863     -0.401751   -0.666753   \n",
       "\n",
       "              margin_up    length  \n",
       "is_genuine    -0.606262  0.849285  \n",
       "diagonal      -0.055649  0.097587  \n",
       "height_left    0.246522 -0.320863  \n",
       "height_right   0.307005 -0.401751  \n",
       "margin_low     0.431606 -0.666753  \n",
       "margin_up      1.000000 -0.520575  \n",
       "length        -0.520575  1.000000  "
      ]
     },
     "metadata": {},
     "output_type": "display_data"
    }
   ],
   "source": [
    "corrMatrix = data.corr()\n",
    "display(corrMatrix)"
   ]
  },
  {
   "cell_type": "markdown",
   "id": "41011b90",
   "metadata": {},
   "source": [
    "<a name=\"1.4\"></a>\n",
    "### 1.4 Recherche de potentiels \"outliers\" dans les données"
   ]
  },
  {
   "cell_type": "code",
   "execution_count": 8,
   "id": "b59fdba0",
   "metadata": {},
   "outputs": [],
   "source": [
    "def Outliers(i):\n",
    "    \"\"\" Display un boxplot et la liste des outliers de la variable entrée \"\"\"\n",
    "    print()\n",
    "    print(\"Boxplot :\", i)\n",
    "    boite = boxplot(data[i])\n",
    "    plt.show()\n",
    "    print()\n",
    "    print(\"Liste des outliers :\")\n",
    "    top_points = boite[\"fliers\"][0].get_data()[1]\n",
    "    display(pd.DataFrame(data[i][data[i].isin(top_points)]).sort_values(by = i, ascending=False))"
   ]
  },
  {
   "cell_type": "code",
   "execution_count": 9,
   "id": "4a84ebd0",
   "metadata": {
    "scrolled": false
   },
   "outputs": [
    {
     "name": "stdout",
     "output_type": "stream",
     "text": [
      "\n",
      "Boxplot : diagonal\n"
     ]
    },
    {
     "data": {
      "image/png": "[encoded data removed]",
      "text/plain": [
       "<Figure size 432x288 with 1 Axes>"
      ]
     },
     "metadata": {
      "needs_background": "light"
     },
     "output_type": "display_data"
    },
    {
     "name": "stdout",
     "output_type": "stream",
     "text": [
      "\n",
      "Liste des outliers :\n"
     ]
    },
    {
     "data": {
      "text/html": [
       "<div>\n",
       "<style scoped>\n",
       "    .dataframe tbody tr th:only-of-type {\n",
       "        vertical-align: middle;\n",
       "    }\n",
       "\n",
       "    .dataframe tbody tr th {\n",
       "        vertical-align: top;\n",
       "    }\n",
       "\n",
       "    .dataframe thead th {\n",
       "        text-align: right;\n",
       "    }\n",
       "</style>\n",
       "<table border=\"1\" class=\"dataframe\">\n",
       "  <thead>\n",
       "    <tr style=\"text-align: right;\">\n",
       "      <th></th>\n",
       "      <th>diagonal</th>\n",
       "    </tr>\n",
       "  </thead>\n",
       "  <tbody>\n",
       "    <tr>\n",
       "      <th>1277</th>\n",
       "      <td>173.01</td>\n",
       "    </tr>\n",
       "    <tr>\n",
       "      <th>828</th>\n",
       "      <td>172.92</td>\n",
       "    </tr>\n",
       "    <tr>\n",
       "      <th>842</th>\n",
       "      <td>172.89</td>\n",
       "    </tr>\n",
       "    <tr>\n",
       "      <th>1022</th>\n",
       "      <td>172.89</td>\n",
       "    </tr>\n",
       "    <tr>\n",
       "      <th>1388</th>\n",
       "      <td>171.05</td>\n",
       "    </tr>\n",
       "    <tr>\n",
       "      <th>729</th>\n",
       "      <td>171.04</td>\n",
       "    </tr>\n",
       "    <tr>\n",
       "      <th>1142</th>\n",
       "      <td>171.04</td>\n",
       "    </tr>\n",
       "  </tbody>\n",
       "</table>\n",
       "</div>"
      ],
      "text/plain": [
       "      diagonal\n",
       "1277    173.01\n",
       "828     172.92\n",
       "842     172.89\n",
       "1022    172.89\n",
       "1388    171.05\n",
       "729     171.04\n",
       "1142    171.04"
      ]
     },
     "metadata": {},
     "output_type": "display_data"
    },
    {
     "name": "stdout",
     "output_type": "stream",
     "text": [
      "\n",
      "Boxplot : height_left\n"
     ]
    },
    {
     "data": {
      "image/png": "[encoded data removed]",
      "text/plain": [
       "<Figure size 432x288 with 1 Axes>"
      ]
     },
     "metadata": {
      "needs_background": "light"
     },
     "output_type": "display_data"
    },
    {
     "name": "stdout",
     "output_type": "stream",
     "text": [
      "\n",
      "Liste des outliers :\n"
     ]
    },
    {
     "data": {
      "text/html": [
       "<div>\n",
       "<style scoped>\n",
       "    .dataframe tbody tr th:only-of-type {\n",
       "        vertical-align: middle;\n",
       "    }\n",
       "\n",
       "    .dataframe tbody tr th {\n",
       "        vertical-align: top;\n",
       "    }\n",
       "\n",
       "    .dataframe thead th {\n",
       "        text-align: right;\n",
       "    }\n",
       "</style>\n",
       "<table border=\"1\" class=\"dataframe\">\n",
       "  <thead>\n",
       "    <tr style=\"text-align: right;\">\n",
       "      <th></th>\n",
       "      <th>height_left</th>\n",
       "    </tr>\n",
       "  </thead>\n",
       "  <tbody>\n",
       "    <tr>\n",
       "      <th>1090</th>\n",
       "      <td>104.88</td>\n",
       "    </tr>\n",
       "    <tr>\n",
       "      <th>0</th>\n",
       "      <td>104.86</td>\n",
       "    </tr>\n",
       "    <tr>\n",
       "      <th>1150</th>\n",
       "      <td>104.86</td>\n",
       "    </tr>\n",
       "    <tr>\n",
       "      <th>1382</th>\n",
       "      <td>104.85</td>\n",
       "    </tr>\n",
       "    <tr>\n",
       "      <th>224</th>\n",
       "      <td>103.20</td>\n",
       "    </tr>\n",
       "    <tr>\n",
       "      <th>292</th>\n",
       "      <td>103.14</td>\n",
       "    </tr>\n",
       "  </tbody>\n",
       "</table>\n",
       "</div>"
      ],
      "text/plain": [
       "      height_left\n",
       "1090       104.88\n",
       "0          104.86\n",
       "1150       104.86\n",
       "1382       104.85\n",
       "224        103.20\n",
       "292        103.14"
      ]
     },
     "metadata": {},
     "output_type": "display_data"
    },
    {
     "name": "stdout",
     "output_type": "stream",
     "text": [
      "\n",
      "Boxplot : height_right\n"
     ]
    },
    {
     "data": {
      "image/png": "[encoded data removed]",
      "text/plain": [
       "<Figure size 432x288 with 1 Axes>"
      ]
     },
     "metadata": {
      "needs_background": "light"
     },
     "output_type": "display_data"
    },
    {
     "name": "stdout",
     "output_type": "stream",
     "text": [
      "\n",
      "Liste des outliers :\n"
     ]
    },
    {
     "data": {
      "text/html": [
       "<div>\n",
       "<style scoped>\n",
       "    .dataframe tbody tr th:only-of-type {\n",
       "        vertical-align: middle;\n",
       "    }\n",
       "\n",
       "    .dataframe tbody tr th {\n",
       "        vertical-align: top;\n",
       "    }\n",
       "\n",
       "    .dataframe thead th {\n",
       "        text-align: right;\n",
       "    }\n",
       "</style>\n",
       "<table border=\"1\" class=\"dataframe\">\n",
       "  <thead>\n",
       "    <tr style=\"text-align: right;\">\n",
       "      <th></th>\n",
       "      <th>height_right</th>\n",
       "    </tr>\n",
       "  </thead>\n",
       "  <tbody>\n",
       "    <tr>\n",
       "      <th>0</th>\n",
       "      <td>104.95</td>\n",
       "    </tr>\n",
       "    <tr>\n",
       "      <th>1484</th>\n",
       "      <td>104.95</td>\n",
       "    </tr>\n",
       "    <tr>\n",
       "      <th>1199</th>\n",
       "      <td>104.87</td>\n",
       "    </tr>\n",
       "    <tr>\n",
       "      <th>1321</th>\n",
       "      <td>104.86</td>\n",
       "    </tr>\n",
       "    <tr>\n",
       "      <th>1331</th>\n",
       "      <td>104.83</td>\n",
       "    </tr>\n",
       "    <tr>\n",
       "      <th>761</th>\n",
       "      <td>103.04</td>\n",
       "    </tr>\n",
       "    <tr>\n",
       "      <th>77</th>\n",
       "      <td>103.03</td>\n",
       "    </tr>\n",
       "    <tr>\n",
       "      <th>176</th>\n",
       "      <td>102.97</td>\n",
       "    </tr>\n",
       "    <tr>\n",
       "      <th>193</th>\n",
       "      <td>102.95</td>\n",
       "    </tr>\n",
       "    <tr>\n",
       "      <th>522</th>\n",
       "      <td>102.91</td>\n",
       "    </tr>\n",
       "    <tr>\n",
       "      <th>251</th>\n",
       "      <td>102.82</td>\n",
       "    </tr>\n",
       "  </tbody>\n",
       "</table>\n",
       "</div>"
      ],
      "text/plain": [
       "      height_right\n",
       "0           104.95\n",
       "1484        104.95\n",
       "1199        104.87\n",
       "1321        104.86\n",
       "1331        104.83\n",
       "761         103.04\n",
       "77          103.03\n",
       "176         102.97\n",
       "193         102.95\n",
       "522         102.91\n",
       "251         102.82"
      ]
     },
     "metadata": {},
     "output_type": "display_data"
    },
    {
     "name": "stdout",
     "output_type": "stream",
     "text": [
      "\n",
      "Boxplot : margin_low\n"
     ]
    },
    {
     "data": {
      "image/png": "[encoded data removed]",
      "text/plain": [
       "<Figure size 432x288 with 1 Axes>"
      ]
     },
     "metadata": {
      "needs_background": "light"
     },
     "output_type": "display_data"
    },
    {
     "name": "stdout",
     "output_type": "stream",
     "text": [
      "\n",
      "Liste des outliers :\n"
     ]
    },
    {
     "data": {
      "text/html": [
       "<div>\n",
       "<style scoped>\n",
       "    .dataframe tbody tr th:only-of-type {\n",
       "        vertical-align: middle;\n",
       "    }\n",
       "\n",
       "    .dataframe tbody tr th {\n",
       "        vertical-align: top;\n",
       "    }\n",
       "\n",
       "    .dataframe thead th {\n",
       "        text-align: right;\n",
       "    }\n",
       "</style>\n",
       "<table border=\"1\" class=\"dataframe\">\n",
       "  <thead>\n",
       "    <tr style=\"text-align: right;\">\n",
       "      <th></th>\n",
       "      <th>margin_low</th>\n",
       "    </tr>\n",
       "  </thead>\n",
       "  <tbody>\n",
       "  </tbody>\n",
       "</table>\n",
       "</div>"
      ],
      "text/plain": [
       "Empty DataFrame\n",
       "Columns: [margin_low]\n",
       "Index: []"
      ]
     },
     "metadata": {},
     "output_type": "display_data"
    },
    {
     "name": "stdout",
     "output_type": "stream",
     "text": [
      "\n",
      "Boxplot : margin_up\n"
     ]
    },
    {
     "data": {
      "image/png": "[encoded data removed]",
      "text/plain": [
       "<Figure size 432x288 with 1 Axes>"
      ]
     },
     "metadata": {
      "needs_background": "light"
     },
     "output_type": "display_data"
    },
    {
     "name": "stdout",
     "output_type": "stream",
     "text": [
      "\n",
      "Liste des outliers :\n"
     ]
    },
    {
     "data": {
      "text/html": [
       "<div>\n",
       "<style scoped>\n",
       "    .dataframe tbody tr th:only-of-type {\n",
       "        vertical-align: middle;\n",
       "    }\n",
       "\n",
       "    .dataframe tbody tr th {\n",
       "        vertical-align: top;\n",
       "    }\n",
       "\n",
       "    .dataframe thead th {\n",
       "        text-align: right;\n",
       "    }\n",
       "</style>\n",
       "<table border=\"1\" class=\"dataframe\">\n",
       "  <thead>\n",
       "    <tr style=\"text-align: right;\">\n",
       "      <th></th>\n",
       "      <th>margin_up</th>\n",
       "    </tr>\n",
       "  </thead>\n",
       "  <tbody>\n",
       "    <tr>\n",
       "      <th>1029</th>\n",
       "      <td>3.91</td>\n",
       "    </tr>\n",
       "    <tr>\n",
       "      <th>1270</th>\n",
       "      <td>3.81</td>\n",
       "    </tr>\n",
       "    <tr>\n",
       "      <th>664</th>\n",
       "      <td>2.27</td>\n",
       "    </tr>\n",
       "  </tbody>\n",
       "</table>\n",
       "</div>"
      ],
      "text/plain": [
       "      margin_up\n",
       "1029       3.91\n",
       "1270       3.81\n",
       "664        2.27"
      ]
     },
     "metadata": {},
     "output_type": "display_data"
    },
    {
     "name": "stdout",
     "output_type": "stream",
     "text": [
      "\n",
      "Boxplot : length\n"
     ]
    },
    {
     "data": {
      "image/png": "[encoded data removed]",
      "text/plain": [
       "<Figure size 432x288 with 1 Axes>"
      ]
     },
     "metadata": {
      "needs_background": "light"
     },
     "output_type": "display_data"
    },
    {
     "name": "stdout",
     "output_type": "stream",
     "text": [
      "\n",
      "Liste des outliers :\n"
     ]
    },
    {
     "data": {
      "text/html": [
       "<div>\n",
       "<style scoped>\n",
       "    .dataframe tbody tr th:only-of-type {\n",
       "        vertical-align: middle;\n",
       "    }\n",
       "\n",
       "    .dataframe tbody tr th {\n",
       "        vertical-align: top;\n",
       "    }\n",
       "\n",
       "    .dataframe thead th {\n",
       "        text-align: right;\n",
       "    }\n",
       "</style>\n",
       "<table border=\"1\" class=\"dataframe\">\n",
       "  <thead>\n",
       "    <tr style=\"text-align: right;\">\n",
       "      <th></th>\n",
       "      <th>length</th>\n",
       "    </tr>\n",
       "  </thead>\n",
       "  <tbody>\n",
       "    <tr>\n",
       "      <th>1355</th>\n",
       "      <td>109.97</td>\n",
       "    </tr>\n",
       "    <tr>\n",
       "      <th>1453</th>\n",
       "      <td>109.93</td>\n",
       "    </tr>\n",
       "    <tr>\n",
       "      <th>1082</th>\n",
       "      <td>109.49</td>\n",
       "    </tr>\n",
       "  </tbody>\n",
       "</table>\n",
       "</div>"
      ],
      "text/plain": [
       "      length\n",
       "1355  109.97\n",
       "1453  109.93\n",
       "1082  109.49"
      ]
     },
     "metadata": {},
     "output_type": "display_data"
    }
   ],
   "source": [
    "for column in data.columns[1:]:\n",
    "   Outliers(column)"
   ]
  },
  {
   "cell_type": "markdown",
   "id": "8aa1f945",
   "metadata": {},
   "source": [
    "Création de DataFrames séparant les données complètes des données ayant 'margin_low' == null"
   ]
  },
  {
   "cell_type": "code",
   "execution_count": 10,
   "id": "de033392",
   "metadata": {},
   "outputs": [],
   "source": [
    "data_true_null = data_true[data_true[\"margin_low\"].isnull()]\n",
    "data_false_null = data_false[data_false[\"margin_low\"].isnull()]\n",
    "\n",
    "data_true_without_null = data_true[data_true[\"margin_low\"].notnull()]\n",
    "data_false_without_null = data_false[data_false[\"margin_low\"].notnull()]"
   ]
  },
  {
   "cell_type": "markdown",
   "id": "42ed26f7",
   "metadata": {},
   "source": [
    "<a name=\"2\"></a>\n",
    "## 2. Régression linéaire\n",
    "Nous allons prédire les valeurs manquantes de notre base de données grâce à une régression linéaire.\n",
    "<a name=\"2.1\"></a>\n",
    "### 2.1 Préparation du modèle\n",
    "Visualisation des données"
   ]
  },
  {
   "cell_type": "code",
   "execution_count": 11,
   "id": "830c9e94",
   "metadata": {
    "scrolled": false
   },
   "outputs": [
    {
     "data": {
      "text/plain": [
       "<seaborn.axisgrid.PairGrid at 0x1c17b16ac10>"
      ]
     },
     "execution_count": 11,
     "metadata": {},
     "output_type": "execute_result"
    },
    {
     "data": {
      "image/png": "[encoded data removed]",
      "text/plain": [
       "<Figure size 1080x180 with 7 Axes>"
      ]
     },
     "metadata": {
      "needs_background": "light"
     },
     "output_type": "display_data"
    },
    {
     "data": {
      "image/png": "[encoded data removed]",
      "text/plain": [
       "<Figure size 1080x180 with 7 Axes>"
      ]
     },
     "metadata": {
      "needs_background": "light"
     },
     "output_type": "display_data"
    }
   ],
   "source": [
    "sns.pairplot(data_true_without_null, x_vars=[\"diagonal\", \"height_left\", \"height_right\", \"margin_low\", \"margin_up\", \"length\"], y_vars=\"margin_low\", kind='reg')\n",
    "sns.pairplot(data_false_without_null, x_vars=[\"diagonal\", \"height_left\", \"height_right\", \"margin_low\", \"margin_up\", \"length\"], y_vars=\"margin_low\", kind='reg')"
   ]
  },
  {
   "cell_type": "markdown",
   "id": "930c9f18",
   "metadata": {},
   "source": [
    "Attribution de X et y"
   ]
  },
  {
   "cell_type": "code",
   "execution_count": 12,
   "id": "c322403e",
   "metadata": {},
   "outputs": [],
   "source": [
    "feature_cols = ['diagonal', 'height_left', 'height_right', 'margin_up', 'length']\n",
    "\n",
    "X_true = data_true_without_null[feature_cols]\n",
    "X_false = data_false_without_null[feature_cols]\n",
    "\n",
    "y_true = data_true_without_null['margin_low']\n",
    "y_false = data_false_without_null['margin_low']"
   ]
  },
  {
   "cell_type": "markdown",
   "id": "8a3c519c",
   "metadata": {},
   "source": [
    "Séparation des données en données de training et données de test"
   ]
  },
  {
   "cell_type": "code",
   "execution_count": 13,
   "id": "079c1cb7",
   "metadata": {},
   "outputs": [],
   "source": [
    "X_true_train, X_true_test, y_true_train, y_true_test = train_test_split(X_true, y_true)\n",
    "X_false_train, X_false_test, y_false_train, y_false_test = train_test_split(X_false, y_false)"
   ]
  },
  {
   "cell_type": "markdown",
   "id": "91a7769d",
   "metadata": {},
   "source": [
    "Apprentissage du modèle"
   ]
  },
  {
   "cell_type": "code",
   "execution_count": 14,
   "id": "33d9ef18",
   "metadata": {},
   "outputs": [
    {
     "data": {
      "text/html": [
       "<style>#sk-container-id-1 {color: black;background-color: white;}#sk-container-id-1 pre{padding: 0;}#sk-container-id-1 div.sk-toggleable {background-color: white;}#sk-container-id-1 label.sk-toggleable__label {cursor: pointer;display: block;width: 100%;margin-bottom: 0;padding: 0.3em;box-sizing: border-box;text-align: center;}#sk-container-id-1 label.sk-toggleable__label-arrow:before {content: \"▸\";float: left;margin-right: 0.25em;color: #696969;}#sk-container-id-1 label.sk-toggleable__label-arrow:hover:before {color: black;}#sk-container-id-1 div.sk-estimator:hover label.sk-toggleable__label-arrow:before {color: black;}#sk-container-id-1 div.sk-toggleable__content {max-height: 0;max-width: 0;overflow: hidden;text-align: left;background-color: #f0f8ff;}#sk-container-id-1 div.sk-toggleable__content pre {margin: 0.2em;color: black;border-radius: 0.25em;background-color: #f0f8ff;}#sk-container-id-1 input.sk-toggleable__control:checked~div.sk-toggleable__content {max-height: 200px;max-width: 100%;overflow: auto;}#sk-container-id-1 input.sk-toggleable__control:checked~label.sk-toggleable__label-arrow:before {content: \"▾\";}#sk-container-id-1 div.sk-estimator input.sk-toggleable__control:checked~label.sk-toggleable__label {background-color: #d4ebff;}#sk-container-id-1 div.sk-label input.sk-toggleable__control:checked~label.sk-toggleable__label {background-color: #d4ebff;}#sk-container-id-1 input.sk-hidden--visually {border: 0;clip: rect(1px 1px 1px 1px);clip: rect(1px, 1px, 1px, 1px);height: 1px;margin: -1px;overflow: hidden;padding: 0;position: absolute;width: 1px;}#sk-container-id-1 div.sk-estimator {font-family: monospace;background-color: #f0f8ff;border: 1px dotted black;border-radius: 0.25em;box-sizing: border-box;margin-bottom: 0.5em;}#sk-container-id-1 div.sk-estimator:hover {background-color: #d4ebff;}#sk-container-id-1 div.sk-parallel-item::after {content: \"\";width: 100%;border-bottom: 1px solid gray;flex-grow: 1;}#sk-container-id-1 div.sk-label:hover label.sk-toggleable__label {background-color: #d4ebff;}#sk-container-id-1 div.sk-serial::before {content: \"\";position: absolute;border-left: 1px solid gray;box-sizing: border-box;top: 0;bottom: 0;left: 50%;z-index: 0;}#sk-container-id-1 div.sk-serial {display: flex;flex-direction: column;align-items: center;background-color: white;padding-right: 0.2em;padding-left: 0.2em;position: relative;}#sk-container-id-1 div.sk-item {position: relative;z-index: 1;}#sk-container-id-1 div.sk-parallel {display: flex;align-items: stretch;justify-content: center;background-color: white;position: relative;}#sk-container-id-1 div.sk-item::before, #sk-container-id-1 div.sk-parallel-item::before {content: \"\";position: absolute;border-left: 1px solid gray;box-sizing: border-box;top: 0;bottom: 0;left: 50%;z-index: -1;}#sk-container-id-1 div.sk-parallel-item {display: flex;flex-direction: column;z-index: 1;position: relative;background-color: white;}#sk-container-id-1 div.sk-parallel-item:first-child::after {align-self: flex-end;width: 50%;}#sk-container-id-1 div.sk-parallel-item:last-child::after {align-self: flex-start;width: 50%;}#sk-container-id-1 div.sk-parallel-item:only-child::after {width: 0;}#sk-container-id-1 div.sk-dashed-wrapped {border: 1px dashed gray;margin: 0 0.4em 0.5em 0.4em;box-sizing: border-box;padding-bottom: 0.4em;background-color: white;}#sk-container-id-1 div.sk-label label {font-family: monospace;font-weight: bold;display: inline-block;line-height: 1.2em;}#sk-container-id-1 div.sk-label-container {text-align: center;}#sk-container-id-1 div.sk-container {/* jupyter's `normalize.less` sets `[hidden] { display: none; }` but bootstrap.min.css set `[hidden] { display: none !important; }` so we also need the `!important` here to be able to override the default hidden behavior on the sphinx rendered scikit-learn.org. See: https://github.com/scikit-learn/scikit-learn/issues/21755 */display: inline-block !important;position: relative;}#sk-container-id-1 div.sk-text-repr-fallback {display: none;}</style><div id=\"sk-container-id-1\" class=\"sk-top-container\"><div class=\"sk-text-repr-fallback\"><pre>LinearRegression()</pre><b>In a Jupyter environment, please rerun this cell to show the HTML representation or trust the notebook. <br />On GitHub, the HTML representation is unable to render, please try loading this page with nbviewer.org.</b></div><div class=\"sk-container\" hidden><div class=\"sk-item\"><div class=\"sk-estimator sk-toggleable\"><input class=\"sk-toggleable__control sk-hidden--visually\" id=\"sk-estimator-id-1\" type=\"checkbox\" checked><label for=\"sk-estimator-id-1\" class=\"sk-toggleable__label sk-toggleable__label-arrow\">LinearRegression</label><div class=\"sk-toggleable__content\"><pre>LinearRegression()</pre></div></div></div></div></div>"
      ],
      "text/plain": [
       "LinearRegression()"
      ]
     },
     "execution_count": 14,
     "metadata": {},
     "output_type": "execute_result"
    }
   ],
   "source": [
    "linreg_true = LinearRegression()\n",
    "linreg_false = LinearRegression()\n",
    "\n",
    "linreg_true.fit(X_true_train, y_true_train)\n",
    "linreg_false.fit(X_false_train, y_false_train)"
   ]
  },
  {
   "cell_type": "markdown",
   "id": "71e99563",
   "metadata": {},
   "source": [
    "Coefficients :"
   ]
  },
  {
   "cell_type": "code",
   "execution_count": 15,
   "id": "efaadb37",
   "metadata": {},
   "outputs": [
    {
     "name": "stdout",
     "output_type": "stream",
     "text": [
      "-12.250180631171819\n",
      "0.6938129268197732\n",
      "[ 0.03021133  0.03927569  0.02686351 -0.10718037  0.04098337]\n",
      "[-0.01289936  0.13577065 -0.03764068 -0.47608171 -0.01702752]\n"
     ]
    },
    {
     "data": {
      "text/plain": [
       "<zip at 0x1c17be2f100>"
      ]
     },
     "execution_count": 15,
     "metadata": {},
     "output_type": "execute_result"
    }
   ],
   "source": [
    "print(linreg_true.intercept_)\n",
    "print(linreg_false.intercept_)\n",
    "\n",
    "print(linreg_true.coef_)\n",
    "print(linreg_false.coef_)\n",
    "\n",
    "zip(feature_cols, linreg_true.coef_)\n",
    "zip(feature_cols, linreg_false.coef_)"
   ]
  },
  {
   "cell_type": "markdown",
   "id": "b8ba9ccf",
   "metadata": {},
   "source": [
    "Prédiction du modèle entraîné sur les données de test :"
   ]
  },
  {
   "cell_type": "code",
   "execution_count": 16,
   "id": "f47ae1a1",
   "metadata": {
    "scrolled": true
   },
   "outputs": [
    {
     "name": "stdout",
     "output_type": "stream",
     "text": [
      "[4.15717401 4.10516164 4.12966642 4.11072905 4.12815788 4.15812049\n",
      " 4.17524055 4.12946652 4.13238378 4.0728628  4.09121141 4.12064279\n",
      " 4.0904931  4.15962409 4.1225609  4.15062404 4.14834772 4.15748689\n",
      " 4.09175836 4.15104981 4.15464904 4.12673882 4.07144978 4.15479545\n",
      " 4.10916438 4.13102464 4.11836194 4.08005374 4.1559603  4.0885584\n",
      " 4.09387688 4.12277774 4.17043924 4.11888116 4.11933973 4.13281051\n",
      " 4.10180178 4.13870414 4.12132887 4.11833245 4.09156391 4.13081783\n",
      " 4.06612361 4.16571819 4.16374311 4.15293641 4.12266236 4.09760604\n",
      " 4.07565019 4.11462568 4.12950929 4.03838667 4.09507255 4.11510665\n",
      " 4.14350507 4.16752296 4.12012497 4.10773691 4.16391374 4.13341181\n",
      " 4.10600443 4.14359379 4.12147228 4.10633023 4.1080795  4.22962305\n",
      " 4.14971758 4.10510961 4.07204199 4.11350275 4.14151544 4.11698914\n",
      " 4.19238611 4.10160802 4.17546051 4.10388942 4.17949106 4.15646717\n",
      " 4.10081615 4.13535417 4.14804069 4.14799302 4.13372456 4.12251558\n",
      " 4.09900664 4.03090179 4.11799344 4.15783743 4.13112635 4.1448176\n",
      " 4.11012648 4.06469297 4.12853783 4.11136475 4.1140397  4.09648852\n",
      " 4.09436404 4.1472194  4.1493039  4.131721   4.08905279 4.18504996\n",
      " 4.1478262  4.17638539 4.13377317 4.16004425 4.12502511 4.18417696\n",
      " 4.14018146 4.12626837 4.14300419 4.12783626 4.12863342 4.0712714\n",
      " 4.13275577 4.08149137 4.09955043 4.18041728 4.12690328 4.10063137\n",
      " 4.14018961 4.15907128 4.12681963 4.17521759 4.08173031 4.10991944\n",
      " 4.124951   4.12345364 4.13905026 4.11145123 4.11492231 4.14278907\n",
      " 4.17347902 4.16950553 4.15044429 4.09356561 4.13690625 4.15849045\n",
      " 4.17422743 4.11825885 4.14746189 4.12267541 4.16705613 4.19327583\n",
      " 4.13749816 4.11734155 4.14638539 4.05800592 4.1368618  4.08841445\n",
      " 4.10702105 4.19685205 4.11601414 4.09552922 4.09257406 4.16457849\n",
      " 4.10252787 4.12388951 4.13000265 4.12060066 4.10347418 4.05269776\n",
      " 4.14935562 4.15773001 4.1091823  4.15901553 4.18217391 4.10993685\n",
      " 4.13947964 4.182255   4.1350305  4.16753499 4.15308324 4.15522435\n",
      " 4.14107987 4.14272578 4.13327577 4.10976611 4.13547034 4.14649177\n",
      " 4.1280262  4.12957231 4.11783445 4.11796787 4.17572645 4.12736753\n",
      " 4.15842146 4.13517204 4.12530565 4.13197403 4.18293568 4.1020038\n",
      " 4.16743035 4.15227933 4.15639733 4.11344638 4.0970366  4.11822659\n",
      " 4.11321876 4.06180253 4.11600112 4.10190846 4.14139182 4.09032137\n",
      " 4.11299531 4.10633904 4.13305663 4.13799816 4.10861516 4.15127571\n",
      " 4.12680446 4.12448503 4.12237822 4.12495712 4.13776766 4.1240397\n",
      " 4.12164785 4.07248255 4.13444134 4.13219051 4.16635772 4.17112359\n",
      " 4.15081957 4.10762189 4.18180904 4.1382404  4.15970748 4.10137886\n",
      " 4.12212431 4.09444598 4.16551134 4.14335779 4.14195866 4.1579558\n",
      " 4.14759709 4.16705385 4.13549486 4.10914664 4.07104905 4.10125749\n",
      " 4.10318878 4.17509914 4.13510617]\n",
      "[5.3858347  5.21255689 5.27177763 5.34237221 5.24356693 5.12772009\n",
      " 5.20198392 5.24969145 5.24163634 5.23175546 5.17593207 5.12186754\n",
      " 5.0485188  5.31841391 5.18412513 5.33705251 5.29311248 5.20691322\n",
      " 5.06727108 5.2722104  5.09680673 5.26862696 5.08416934 5.14852971\n",
      " 5.33415663 5.29490372 5.11094063 5.22926161 5.28466366 5.1177658\n",
      " 5.33248201 5.3305771  5.14731177 5.28114146 5.35465332 5.22123583\n",
      " 5.16826573 5.31471966 5.11781447 5.29336424 5.16304789 5.19348719\n",
      " 5.19048781 5.03797008 5.26951725 5.23875203 5.19930997 5.07332429\n",
      " 5.23315901 5.23703246 5.21967962 5.1879277  5.08507675 5.16951596\n",
      " 5.19668798 5.05802035 5.13184214 5.29699366 5.19813717 5.13115504\n",
      " 5.32207132 5.15017771 5.35972828 5.3660796  5.18710305 5.27314119\n",
      " 5.27472307 5.17325948 5.0418402  5.12527287 5.34253917 5.16556426\n",
      " 5.17697574 5.24803012 5.14273885 5.27874075 5.25918369 5.07043759\n",
      " 5.20342907 5.30177273 5.25729775 5.19479755 5.12407721 5.22675648\n",
      " 5.03992654 5.19315875 5.23501739 5.05344377 5.18491944 5.32811892\n",
      " 5.13535321 5.29267585 5.14482719 5.24131901 5.36724492 5.28586072\n",
      " 5.15667818 5.29586408 5.08844524 5.25971351 5.10912579 5.23751162\n",
      " 5.1694741  5.19703197 5.16443979 5.23767104 5.23204294 5.19449328\n",
      " 5.23085202 5.2332076  5.08935659 5.06363322 5.40681805 5.06275113\n",
      " 5.0377159  5.14239489 5.27443399 5.10392386 5.20653481 5.16769625\n",
      " 5.25675316 5.2414128  5.15353391]\n"
     ]
    }
   ],
   "source": [
    "y_true_pred = linreg_true.predict(X_true_test)\n",
    "y_false_pred = linreg_false.predict(X_false_test)\n",
    "\n",
    "print(y_true_pred)\n",
    "print(y_false_pred)"
   ]
  },
  {
   "cell_type": "markdown",
   "id": "231c46f1",
   "metadata": {},
   "source": [
    "Évaluation du modèle"
   ]
  },
  {
   "cell_type": "code",
   "execution_count": 17,
   "id": "ec8972f3",
   "metadata": {},
   "outputs": [
    {
     "name": "stdout",
     "output_type": "stream",
     "text": [
      "\n",
      "Vrais billets :\n",
      "0.2590959006270132\n",
      "0.10507828492150773\n",
      "0.3241578086696474\n",
      "\n",
      "Faux billets :\n",
      "0.44005109197640685\n",
      "0.2876735489545403\n",
      "0.5363520755572223\n"
     ]
    }
   ],
   "source": [
    "print()\n",
    "print('Vrais billets :')\n",
    "print(metrics.mean_absolute_error(y_true_test, y_true_pred))\n",
    "print(metrics.mean_squared_error(y_true_test, y_true_pred))\n",
    "print(np.sqrt(metrics.mean_squared_error(y_true_test, y_true_pred)))\n",
    "\n",
    "print()\n",
    "print('Faux billets :')\n",
    "print(metrics.mean_absolute_error(y_false_test, y_false_pred))\n",
    "print(metrics.mean_squared_error(y_false_test, y_false_pred))\n",
    "print(np.sqrt(metrics.mean_squared_error(y_false_test, y_false_pred)))"
   ]
  },
  {
   "cell_type": "markdown",
   "id": "3efc9bb7",
   "metadata": {},
   "source": [
    "<a name=\"2.2\"></a>\n",
    "### 2.2 Prédiction des valeurs manquantes"
   ]
  },
  {
   "cell_type": "code",
   "execution_count": 18,
   "id": "b91ba92a",
   "metadata": {
    "scrolled": false
   },
   "outputs": [
    {
     "name": "stdout",
     "output_type": "stream",
     "text": [
      "\n",
      "Vrais billets :\n",
      "[4.07791493 4.12796782 4.13367981 4.04349548 4.10782598 4.08179461\n",
      " 4.10591714 4.13158953 4.11207169 4.09730435 4.13773727 4.18060604\n",
      " 4.16347428 4.06320214 4.13233305 4.17205573 4.10834484 4.08585392\n",
      " 4.1168816  4.14187573 4.17446802 4.15682186 4.18054749 4.11478763\n",
      " 4.14629336 4.17734886 4.10267737 4.09361697 4.15257597]\n",
      "\n",
      "Faux billets :\n",
      "[5.27319027 5.30991706 5.36221457 5.4654569  5.16287502 5.14522706\n",
      " 5.10858784 5.2681253 ]\n"
     ]
    }
   ],
   "source": [
    "print()\n",
    "print('Vrais billets :')\n",
    "\n",
    "data_true_pred = data_true_null[feature_cols]\n",
    "pred_true = linreg_true.predict(data_true_pred)\n",
    "print(pred_true)\n",
    "\n",
    "data_true2 = data_true.copy(deep=True)\n",
    "data_true2.loc[data_true2['margin_low'].isnull(), 'margin_low'] = pred_true\n",
    "\n",
    "\n",
    "print()\n",
    "print('Faux billets :')\n",
    "\n",
    "data_false_pred = data_false_null[feature_cols]\n",
    "pred_false = linreg_false.predict(data_false_pred)\n",
    "print(pred_false)\n",
    "\n",
    "data_false2 = data_false.copy(deep=True)\n",
    "data_false2.loc[data_false2['margin_low'].isnull(), 'margin_low'] = pred_false"
   ]
  },
  {
   "cell_type": "markdown",
   "id": "73ec0ff5",
   "metadata": {},
   "source": [
    "<a name=\"2.3\"></a>\n",
    "### 2.3 DataFrame complète avec les données manquantes"
   ]
  },
  {
   "cell_type": "code",
   "execution_count": 19,
   "id": "fa2f8faf",
   "metadata": {},
   "outputs": [
    {
     "data": {
      "text/html": [
       "<div>\n",
       "<style scoped>\n",
       "    .dataframe tbody tr th:only-of-type {\n",
       "        vertical-align: middle;\n",
       "    }\n",
       "\n",
       "    .dataframe tbody tr th {\n",
       "        vertical-align: top;\n",
       "    }\n",
       "\n",
       "    .dataframe thead th {\n",
       "        text-align: right;\n",
       "    }\n",
       "</style>\n",
       "<table border=\"1\" class=\"dataframe\">\n",
       "  <thead>\n",
       "    <tr style=\"text-align: right;\">\n",
       "      <th></th>\n",
       "      <th>is_genuine</th>\n",
       "      <th>diagonal</th>\n",
       "      <th>height_left</th>\n",
       "      <th>height_right</th>\n",
       "      <th>margin_low</th>\n",
       "      <th>margin_up</th>\n",
       "      <th>length</th>\n",
       "    </tr>\n",
       "  </thead>\n",
       "  <tbody>\n",
       "    <tr>\n",
       "      <th>0</th>\n",
       "      <td>True</td>\n",
       "      <td>171.81</td>\n",
       "      <td>104.86</td>\n",
       "      <td>104.95</td>\n",
       "      <td>4.52</td>\n",
       "      <td>2.89</td>\n",
       "      <td>112.83</td>\n",
       "    </tr>\n",
       "    <tr>\n",
       "      <th>1</th>\n",
       "      <td>True</td>\n",
       "      <td>171.46</td>\n",
       "      <td>103.36</td>\n",
       "      <td>103.66</td>\n",
       "      <td>3.77</td>\n",
       "      <td>2.99</td>\n",
       "      <td>113.09</td>\n",
       "    </tr>\n",
       "    <tr>\n",
       "      <th>2</th>\n",
       "      <td>True</td>\n",
       "      <td>172.69</td>\n",
       "      <td>104.48</td>\n",
       "      <td>103.50</td>\n",
       "      <td>4.40</td>\n",
       "      <td>2.94</td>\n",
       "      <td>113.16</td>\n",
       "    </tr>\n",
       "    <tr>\n",
       "      <th>3</th>\n",
       "      <td>True</td>\n",
       "      <td>171.36</td>\n",
       "      <td>103.91</td>\n",
       "      <td>103.94</td>\n",
       "      <td>3.62</td>\n",
       "      <td>3.01</td>\n",
       "      <td>113.51</td>\n",
       "    </tr>\n",
       "    <tr>\n",
       "      <th>4</th>\n",
       "      <td>True</td>\n",
       "      <td>171.73</td>\n",
       "      <td>104.28</td>\n",
       "      <td>103.46</td>\n",
       "      <td>4.04</td>\n",
       "      <td>3.48</td>\n",
       "      <td>112.54</td>\n",
       "    </tr>\n",
       "    <tr>\n",
       "      <th>...</th>\n",
       "      <td>...</td>\n",
       "      <td>...</td>\n",
       "      <td>...</td>\n",
       "      <td>...</td>\n",
       "      <td>...</td>\n",
       "      <td>...</td>\n",
       "      <td>...</td>\n",
       "    </tr>\n",
       "    <tr>\n",
       "      <th>1495</th>\n",
       "      <td>False</td>\n",
       "      <td>171.75</td>\n",
       "      <td>104.38</td>\n",
       "      <td>104.17</td>\n",
       "      <td>4.42</td>\n",
       "      <td>3.09</td>\n",
       "      <td>111.28</td>\n",
       "    </tr>\n",
       "    <tr>\n",
       "      <th>1496</th>\n",
       "      <td>False</td>\n",
       "      <td>172.19</td>\n",
       "      <td>104.63</td>\n",
       "      <td>104.44</td>\n",
       "      <td>5.27</td>\n",
       "      <td>3.37</td>\n",
       "      <td>110.97</td>\n",
       "    </tr>\n",
       "    <tr>\n",
       "      <th>1497</th>\n",
       "      <td>False</td>\n",
       "      <td>171.80</td>\n",
       "      <td>104.01</td>\n",
       "      <td>104.12</td>\n",
       "      <td>5.51</td>\n",
       "      <td>3.36</td>\n",
       "      <td>111.95</td>\n",
       "    </tr>\n",
       "    <tr>\n",
       "      <th>1498</th>\n",
       "      <td>False</td>\n",
       "      <td>172.06</td>\n",
       "      <td>104.28</td>\n",
       "      <td>104.06</td>\n",
       "      <td>5.17</td>\n",
       "      <td>3.46</td>\n",
       "      <td>112.25</td>\n",
       "    </tr>\n",
       "    <tr>\n",
       "      <th>1499</th>\n",
       "      <td>False</td>\n",
       "      <td>171.47</td>\n",
       "      <td>104.15</td>\n",
       "      <td>103.82</td>\n",
       "      <td>4.63</td>\n",
       "      <td>3.37</td>\n",
       "      <td>112.07</td>\n",
       "    </tr>\n",
       "  </tbody>\n",
       "</table>\n",
       "<p>1500 rows × 7 columns</p>\n",
       "</div>"
      ],
      "text/plain": [
       "      is_genuine  diagonal  height_left  height_right  margin_low  margin_up  \\\n",
       "0           True    171.81       104.86        104.95        4.52       2.89   \n",
       "1           True    171.46       103.36        103.66        3.77       2.99   \n",
       "2           True    172.69       104.48        103.50        4.40       2.94   \n",
       "3           True    171.36       103.91        103.94        3.62       3.01   \n",
       "4           True    171.73       104.28        103.46        4.04       3.48   \n",
       "...          ...       ...          ...           ...         ...        ...   \n",
       "1495       False    171.75       104.38        104.17        4.42       3.09   \n",
       "1496       False    172.19       104.63        104.44        5.27       3.37   \n",
       "1497       False    171.80       104.01        104.12        5.51       3.36   \n",
       "1498       False    172.06       104.28        104.06        5.17       3.46   \n",
       "1499       False    171.47       104.15        103.82        4.63       3.37   \n",
       "\n",
       "      length  \n",
       "0     112.83  \n",
       "1     113.09  \n",
       "2     113.16  \n",
       "3     113.51  \n",
       "4     112.54  \n",
       "...      ...  \n",
       "1495  111.28  \n",
       "1496  110.97  \n",
       "1497  111.95  \n",
       "1498  112.25  \n",
       "1499  112.07  \n",
       "\n",
       "[1500 rows x 7 columns]"
      ]
     },
     "metadata": {},
     "output_type": "display_data"
    },
    {
     "name": "stdout",
     "output_type": "stream",
     "text": [
      "<class 'pandas.core.frame.DataFrame'>\n",
      "Int64Index: 1500 entries, 0 to 1499\n",
      "Data columns (total 7 columns):\n",
      " #   Column        Non-Null Count  Dtype  \n",
      "---  ------        --------------  -----  \n",
      " 0   is_genuine    1500 non-null   bool   \n",
      " 1   diagonal      1500 non-null   float64\n",
      " 2   height_left   1500 non-null   float64\n",
      " 3   height_right  1500 non-null   float64\n",
      " 4   margin_low    1500 non-null   float64\n",
      " 5   margin_up     1500 non-null   float64\n",
      " 6   length        1500 non-null   float64\n",
      "dtypes: bool(1), float64(6)\n",
      "memory usage: 83.5 KB\n",
      "None\n"
     ]
    }
   ],
   "source": [
    "frames = (data_true2, data_false2)\n",
    "data2 = pd.concat(frames)\n",
    "\n",
    "display(data2)\n",
    "print(data2.info())"
   ]
  },
  {
   "cell_type": "markdown",
   "id": "d52469f4",
   "metadata": {},
   "source": [
    "<a name=\"3\"></a>\n",
    "## 3. Régression logistique\n",
    "<a name=\"3.1\"></a>\n",
    "### 3.1 Préparation du modèle\n",
    "Attribution de X et y"
   ]
  },
  {
   "cell_type": "code",
   "execution_count": 20,
   "id": "4aa29dc9",
   "metadata": {},
   "outputs": [],
   "source": [
    "feature_cols_log = ['diagonal', 'height_left', 'height_right', 'margin_low', 'margin_up', 'length']\n",
    "X_log = data2[feature_cols_log]\n",
    "\n",
    "data2['is_genuine'] = data2['is_genuine'].astype('category')\n",
    "y_log = data2['is_genuine'].cat.codes"
   ]
  },
  {
   "cell_type": "markdown",
   "id": "7c6b6402",
   "metadata": {},
   "source": [
    "Séparation des données en données de training et données de test"
   ]
  },
  {
   "cell_type": "code",
   "execution_count": 21,
   "id": "67d848ed",
   "metadata": {},
   "outputs": [],
   "source": [
    "X_train_log, X_test_log, y_train_log, y_test_log = train_test_split(X_log, y_log, test_size=0.3, random_state=0)"
   ]
  },
  {
   "cell_type": "markdown",
   "id": "a520168f",
   "metadata": {},
   "source": [
    "Apprentissage du modèle"
   ]
  },
  {
   "cell_type": "code",
   "execution_count": 22,
   "id": "e58a805e",
   "metadata": {},
   "outputs": [
    {
     "data": {
      "text/html": [
       "<style>#sk-container-id-2 {color: black;background-color: white;}#sk-container-id-2 pre{padding: 0;}#sk-container-id-2 div.sk-toggleable {background-color: white;}#sk-container-id-2 label.sk-toggleable__label {cursor: pointer;display: block;width: 100%;margin-bottom: 0;padding: 0.3em;box-sizing: border-box;text-align: center;}#sk-container-id-2 label.sk-toggleable__label-arrow:before {content: \"▸\";float: left;margin-right: 0.25em;color: #696969;}#sk-container-id-2 label.sk-toggleable__label-arrow:hover:before {color: black;}#sk-container-id-2 div.sk-estimator:hover label.sk-toggleable__label-arrow:before {color: black;}#sk-container-id-2 div.sk-toggleable__content {max-height: 0;max-width: 0;overflow: hidden;text-align: left;background-color: #f0f8ff;}#sk-container-id-2 div.sk-toggleable__content pre {margin: 0.2em;color: black;border-radius: 0.25em;background-color: #f0f8ff;}#sk-container-id-2 input.sk-toggleable__control:checked~div.sk-toggleable__content {max-height: 200px;max-width: 100%;overflow: auto;}#sk-container-id-2 input.sk-toggleable__control:checked~label.sk-toggleable__label-arrow:before {content: \"▾\";}#sk-container-id-2 div.sk-estimator input.sk-toggleable__control:checked~label.sk-toggleable__label {background-color: #d4ebff;}#sk-container-id-2 div.sk-label input.sk-toggleable__control:checked~label.sk-toggleable__label {background-color: #d4ebff;}#sk-container-id-2 input.sk-hidden--visually {border: 0;clip: rect(1px 1px 1px 1px);clip: rect(1px, 1px, 1px, 1px);height: 1px;margin: -1px;overflow: hidden;padding: 0;position: absolute;width: 1px;}#sk-container-id-2 div.sk-estimator {font-family: monospace;background-color: #f0f8ff;border: 1px dotted black;border-radius: 0.25em;box-sizing: border-box;margin-bottom: 0.5em;}#sk-container-id-2 div.sk-estimator:hover {background-color: #d4ebff;}#sk-container-id-2 div.sk-parallel-item::after {content: \"\";width: 100%;border-bottom: 1px solid gray;flex-grow: 1;}#sk-container-id-2 div.sk-label:hover label.sk-toggleable__label {background-color: #d4ebff;}#sk-container-id-2 div.sk-serial::before {content: \"\";position: absolute;border-left: 1px solid gray;box-sizing: border-box;top: 0;bottom: 0;left: 50%;z-index: 0;}#sk-container-id-2 div.sk-serial {display: flex;flex-direction: column;align-items: center;background-color: white;padding-right: 0.2em;padding-left: 0.2em;position: relative;}#sk-container-id-2 div.sk-item {position: relative;z-index: 1;}#sk-container-id-2 div.sk-parallel {display: flex;align-items: stretch;justify-content: center;background-color: white;position: relative;}#sk-container-id-2 div.sk-item::before, #sk-container-id-2 div.sk-parallel-item::before {content: \"\";position: absolute;border-left: 1px solid gray;box-sizing: border-box;top: 0;bottom: 0;left: 50%;z-index: -1;}#sk-container-id-2 div.sk-parallel-item {display: flex;flex-direction: column;z-index: 1;position: relative;background-color: white;}#sk-container-id-2 div.sk-parallel-item:first-child::after {align-self: flex-end;width: 50%;}#sk-container-id-2 div.sk-parallel-item:last-child::after {align-self: flex-start;width: 50%;}#sk-container-id-2 div.sk-parallel-item:only-child::after {width: 0;}#sk-container-id-2 div.sk-dashed-wrapped {border: 1px dashed gray;margin: 0 0.4em 0.5em 0.4em;box-sizing: border-box;padding-bottom: 0.4em;background-color: white;}#sk-container-id-2 div.sk-label label {font-family: monospace;font-weight: bold;display: inline-block;line-height: 1.2em;}#sk-container-id-2 div.sk-label-container {text-align: center;}#sk-container-id-2 div.sk-container {/* jupyter's `normalize.less` sets `[hidden] { display: none; }` but bootstrap.min.css set `[hidden] { display: none !important; }` so we also need the `!important` here to be able to override the default hidden behavior on the sphinx rendered scikit-learn.org. See: https://github.com/scikit-learn/scikit-learn/issues/21755 */display: inline-block !important;position: relative;}#sk-container-id-2 div.sk-text-repr-fallback {display: none;}</style><div id=\"sk-container-id-2\" class=\"sk-top-container\"><div class=\"sk-text-repr-fallback\"><pre>LogisticRegression()</pre><b>In a Jupyter environment, please rerun this cell to show the HTML representation or trust the notebook. <br />On GitHub, the HTML representation is unable to render, please try loading this page with nbviewer.org.</b></div><div class=\"sk-container\" hidden><div class=\"sk-item\"><div class=\"sk-estimator sk-toggleable\"><input class=\"sk-toggleable__control sk-hidden--visually\" id=\"sk-estimator-id-2\" type=\"checkbox\" checked><label for=\"sk-estimator-id-2\" class=\"sk-toggleable__label sk-toggleable__label-arrow\">LogisticRegression</label><div class=\"sk-toggleable__content\"><pre>LogisticRegression()</pre></div></div></div></div></div>"
      ],
      "text/plain": [
       "LogisticRegression()"
      ]
     },
     "execution_count": 22,
     "metadata": {},
     "output_type": "execute_result"
    }
   ],
   "source": [
    "logreg = LogisticRegression()\n",
    "logreg.fit(X_train_log, y_train_log)"
   ]
  },
  {
   "cell_type": "markdown",
   "id": "e892d34a",
   "metadata": {},
   "source": [
    "Prédiction du modèle entraîné sur les données de test"
   ]
  },
  {
   "cell_type": "code",
   "execution_count": 23,
   "id": "9b2d1f55",
   "metadata": {},
   "outputs": [
    {
     "name": "stdout",
     "output_type": "stream",
     "text": [
      "[1 1 0 1 0 0 1 1 1 0 0 0 0 1 1 1 0 0 1 0 1 1 1 1 0 1 0 1 1 0 0 1 0 1 0 0 1\n",
      " 1 1 1 0 0 0 1 1 1 1 1 1 0 1 0 1 0 1 0 1 1 0 0 1 1 0 1 1 1 1 0 1 0 1 1 1 0\n",
      " 1 1 1 1 1 0 0 1 1 1 1 1 0 1 1 1 1 1 1 1 0 0 1 1 1 1 0 0 1 1 0 1 1 1 1 0 1\n",
      " 1 1 1 0 1 1 0 1 1 1 1 1 1 1 1 1 1 0 1 1 1 1 0 1 1 1 1 0 1 1 1 1 1 1 1 1 1\n",
      " 0 1 1 0 1 1 1 1 0 1 1 1 0 1 1 0 0 1 0 0 1 1 1 1 0 1 1 1 1 1 0 1 1 1 1 1 1\n",
      " 1 1 1 1 1 1 0 0 1 0 1 0 1 1 1 1 1 1 1 1 1 1 1 1 1 0 1 1 0 0 1 0 1 1 0 1 1\n",
      " 1 1 1 1 0 0 1 1 1 0 0 1 1 1 0 0 1 0 1 1 1 0 1 0 0 1 0 1 0 1 1 1 1 0 1 0 1\n",
      " 0 1 1 1 1 0 1 0 1 1 0 0 0 0 0 0 1 0 1 1 0 0 0 0 1 0 1 1 1 0 1 0 1 1 1 0 1\n",
      " 1 1 0 1 1 1 1 1 1 1 1 0 0 1 1 1 1 1 1 0 1 0 1 1 1 1 0 0 1 1 1 1 0 0 1 1 0\n",
      " 1 1 1 0 1 0 0 1 1 1 0 0 0 0 0 1 0 1 0 1 1 0 0 0 0 1 1 1 1 0 1 1 1 0 0 1 0\n",
      " 1 1 0 1 0 1 1 1 1 1 1 0 1 1 1 0 1 1 0 1 1 0 0 1 0 0 1 0 1 1 0 1 1 0 0 0 1\n",
      " 0 1 1 1 1 1 0 1 0 0 0 1 1 0 1 1 0 1 0 1 1 1 1 1 1 1 1 1 0 1 0 0 1 0 1 0 0\n",
      " 0 0 0 0 0 1]\n",
      "Accuracy of logistic regression classifier on test set: 1.00\n"
     ]
    }
   ],
   "source": [
    "y_pred_log = logreg.predict(X_test_log)\n",
    "print(y_pred_log)\n",
    "print('Accuracy of logistic regression classifier on test set: {:.2f}'.format(logreg.score(X_test_log, y_test_log)))"
   ]
  },
  {
   "cell_type": "markdown",
   "id": "ce6f3c63",
   "metadata": {},
   "source": [
    "<a name=\"3.2\"></a>\n",
    "### 3.2 Matrice de confusion"
   ]
  },
  {
   "cell_type": "code",
   "execution_count": 24,
   "id": "b7bc2e5c",
   "metadata": {},
   "outputs": [
    {
     "data": {
      "text/html": [
       "<div>\n",
       "<style scoped>\n",
       "    .dataframe tbody tr th:only-of-type {\n",
       "        vertical-align: middle;\n",
       "    }\n",
       "\n",
       "    .dataframe tbody tr th {\n",
       "        vertical-align: top;\n",
       "    }\n",
       "\n",
       "    .dataframe thead th {\n",
       "        text-align: right;\n",
       "    }\n",
       "</style>\n",
       "<table border=\"1\" class=\"dataframe\">\n",
       "  <thead>\n",
       "    <tr style=\"text-align: right;\">\n",
       "      <th></th>\n",
       "      <th>0</th>\n",
       "      <th>1</th>\n",
       "    </tr>\n",
       "  </thead>\n",
       "  <tbody>\n",
       "    <tr>\n",
       "      <th>0</th>\n",
       "      <td>156</td>\n",
       "      <td>1</td>\n",
       "    </tr>\n",
       "    <tr>\n",
       "      <th>1</th>\n",
       "      <td>0</td>\n",
       "      <td>293</td>\n",
       "    </tr>\n",
       "  </tbody>\n",
       "</table>\n",
       "</div>"
      ],
      "text/plain": [
       "     0    1\n",
       "0  156    1\n",
       "1    0  293"
      ]
     },
     "metadata": {},
     "output_type": "display_data"
    },
    {
     "name": "stdout",
     "output_type": "stream",
     "text": [
      "              precision    recall  f1-score   support\n",
      "\n",
      "           0       1.00      0.99      1.00       157\n",
      "           1       1.00      1.00      1.00       293\n",
      "\n",
      "    accuracy                           1.00       450\n",
      "   macro avg       1.00      1.00      1.00       450\n",
      "weighted avg       1.00      1.00      1.00       450\n",
      "\n"
     ]
    }
   ],
   "source": [
    "matrice_de_confusion_log = confusion_matrix(y_test_log, y_pred_log)\n",
    "display(pd.DataFrame(matrice_de_confusion_log))\n",
    "\n",
    "print(classification_report(y_test_log, y_pred_log))"
   ]
  },
  {
   "cell_type": "markdown",
   "id": "47a45068",
   "metadata": {},
   "source": [
    "<a name=\"3.3\"></a>\n",
    "### 3.3 Prédictions sur le test dataset"
   ]
  },
  {
   "cell_type": "code",
   "execution_count": 25,
   "id": "8b309b2a",
   "metadata": {},
   "outputs": [
    {
     "data": {
      "text/html": [
       "<div>\n",
       "<style scoped>\n",
       "    .dataframe tbody tr th:only-of-type {\n",
       "        vertical-align: middle;\n",
       "    }\n",
       "\n",
       "    .dataframe tbody tr th {\n",
       "        vertical-align: top;\n",
       "    }\n",
       "\n",
       "    .dataframe thead th {\n",
       "        text-align: right;\n",
       "    }\n",
       "</style>\n",
       "<table border=\"1\" class=\"dataframe\">\n",
       "  <thead>\n",
       "    <tr style=\"text-align: right;\">\n",
       "      <th></th>\n",
       "      <th>diagonal</th>\n",
       "      <th>height_left</th>\n",
       "      <th>height_right</th>\n",
       "      <th>margin_low</th>\n",
       "      <th>margin_up</th>\n",
       "      <th>length</th>\n",
       "      <th>id</th>\n",
       "    </tr>\n",
       "  </thead>\n",
       "  <tbody>\n",
       "    <tr>\n",
       "      <th>0</th>\n",
       "      <td>171.76</td>\n",
       "      <td>104.01</td>\n",
       "      <td>103.54</td>\n",
       "      <td>5.21</td>\n",
       "      <td>3.30</td>\n",
       "      <td>111.42</td>\n",
       "      <td>A_1</td>\n",
       "    </tr>\n",
       "    <tr>\n",
       "      <th>1</th>\n",
       "      <td>171.87</td>\n",
       "      <td>104.17</td>\n",
       "      <td>104.13</td>\n",
       "      <td>6.00</td>\n",
       "      <td>3.31</td>\n",
       "      <td>112.09</td>\n",
       "      <td>A_2</td>\n",
       "    </tr>\n",
       "    <tr>\n",
       "      <th>2</th>\n",
       "      <td>172.00</td>\n",
       "      <td>104.58</td>\n",
       "      <td>104.29</td>\n",
       "      <td>4.99</td>\n",
       "      <td>3.39</td>\n",
       "      <td>111.57</td>\n",
       "      <td>A_3</td>\n",
       "    </tr>\n",
       "    <tr>\n",
       "      <th>3</th>\n",
       "      <td>172.49</td>\n",
       "      <td>104.55</td>\n",
       "      <td>104.34</td>\n",
       "      <td>4.44</td>\n",
       "      <td>3.03</td>\n",
       "      <td>113.20</td>\n",
       "      <td>A_4</td>\n",
       "    </tr>\n",
       "    <tr>\n",
       "      <th>4</th>\n",
       "      <td>171.65</td>\n",
       "      <td>103.63</td>\n",
       "      <td>103.56</td>\n",
       "      <td>3.77</td>\n",
       "      <td>3.16</td>\n",
       "      <td>113.33</td>\n",
       "      <td>A_5</td>\n",
       "    </tr>\n",
       "  </tbody>\n",
       "</table>\n",
       "</div>"
      ],
      "text/plain": [
       "   diagonal  height_left  height_right  margin_low  margin_up  length   id\n",
       "0    171.76       104.01        103.54        5.21       3.30  111.42  A_1\n",
       "1    171.87       104.17        104.13        6.00       3.31  112.09  A_2\n",
       "2    172.00       104.58        104.29        4.99       3.39  111.57  A_3\n",
       "3    172.49       104.55        104.34        4.44       3.03  113.20  A_4\n",
       "4    171.65       103.63        103.56        3.77       3.16  113.33  A_5"
      ]
     },
     "metadata": {},
     "output_type": "display_data"
    }
   ],
   "source": [
    "display(data_test)"
   ]
  },
  {
   "cell_type": "code",
   "execution_count": 26,
   "id": "030a54c4",
   "metadata": {},
   "outputs": [
    {
     "name": "stdout",
     "output_type": "stream",
     "text": [
      "[0 0 0 1 1]\n"
     ]
    }
   ],
   "source": [
    "data_test2 = data_test[[\"diagonal\", \"height_left\", \"height_right\", \"margin_low\", \"margin_up\", \"length\"]]\n",
    "\n",
    "pred_log = logreg.predict(data_test2)\n",
    "\n",
    "print(pred_log) # 0 == faux billet, 1 == vrai billet"
   ]
  },
  {
   "cell_type": "markdown",
   "id": "7fe5e1c7",
   "metadata": {},
   "source": [
    "<a name=\"4\"></a>\n",
    "## 4. K-MEANS CLUSTERING FOR CLASSIFICATION\n",
    "<a name=\"4.1\"></a>\n",
    "### 4.1 Préparation du modèle\n",
    "Attribution de X et y"
   ]
  },
  {
   "cell_type": "code",
   "execution_count": 27,
   "id": "94f3ea65",
   "metadata": {},
   "outputs": [],
   "source": [
    "feature_cols_km = ['diagonal', 'height_left', 'height_right', 'margin_low', 'margin_up', 'length']\n",
    "X_km = data2[feature_cols_km]\n",
    "\n",
    "y_km = data2['is_genuine'].cat.codes"
   ]
  },
  {
   "cell_type": "markdown",
   "id": "d62d1ea9",
   "metadata": {},
   "source": [
    "Séparation des données en données d'entraînement et données de test"
   ]
  },
  {
   "cell_type": "code",
   "execution_count": 28,
   "id": "ba0399d3",
   "metadata": {},
   "outputs": [],
   "source": [
    "X_train_km, X_test_km, y_train_km, y_test_km = train_test_split(X_km, y_km, test_size=0.3, random_state=0)"
   ]
  },
  {
   "cell_type": "markdown",
   "id": "819bb7ba",
   "metadata": {},
   "source": [
    "Entraînement du modèle"
   ]
  },
  {
   "cell_type": "code",
   "execution_count": 29,
   "id": "d9db0c22",
   "metadata": {},
   "outputs": [
    {
     "data": {
      "text/html": [
       "<style>#sk-container-id-3 {color: black;background-color: white;}#sk-container-id-3 pre{padding: 0;}#sk-container-id-3 div.sk-toggleable {background-color: white;}#sk-container-id-3 label.sk-toggleable__label {cursor: pointer;display: block;width: 100%;margin-bottom: 0;padding: 0.3em;box-sizing: border-box;text-align: center;}#sk-container-id-3 label.sk-toggleable__label-arrow:before {content: \"▸\";float: left;margin-right: 0.25em;color: #696969;}#sk-container-id-3 label.sk-toggleable__label-arrow:hover:before {color: black;}#sk-container-id-3 div.sk-estimator:hover label.sk-toggleable__label-arrow:before {color: black;}#sk-container-id-3 div.sk-toggleable__content {max-height: 0;max-width: 0;overflow: hidden;text-align: left;background-color: #f0f8ff;}#sk-container-id-3 div.sk-toggleable__content pre {margin: 0.2em;color: black;border-radius: 0.25em;background-color: #f0f8ff;}#sk-container-id-3 input.sk-toggleable__control:checked~div.sk-toggleable__content {max-height: 200px;max-width: 100%;overflow: auto;}#sk-container-id-3 input.sk-toggleable__control:checked~label.sk-toggleable__label-arrow:before {content: \"▾\";}#sk-container-id-3 div.sk-estimator input.sk-toggleable__control:checked~label.sk-toggleable__label {background-color: #d4ebff;}#sk-container-id-3 div.sk-label input.sk-toggleable__control:checked~label.sk-toggleable__label {background-color: #d4ebff;}#sk-container-id-3 input.sk-hidden--visually {border: 0;clip: rect(1px 1px 1px 1px);clip: rect(1px, 1px, 1px, 1px);height: 1px;margin: -1px;overflow: hidden;padding: 0;position: absolute;width: 1px;}#sk-container-id-3 div.sk-estimator {font-family: monospace;background-color: #f0f8ff;border: 1px dotted black;border-radius: 0.25em;box-sizing: border-box;margin-bottom: 0.5em;}#sk-container-id-3 div.sk-estimator:hover {background-color: #d4ebff;}#sk-container-id-3 div.sk-parallel-item::after {content: \"\";width: 100%;border-bottom: 1px solid gray;flex-grow: 1;}#sk-container-id-3 div.sk-label:hover label.sk-toggleable__label {background-color: #d4ebff;}#sk-container-id-3 div.sk-serial::before {content: \"\";position: absolute;border-left: 1px solid gray;box-sizing: border-box;top: 0;bottom: 0;left: 50%;z-index: 0;}#sk-container-id-3 div.sk-serial {display: flex;flex-direction: column;align-items: center;background-color: white;padding-right: 0.2em;padding-left: 0.2em;position: relative;}#sk-container-id-3 div.sk-item {position: relative;z-index: 1;}#sk-container-id-3 div.sk-parallel {display: flex;align-items: stretch;justify-content: center;background-color: white;position: relative;}#sk-container-id-3 div.sk-item::before, #sk-container-id-3 div.sk-parallel-item::before {content: \"\";position: absolute;border-left: 1px solid gray;box-sizing: border-box;top: 0;bottom: 0;left: 50%;z-index: -1;}#sk-container-id-3 div.sk-parallel-item {display: flex;flex-direction: column;z-index: 1;position: relative;background-color: white;}#sk-container-id-3 div.sk-parallel-item:first-child::after {align-self: flex-end;width: 50%;}#sk-container-id-3 div.sk-parallel-item:last-child::after {align-self: flex-start;width: 50%;}#sk-container-id-3 div.sk-parallel-item:only-child::after {width: 0;}#sk-container-id-3 div.sk-dashed-wrapped {border: 1px dashed gray;margin: 0 0.4em 0.5em 0.4em;box-sizing: border-box;padding-bottom: 0.4em;background-color: white;}#sk-container-id-3 div.sk-label label {font-family: monospace;font-weight: bold;display: inline-block;line-height: 1.2em;}#sk-container-id-3 div.sk-label-container {text-align: center;}#sk-container-id-3 div.sk-container {/* jupyter's `normalize.less` sets `[hidden] { display: none; }` but bootstrap.min.css set `[hidden] { display: none !important; }` so we also need the `!important` here to be able to override the default hidden behavior on the sphinx rendered scikit-learn.org. See: https://github.com/scikit-learn/scikit-learn/issues/21755 */display: inline-block !important;position: relative;}#sk-container-id-3 div.sk-text-repr-fallback {display: none;}</style><div id=\"sk-container-id-3\" class=\"sk-top-container\"><div class=\"sk-text-repr-fallback\"><pre>KMeans(n_clusters=2, random_state=42)</pre><b>In a Jupyter environment, please rerun this cell to show the HTML representation or trust the notebook. <br />On GitHub, the HTML representation is unable to render, please try loading this page with nbviewer.org.</b></div><div class=\"sk-container\" hidden><div class=\"sk-item\"><div class=\"sk-estimator sk-toggleable\"><input class=\"sk-toggleable__control sk-hidden--visually\" id=\"sk-estimator-id-3\" type=\"checkbox\" checked><label for=\"sk-estimator-id-3\" class=\"sk-toggleable__label sk-toggleable__label-arrow\">KMeans</label><div class=\"sk-toggleable__content\"><pre>KMeans(n_clusters=2, random_state=42)</pre></div></div></div></div></div>"
      ],
      "text/plain": [
       "KMeans(n_clusters=2, random_state=42)"
      ]
     },
     "execution_count": 29,
     "metadata": {},
     "output_type": "execute_result"
    }
   ],
   "source": [
    "kmeans = KMeans(n_clusters=2, random_state =42)\n",
    "kmeans.fit(X_train_km, y_train_km)"
   ]
  },
  {
   "cell_type": "markdown",
   "id": "f5353665",
   "metadata": {},
   "source": [
    "Prédiction du modèle sur les données de test"
   ]
  },
  {
   "cell_type": "code",
   "execution_count": 30,
   "id": "702def7b",
   "metadata": {},
   "outputs": [
    {
     "name": "stdout",
     "output_type": "stream",
     "text": [
      "[0 0 1 0 1 1 0 0 0 1 1 1 1 0 0 0 1 1 0 1 0 0 0 0 1 0 1 0 0 1 1 0 1 0 1 1 0\n",
      " 0 0 0 1 1 1 0 0 0 0 0 0 0 0 1 0 1 0 1 0 0 1 1 0 0 1 0 0 0 0 1 0 1 0 0 0 1\n",
      " 0 0 0 0 0 1 1 0 0 0 0 0 1 0 0 0 0 0 0 0 1 1 0 0 0 0 1 1 0 0 1 0 0 0 0 1 0\n",
      " 0 0 0 1 0 0 1 0 0 0 0 0 0 0 0 0 0 1 0 0 0 0 1 0 0 0 0 0 0 0 0 0 0 0 0 0 0\n",
      " 1 0 0 1 0 0 0 0 1 0 0 0 1 0 0 1 1 0 1 1 0 0 0 0 1 0 0 0 0 0 1 0 0 0 0 0 0\n",
      " 0 0 0 0 0 0 1 1 0 1 0 1 0 0 0 0 0 0 0 0 0 0 0 0 0 1 0 0 1 1 0 1 0 0 1 0 0\n",
      " 0 0 0 0 1 1 0 0 0 1 1 0 0 0 1 1 0 1 0 0 0 1 0 1 1 0 1 0 1 0 0 0 0 1 0 1 0\n",
      " 1 0 0 0 0 1 0 1 0 0 1 1 1 1 1 1 0 1 0 0 1 1 1 1 0 1 0 0 0 1 0 1 0 0 0 1 0\n",
      " 0 0 1 0 0 0 0 0 0 0 0 1 1 0 0 0 0 0 0 1 0 1 0 0 0 0 1 1 0 0 0 0 1 1 0 0 1\n",
      " 0 0 0 1 0 1 1 0 0 0 1 1 1 1 1 0 1 0 1 0 0 1 1 1 1 0 0 0 0 1 0 0 0 1 1 0 1\n",
      " 0 0 1 0 1 0 0 0 0 0 0 1 0 0 0 1 0 0 1 0 0 1 1 0 1 1 0 1 0 0 1 0 0 1 1 1 0\n",
      " 1 0 0 0 0 0 1 0 1 1 1 0 0 1 0 0 1 0 1 0 0 0 0 0 0 0 0 0 1 0 1 1 0 1 0 1 1\n",
      " 1 1 1 1 1 0]\n",
      "Accuracy of logistic regression classifier on test set: 1.00\n"
     ]
    }
   ],
   "source": [
    "y_pred_km = kmeans.predict(X_test_km)\n",
    "print(y_pred_km)\n",
    "print('Accuracy of logistic regression classifier on test set: {:.2f}'.format(logreg.score(X_test_km, y_test_km)))"
   ]
  },
  {
   "cell_type": "markdown",
   "id": "c669a28a",
   "metadata": {},
   "source": [
    "<a name=\"4.2\"></a>\n",
    "### 4.2 Matrice de confusion"
   ]
  },
  {
   "cell_type": "code",
   "execution_count": 31,
   "id": "4a47c64b",
   "metadata": {},
   "outputs": [
    {
     "data": {
      "text/html": [
       "<div>\n",
       "<style scoped>\n",
       "    .dataframe tbody tr th:only-of-type {\n",
       "        vertical-align: middle;\n",
       "    }\n",
       "\n",
       "    .dataframe tbody tr th {\n",
       "        vertical-align: top;\n",
       "    }\n",
       "\n",
       "    .dataframe thead th {\n",
       "        text-align: right;\n",
       "    }\n",
       "</style>\n",
       "<table border=\"1\" class=\"dataframe\">\n",
       "  <thead>\n",
       "    <tr style=\"text-align: right;\">\n",
       "      <th></th>\n",
       "      <th>0</th>\n",
       "      <th>1</th>\n",
       "    </tr>\n",
       "  </thead>\n",
       "  <tbody>\n",
       "    <tr>\n",
       "      <th>0</th>\n",
       "      <td>156</td>\n",
       "      <td>1</td>\n",
       "    </tr>\n",
       "    <tr>\n",
       "      <th>1</th>\n",
       "      <td>0</td>\n",
       "      <td>293</td>\n",
       "    </tr>\n",
       "  </tbody>\n",
       "</table>\n",
       "</div>"
      ],
      "text/plain": [
       "     0    1\n",
       "0  156    1\n",
       "1    0  293"
      ]
     },
     "metadata": {},
     "output_type": "display_data"
    },
    {
     "name": "stdout",
     "output_type": "stream",
     "text": [
      "              precision    recall  f1-score   support\n",
      "\n",
      "           0       0.01      0.02      0.01       157\n",
      "           1       0.00      0.00      0.00       293\n",
      "\n",
      "    accuracy                           0.01       450\n",
      "   macro avg       0.01      0.01      0.01       450\n",
      "weighted avg       0.00      0.01      0.00       450\n",
      "\n"
     ]
    }
   ],
   "source": [
    "matrice_de_confusion_km = confusion_matrix(y_test_km, y_pred_km)\n",
    "display(pd.DataFrame(matrice_de_confusion_log))\n",
    "\n",
    "print(classification_report(y_test_km, y_pred_km))"
   ]
  },
  {
   "cell_type": "markdown",
   "id": "aead8729",
   "metadata": {},
   "source": [
    "<a name=\"4.3\"></a>\n",
    "### 4.3 Prédictions sur le test dataset"
   ]
  },
  {
   "cell_type": "code",
   "execution_count": 32,
   "id": "db80f830",
   "metadata": {},
   "outputs": [
    {
     "name": "stdout",
     "output_type": "stream",
     "text": [
      "[1 1 1 0 0]\n"
     ]
    }
   ],
   "source": [
    "pred_km = kmeans.predict(data_test2)\n",
    "\n",
    "print(pred_km) # 0 == vrai billet, 1 == faux billet"
   ]
  },
  {
   "cell_type": "markdown",
   "id": "3fb206e7",
   "metadata": {},
   "source": [
    "Centroïdes des clusters :"
   ]
  },
  {
   "cell_type": "code",
   "execution_count": 33,
   "id": "b256ca9e",
   "metadata": {},
   "outputs": [
    {
     "name": "stdout",
     "output_type": "stream",
     "text": [
      "[[171.9764779  103.95455801 103.81372928   4.13068225   3.05947514\n",
      "  113.18551105]\n",
      " [171.89174847 104.19199387 104.14610429   5.24300726   3.34273006\n",
      "  111.58306748]]\n"
     ]
    }
   ],
   "source": [
    "print(kmeans.cluster_centers_)"
   ]
  },
  {
   "cell_type": "markdown",
   "id": "e1fc8326",
   "metadata": {},
   "source": [
    "<a name=\"5\"></a>\n",
    "## 5. Application finale"
   ]
  },
  {
   "cell_type": "code",
   "execution_count": 34,
   "id": "71f27d8b",
   "metadata": {},
   "outputs": [],
   "source": [
    "\n",
    "def logistic_regression(matrix):\n",
    "    \"\"\"Réalise une régression logistique sur une matrice entrée\"\"\"\n",
    "    print(\"Vérification des billets par Régression Logistique...\")\n",
    "    print()\n",
    "    matrix2 = matrix[feature_cols_log]\n",
    "    prediction = logreg.predict(matrix2)\n",
    "    matrix['Prédiction'] = prediction\n",
    "    matrix.loc[matrix.Prédiction == 0, \"Prédiction\"] = \"Faux billet\"\n",
    "    matrix.loc[matrix.Prédiction == 1, \"Prédiction\"] = \"Vrai billet\"\n",
    "    return matrix\n",
    "\n",
    "\n",
    "def k_means_classification(matrix):\n",
    "    \"\"\"Réalise une classification via K-Means d'une matrice entrée\"\"\"\n",
    "    print(\"Vérification des billets par Classification via K-Means...\")\n",
    "    print()\n",
    "    matrix2 = matrix[feature_cols_km]\n",
    "    prediction = kmeans.predict(matrix2)\n",
    "    matrix['Prédiction'] = prediction\n",
    "    matrix.loc[matrix.Prédiction == 0, \"Prédiction\"] = \"Vrai billet\"\n",
    "    matrix.loc[matrix.Prédiction == 1, \"Prédiction\"] = \"Faux billet\"\n",
    "    return matrix\n",
    "\n"
   ]
  },
  {
   "cell_type": "code",
   "execution_count": 35,
   "id": "f7c98e48",
   "metadata": {},
   "outputs": [],
   "source": [
    "data_test_reg = data_test.copy(deep=True)\n",
    "data_test_km = data_test.copy(deep=True)"
   ]
  },
  {
   "cell_type": "code",
   "execution_count": 36,
   "id": "4b2cb818",
   "metadata": {},
   "outputs": [
    {
     "name": "stdout",
     "output_type": "stream",
     "text": [
      "Vérification des billets par Régression Logistique...\n",
      "\n"
     ]
    },
    {
     "data": {
      "text/html": [
       "<div>\n",
       "<style scoped>\n",
       "    .dataframe tbody tr th:only-of-type {\n",
       "        vertical-align: middle;\n",
       "    }\n",
       "\n",
       "    .dataframe tbody tr th {\n",
       "        vertical-align: top;\n",
       "    }\n",
       "\n",
       "    .dataframe thead th {\n",
       "        text-align: right;\n",
       "    }\n",
       "</style>\n",
       "<table border=\"1\" class=\"dataframe\">\n",
       "  <thead>\n",
       "    <tr style=\"text-align: right;\">\n",
       "      <th></th>\n",
       "      <th>diagonal</th>\n",
       "      <th>height_left</th>\n",
       "      <th>height_right</th>\n",
       "      <th>margin_low</th>\n",
       "      <th>margin_up</th>\n",
       "      <th>length</th>\n",
       "      <th>id</th>\n",
       "      <th>Prédiction</th>\n",
       "    </tr>\n",
       "  </thead>\n",
       "  <tbody>\n",
       "    <tr>\n",
       "      <th>0</th>\n",
       "      <td>172.09</td>\n",
       "      <td>103.95</td>\n",
       "      <td>103.73</td>\n",
       "      <td>4.39</td>\n",
       "      <td>3.09</td>\n",
       "      <td>113.19</td>\n",
       "      <td>B_1</td>\n",
       "      <td>Vrai billet</td>\n",
       "    </tr>\n",
       "    <tr>\n",
       "      <th>1</th>\n",
       "      <td>171.52</td>\n",
       "      <td>104.17</td>\n",
       "      <td>104.03</td>\n",
       "      <td>5.27</td>\n",
       "      <td>3.16</td>\n",
       "      <td>111.82</td>\n",
       "      <td>B_2</td>\n",
       "      <td>Faux billet</td>\n",
       "    </tr>\n",
       "    <tr>\n",
       "      <th>2</th>\n",
       "      <td>171.78</td>\n",
       "      <td>103.80</td>\n",
       "      <td>103.75</td>\n",
       "      <td>3.81</td>\n",
       "      <td>3.24</td>\n",
       "      <td>113.39</td>\n",
       "      <td>B_3</td>\n",
       "      <td>Vrai billet</td>\n",
       "    </tr>\n",
       "    <tr>\n",
       "      <th>3</th>\n",
       "      <td>172.02</td>\n",
       "      <td>104.08</td>\n",
       "      <td>103.99</td>\n",
       "      <td>5.57</td>\n",
       "      <td>3.30</td>\n",
       "      <td>111.10</td>\n",
       "      <td>B_4</td>\n",
       "      <td>Faux billet</td>\n",
       "    </tr>\n",
       "    <tr>\n",
       "      <th>4</th>\n",
       "      <td>171.79</td>\n",
       "      <td>104.34</td>\n",
       "      <td>104.37</td>\n",
       "      <td>5.00</td>\n",
       "      <td>3.07</td>\n",
       "      <td>111.87</td>\n",
       "      <td>B_5</td>\n",
       "      <td>Faux billet</td>\n",
       "    </tr>\n",
       "  </tbody>\n",
       "</table>\n",
       "</div>"
      ],
      "text/plain": [
       "   diagonal  height_left  height_right  margin_low  margin_up  length   id  \\\n",
       "0    172.09       103.95        103.73        4.39       3.09  113.19  B_1   \n",
       "1    171.52       104.17        104.03        5.27       3.16  111.82  B_2   \n",
       "2    171.78       103.80        103.75        3.81       3.24  113.39  B_3   \n",
       "3    172.02       104.08        103.99        5.57       3.30  111.10  B_4   \n",
       "4    171.79       104.34        104.37        5.00       3.07  111.87  B_5   \n",
       "\n",
       "    Prédiction  \n",
       "0  Vrai billet  \n",
       "1  Faux billet  \n",
       "2  Vrai billet  \n",
       "3  Faux billet  \n",
       "4  Faux billet  "
      ]
     },
     "execution_count": 36,
     "metadata": {},
     "output_type": "execute_result"
    }
   ],
   "source": [
    "logistic_regression(test3)"
   ]
  },
  {
   "cell_type": "code",
   "execution_count": 37,
   "id": "9a6c3285",
   "metadata": {},
   "outputs": [
    {
     "name": "stdout",
     "output_type": "stream",
     "text": [
      "Vérification des billets par Classification via K-Means...\n",
      "\n"
     ]
    },
    {
     "data": {
      "text/html": [
       "<div>\n",
       "<style scoped>\n",
       "    .dataframe tbody tr th:only-of-type {\n",
       "        vertical-align: middle;\n",
       "    }\n",
       "\n",
       "    .dataframe tbody tr th {\n",
       "        vertical-align: top;\n",
       "    }\n",
       "\n",
       "    .dataframe thead th {\n",
       "        text-align: right;\n",
       "    }\n",
       "</style>\n",
       "<table border=\"1\" class=\"dataframe\">\n",
       "  <thead>\n",
       "    <tr style=\"text-align: right;\">\n",
       "      <th></th>\n",
       "      <th>diagonal</th>\n",
       "      <th>height_left</th>\n",
       "      <th>height_right</th>\n",
       "      <th>margin_low</th>\n",
       "      <th>margin_up</th>\n",
       "      <th>length</th>\n",
       "      <th>id</th>\n",
       "      <th>Prédiction</th>\n",
       "    </tr>\n",
       "  </thead>\n",
       "  <tbody>\n",
       "    <tr>\n",
       "      <th>0</th>\n",
       "      <td>172.09</td>\n",
       "      <td>103.95</td>\n",
       "      <td>103.73</td>\n",
       "      <td>4.39</td>\n",
       "      <td>3.09</td>\n",
       "      <td>113.19</td>\n",
       "      <td>B_1</td>\n",
       "      <td>Vrai billet</td>\n",
       "    </tr>\n",
       "    <tr>\n",
       "      <th>1</th>\n",
       "      <td>171.52</td>\n",
       "      <td>104.17</td>\n",
       "      <td>104.03</td>\n",
       "      <td>5.27</td>\n",
       "      <td>3.16</td>\n",
       "      <td>111.82</td>\n",
       "      <td>B_2</td>\n",
       "      <td>Faux billet</td>\n",
       "    </tr>\n",
       "    <tr>\n",
       "      <th>2</th>\n",
       "      <td>171.78</td>\n",
       "      <td>103.80</td>\n",
       "      <td>103.75</td>\n",
       "      <td>3.81</td>\n",
       "      <td>3.24</td>\n",
       "      <td>113.39</td>\n",
       "      <td>B_3</td>\n",
       "      <td>Vrai billet</td>\n",
       "    </tr>\n",
       "    <tr>\n",
       "      <th>3</th>\n",
       "      <td>172.02</td>\n",
       "      <td>104.08</td>\n",
       "      <td>103.99</td>\n",
       "      <td>5.57</td>\n",
       "      <td>3.30</td>\n",
       "      <td>111.10</td>\n",
       "      <td>B_4</td>\n",
       "      <td>Faux billet</td>\n",
       "    </tr>\n",
       "    <tr>\n",
       "      <th>4</th>\n",
       "      <td>171.79</td>\n",
       "      <td>104.34</td>\n",
       "      <td>104.37</td>\n",
       "      <td>5.00</td>\n",
       "      <td>3.07</td>\n",
       "      <td>111.87</td>\n",
       "      <td>B_5</td>\n",
       "      <td>Faux billet</td>\n",
       "    </tr>\n",
       "  </tbody>\n",
       "</table>\n",
       "</div>"
      ],
      "text/plain": [
       "   diagonal  height_left  height_right  margin_low  margin_up  length   id  \\\n",
       "0    172.09       103.95        103.73        4.39       3.09  113.19  B_1   \n",
       "1    171.52       104.17        104.03        5.27       3.16  111.82  B_2   \n",
       "2    171.78       103.80        103.75        3.81       3.24  113.39  B_3   \n",
       "3    172.02       104.08        103.99        5.57       3.30  111.10  B_4   \n",
       "4    171.79       104.34        104.37        5.00       3.07  111.87  B_5   \n",
       "\n",
       "    Prédiction  \n",
       "0  Vrai billet  \n",
       "1  Faux billet  \n",
       "2  Vrai billet  \n",
       "3  Faux billet  \n",
       "4  Faux billet  "
      ]
     },
     "execution_count": 37,
     "metadata": {},
     "output_type": "execute_result"
    }
   ],
   "source": [
    "k_means_classification(test3)"
   ]
  },
  {
   "cell_type": "code",
   "execution_count": null,
   "id": "0726dcf7",
   "metadata": {},
   "outputs": [],
   "source": []
  }
 ],
 "metadata": {
  "kernelspec": {
   "display_name": "Python 3",
   "language": "python",
   "name": "python3"
  },
  "language_info": {
   "codemirror_mode": {
    "name": "ipython",
    "version": 3
   },
   "file_extension": ".py",
   "mimetype": "text/x-python",
   "name": "python",
   "nbconvert_exporter": "python",
   "pygments_lexer": "ipython3",
   "version": "3.8.8"
  }
 },
 "nbformat": 4,
 "nbformat_minor": 5
}
