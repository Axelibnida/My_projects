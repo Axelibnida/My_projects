{
 "cells": [
  {
   "cell_type": "markdown",
   "id": "7933d677",
   "metadata": {},
   "source": [
    "# Project: Counterfeit detection\n",
    "\n",
    "## Context\n",
    "\n",
    "A national French public organisation called ONCFM (national organisation against counterfeit money) needs us to come up with an algorithm able to automatically detect legit from counterfeit bills.\n",
    "\n",
    "## Notes & overview\n",
    "\n",
    "We will first use **Linear Regression** to predict some missing values, then we will try two ML algorithms to predict weither new examples would be legit or counterfeit bills: **Logistc Regression** as well as **K-Means Clustering for Classification**.\n",
    "\n",
    "### [Specifications (in French)](https://s3-eu-west-1.amazonaws.com/static.oc-static.com/prod/courses/files/parcours-data-analyst/DAN-P10-cdc-detection-faux-billets.pdf)\n",
    "\n",
    "## Summary\n",
    " - [1. Libraries import](#1)\n",
    " - [2. Databases import](#2)\n",
    " - [3. Data exploration](#3)\n",
    " - [4. Linear Regression](#4)\n",
    "   - [4.1 Model training](#4.1)\n",
    "   - [4.2 Prediction of the missing values](#4.2)\n",
    " - [5. Logistic Regression](#5)\n",
    "   - [5.1 Model training](#5.1)\n",
    "   - [5.2 Prediction on test dataset](#5.2)\n",
    " - [6. K-Means Clustering for Classification](#6)\n",
    "   - [6.1 Model training](#6.1)\n",
    "   - [6.2 Prediction on test dataset](#6.2)\n",
    " - [7. Final application](#7)\n",
    "\n",
    "<a name=\"1\"></a>\n",
    "## 1. Libraries import\n",
    "\n",
    "We first import the libraries we will need throughout this notebook."
   ]
  },
  {
   "cell_type": "code",
   "execution_count": 1,
   "id": "9b2a5f5b",
   "metadata": {},
   "outputs": [
    {
     "name": "stdout",
     "output_type": "stream",
     "text": [
      "Populating the interactive namespace from numpy and matplotlib\n"
     ]
    }
   ],
   "source": [
    "import pandas as pd\n",
    "import numpy as np\n",
    "import matplotlib.pyplot as plt\n",
    "#%matplotlib inline\n",
    "%pylab inline\n",
    "import seaborn as sns\n",
    "import plotly.express as px\n",
    "from sklearn.model_selection import train_test_split\n",
    "from sklearn.linear_model import LinearRegression\n",
    "from sklearn import metrics\n",
    "from sklearn.linear_model import LogisticRegression\n",
    "from sklearn.metrics import confusion_matrix\n",
    "from sklearn.metrics import classification_report\n",
    "from sklearn.cluster import KMeans\n",
    "import warnings\n",
    "warnings.filterwarnings('ignore')"
   ]
  },
  {
   "cell_type": "markdown",
   "id": "90139372",
   "metadata": {},
   "source": [
    "<a name=\"2\"></a>\n",
    "## 2. Databases import\n",
    "\n",
    "`data` is the database given to us by the ONCFM.\n",
    "\n",
    "`data_test` is another file given to us by the ONCFM as a format example of how the data on which the algorithm will perform looks. We can use this file as a *test set*."
   ]
  },
  {
   "cell_type": "code",
   "execution_count": 2,
   "id": "3be08290",
   "metadata": {},
   "outputs": [],
   "source": [
    "data = pd.read_csv('C:\\\\Users\\\\axeli\\\\OneDrive\\\\Desktop\\\\Projet 10\\\\billets.csv', sep=';')\n",
    "data_test = pd.read_csv('C:\\\\Users\\\\axeli\\\\OneDrive\\\\Desktop\\\\Projet 10\\\\billets_production.csv', sep=',')"
   ]
  },
  {
   "cell_type": "markdown",
   "id": "0170d894",
   "metadata": {},
   "source": [
    "<a name=\"3\"></a>\n",
    "## 3. Data exploration\n",
    "\n",
    "Let's have an idea about what the data looks like:"
   ]
  },
  {
   "cell_type": "code",
   "execution_count": 3,
   "id": "caf33743",
   "metadata": {
    "scrolled": false
   },
   "outputs": [
    {
     "data": {
      "text/html": [
       "<div>\n",
       "<style scoped>\n",
       "    .dataframe tbody tr th:only-of-type {\n",
       "        vertical-align: middle;\n",
       "    }\n",
       "\n",
       "    .dataframe tbody tr th {\n",
       "        vertical-align: top;\n",
       "    }\n",
       "\n",
       "    .dataframe thead th {\n",
       "        text-align: right;\n",
       "    }\n",
       "</style>\n",
       "<table border=\"1\" class=\"dataframe\">\n",
       "  <thead>\n",
       "    <tr style=\"text-align: right;\">\n",
       "      <th></th>\n",
       "      <th>is_genuine</th>\n",
       "      <th>diagonal</th>\n",
       "      <th>height_left</th>\n",
       "      <th>height_right</th>\n",
       "      <th>margin_low</th>\n",
       "      <th>margin_up</th>\n",
       "      <th>length</th>\n",
       "    </tr>\n",
       "  </thead>\n",
       "  <tbody>\n",
       "    <tr>\n",
       "      <th>0</th>\n",
       "      <td>True</td>\n",
       "      <td>171.81</td>\n",
       "      <td>104.86</td>\n",
       "      <td>104.95</td>\n",
       "      <td>4.52</td>\n",
       "      <td>2.89</td>\n",
       "      <td>112.83</td>\n",
       "    </tr>\n",
       "    <tr>\n",
       "      <th>1</th>\n",
       "      <td>True</td>\n",
       "      <td>171.46</td>\n",
       "      <td>103.36</td>\n",
       "      <td>103.66</td>\n",
       "      <td>3.77</td>\n",
       "      <td>2.99</td>\n",
       "      <td>113.09</td>\n",
       "    </tr>\n",
       "    <tr>\n",
       "      <th>2</th>\n",
       "      <td>True</td>\n",
       "      <td>172.69</td>\n",
       "      <td>104.48</td>\n",
       "      <td>103.50</td>\n",
       "      <td>4.40</td>\n",
       "      <td>2.94</td>\n",
       "      <td>113.16</td>\n",
       "    </tr>\n",
       "    <tr>\n",
       "      <th>3</th>\n",
       "      <td>True</td>\n",
       "      <td>171.36</td>\n",
       "      <td>103.91</td>\n",
       "      <td>103.94</td>\n",
       "      <td>3.62</td>\n",
       "      <td>3.01</td>\n",
       "      <td>113.51</td>\n",
       "    </tr>\n",
       "    <tr>\n",
       "      <th>4</th>\n",
       "      <td>True</td>\n",
       "      <td>171.73</td>\n",
       "      <td>104.28</td>\n",
       "      <td>103.46</td>\n",
       "      <td>4.04</td>\n",
       "      <td>3.48</td>\n",
       "      <td>112.54</td>\n",
       "    </tr>\n",
       "    <tr>\n",
       "      <th>...</th>\n",
       "      <td>...</td>\n",
       "      <td>...</td>\n",
       "      <td>...</td>\n",
       "      <td>...</td>\n",
       "      <td>...</td>\n",
       "      <td>...</td>\n",
       "      <td>...</td>\n",
       "    </tr>\n",
       "    <tr>\n",
       "      <th>1495</th>\n",
       "      <td>False</td>\n",
       "      <td>171.75</td>\n",
       "      <td>104.38</td>\n",
       "      <td>104.17</td>\n",
       "      <td>4.42</td>\n",
       "      <td>3.09</td>\n",
       "      <td>111.28</td>\n",
       "    </tr>\n",
       "    <tr>\n",
       "      <th>1496</th>\n",
       "      <td>False</td>\n",
       "      <td>172.19</td>\n",
       "      <td>104.63</td>\n",
       "      <td>104.44</td>\n",
       "      <td>5.27</td>\n",
       "      <td>3.37</td>\n",
       "      <td>110.97</td>\n",
       "    </tr>\n",
       "    <tr>\n",
       "      <th>1497</th>\n",
       "      <td>False</td>\n",
       "      <td>171.80</td>\n",
       "      <td>104.01</td>\n",
       "      <td>104.12</td>\n",
       "      <td>5.51</td>\n",
       "      <td>3.36</td>\n",
       "      <td>111.95</td>\n",
       "    </tr>\n",
       "    <tr>\n",
       "      <th>1498</th>\n",
       "      <td>False</td>\n",
       "      <td>172.06</td>\n",
       "      <td>104.28</td>\n",
       "      <td>104.06</td>\n",
       "      <td>5.17</td>\n",
       "      <td>3.46</td>\n",
       "      <td>112.25</td>\n",
       "    </tr>\n",
       "    <tr>\n",
       "      <th>1499</th>\n",
       "      <td>False</td>\n",
       "      <td>171.47</td>\n",
       "      <td>104.15</td>\n",
       "      <td>103.82</td>\n",
       "      <td>4.63</td>\n",
       "      <td>3.37</td>\n",
       "      <td>112.07</td>\n",
       "    </tr>\n",
       "  </tbody>\n",
       "</table>\n",
       "<p>1500 rows × 7 columns</p>\n",
       "</div>"
      ],
      "text/plain": [
       "      is_genuine  diagonal  height_left  height_right  margin_low  margin_up  \\\n",
       "0           True    171.81       104.86        104.95        4.52       2.89   \n",
       "1           True    171.46       103.36        103.66        3.77       2.99   \n",
       "2           True    172.69       104.48        103.50        4.40       2.94   \n",
       "3           True    171.36       103.91        103.94        3.62       3.01   \n",
       "4           True    171.73       104.28        103.46        4.04       3.48   \n",
       "...          ...       ...          ...           ...         ...        ...   \n",
       "1495       False    171.75       104.38        104.17        4.42       3.09   \n",
       "1496       False    172.19       104.63        104.44        5.27       3.37   \n",
       "1497       False    171.80       104.01        104.12        5.51       3.36   \n",
       "1498       False    172.06       104.28        104.06        5.17       3.46   \n",
       "1499       False    171.47       104.15        103.82        4.63       3.37   \n",
       "\n",
       "      length  \n",
       "0     112.83  \n",
       "1     113.09  \n",
       "2     113.16  \n",
       "3     113.51  \n",
       "4     112.54  \n",
       "...      ...  \n",
       "1495  111.28  \n",
       "1496  110.97  \n",
       "1497  111.95  \n",
       "1498  112.25  \n",
       "1499  112.07  \n",
       "\n",
       "[1500 rows x 7 columns]"
      ]
     },
     "metadata": {},
     "output_type": "display_data"
    }
   ],
   "source": [
    "#pd.set_option('display.max_rows', None) # To show all rows\n",
    "pd.set_option('display.max_rows', 10) # To only show 10 rows\n",
    "display(data)"
   ]
  },
  {
   "cell_type": "markdown",
   "id": "2b2ce32d",
   "metadata": {},
   "source": [
    "The data contains 1000 examples of left bills and 500 examples of counterfeit ones.\n",
    "\n",
    "I like to display a correlation matrix to see if there are any correlated variables. It does not seem to be the case."
   ]
  },
  {
   "cell_type": "code",
   "execution_count": 4,
   "id": "83610d42",
   "metadata": {},
   "outputs": [
    {
     "data": {
      "text/html": [
       "<div>\n",
       "<style scoped>\n",
       "    .dataframe tbody tr th:only-of-type {\n",
       "        vertical-align: middle;\n",
       "    }\n",
       "\n",
       "    .dataframe tbody tr th {\n",
       "        vertical-align: top;\n",
       "    }\n",
       "\n",
       "    .dataframe thead th {\n",
       "        text-align: right;\n",
       "    }\n",
       "</style>\n",
       "<table border=\"1\" class=\"dataframe\">\n",
       "  <thead>\n",
       "    <tr style=\"text-align: right;\">\n",
       "      <th></th>\n",
       "      <th>is_genuine</th>\n",
       "      <th>diagonal</th>\n",
       "      <th>height_left</th>\n",
       "      <th>height_right</th>\n",
       "      <th>margin_low</th>\n",
       "      <th>margin_up</th>\n",
       "      <th>length</th>\n",
       "    </tr>\n",
       "  </thead>\n",
       "  <tbody>\n",
       "    <tr>\n",
       "      <th>is_genuine</th>\n",
       "      <td>1.000000</td>\n",
       "      <td>0.132756</td>\n",
       "      <td>-0.379833</td>\n",
       "      <td>-0.485092</td>\n",
       "      <td>-0.783032</td>\n",
       "      <td>-0.606262</td>\n",
       "      <td>0.849285</td>\n",
       "    </tr>\n",
       "    <tr>\n",
       "      <th>diagonal</th>\n",
       "      <td>0.132756</td>\n",
       "      <td>1.000000</td>\n",
       "      <td>0.019472</td>\n",
       "      <td>-0.024492</td>\n",
       "      <td>-0.111534</td>\n",
       "      <td>-0.055649</td>\n",
       "      <td>0.097587</td>\n",
       "    </tr>\n",
       "    <tr>\n",
       "      <th>height_left</th>\n",
       "      <td>-0.379833</td>\n",
       "      <td>0.019472</td>\n",
       "      <td>1.000000</td>\n",
       "      <td>0.242279</td>\n",
       "      <td>0.302643</td>\n",
       "      <td>0.246522</td>\n",
       "      <td>-0.320863</td>\n",
       "    </tr>\n",
       "    <tr>\n",
       "      <th>height_right</th>\n",
       "      <td>-0.485092</td>\n",
       "      <td>-0.024492</td>\n",
       "      <td>0.242279</td>\n",
       "      <td>1.000000</td>\n",
       "      <td>0.391085</td>\n",
       "      <td>0.307005</td>\n",
       "      <td>-0.401751</td>\n",
       "    </tr>\n",
       "    <tr>\n",
       "      <th>margin_low</th>\n",
       "      <td>-0.783032</td>\n",
       "      <td>-0.111534</td>\n",
       "      <td>0.302643</td>\n",
       "      <td>0.391085</td>\n",
       "      <td>1.000000</td>\n",
       "      <td>0.431606</td>\n",
       "      <td>-0.666753</td>\n",
       "    </tr>\n",
       "    <tr>\n",
       "      <th>margin_up</th>\n",
       "      <td>-0.606262</td>\n",
       "      <td>-0.055649</td>\n",
       "      <td>0.246522</td>\n",
       "      <td>0.307005</td>\n",
       "      <td>0.431606</td>\n",
       "      <td>1.000000</td>\n",
       "      <td>-0.520575</td>\n",
       "    </tr>\n",
       "    <tr>\n",
       "      <th>length</th>\n",
       "      <td>0.849285</td>\n",
       "      <td>0.097587</td>\n",
       "      <td>-0.320863</td>\n",
       "      <td>-0.401751</td>\n",
       "      <td>-0.666753</td>\n",
       "      <td>-0.520575</td>\n",
       "      <td>1.000000</td>\n",
       "    </tr>\n",
       "  </tbody>\n",
       "</table>\n",
       "</div>"
      ],
      "text/plain": [
       "              is_genuine  diagonal  height_left  height_right  margin_low  \\\n",
       "is_genuine      1.000000  0.132756    -0.379833     -0.485092   -0.783032   \n",
       "diagonal        0.132756  1.000000     0.019472     -0.024492   -0.111534   \n",
       "height_left    -0.379833  0.019472     1.000000      0.242279    0.302643   \n",
       "height_right   -0.485092 -0.024492     0.242279      1.000000    0.391085   \n",
       "margin_low     -0.783032 -0.111534     0.302643      0.391085    1.000000   \n",
       "margin_up      -0.606262 -0.055649     0.246522      0.307005    0.431606   \n",
       "length          0.849285  0.097587    -0.320863     -0.401751   -0.666753   \n",
       "\n",
       "              margin_up    length  \n",
       "is_genuine    -0.606262  0.849285  \n",
       "diagonal      -0.055649  0.097587  \n",
       "height_left    0.246522 -0.320863  \n",
       "height_right   0.307005 -0.401751  \n",
       "margin_low     0.431606 -0.666753  \n",
       "margin_up      1.000000 -0.520575  \n",
       "length        -0.520575  1.000000  "
      ]
     },
     "metadata": {},
     "output_type": "display_data"
    }
   ],
   "source": [
    "corrMatrix = data.corr()\n",
    "display(corrMatrix)"
   ]
  },
  {
   "cell_type": "markdown",
   "id": "90d3fa26",
   "metadata": {},
   "source": [
    "I also like to use `.info()` to see if there are any missing values:"
   ]
  },
  {
   "cell_type": "code",
   "execution_count": 5,
   "id": "e1150dfd",
   "metadata": {},
   "outputs": [
    {
     "name": "stdout",
     "output_type": "stream",
     "text": [
      "<class 'pandas.core.frame.DataFrame'>\n",
      "RangeIndex: 1500 entries, 0 to 1499\n",
      "Data columns (total 7 columns):\n",
      " #   Column        Non-Null Count  Dtype  \n",
      "---  ------        --------------  -----  \n",
      " 0   is_genuine    1500 non-null   bool   \n",
      " 1   diagonal      1500 non-null   float64\n",
      " 2   height_left   1500 non-null   float64\n",
      " 3   height_right  1500 non-null   float64\n",
      " 4   margin_low    1463 non-null   float64\n",
      " 5   margin_up     1500 non-null   float64\n",
      " 6   length        1500 non-null   float64\n",
      "dtypes: bool(1), float64(6)\n",
      "memory usage: 71.9 KB\n"
     ]
    }
   ],
   "source": [
    "data.info()"
   ]
  },
  {
   "cell_type": "markdown",
   "id": "719dc18b",
   "metadata": {},
   "source": [
    "We can see that the column *margin_low* has 37 missing values. We don't really like NaNs, so we will first use a linear regression model using the ML library scikit-learn to \"predict\" these values so that we don't have missing values anymore.\n",
    "\n",
    "Note that we could also just delete these lines since there are only a few, or use another mean to fill these values, such as the mean of all the other examples.\n",
    "\n",
    "I decided to split the legit bills from the counterfeit bills since we wouldn't want to predict the *margin_low* values from the legit bills with data containing data from counterfeit ones."
   ]
  },
  {
   "cell_type": "code",
   "execution_count": 6,
   "id": "cd424479",
   "metadata": {},
   "outputs": [
    {
     "name": "stdout",
     "output_type": "stream",
     "text": [
      "Legit bills: (1000, 7)\n",
      "Counterfeit bills: (500, 7)\n"
     ]
    }
   ],
   "source": [
    "data_true = data[data['is_genuine'] == True]\n",
    "data_false = data[data['is_genuine'] == False]\n",
    "\n",
    "print('Legit bills:', data_true.shape)\n",
    "print('Counterfeit bills:', data_false.shape)"
   ]
  },
  {
   "cell_type": "markdown",
   "id": "60ef5653",
   "metadata": {},
   "source": [
    "Legit bills:"
   ]
  },
  {
   "cell_type": "code",
   "execution_count": 7,
   "id": "323a5ea3",
   "metadata": {},
   "outputs": [
    {
     "data": {
      "text/html": [
       "<div>\n",
       "<style scoped>\n",
       "    .dataframe tbody tr th:only-of-type {\n",
       "        vertical-align: middle;\n",
       "    }\n",
       "\n",
       "    .dataframe tbody tr th {\n",
       "        vertical-align: top;\n",
       "    }\n",
       "\n",
       "    .dataframe thead th {\n",
       "        text-align: right;\n",
       "    }\n",
       "</style>\n",
       "<table border=\"1\" class=\"dataframe\">\n",
       "  <thead>\n",
       "    <tr style=\"text-align: right;\">\n",
       "      <th></th>\n",
       "      <th>is_genuine</th>\n",
       "      <th>diagonal</th>\n",
       "      <th>height_left</th>\n",
       "      <th>height_right</th>\n",
       "      <th>margin_low</th>\n",
       "      <th>margin_up</th>\n",
       "      <th>length</th>\n",
       "    </tr>\n",
       "  </thead>\n",
       "  <tbody>\n",
       "    <tr>\n",
       "      <th>0</th>\n",
       "      <td>True</td>\n",
       "      <td>171.81</td>\n",
       "      <td>104.86</td>\n",
       "      <td>104.95</td>\n",
       "      <td>4.52</td>\n",
       "      <td>2.89</td>\n",
       "      <td>112.83</td>\n",
       "    </tr>\n",
       "    <tr>\n",
       "      <th>1</th>\n",
       "      <td>True</td>\n",
       "      <td>171.46</td>\n",
       "      <td>103.36</td>\n",
       "      <td>103.66</td>\n",
       "      <td>3.77</td>\n",
       "      <td>2.99</td>\n",
       "      <td>113.09</td>\n",
       "    </tr>\n",
       "    <tr>\n",
       "      <th>2</th>\n",
       "      <td>True</td>\n",
       "      <td>172.69</td>\n",
       "      <td>104.48</td>\n",
       "      <td>103.50</td>\n",
       "      <td>4.40</td>\n",
       "      <td>2.94</td>\n",
       "      <td>113.16</td>\n",
       "    </tr>\n",
       "    <tr>\n",
       "      <th>3</th>\n",
       "      <td>True</td>\n",
       "      <td>171.36</td>\n",
       "      <td>103.91</td>\n",
       "      <td>103.94</td>\n",
       "      <td>3.62</td>\n",
       "      <td>3.01</td>\n",
       "      <td>113.51</td>\n",
       "    </tr>\n",
       "    <tr>\n",
       "      <th>4</th>\n",
       "      <td>True</td>\n",
       "      <td>171.73</td>\n",
       "      <td>104.28</td>\n",
       "      <td>103.46</td>\n",
       "      <td>4.04</td>\n",
       "      <td>3.48</td>\n",
       "      <td>112.54</td>\n",
       "    </tr>\n",
       "  </tbody>\n",
       "</table>\n",
       "</div>"
      ],
      "text/plain": [
       "   is_genuine  diagonal  height_left  height_right  margin_low  margin_up  \\\n",
       "0        True    171.81       104.86        104.95        4.52       2.89   \n",
       "1        True    171.46       103.36        103.66        3.77       2.99   \n",
       "2        True    172.69       104.48        103.50        4.40       2.94   \n",
       "3        True    171.36       103.91        103.94        3.62       3.01   \n",
       "4        True    171.73       104.28        103.46        4.04       3.48   \n",
       "\n",
       "   length  \n",
       "0  112.83  \n",
       "1  113.09  \n",
       "2  113.16  \n",
       "3  113.51  \n",
       "4  112.54  "
      ]
     },
     "metadata": {},
     "output_type": "display_data"
    },
    {
     "name": "stdout",
     "output_type": "stream",
     "text": [
      "<class 'pandas.core.frame.DataFrame'>\n",
      "Int64Index: 1000 entries, 0 to 999\n",
      "Data columns (total 7 columns):\n",
      " #   Column        Non-Null Count  Dtype  \n",
      "---  ------        --------------  -----  \n",
      " 0   is_genuine    1000 non-null   bool   \n",
      " 1   diagonal      1000 non-null   float64\n",
      " 2   height_left   1000 non-null   float64\n",
      " 3   height_right  1000 non-null   float64\n",
      " 4   margin_low    971 non-null    float64\n",
      " 5   margin_up     1000 non-null   float64\n",
      " 6   length        1000 non-null   float64\n",
      "dtypes: bool(1), float64(6)\n",
      "memory usage: 55.7 KB\n"
     ]
    }
   ],
   "source": [
    "display(data_true.head())\n",
    "data_true.info() # 29 margin_low missing values"
   ]
  },
  {
   "cell_type": "markdown",
   "id": "4dffc5f5",
   "metadata": {},
   "source": [
    "Counterfeit bills:"
   ]
  },
  {
   "cell_type": "code",
   "execution_count": 8,
   "id": "680471ec",
   "metadata": {},
   "outputs": [
    {
     "data": {
      "text/html": [
       "<div>\n",
       "<style scoped>\n",
       "    .dataframe tbody tr th:only-of-type {\n",
       "        vertical-align: middle;\n",
       "    }\n",
       "\n",
       "    .dataframe tbody tr th {\n",
       "        vertical-align: top;\n",
       "    }\n",
       "\n",
       "    .dataframe thead th {\n",
       "        text-align: right;\n",
       "    }\n",
       "</style>\n",
       "<table border=\"1\" class=\"dataframe\">\n",
       "  <thead>\n",
       "    <tr style=\"text-align: right;\">\n",
       "      <th></th>\n",
       "      <th>is_genuine</th>\n",
       "      <th>diagonal</th>\n",
       "      <th>height_left</th>\n",
       "      <th>height_right</th>\n",
       "      <th>margin_low</th>\n",
       "      <th>margin_up</th>\n",
       "      <th>length</th>\n",
       "    </tr>\n",
       "  </thead>\n",
       "  <tbody>\n",
       "    <tr>\n",
       "      <th>1000</th>\n",
       "      <td>False</td>\n",
       "      <td>172.28</td>\n",
       "      <td>103.95</td>\n",
       "      <td>103.91</td>\n",
       "      <td>4.78</td>\n",
       "      <td>3.31</td>\n",
       "      <td>111.40</td>\n",
       "    </tr>\n",
       "    <tr>\n",
       "      <th>1001</th>\n",
       "      <td>False</td>\n",
       "      <td>171.92</td>\n",
       "      <td>103.86</td>\n",
       "      <td>104.30</td>\n",
       "      <td>4.96</td>\n",
       "      <td>3.13</td>\n",
       "      <td>111.29</td>\n",
       "    </tr>\n",
       "    <tr>\n",
       "      <th>1002</th>\n",
       "      <td>False</td>\n",
       "      <td>171.59</td>\n",
       "      <td>104.14</td>\n",
       "      <td>104.38</td>\n",
       "      <td>4.97</td>\n",
       "      <td>3.47</td>\n",
       "      <td>111.22</td>\n",
       "    </tr>\n",
       "    <tr>\n",
       "      <th>1003</th>\n",
       "      <td>False</td>\n",
       "      <td>172.02</td>\n",
       "      <td>104.33</td>\n",
       "      <td>104.33</td>\n",
       "      <td>5.19</td>\n",
       "      <td>3.21</td>\n",
       "      <td>111.99</td>\n",
       "    </tr>\n",
       "    <tr>\n",
       "      <th>1004</th>\n",
       "      <td>False</td>\n",
       "      <td>172.55</td>\n",
       "      <td>104.25</td>\n",
       "      <td>104.23</td>\n",
       "      <td>5.60</td>\n",
       "      <td>3.13</td>\n",
       "      <td>111.72</td>\n",
       "    </tr>\n",
       "  </tbody>\n",
       "</table>\n",
       "</div>"
      ],
      "text/plain": [
       "      is_genuine  diagonal  height_left  height_right  margin_low  margin_up  \\\n",
       "1000       False    172.28       103.95        103.91        4.78       3.31   \n",
       "1001       False    171.92       103.86        104.30        4.96       3.13   \n",
       "1002       False    171.59       104.14        104.38        4.97       3.47   \n",
       "1003       False    172.02       104.33        104.33        5.19       3.21   \n",
       "1004       False    172.55       104.25        104.23        5.60       3.13   \n",
       "\n",
       "      length  \n",
       "1000  111.40  \n",
       "1001  111.29  \n",
       "1002  111.22  \n",
       "1003  111.99  \n",
       "1004  111.72  "
      ]
     },
     "metadata": {},
     "output_type": "display_data"
    },
    {
     "name": "stdout",
     "output_type": "stream",
     "text": [
      "<class 'pandas.core.frame.DataFrame'>\n",
      "Int64Index: 500 entries, 1000 to 1499\n",
      "Data columns (total 7 columns):\n",
      " #   Column        Non-Null Count  Dtype  \n",
      "---  ------        --------------  -----  \n",
      " 0   is_genuine    500 non-null    bool   \n",
      " 1   diagonal      500 non-null    float64\n",
      " 2   height_left   500 non-null    float64\n",
      " 3   height_right  500 non-null    float64\n",
      " 4   margin_low    492 non-null    float64\n",
      " 5   margin_up     500 non-null    float64\n",
      " 6   length        500 non-null    float64\n",
      "dtypes: bool(1), float64(6)\n",
      "memory usage: 27.8 KB\n"
     ]
    }
   ],
   "source": [
    "display(data_false.head())\n",
    "data_false.info() # 8 missing margin_low values"
   ]
  },
  {
   "cell_type": "markdown",
   "id": "70cec134",
   "metadata": {},
   "source": [
    "We can actually visually see that the data from the counterfeit bills *looks* different than the legit ones.\n",
    "\n",
    "### Check for outliers\n",
    "\n",
    "It's always nice to check our data for any potentially disrupting outliers:"
   ]
  },
  {
   "cell_type": "code",
   "execution_count": 9,
   "id": "0efa9e73",
   "metadata": {
    "scrolled": false
   },
   "outputs": [],
   "source": [
    "def Outliers(i):\n",
    "    \"\"\" Displays a boxplot and a list of the outliers of the input variable \"\"\"\n",
    "    print()\n",
    "    print(\"Boxplot :\", i)\n",
    "    box = boxplot(data[i])\n",
    "    plt.show()\n",
    "    print()\n",
    "    print(\"Outliers list:\")\n",
    "    top_points = box[\"fliers\"][0].get_data()[1]\n",
    "    display(pd.DataFrame(data[i][data[i].isin(top_points)]).sort_values(by = i, ascending=False))\n",
    "\n",
    "#for column in data.columns[1:]:\n",
    "#    Outliers(column)"
   ]
  },
  {
   "cell_type": "markdown",
   "id": "9ced0400",
   "metadata": {},
   "source": [
    "Even though there are outliers, there do not seem to be extreme ones.\n",
    "\n",
    "Note: We can already see that having NaNs in our database is not a great thing: the boxplot() function didn't work on *margin_low* since it contains NaN values."
   ]
  },
  {
   "cell_type": "markdown",
   "id": "678bfcad",
   "metadata": {},
   "source": [
    "<a name=\"4\"></a>\n",
    "## 4. Linear Regression\n",
    "\n",
    "<a name=\"4.1\"></a>\n",
    "### 4.1 Model preparation\n",
    "\n",
    "As we said before, let's predict missing values using linear regression.\n",
    "\n",
    "**Note: We will do so for both legit and counterfeit bills to keep a clean dataset, but we could argue than doing so for the counterfeit ones is not pertinent.**\n",
    "\n",
    "Let's first split the examples with the values we want to predict from the original dataset."
   ]
  },
  {
   "cell_type": "code",
   "execution_count": 10,
   "id": "7c65def6",
   "metadata": {},
   "outputs": [],
   "source": [
    "data_true_null = data_true[data_true[\"margin_low\"].isnull()]\n",
    "data_false_null = data_false[data_false[\"margin_low\"].isnull()]\n",
    "\n",
    "data_true_without_null = data_true[data_true[\"margin_low\"].notnull()]\n",
    "data_false_without_null = data_false[data_false[\"margin_low\"].notnull()]"
   ]
  },
  {
   "cell_type": "code",
   "execution_count": 11,
   "id": "a563299f",
   "metadata": {},
   "outputs": [
    {
     "name": "stdout",
     "output_type": "stream",
     "text": [
      "Legit bills with missing margin_low: (29, 7)\n",
      "Counterfeit bills with missing margin_low: (8, 7)\n",
      "\n",
      "Full data legit bills: (971, 7)\n",
      "Full data counterfeit bills: (492, 7)\n"
     ]
    }
   ],
   "source": [
    "print('Legit bills with missing margin_low:', data_true_null.shape)\n",
    "print('Counterfeit bills with missing margin_low:', data_false_null.shape)\n",
    "print()\n",
    "print('Full data legit bills:', data_true_without_null.shape)\n",
    "print('Full data counterfeit bills:', data_false_without_null.shape)"
   ]
  },
  {
   "cell_type": "markdown",
   "id": "37ad85cd",
   "metadata": {},
   "source": [
    "We can visualize the data with seaborn:"
   ]
  },
  {
   "cell_type": "code",
   "execution_count": 12,
   "id": "d4d8b8be",
   "metadata": {},
   "outputs": [
    {
     "data": {
      "text/plain": [
       "<seaborn.axisgrid.PairGrid at 0x264fb2428e0>"
      ]
     },
     "execution_count": 12,
     "metadata": {},
     "output_type": "execute_result"
    },
    {
     "data": {
      "image/png": "[encoded data removed]",
      "text/plain": [
       "<Figure size 1080x180 with 7 Axes>"
      ]
     },
     "metadata": {
      "needs_background": "light"
     },
     "output_type": "display_data"
    },
    {
     "data": {
      "image/png": "[encoded data removed]",
      "text/plain": [
       "<Figure size 1080x180 with 7 Axes>"
      ]
     },
     "metadata": {
      "needs_background": "light"
     },
     "output_type": "display_data"
    }
   ],
   "source": [
    "sns.pairplot(data_true_without_null, x_vars=[\"diagonal\", \"height_left\", \"height_right\", \"margin_low\", \"margin_up\", \"length\"], y_vars=\"margin_low\", kind='reg')\n",
    "sns.pairplot(data_false_without_null, x_vars=[\"diagonal\", \"height_left\", \"height_right\", \"margin_low\", \"margin_up\", \"length\"], y_vars=\"margin_low\", kind='reg')"
   ]
  },
  {
   "cell_type": "markdown",
   "id": "b2c34151",
   "metadata": {},
   "source": [
    "We first assign X and y for linear regression:"
   ]
  },
  {
   "cell_type": "code",
   "execution_count": 13,
   "id": "457305f8",
   "metadata": {},
   "outputs": [],
   "source": [
    "feature_cols = ['diagonal', 'height_left', 'height_right', 'margin_up', 'length']\n",
    "\n",
    "X_true = data_true_without_null[feature_cols]\n",
    "X_false = data_false_without_null[feature_cols]\n",
    "\n",
    "y_true = data_true_without_null['margin_low']\n",
    "y_false = data_false_without_null['margin_low']"
   ]
  },
  {
   "cell_type": "markdown",
   "id": "7c52feaa",
   "metadata": {},
   "source": [
    "Then split the data between *training* and *cross-validation* (which I called *test* in this notebook) sets."
   ]
  },
  {
   "cell_type": "code",
   "execution_count": 14,
   "id": "4b209e7b",
   "metadata": {},
   "outputs": [],
   "source": [
    "X_true_train, X_true_test, y_true_train, y_true_test = train_test_split(X_true, y_true)\n",
    "X_false_train, X_false_test, y_false_train, y_false_test = train_test_split(X_false, y_false)"
   ]
  },
  {
   "cell_type": "markdown",
   "id": "281ce04c",
   "metadata": {},
   "source": [
    "We train the models:"
   ]
  },
  {
   "cell_type": "code",
   "execution_count": 15,
   "id": "67f76da6",
   "metadata": {},
   "outputs": [
    {
     "data": {
      "text/html": [
       "<style>#sk-container-id-1 {color: black;background-color: white;}#sk-container-id-1 pre{padding: 0;}#sk-container-id-1 div.sk-toggleable {background-color: white;}#sk-container-id-1 label.sk-toggleable__label {cursor: pointer;display: block;width: 100%;margin-bottom: 0;padding: 0.3em;box-sizing: border-box;text-align: center;}#sk-container-id-1 label.sk-toggleable__label-arrow:before {content: \"▸\";float: left;margin-right: 0.25em;color: #696969;}#sk-container-id-1 label.sk-toggleable__label-arrow:hover:before {color: black;}#sk-container-id-1 div.sk-estimator:hover label.sk-toggleable__label-arrow:before {color: black;}#sk-container-id-1 div.sk-toggleable__content {max-height: 0;max-width: 0;overflow: hidden;text-align: left;background-color: #f0f8ff;}#sk-container-id-1 div.sk-toggleable__content pre {margin: 0.2em;color: black;border-radius: 0.25em;background-color: #f0f8ff;}#sk-container-id-1 input.sk-toggleable__control:checked~div.sk-toggleable__content {max-height: 200px;max-width: 100%;overflow: auto;}#sk-container-id-1 input.sk-toggleable__control:checked~label.sk-toggleable__label-arrow:before {content: \"▾\";}#sk-container-id-1 div.sk-estimator input.sk-toggleable__control:checked~label.sk-toggleable__label {background-color: #d4ebff;}#sk-container-id-1 div.sk-label input.sk-toggleable__control:checked~label.sk-toggleable__label {background-color: #d4ebff;}#sk-container-id-1 input.sk-hidden--visually {border: 0;clip: rect(1px 1px 1px 1px);clip: rect(1px, 1px, 1px, 1px);height: 1px;margin: -1px;overflow: hidden;padding: 0;position: absolute;width: 1px;}#sk-container-id-1 div.sk-estimator {font-family: monospace;background-color: #f0f8ff;border: 1px dotted black;border-radius: 0.25em;box-sizing: border-box;margin-bottom: 0.5em;}#sk-container-id-1 div.sk-estimator:hover {background-color: #d4ebff;}#sk-container-id-1 div.sk-parallel-item::after {content: \"\";width: 100%;border-bottom: 1px solid gray;flex-grow: 1;}#sk-container-id-1 div.sk-label:hover label.sk-toggleable__label {background-color: #d4ebff;}#sk-container-id-1 div.sk-serial::before {content: \"\";position: absolute;border-left: 1px solid gray;box-sizing: border-box;top: 0;bottom: 0;left: 50%;z-index: 0;}#sk-container-id-1 div.sk-serial {display: flex;flex-direction: column;align-items: center;background-color: white;padding-right: 0.2em;padding-left: 0.2em;position: relative;}#sk-container-id-1 div.sk-item {position: relative;z-index: 1;}#sk-container-id-1 div.sk-parallel {display: flex;align-items: stretch;justify-content: center;background-color: white;position: relative;}#sk-container-id-1 div.sk-item::before, #sk-container-id-1 div.sk-parallel-item::before {content: \"\";position: absolute;border-left: 1px solid gray;box-sizing: border-box;top: 0;bottom: 0;left: 50%;z-index: -1;}#sk-container-id-1 div.sk-parallel-item {display: flex;flex-direction: column;z-index: 1;position: relative;background-color: white;}#sk-container-id-1 div.sk-parallel-item:first-child::after {align-self: flex-end;width: 50%;}#sk-container-id-1 div.sk-parallel-item:last-child::after {align-self: flex-start;width: 50%;}#sk-container-id-1 div.sk-parallel-item:only-child::after {width: 0;}#sk-container-id-1 div.sk-dashed-wrapped {border: 1px dashed gray;margin: 0 0.4em 0.5em 0.4em;box-sizing: border-box;padding-bottom: 0.4em;background-color: white;}#sk-container-id-1 div.sk-label label {font-family: monospace;font-weight: bold;display: inline-block;line-height: 1.2em;}#sk-container-id-1 div.sk-label-container {text-align: center;}#sk-container-id-1 div.sk-container {/* jupyter's `normalize.less` sets `[hidden] { display: none; }` but bootstrap.min.css set `[hidden] { display: none !important; }` so we also need the `!important` here to be able to override the default hidden behavior on the sphinx rendered scikit-learn.org. See: https://github.com/scikit-learn/scikit-learn/issues/21755 */display: inline-block !important;position: relative;}#sk-container-id-1 div.sk-text-repr-fallback {display: none;}</style><div id=\"sk-container-id-1\" class=\"sk-top-container\"><div class=\"sk-text-repr-fallback\"><pre>LinearRegression()</pre><b>In a Jupyter environment, please rerun this cell to show the HTML representation or trust the notebook. <br />On GitHub, the HTML representation is unable to render, please try loading this page with nbviewer.org.</b></div><div class=\"sk-container\" hidden><div class=\"sk-item\"><div class=\"sk-estimator sk-toggleable\"><input class=\"sk-toggleable__control sk-hidden--visually\" id=\"sk-estimator-id-1\" type=\"checkbox\" checked><label for=\"sk-estimator-id-1\" class=\"sk-toggleable__label sk-toggleable__label-arrow\">LinearRegression</label><div class=\"sk-toggleable__content\"><pre>LinearRegression()</pre></div></div></div></div></div>"
      ],
      "text/plain": [
       "LinearRegression()"
      ]
     },
     "execution_count": 15,
     "metadata": {},
     "output_type": "execute_result"
    }
   ],
   "source": [
    "linreg_true = LinearRegression()\n",
    "linreg_false = LinearRegression()\n",
    "\n",
    "linreg_true.fit(X_true_train, y_true_train)\n",
    "linreg_false.fit(X_false_train, y_false_train)"
   ]
  },
  {
   "cell_type": "markdown",
   "id": "61ce2c46",
   "metadata": {},
   "source": [
    "Let's print some useful informations: the coefficients."
   ]
  },
  {
   "cell_type": "code",
   "execution_count": 16,
   "id": "694aebc7",
   "metadata": {},
   "outputs": [
    {
     "name": "stdout",
     "output_type": "stream",
     "text": [
      "-14.291680991925148\n",
      "19.0059522134765\n",
      "\n",
      "[ 0.04050839  0.01271779  0.04752358 -0.12858957  0.04932417]\n",
      "[-0.11220316  0.1140119  -0.01658715 -0.50056842 -0.02660725]\n"
     ]
    },
    {
     "data": {
      "text/plain": [
       "<zip at 0x264fb27f0c0>"
      ]
     },
     "execution_count": 16,
     "metadata": {},
     "output_type": "execute_result"
    }
   ],
   "source": [
    "print(linreg_true.intercept_)\n",
    "print(linreg_false.intercept_)\n",
    "print()\n",
    "print(linreg_true.coef_)\n",
    "print(linreg_false.coef_)\n",
    "\n",
    "zip(feature_cols, linreg_true.coef_)\n",
    "zip(feature_cols, linreg_false.coef_)"
   ]
  },
  {
   "cell_type": "markdown",
   "id": "433a7573",
   "metadata": {},
   "source": [
    "Predictions of the trained models on the *test sets*:"
   ]
  },
  {
   "cell_type": "code",
   "execution_count": 17,
   "id": "5224c357",
   "metadata": {
    "scrolled": true
   },
   "outputs": [
    {
     "name": "stdout",
     "output_type": "stream",
     "text": [
      "[4.16582883 4.09684092 4.2060194  4.05375367 4.11343217 4.12257531\n",
      " 4.09270031 4.13286517 4.13364852 4.13629513 4.12430274 4.14019657\n",
      " 4.12376727 4.11683663 4.12731558 4.1434853  4.09979964 4.07633149\n",
      " 4.17460294 4.21328957 4.13697262 4.18431771 4.09284023 4.14565496\n",
      " 4.083383   4.10753902 4.13612588 4.14200599 4.12857839 4.15703608\n",
      " 4.13302732 4.11885696 4.0829696  4.14912089 4.15825896 4.09067819\n",
      " 4.1567846  4.04765656 4.07049917 4.14633477 4.11078394 4.20562955\n",
      " 4.09198349 4.13979382 4.05932591 4.10870871 4.12116653 4.14548727\n",
      " 4.13561722 4.11716695 4.1473833  4.10091855 4.13418837 4.13018139\n",
      " 4.08166052 4.06678126 4.12004543 4.06904708 4.1172317  4.10293576\n",
      " 4.14637264 4.08741595 4.12800982 4.13206147 4.10713263 4.14875625\n",
      " 4.0427256  4.04704433 4.14170984 4.1866345  4.09076108 4.13736702\n",
      " 4.11130847 4.12509253 4.10149675 4.10582238 4.13883476 4.10622222\n",
      " 4.13252063 4.13155579 4.10041399 4.11570336 4.06858318 4.01683691\n",
      " 4.11410531 4.12999273 4.14297413 4.03012732 4.06870973 4.1649158\n",
      " 4.1582891  4.13610976 4.12844169 4.19263609 4.14508792 4.14838383\n",
      " 4.13318151 4.17138209 4.1543999  4.18270941 4.05786682 4.11923433\n",
      " 4.11799657 4.13277    4.07341605 4.1594293  4.15191007 4.13168016\n",
      " 4.14124206 4.13136604 4.0821014  4.15853327 4.14568045 4.16375389\n",
      " 4.0684997  4.16331963 4.12635036 4.11133836 4.17576581 4.14137465\n",
      " 4.10600267 4.12288352 4.15235833 4.20661846 4.09355654 4.08623617\n",
      " 4.14316016 4.22304394 4.19807335 4.06150421 4.13230729 4.1025258\n",
      " 4.08945144 4.11801244 4.0911497  4.10837361 4.14593592 4.09151872\n",
      " 4.18832011 4.12267404 4.1488585  4.16175674 4.12331629 4.17900291\n",
      " 4.07830003 4.11918476 4.07751006 4.08779698 4.13489707 4.12047329\n",
      " 4.13309484 4.17971876 4.14903436 4.12052773 4.08790097 4.10685055\n",
      " 4.09950042 4.10292707 4.03268554 4.10043887 4.20224657 4.07974896\n",
      " 4.10813313 4.17790637 4.14696091 4.07943176 4.10264829 4.13702155\n",
      " 4.09101818 4.16105422 4.16721408 4.20601205 4.10379109 4.1554593\n",
      " 4.16031404 4.14461881 4.12760116 4.06193001 4.11590901 4.0847684\n",
      " 4.11035809 4.07919375 4.11568939 4.11355859 4.05701283 4.1374958\n",
      " 4.13441102 4.07686107 4.09167298 4.12656127 4.19022547 4.14696435\n",
      " 4.06671372 4.11246493 4.12363222 4.11509678 4.12203301 4.12590032\n",
      " 4.11371789 4.1303083  4.13712127 4.15460524 4.14108294 4.16702573\n",
      " 4.15338271 4.10864997 4.12891171 4.13532309 4.14602325 4.08514598\n",
      " 4.14085028 4.15440106 4.16216312 4.1396903  4.11502528 4.16913498\n",
      " 4.17294374 4.1183928  4.13648543 4.09493023 4.13865756 4.05257469\n",
      " 4.0932999  4.12279831 4.11760256 4.11507323 4.11313393 4.10984298\n",
      " 4.11267297 4.1040027  4.12444187 4.0824448  4.1150695  4.10299264\n",
      " 4.11833961 4.1088184  4.14979482 4.1603388  4.15210639 4.16162478\n",
      " 4.13873025 4.14101641 4.06626946]\n",
      "[5.31547407 5.08008795 5.23256541 5.2195021  5.18013548 5.21805674\n",
      " 5.25503327 5.14355004 5.07877436 5.04279098 5.33391866 5.30509485\n",
      " 5.34827369 5.12099948 5.37109794 5.12341279 5.27091006 5.29277394\n",
      " 5.36336119 5.23474176 5.13265248 5.18299596 5.13958851 5.19946989\n",
      " 5.02699012 5.1393828  5.24982684 5.13303817 5.19085812 5.16334061\n",
      " 5.20016143 5.244812   5.13811356 5.11271576 5.17101551 5.20378896\n",
      " 5.16585819 4.99936737 5.36457146 5.40118625 5.14490594 5.24560969\n",
      " 5.33653781 5.3683867  5.31060778 5.28169303 5.29036906 5.16635328\n",
      " 5.20232392 5.1969006  5.30702024 5.27164054 5.2614219  5.13925443\n",
      " 5.25837523 5.25133117 5.14764415 5.20171068 5.40012751 5.29687107\n",
      " 5.15198227 5.13297086 5.27822954 5.11695505 5.3859413  5.14445593\n",
      " 5.2124134  5.19517133 5.2237179  5.36674291 5.19115615 5.0596554\n",
      " 5.36560436 5.26106311 5.20040821 5.21625045 5.23949167 5.16134048\n",
      " 5.38048396 5.3373159  5.15756398 5.32390751 5.17948072 5.3303406\n",
      " 5.41197762 5.25162719 5.11219886 5.22467204 5.27277755 5.1899487\n",
      " 5.30915505 5.08479686 5.17737764 5.04243598 5.10771677 5.273329\n",
      " 5.45300376 5.15515833 5.08713481 5.23072456 5.21857313 5.29932165\n",
      " 5.14590655 5.25273843 5.37380521 5.28344265 5.34462351 5.33734121\n",
      " 5.38627219 5.30593055 5.25174591 4.97013314 5.36744053 5.25659671\n",
      " 5.15453596 5.06414685 5.24557744 5.4216395  5.32510373 5.13710407\n",
      " 5.25295414 5.20179476 5.11757019]\n"
     ]
    }
   ],
   "source": [
    "y_true_pred = linreg_true.predict(X_true_test)\n",
    "y_false_pred = linreg_false.predict(X_false_test)\n",
    "\n",
    "print(y_true_pred)\n",
    "print(y_false_pred)"
   ]
  },
  {
   "cell_type": "markdown",
   "id": "269fa871",
   "metadata": {},
   "source": [
    "We can note that the predicted values for the counterfeit bills are quite different than the predicted values for the legit ones. This seems logical since we noted before during the data exploration that the values from the counterfeit bills already looked different.\n",
    "\n",
    "Let's evaluate the models:"
   ]
  },
  {
   "cell_type": "code",
   "execution_count": 18,
   "id": "7cf9f823",
   "metadata": {},
   "outputs": [
    {
     "name": "stdout",
     "output_type": "stream",
     "text": [
      "\n",
      "Legit bills:\n",
      "0.2405945494440882\n",
      "0.09480684647677011\n",
      "0.3079072043274891\n",
      "\n",
      "Counterfeit bills:\n",
      "0.4056599283252898\n",
      "0.27025660785727434\n",
      "0.519862104655912\n"
     ]
    }
   ],
   "source": [
    "print()\n",
    "print('Legit bills:')\n",
    "print(metrics.mean_absolute_error(y_true_test, y_true_pred))\n",
    "print(metrics.mean_squared_error(y_true_test, y_true_pred))\n",
    "print(np.sqrt(metrics.mean_squared_error(y_true_test, y_true_pred)))\n",
    "\n",
    "print()\n",
    "print('Counterfeit bills:')\n",
    "print(metrics.mean_absolute_error(y_false_test, y_false_pred))\n",
    "print(metrics.mean_squared_error(y_false_test, y_false_pred))\n",
    "print(np.sqrt(metrics.mean_squared_error(y_false_test, y_false_pred)))"
   ]
  },
  {
   "cell_type": "markdown",
   "id": "71257784",
   "metadata": {},
   "source": [
    "<a name=\"4.2\"></a>\n",
    "### 4.2 Prediction of the missing values\n",
    "\n",
    "Now that we trained our models, we can use them to \"predict\" our missing values."
   ]
  },
  {
   "cell_type": "code",
   "execution_count": 19,
   "id": "1ab43b21",
   "metadata": {},
   "outputs": [
    {
     "name": "stdout",
     "output_type": "stream",
     "text": [
      "\n",
      "Legit bills:\n",
      "[4.05625311 4.1212783  4.14105251 4.02620962 4.09233222 4.07241613\n",
      " 4.09664605 4.13469016 4.10666621 4.08975214 4.10800631 4.199273\n",
      " 4.16575823 4.04584887 4.12992618 4.17623479 4.09664169 4.07617499\n",
      " 4.10585049 4.13822486 4.17675276 4.15694921 4.17802302 4.09653132\n",
      " 4.15047261 4.18282572 4.09283071 4.09294723 4.1386905 ]\n",
      "\n",
      "Counterfeit bills:\n",
      "[5.32753775 5.36948735 5.41904485 5.45429768 5.1548282  5.17895737\n",
      " 5.04801859 5.2892326 ]\n"
     ]
    }
   ],
   "source": [
    "print()\n",
    "print('Legit bills:')\n",
    "\n",
    "data_true_pred = data_true_null[feature_cols]\n",
    "pred_true = linreg_true.predict(data_true_pred)\n",
    "print(pred_true)\n",
    "\n",
    "\n",
    "print()\n",
    "print('Counterfeit bills:')\n",
    "\n",
    "data_false_pred = data_false_null[feature_cols]\n",
    "pred_false = linreg_false.predict(data_false_pred)\n",
    "print(pred_false)\n"
   ]
  },
  {
   "cell_type": "markdown",
   "id": "6005e7b9",
   "metadata": {},
   "source": [
    "### Complete dataframe with missing values\n",
    "\n",
    "We can now add these predicted values to our original dataset.\n",
    "\n",
    "Note: Naming databases and variables is not my strong suit :)"
   ]
  },
  {
   "cell_type": "code",
   "execution_count": 20,
   "id": "f9c86222",
   "metadata": {},
   "outputs": [
    {
     "data": {
      "text/html": [
       "<div>\n",
       "<style scoped>\n",
       "    .dataframe tbody tr th:only-of-type {\n",
       "        vertical-align: middle;\n",
       "    }\n",
       "\n",
       "    .dataframe tbody tr th {\n",
       "        vertical-align: top;\n",
       "    }\n",
       "\n",
       "    .dataframe thead th {\n",
       "        text-align: right;\n",
       "    }\n",
       "</style>\n",
       "<table border=\"1\" class=\"dataframe\">\n",
       "  <thead>\n",
       "    <tr style=\"text-align: right;\">\n",
       "      <th></th>\n",
       "      <th>is_genuine</th>\n",
       "      <th>diagonal</th>\n",
       "      <th>height_left</th>\n",
       "      <th>height_right</th>\n",
       "      <th>margin_low</th>\n",
       "      <th>margin_up</th>\n",
       "      <th>length</th>\n",
       "    </tr>\n",
       "  </thead>\n",
       "  <tbody>\n",
       "    <tr>\n",
       "      <th>0</th>\n",
       "      <td>True</td>\n",
       "      <td>171.81</td>\n",
       "      <td>104.86</td>\n",
       "      <td>104.95</td>\n",
       "      <td>4.52</td>\n",
       "      <td>2.89</td>\n",
       "      <td>112.83</td>\n",
       "    </tr>\n",
       "    <tr>\n",
       "      <th>1</th>\n",
       "      <td>True</td>\n",
       "      <td>171.46</td>\n",
       "      <td>103.36</td>\n",
       "      <td>103.66</td>\n",
       "      <td>3.77</td>\n",
       "      <td>2.99</td>\n",
       "      <td>113.09</td>\n",
       "    </tr>\n",
       "    <tr>\n",
       "      <th>2</th>\n",
       "      <td>True</td>\n",
       "      <td>172.69</td>\n",
       "      <td>104.48</td>\n",
       "      <td>103.50</td>\n",
       "      <td>4.40</td>\n",
       "      <td>2.94</td>\n",
       "      <td>113.16</td>\n",
       "    </tr>\n",
       "    <tr>\n",
       "      <th>3</th>\n",
       "      <td>True</td>\n",
       "      <td>171.36</td>\n",
       "      <td>103.91</td>\n",
       "      <td>103.94</td>\n",
       "      <td>3.62</td>\n",
       "      <td>3.01</td>\n",
       "      <td>113.51</td>\n",
       "    </tr>\n",
       "    <tr>\n",
       "      <th>4</th>\n",
       "      <td>True</td>\n",
       "      <td>171.73</td>\n",
       "      <td>104.28</td>\n",
       "      <td>103.46</td>\n",
       "      <td>4.04</td>\n",
       "      <td>3.48</td>\n",
       "      <td>112.54</td>\n",
       "    </tr>\n",
       "    <tr>\n",
       "      <th>...</th>\n",
       "      <td>...</td>\n",
       "      <td>...</td>\n",
       "      <td>...</td>\n",
       "      <td>...</td>\n",
       "      <td>...</td>\n",
       "      <td>...</td>\n",
       "      <td>...</td>\n",
       "    </tr>\n",
       "    <tr>\n",
       "      <th>1495</th>\n",
       "      <td>False</td>\n",
       "      <td>171.75</td>\n",
       "      <td>104.38</td>\n",
       "      <td>104.17</td>\n",
       "      <td>4.42</td>\n",
       "      <td>3.09</td>\n",
       "      <td>111.28</td>\n",
       "    </tr>\n",
       "    <tr>\n",
       "      <th>1496</th>\n",
       "      <td>False</td>\n",
       "      <td>172.19</td>\n",
       "      <td>104.63</td>\n",
       "      <td>104.44</td>\n",
       "      <td>5.27</td>\n",
       "      <td>3.37</td>\n",
       "      <td>110.97</td>\n",
       "    </tr>\n",
       "    <tr>\n",
       "      <th>1497</th>\n",
       "      <td>False</td>\n",
       "      <td>171.80</td>\n",
       "      <td>104.01</td>\n",
       "      <td>104.12</td>\n",
       "      <td>5.51</td>\n",
       "      <td>3.36</td>\n",
       "      <td>111.95</td>\n",
       "    </tr>\n",
       "    <tr>\n",
       "      <th>1498</th>\n",
       "      <td>False</td>\n",
       "      <td>172.06</td>\n",
       "      <td>104.28</td>\n",
       "      <td>104.06</td>\n",
       "      <td>5.17</td>\n",
       "      <td>3.46</td>\n",
       "      <td>112.25</td>\n",
       "    </tr>\n",
       "    <tr>\n",
       "      <th>1499</th>\n",
       "      <td>False</td>\n",
       "      <td>171.47</td>\n",
       "      <td>104.15</td>\n",
       "      <td>103.82</td>\n",
       "      <td>4.63</td>\n",
       "      <td>3.37</td>\n",
       "      <td>112.07</td>\n",
       "    </tr>\n",
       "  </tbody>\n",
       "</table>\n",
       "<p>1500 rows × 7 columns</p>\n",
       "</div>"
      ],
      "text/plain": [
       "      is_genuine  diagonal  height_left  height_right  margin_low  margin_up  \\\n",
       "0           True    171.81       104.86        104.95        4.52       2.89   \n",
       "1           True    171.46       103.36        103.66        3.77       2.99   \n",
       "2           True    172.69       104.48        103.50        4.40       2.94   \n",
       "3           True    171.36       103.91        103.94        3.62       3.01   \n",
       "4           True    171.73       104.28        103.46        4.04       3.48   \n",
       "...          ...       ...          ...           ...         ...        ...   \n",
       "1495       False    171.75       104.38        104.17        4.42       3.09   \n",
       "1496       False    172.19       104.63        104.44        5.27       3.37   \n",
       "1497       False    171.80       104.01        104.12        5.51       3.36   \n",
       "1498       False    172.06       104.28        104.06        5.17       3.46   \n",
       "1499       False    171.47       104.15        103.82        4.63       3.37   \n",
       "\n",
       "      length  \n",
       "0     112.83  \n",
       "1     113.09  \n",
       "2     113.16  \n",
       "3     113.51  \n",
       "4     112.54  \n",
       "...      ...  \n",
       "1495  111.28  \n",
       "1496  110.97  \n",
       "1497  111.95  \n",
       "1498  112.25  \n",
       "1499  112.07  \n",
       "\n",
       "[1500 rows x 7 columns]"
      ]
     },
     "metadata": {},
     "output_type": "display_data"
    },
    {
     "name": "stdout",
     "output_type": "stream",
     "text": [
      "<class 'pandas.core.frame.DataFrame'>\n",
      "Int64Index: 1500 entries, 0 to 1499\n",
      "Data columns (total 7 columns):\n",
      " #   Column        Non-Null Count  Dtype  \n",
      "---  ------        --------------  -----  \n",
      " 0   is_genuine    1500 non-null   bool   \n",
      " 1   diagonal      1500 non-null   float64\n",
      " 2   height_left   1500 non-null   float64\n",
      " 3   height_right  1500 non-null   float64\n",
      " 4   margin_low    1500 non-null   float64\n",
      " 5   margin_up     1500 non-null   float64\n",
      " 6   length        1500 non-null   float64\n",
      "dtypes: bool(1), float64(6)\n",
      "memory usage: 83.5 KB\n"
     ]
    }
   ],
   "source": [
    "data_true2 = data_true.copy(deep=True)\n",
    "data_true2.loc[data_true2['margin_low'].isnull(), 'margin_low'] = pred_true\n",
    "\n",
    "data_false2 = data_false.copy(deep=True)\n",
    "data_false2.loc[data_false2['margin_low'].isnull(), 'margin_low'] = pred_false\n",
    "\n",
    "frames = (data_true2, data_false2)\n",
    "data2 = pd.concat(frames)\n",
    "\n",
    "display(data2)\n",
    "data2.info()"
   ]
  },
  {
   "cell_type": "markdown",
   "id": "9cd186cf",
   "metadata": {},
   "source": [
    "There are no more missing values in our 1500 lines database!\n",
    "\n",
    "Now let's get the fun started ;)"
   ]
  },
  {
   "cell_type": "markdown",
   "id": "1d2bbb78",
   "metadata": {},
   "source": [
    "<a name=\"5\"></a>\n",
    "## 5. Logistic Regression\n",
    "\n",
    "We will first try using a logistic regression for our counterfeit detection application.\n",
    "\n",
    "We are again using the scikit-learn librairy, and the process for logistic regression is quite similar than for linear regression.\n",
    "\n",
    "<a name=\"5.1\"></a>\n",
    "### 5.1 Model training\n",
    "\n",
    "We assign X and y:"
   ]
  },
  {
   "cell_type": "code",
   "execution_count": 21,
   "id": "5d5d95a4",
   "metadata": {},
   "outputs": [],
   "source": [
    "feature_cols_log = ['diagonal', 'height_left', 'height_right', 'margin_low', 'margin_up', 'length']\n",
    "X_log = data2[feature_cols_log]\n",
    "\n",
    "data2['is_genuine'] = data2['is_genuine'].astype('category')\n",
    "y_log = data2['is_genuine'].cat.codes"
   ]
  },
  {
   "cell_type": "markdown",
   "id": "0d90d7e9",
   "metadata": {},
   "source": [
    "Separation between *training* and *test* sets:"
   ]
  },
  {
   "cell_type": "code",
   "execution_count": 22,
   "id": "6017a8b6",
   "metadata": {},
   "outputs": [],
   "source": [
    "X_train_log, X_test_log, y_train_log, y_test_log = train_test_split(X_log, y_log, test_size=0.3, random_state=0)"
   ]
  },
  {
   "cell_type": "markdown",
   "id": "7b00a80d",
   "metadata": {},
   "source": [
    "Model training:"
   ]
  },
  {
   "cell_type": "code",
   "execution_count": 23,
   "id": "fe565665",
   "metadata": {},
   "outputs": [
    {
     "data": {
      "text/html": [
       "<style>#sk-container-id-2 {color: black;background-color: white;}#sk-container-id-2 pre{padding: 0;}#sk-container-id-2 div.sk-toggleable {background-color: white;}#sk-container-id-2 label.sk-toggleable__label {cursor: pointer;display: block;width: 100%;margin-bottom: 0;padding: 0.3em;box-sizing: border-box;text-align: center;}#sk-container-id-2 label.sk-toggleable__label-arrow:before {content: \"▸\";float: left;margin-right: 0.25em;color: #696969;}#sk-container-id-2 label.sk-toggleable__label-arrow:hover:before {color: black;}#sk-container-id-2 div.sk-estimator:hover label.sk-toggleable__label-arrow:before {color: black;}#sk-container-id-2 div.sk-toggleable__content {max-height: 0;max-width: 0;overflow: hidden;text-align: left;background-color: #f0f8ff;}#sk-container-id-2 div.sk-toggleable__content pre {margin: 0.2em;color: black;border-radius: 0.25em;background-color: #f0f8ff;}#sk-container-id-2 input.sk-toggleable__control:checked~div.sk-toggleable__content {max-height: 200px;max-width: 100%;overflow: auto;}#sk-container-id-2 input.sk-toggleable__control:checked~label.sk-toggleable__label-arrow:before {content: \"▾\";}#sk-container-id-2 div.sk-estimator input.sk-toggleable__control:checked~label.sk-toggleable__label {background-color: #d4ebff;}#sk-container-id-2 div.sk-label input.sk-toggleable__control:checked~label.sk-toggleable__label {background-color: #d4ebff;}#sk-container-id-2 input.sk-hidden--visually {border: 0;clip: rect(1px 1px 1px 1px);clip: rect(1px, 1px, 1px, 1px);height: 1px;margin: -1px;overflow: hidden;padding: 0;position: absolute;width: 1px;}#sk-container-id-2 div.sk-estimator {font-family: monospace;background-color: #f0f8ff;border: 1px dotted black;border-radius: 0.25em;box-sizing: border-box;margin-bottom: 0.5em;}#sk-container-id-2 div.sk-estimator:hover {background-color: #d4ebff;}#sk-container-id-2 div.sk-parallel-item::after {content: \"\";width: 100%;border-bottom: 1px solid gray;flex-grow: 1;}#sk-container-id-2 div.sk-label:hover label.sk-toggleable__label {background-color: #d4ebff;}#sk-container-id-2 div.sk-serial::before {content: \"\";position: absolute;border-left: 1px solid gray;box-sizing: border-box;top: 0;bottom: 0;left: 50%;z-index: 0;}#sk-container-id-2 div.sk-serial {display: flex;flex-direction: column;align-items: center;background-color: white;padding-right: 0.2em;padding-left: 0.2em;position: relative;}#sk-container-id-2 div.sk-item {position: relative;z-index: 1;}#sk-container-id-2 div.sk-parallel {display: flex;align-items: stretch;justify-content: center;background-color: white;position: relative;}#sk-container-id-2 div.sk-item::before, #sk-container-id-2 div.sk-parallel-item::before {content: \"\";position: absolute;border-left: 1px solid gray;box-sizing: border-box;top: 0;bottom: 0;left: 50%;z-index: -1;}#sk-container-id-2 div.sk-parallel-item {display: flex;flex-direction: column;z-index: 1;position: relative;background-color: white;}#sk-container-id-2 div.sk-parallel-item:first-child::after {align-self: flex-end;width: 50%;}#sk-container-id-2 div.sk-parallel-item:last-child::after {align-self: flex-start;width: 50%;}#sk-container-id-2 div.sk-parallel-item:only-child::after {width: 0;}#sk-container-id-2 div.sk-dashed-wrapped {border: 1px dashed gray;margin: 0 0.4em 0.5em 0.4em;box-sizing: border-box;padding-bottom: 0.4em;background-color: white;}#sk-container-id-2 div.sk-label label {font-family: monospace;font-weight: bold;display: inline-block;line-height: 1.2em;}#sk-container-id-2 div.sk-label-container {text-align: center;}#sk-container-id-2 div.sk-container {/* jupyter's `normalize.less` sets `[hidden] { display: none; }` but bootstrap.min.css set `[hidden] { display: none !important; }` so we also need the `!important` here to be able to override the default hidden behavior on the sphinx rendered scikit-learn.org. See: https://github.com/scikit-learn/scikit-learn/issues/21755 */display: inline-block !important;position: relative;}#sk-container-id-2 div.sk-text-repr-fallback {display: none;}</style><div id=\"sk-container-id-2\" class=\"sk-top-container\"><div class=\"sk-text-repr-fallback\"><pre>LogisticRegression()</pre><b>In a Jupyter environment, please rerun this cell to show the HTML representation or trust the notebook. <br />On GitHub, the HTML representation is unable to render, please try loading this page with nbviewer.org.</b></div><div class=\"sk-container\" hidden><div class=\"sk-item\"><div class=\"sk-estimator sk-toggleable\"><input class=\"sk-toggleable__control sk-hidden--visually\" id=\"sk-estimator-id-2\" type=\"checkbox\" checked><label for=\"sk-estimator-id-2\" class=\"sk-toggleable__label sk-toggleable__label-arrow\">LogisticRegression</label><div class=\"sk-toggleable__content\"><pre>LogisticRegression()</pre></div></div></div></div></div>"
      ],
      "text/plain": [
       "LogisticRegression()"
      ]
     },
     "execution_count": 23,
     "metadata": {},
     "output_type": "execute_result"
    }
   ],
   "source": [
    "logreg = LogisticRegression()\n",
    "logreg.fit(X_train_log, y_train_log)"
   ]
  },
  {
   "cell_type": "markdown",
   "id": "3194978a",
   "metadata": {},
   "source": [
    "Predictions of the trained model on the test set:"
   ]
  },
  {
   "cell_type": "code",
   "execution_count": 24,
   "id": "c544fd9b",
   "metadata": {},
   "outputs": [
    {
     "name": "stdout",
     "output_type": "stream",
     "text": [
      "[1 1 0 1 0 0 1 1 1 0 0 0 0 1 1 1 0 0 1 0 1 1 1 1 0 1 0 1 1 0 0 1 0 1 0 0 1\n",
      " 1 1 1 0 0 0 1 1 1 1 1 1 0 1 0 1 0 1 0 1 1 0 0 1 1 0 1 1 1 1 0 1 0 1 1 1 0\n",
      " 1 1 1 1 1 0 0 1 1 1 1 1 0 1 1 1 1 1 1 1 0 0 1 1 1 1 0 0 1 1 0 1 1 1 1 0 1\n",
      " 1 1 1 0 1 1 0 1 1 1 1 1 1 1 1 1 1 0 1 1 1 1 0 1 1 1 1 0 1 1 1 1 1 1 1 1 1\n",
      " 0 1 1 0 1 1 1 1 0 1 1 1 0 1 1 0 0 1 0 0 1 1 1 1 0 1 1 1 1 1 0 1 1 1 1 1 1\n",
      " 1 1 1 1 1 1 0 0 1 0 1 0 1 1 1 1 1 1 1 1 1 1 1 1 1 0 1 1 0 0 1 0 1 1 0 1 1\n",
      " 1 1 1 1 0 0 1 1 1 0 0 1 1 1 0 0 1 0 1 1 1 0 1 0 0 1 0 1 0 1 1 1 1 0 1 0 1\n",
      " 0 1 1 1 1 0 1 0 1 1 0 0 0 0 0 0 1 0 1 1 0 0 0 0 1 0 1 1 1 0 1 0 1 1 1 0 1\n",
      " 1 1 0 1 1 1 1 1 1 1 1 0 0 1 1 1 1 1 1 0 1 0 1 1 1 1 0 0 1 1 1 1 0 0 1 1 0\n",
      " 1 1 1 0 1 0 0 1 1 1 0 0 0 0 0 1 0 1 0 1 1 0 0 0 0 1 1 1 1 0 1 1 1 0 0 1 0\n",
      " 1 1 0 1 0 1 1 1 1 1 1 0 1 1 1 0 1 1 0 1 1 0 0 1 0 0 1 0 1 1 0 1 1 0 0 0 1\n",
      " 0 1 1 1 1 1 0 1 0 0 0 1 1 0 1 1 0 1 0 1 1 1 1 1 1 1 1 1 0 1 0 0 1 0 1 0 0\n",
      " 0 0 0 0 0 1]\n",
      "Accuracy of logistic regression classifier on test set: 1.00\n"
     ]
    }
   ],
   "source": [
    "y_pred_log = logreg.predict(X_test_log)\n",
    "print(y_pred_log)\n",
    "print('Accuracy of logistic regression classifier on test set: {:.2f}'.format(logreg.score(X_test_log, y_test_log)))"
   ]
  },
  {
   "cell_type": "markdown",
   "id": "d794fbcf",
   "metadata": {},
   "source": [
    "### Confusion matrix"
   ]
  },
  {
   "cell_type": "code",
   "execution_count": 25,
   "id": "6f36f764",
   "metadata": {},
   "outputs": [
    {
     "data": {
      "text/html": [
       "<div>\n",
       "<style scoped>\n",
       "    .dataframe tbody tr th:only-of-type {\n",
       "        vertical-align: middle;\n",
       "    }\n",
       "\n",
       "    .dataframe tbody tr th {\n",
       "        vertical-align: top;\n",
       "    }\n",
       "\n",
       "    .dataframe thead th {\n",
       "        text-align: right;\n",
       "    }\n",
       "</style>\n",
       "<table border=\"1\" class=\"dataframe\">\n",
       "  <thead>\n",
       "    <tr style=\"text-align: right;\">\n",
       "      <th></th>\n",
       "      <th>0</th>\n",
       "      <th>1</th>\n",
       "    </tr>\n",
       "  </thead>\n",
       "  <tbody>\n",
       "    <tr>\n",
       "      <th>0</th>\n",
       "      <td>156</td>\n",
       "      <td>1</td>\n",
       "    </tr>\n",
       "    <tr>\n",
       "      <th>1</th>\n",
       "      <td>0</td>\n",
       "      <td>293</td>\n",
       "    </tr>\n",
       "  </tbody>\n",
       "</table>\n",
       "</div>"
      ],
      "text/plain": [
       "     0    1\n",
       "0  156    1\n",
       "1    0  293"
      ]
     },
     "metadata": {},
     "output_type": "display_data"
    },
    {
     "name": "stdout",
     "output_type": "stream",
     "text": [
      "              precision    recall  f1-score   support\n",
      "\n",
      "           0       1.00      0.99      1.00       157\n",
      "           1       1.00      1.00      1.00       293\n",
      "\n",
      "    accuracy                           1.00       450\n",
      "   macro avg       1.00      1.00      1.00       450\n",
      "weighted avg       1.00      1.00      1.00       450\n",
      "\n"
     ]
    }
   ],
   "source": [
    "matrice_de_confusion_log = confusion_matrix(y_test_log, y_pred_log)\n",
    "display(pd.DataFrame(matrice_de_confusion_log))\n",
    "\n",
    "print(classification_report(y_test_log, y_pred_log))"
   ]
  },
  {
   "cell_type": "markdown",
   "id": "d6025adf",
   "metadata": {},
   "source": [
    "<a name=\"5.2\"></a>\n",
    "### 5.2 Predictions on test dataset\n",
    "\n",
    "We're testing our model on the test dataset given by the ONCFM (the *test* dataset we used to test our trained model on before could be called the *cross-validation* set)."
   ]
  },
  {
   "cell_type": "code",
   "execution_count": 26,
   "id": "84cdad37",
   "metadata": {},
   "outputs": [
    {
     "data": {
      "text/html": [
       "<div>\n",
       "<style scoped>\n",
       "    .dataframe tbody tr th:only-of-type {\n",
       "        vertical-align: middle;\n",
       "    }\n",
       "\n",
       "    .dataframe tbody tr th {\n",
       "        vertical-align: top;\n",
       "    }\n",
       "\n",
       "    .dataframe thead th {\n",
       "        text-align: right;\n",
       "    }\n",
       "</style>\n",
       "<table border=\"1\" class=\"dataframe\">\n",
       "  <thead>\n",
       "    <tr style=\"text-align: right;\">\n",
       "      <th></th>\n",
       "      <th>diagonal</th>\n",
       "      <th>height_left</th>\n",
       "      <th>height_right</th>\n",
       "      <th>margin_low</th>\n",
       "      <th>margin_up</th>\n",
       "      <th>length</th>\n",
       "      <th>id</th>\n",
       "    </tr>\n",
       "  </thead>\n",
       "  <tbody>\n",
       "    <tr>\n",
       "      <th>0</th>\n",
       "      <td>171.76</td>\n",
       "      <td>104.01</td>\n",
       "      <td>103.54</td>\n",
       "      <td>5.21</td>\n",
       "      <td>3.30</td>\n",
       "      <td>111.42</td>\n",
       "      <td>A_1</td>\n",
       "    </tr>\n",
       "    <tr>\n",
       "      <th>1</th>\n",
       "      <td>171.87</td>\n",
       "      <td>104.17</td>\n",
       "      <td>104.13</td>\n",
       "      <td>6.00</td>\n",
       "      <td>3.31</td>\n",
       "      <td>112.09</td>\n",
       "      <td>A_2</td>\n",
       "    </tr>\n",
       "    <tr>\n",
       "      <th>2</th>\n",
       "      <td>172.00</td>\n",
       "      <td>104.58</td>\n",
       "      <td>104.29</td>\n",
       "      <td>4.99</td>\n",
       "      <td>3.39</td>\n",
       "      <td>111.57</td>\n",
       "      <td>A_3</td>\n",
       "    </tr>\n",
       "    <tr>\n",
       "      <th>3</th>\n",
       "      <td>172.49</td>\n",
       "      <td>104.55</td>\n",
       "      <td>104.34</td>\n",
       "      <td>4.44</td>\n",
       "      <td>3.03</td>\n",
       "      <td>113.20</td>\n",
       "      <td>A_4</td>\n",
       "    </tr>\n",
       "    <tr>\n",
       "      <th>4</th>\n",
       "      <td>171.65</td>\n",
       "      <td>103.63</td>\n",
       "      <td>103.56</td>\n",
       "      <td>3.77</td>\n",
       "      <td>3.16</td>\n",
       "      <td>113.33</td>\n",
       "      <td>A_5</td>\n",
       "    </tr>\n",
       "  </tbody>\n",
       "</table>\n",
       "</div>"
      ],
      "text/plain": [
       "   diagonal  height_left  height_right  margin_low  margin_up  length   id\n",
       "0    171.76       104.01        103.54        5.21       3.30  111.42  A_1\n",
       "1    171.87       104.17        104.13        6.00       3.31  112.09  A_2\n",
       "2    172.00       104.58        104.29        4.99       3.39  111.57  A_3\n",
       "3    172.49       104.55        104.34        4.44       3.03  113.20  A_4\n",
       "4    171.65       103.63        103.56        3.77       3.16  113.33  A_5"
      ]
     },
     "metadata": {},
     "output_type": "display_data"
    }
   ],
   "source": [
    "display(data_test)"
   ]
  },
  {
   "cell_type": "code",
   "execution_count": 27,
   "id": "1ddadeb9",
   "metadata": {},
   "outputs": [
    {
     "name": "stdout",
     "output_type": "stream",
     "text": [
      "[0 0 0 1 1]\n"
     ]
    }
   ],
   "source": [
    "data_test2 = data_test[[\"diagonal\", \"height_left\", \"height_right\", \"margin_low\", \"margin_up\", \"length\"]]\n",
    "\n",
    "pred_log = logreg.predict(data_test2)\n",
    "\n",
    "print(pred_log) # 0 == counterfeit bill, 1 == legit bill"
   ]
  },
  {
   "cell_type": "markdown",
   "id": "acfd5a8f",
   "metadata": {},
   "source": [
    "The results seem accurate, we can visally see than the predicted counterfeit bills correspond to the examples with unusual high values for *margin_low*."
   ]
  },
  {
   "cell_type": "markdown",
   "id": "040bf559",
   "metadata": {},
   "source": [
    "<a name=\"6\"></a>\n",
    "## 6. K-Means Clustering for Classification\n",
    "\n",
    "We will now try our luck using a K-means classification model.\n",
    "\n",
    "We are still using the scikit-learn library.\n",
    "\n",
    "<a name=\"6.1\"></a>\n",
    "### 6.1 Model training\n",
    "\n",
    "We assign X and y:"
   ]
  },
  {
   "cell_type": "code",
   "execution_count": 28,
   "id": "41b2cc30",
   "metadata": {},
   "outputs": [],
   "source": [
    "feature_cols_km = ['diagonal', 'height_left', 'height_right', 'margin_low', 'margin_up', 'length']\n",
    "X_km = data2[feature_cols_km]\n",
    "\n",
    "y_km = data2['is_genuine'].cat.codes"
   ]
  },
  {
   "cell_type": "markdown",
   "id": "817ddf07",
   "metadata": {},
   "source": [
    "Separate the data between *training* and *test*:"
   ]
  },
  {
   "cell_type": "code",
   "execution_count": 29,
   "id": "f5072289",
   "metadata": {},
   "outputs": [],
   "source": [
    "X_train_km, X_test_km, y_train_km, y_test_km = train_test_split(X_km, y_km, test_size=0.3, random_state=0)"
   ]
  },
  {
   "cell_type": "markdown",
   "id": "5a39f758",
   "metadata": {},
   "source": [
    "Now we train the model. Note that `random_state` is used so that we don't end up with our clusters randomly named 0 or 1, which is inconsistent."
   ]
  },
  {
   "cell_type": "code",
   "execution_count": 30,
   "id": "445150f8",
   "metadata": {},
   "outputs": [
    {
     "data": {
      "text/html": [
       "<style>#sk-container-id-3 {color: black;background-color: white;}#sk-container-id-3 pre{padding: 0;}#sk-container-id-3 div.sk-toggleable {background-color: white;}#sk-container-id-3 label.sk-toggleable__label {cursor: pointer;display: block;width: 100%;margin-bottom: 0;padding: 0.3em;box-sizing: border-box;text-align: center;}#sk-container-id-3 label.sk-toggleable__label-arrow:before {content: \"▸\";float: left;margin-right: 0.25em;color: #696969;}#sk-container-id-3 label.sk-toggleable__label-arrow:hover:before {color: black;}#sk-container-id-3 div.sk-estimator:hover label.sk-toggleable__label-arrow:before {color: black;}#sk-container-id-3 div.sk-toggleable__content {max-height: 0;max-width: 0;overflow: hidden;text-align: left;background-color: #f0f8ff;}#sk-container-id-3 div.sk-toggleable__content pre {margin: 0.2em;color: black;border-radius: 0.25em;background-color: #f0f8ff;}#sk-container-id-3 input.sk-toggleable__control:checked~div.sk-toggleable__content {max-height: 200px;max-width: 100%;overflow: auto;}#sk-container-id-3 input.sk-toggleable__control:checked~label.sk-toggleable__label-arrow:before {content: \"▾\";}#sk-container-id-3 div.sk-estimator input.sk-toggleable__control:checked~label.sk-toggleable__label {background-color: #d4ebff;}#sk-container-id-3 div.sk-label input.sk-toggleable__control:checked~label.sk-toggleable__label {background-color: #d4ebff;}#sk-container-id-3 input.sk-hidden--visually {border: 0;clip: rect(1px 1px 1px 1px);clip: rect(1px, 1px, 1px, 1px);height: 1px;margin: -1px;overflow: hidden;padding: 0;position: absolute;width: 1px;}#sk-container-id-3 div.sk-estimator {font-family: monospace;background-color: #f0f8ff;border: 1px dotted black;border-radius: 0.25em;box-sizing: border-box;margin-bottom: 0.5em;}#sk-container-id-3 div.sk-estimator:hover {background-color: #d4ebff;}#sk-container-id-3 div.sk-parallel-item::after {content: \"\";width: 100%;border-bottom: 1px solid gray;flex-grow: 1;}#sk-container-id-3 div.sk-label:hover label.sk-toggleable__label {background-color: #d4ebff;}#sk-container-id-3 div.sk-serial::before {content: \"\";position: absolute;border-left: 1px solid gray;box-sizing: border-box;top: 0;bottom: 0;left: 50%;z-index: 0;}#sk-container-id-3 div.sk-serial {display: flex;flex-direction: column;align-items: center;background-color: white;padding-right: 0.2em;padding-left: 0.2em;position: relative;}#sk-container-id-3 div.sk-item {position: relative;z-index: 1;}#sk-container-id-3 div.sk-parallel {display: flex;align-items: stretch;justify-content: center;background-color: white;position: relative;}#sk-container-id-3 div.sk-item::before, #sk-container-id-3 div.sk-parallel-item::before {content: \"\";position: absolute;border-left: 1px solid gray;box-sizing: border-box;top: 0;bottom: 0;left: 50%;z-index: -1;}#sk-container-id-3 div.sk-parallel-item {display: flex;flex-direction: column;z-index: 1;position: relative;background-color: white;}#sk-container-id-3 div.sk-parallel-item:first-child::after {align-self: flex-end;width: 50%;}#sk-container-id-3 div.sk-parallel-item:last-child::after {align-self: flex-start;width: 50%;}#sk-container-id-3 div.sk-parallel-item:only-child::after {width: 0;}#sk-container-id-3 div.sk-dashed-wrapped {border: 1px dashed gray;margin: 0 0.4em 0.5em 0.4em;box-sizing: border-box;padding-bottom: 0.4em;background-color: white;}#sk-container-id-3 div.sk-label label {font-family: monospace;font-weight: bold;display: inline-block;line-height: 1.2em;}#sk-container-id-3 div.sk-label-container {text-align: center;}#sk-container-id-3 div.sk-container {/* jupyter's `normalize.less` sets `[hidden] { display: none; }` but bootstrap.min.css set `[hidden] { display: none !important; }` so we also need the `!important` here to be able to override the default hidden behavior on the sphinx rendered scikit-learn.org. See: https://github.com/scikit-learn/scikit-learn/issues/21755 */display: inline-block !important;position: relative;}#sk-container-id-3 div.sk-text-repr-fallback {display: none;}</style><div id=\"sk-container-id-3\" class=\"sk-top-container\"><div class=\"sk-text-repr-fallback\"><pre>KMeans(n_clusters=2, random_state=42)</pre><b>In a Jupyter environment, please rerun this cell to show the HTML representation or trust the notebook. <br />On GitHub, the HTML representation is unable to render, please try loading this page with nbviewer.org.</b></div><div class=\"sk-container\" hidden><div class=\"sk-item\"><div class=\"sk-estimator sk-toggleable\"><input class=\"sk-toggleable__control sk-hidden--visually\" id=\"sk-estimator-id-3\" type=\"checkbox\" checked><label for=\"sk-estimator-id-3\" class=\"sk-toggleable__label sk-toggleable__label-arrow\">KMeans</label><div class=\"sk-toggleable__content\"><pre>KMeans(n_clusters=2, random_state=42)</pre></div></div></div></div></div>"
      ],
      "text/plain": [
       "KMeans(n_clusters=2, random_state=42)"
      ]
     },
     "execution_count": 30,
     "metadata": {},
     "output_type": "execute_result"
    }
   ],
   "source": [
    "kmeans = KMeans(n_clusters=2, random_state =42)\n",
    "kmeans.fit(X_train_km, y_train_km)"
   ]
  },
  {
   "cell_type": "markdown",
   "id": "e861c288",
   "metadata": {},
   "source": [
    "And predict on our *test dataset*:"
   ]
  },
  {
   "cell_type": "code",
   "execution_count": 31,
   "id": "c82aef87",
   "metadata": {},
   "outputs": [
    {
     "name": "stdout",
     "output_type": "stream",
     "text": [
      "[0 0 1 0 1 1 0 0 0 1 1 1 1 0 0 0 1 1 0 1 0 0 0 0 1 0 1 0 0 1 1 0 1 0 1 1 0\n",
      " 0 0 0 1 1 1 0 0 0 0 0 0 0 0 1 0 1 0 1 0 0 1 1 0 0 1 0 0 0 0 1 0 1 0 0 0 1\n",
      " 0 0 0 0 0 1 1 0 0 0 0 0 1 0 0 0 0 0 0 0 1 1 0 0 0 0 1 1 0 0 1 0 0 0 0 1 0\n",
      " 0 0 0 1 0 0 1 0 0 0 0 0 0 0 0 0 0 1 0 0 0 0 1 0 0 0 0 0 0 0 0 0 0 0 0 0 0\n",
      " 1 0 0 1 0 0 0 0 1 0 0 0 1 0 0 1 1 0 1 1 0 0 0 0 1 0 0 0 0 0 1 0 0 0 0 0 0\n",
      " 0 0 0 0 0 0 1 1 0 1 0 1 0 0 0 0 0 0 0 0 0 0 0 0 0 1 0 0 1 1 0 1 0 0 1 0 0\n",
      " 0 0 0 0 1 1 0 0 0 1 1 0 0 0 1 1 0 1 0 0 0 1 0 1 1 0 1 0 1 0 0 0 0 1 0 1 0\n",
      " 1 0 0 0 0 1 0 1 0 0 1 1 1 1 1 1 0 1 0 0 1 1 1 1 0 1 0 0 0 1 0 1 0 0 0 1 0\n",
      " 0 0 1 0 0 0 0 0 0 0 0 1 1 0 0 0 0 0 0 1 0 1 0 0 0 0 1 1 0 0 0 0 1 1 0 0 1\n",
      " 0 0 0 1 0 1 1 0 0 0 1 1 1 1 1 0 1 0 1 0 0 1 1 1 1 0 0 0 0 1 0 0 0 1 1 0 1\n",
      " 0 0 1 0 1 0 0 0 0 0 0 1 0 0 0 1 0 0 1 0 0 1 1 0 1 1 0 1 0 0 1 0 0 1 1 1 0\n",
      " 1 0 0 0 0 0 1 0 1 1 1 0 0 1 0 0 1 0 1 0 0 0 0 0 0 0 0 0 1 0 1 1 0 1 0 1 1\n",
      " 1 1 1 1 1 0]\n",
      "Accuracy of logistic regression classifier on test set: 1.00\n"
     ]
    }
   ],
   "source": [
    "y_pred_km = kmeans.predict(X_test_km)\n",
    "print(y_pred_km)\n",
    "print('Accuracy of logistic regression classifier on test set: {:.2f}'.format(logreg.score(X_test_km, y_test_km)))"
   ]
  },
  {
   "cell_type": "markdown",
   "id": "bf774820",
   "metadata": {},
   "source": [
    "### Confusion matrix"
   ]
  },
  {
   "cell_type": "code",
   "execution_count": 32,
   "id": "03211585",
   "metadata": {},
   "outputs": [
    {
     "data": {
      "text/html": [
       "<div>\n",
       "<style scoped>\n",
       "    .dataframe tbody tr th:only-of-type {\n",
       "        vertical-align: middle;\n",
       "    }\n",
       "\n",
       "    .dataframe tbody tr th {\n",
       "        vertical-align: top;\n",
       "    }\n",
       "\n",
       "    .dataframe thead th {\n",
       "        text-align: right;\n",
       "    }\n",
       "</style>\n",
       "<table border=\"1\" class=\"dataframe\">\n",
       "  <thead>\n",
       "    <tr style=\"text-align: right;\">\n",
       "      <th></th>\n",
       "      <th>0</th>\n",
       "      <th>1</th>\n",
       "    </tr>\n",
       "  </thead>\n",
       "  <tbody>\n",
       "    <tr>\n",
       "      <th>0</th>\n",
       "      <td>156</td>\n",
       "      <td>1</td>\n",
       "    </tr>\n",
       "    <tr>\n",
       "      <th>1</th>\n",
       "      <td>0</td>\n",
       "      <td>293</td>\n",
       "    </tr>\n",
       "  </tbody>\n",
       "</table>\n",
       "</div>"
      ],
      "text/plain": [
       "     0    1\n",
       "0  156    1\n",
       "1    0  293"
      ]
     },
     "metadata": {},
     "output_type": "display_data"
    },
    {
     "name": "stdout",
     "output_type": "stream",
     "text": [
      "              precision    recall  f1-score   support\n",
      "\n",
      "           0       0.01      0.02      0.01       157\n",
      "           1       0.00      0.00      0.00       293\n",
      "\n",
      "    accuracy                           0.01       450\n",
      "   macro avg       0.01      0.01      0.01       450\n",
      "weighted avg       0.00      0.01      0.00       450\n",
      "\n"
     ]
    }
   ],
   "source": [
    "matrice_de_confusion_km = confusion_matrix(y_test_km, y_pred_km)\n",
    "display(pd.DataFrame(matrice_de_confusion_log))\n",
    "\n",
    "print(classification_report(y_test_km, y_pred_km))"
   ]
  },
  {
   "cell_type": "markdown",
   "id": "3a158dd3",
   "metadata": {},
   "source": [
    "<a name=\"6.2\"></a>\n",
    "### 6.2 Predictions on test dataset"
   ]
  },
  {
   "cell_type": "code",
   "execution_count": 33,
   "id": "a5fbac43",
   "metadata": {},
   "outputs": [
    {
     "name": "stdout",
     "output_type": "stream",
     "text": [
      "[1 1 1 0 0]\n"
     ]
    }
   ],
   "source": [
    "pred_km = kmeans.predict(data_test2)\n",
    "\n",
    "print(pred_km) # 0 == legit bill, 1 == counterfeit bill"
   ]
  },
  {
   "cell_type": "markdown",
   "id": "34757d21",
   "metadata": {},
   "source": [
    "Note that now, the legit bills are labeled `0` and the counterfeit bills `1`.\n",
    "\n",
    "We can display the cluster centroids for our information:"
   ]
  },
  {
   "cell_type": "code",
   "execution_count": 34,
   "id": "d2d22c07",
   "metadata": {},
   "outputs": [
    {
     "name": "stdout",
     "output_type": "stream",
     "text": [
      "[[171.9764779  103.95455801 103.81372928   4.13054628   3.05947514\n",
      "  113.18551105]\n",
      " [171.89174847 104.19199387 104.14610429   5.24335106   3.34273006\n",
      "  111.58306748]]\n"
     ]
    }
   ],
   "source": [
    "print(kmeans.cluster_centers_)"
   ]
  },
  {
   "cell_type": "markdown",
   "id": "285f9750",
   "metadata": {},
   "source": [
    "<a name=\"7\"></a>\n",
    "## 7. Final application\n",
    "\n",
    "Let's write clean functions so that we can use our logistic regression and K-Means classification algorithms for any new dataset (as long as it respects the same format as the `test_dataset`)"
   ]
  },
  {
   "cell_type": "code",
   "execution_count": 35,
   "id": "c90d08fa",
   "metadata": {},
   "outputs": [],
   "source": [
    "def logistic_regression(data):\n",
    "    \"\"\"Applies logistic regression on input data\"\"\"\n",
    "    print(\"Counterfeit bill detection using Logistic Regression...\")\n",
    "    print()\n",
    "    data2 = data[feature_cols_log]\n",
    "    prediction = logreg.predict(data2)\n",
    "    data['Prediction'] = prediction\n",
    "    data.loc[data.Prediction == 0, \"Prediction\"] = \"Counterfeit bill\"\n",
    "    data.loc[data.Prediction == 1, \"Prediction\"] = \"Legit bill\"\n",
    "    return data\n",
    "\n",
    "\n",
    "def k_means_classification(data):\n",
    "    \"\"\"Applies K-Means classification on input data\"\"\"\n",
    "    print(\"Counterfeit bill detection using K-Means Classification...\")\n",
    "    print()\n",
    "    data2 = data[feature_cols_km]\n",
    "    prediction = kmeans.predict(data2)\n",
    "    data['Prediction'] = prediction\n",
    "    data.loc[data.Prediction == 0, \"Prediction\"] = \"Legit bill\"\n",
    "    data.loc[data.Prediction == 1, \"Prediction\"] = \"Counterfeit bill\"\n",
    "    return data"
   ]
  },
  {
   "cell_type": "code",
   "execution_count": 36,
   "id": "c2316408",
   "metadata": {},
   "outputs": [],
   "source": [
    "data_test_reg = data_test.copy(deep=True)\n",
    "data_test_km = data_test.copy(deep=True)"
   ]
  },
  {
   "cell_type": "code",
   "execution_count": 37,
   "id": "211320ab",
   "metadata": {},
   "outputs": [
    {
     "name": "stdout",
     "output_type": "stream",
     "text": [
      "Counterfeit bill detection using Logistic Regression...\n",
      "\n"
     ]
    },
    {
     "data": {
      "text/html": [
       "<div>\n",
       "<style scoped>\n",
       "    .dataframe tbody tr th:only-of-type {\n",
       "        vertical-align: middle;\n",
       "    }\n",
       "\n",
       "    .dataframe tbody tr th {\n",
       "        vertical-align: top;\n",
       "    }\n",
       "\n",
       "    .dataframe thead th {\n",
       "        text-align: right;\n",
       "    }\n",
       "</style>\n",
       "<table border=\"1\" class=\"dataframe\">\n",
       "  <thead>\n",
       "    <tr style=\"text-align: right;\">\n",
       "      <th></th>\n",
       "      <th>diagonal</th>\n",
       "      <th>height_left</th>\n",
       "      <th>height_right</th>\n",
       "      <th>margin_low</th>\n",
       "      <th>margin_up</th>\n",
       "      <th>length</th>\n",
       "      <th>id</th>\n",
       "      <th>Prediction</th>\n",
       "    </tr>\n",
       "  </thead>\n",
       "  <tbody>\n",
       "    <tr>\n",
       "      <th>0</th>\n",
       "      <td>171.76</td>\n",
       "      <td>104.01</td>\n",
       "      <td>103.54</td>\n",
       "      <td>5.21</td>\n",
       "      <td>3.30</td>\n",
       "      <td>111.42</td>\n",
       "      <td>A_1</td>\n",
       "      <td>Counterfeit bill</td>\n",
       "    </tr>\n",
       "    <tr>\n",
       "      <th>1</th>\n",
       "      <td>171.87</td>\n",
       "      <td>104.17</td>\n",
       "      <td>104.13</td>\n",
       "      <td>6.00</td>\n",
       "      <td>3.31</td>\n",
       "      <td>112.09</td>\n",
       "      <td>A_2</td>\n",
       "      <td>Counterfeit bill</td>\n",
       "    </tr>\n",
       "    <tr>\n",
       "      <th>2</th>\n",
       "      <td>172.00</td>\n",
       "      <td>104.58</td>\n",
       "      <td>104.29</td>\n",
       "      <td>4.99</td>\n",
       "      <td>3.39</td>\n",
       "      <td>111.57</td>\n",
       "      <td>A_3</td>\n",
       "      <td>Counterfeit bill</td>\n",
       "    </tr>\n",
       "    <tr>\n",
       "      <th>3</th>\n",
       "      <td>172.49</td>\n",
       "      <td>104.55</td>\n",
       "      <td>104.34</td>\n",
       "      <td>4.44</td>\n",
       "      <td>3.03</td>\n",
       "      <td>113.20</td>\n",
       "      <td>A_4</td>\n",
       "      <td>Legit bill</td>\n",
       "    </tr>\n",
       "    <tr>\n",
       "      <th>4</th>\n",
       "      <td>171.65</td>\n",
       "      <td>103.63</td>\n",
       "      <td>103.56</td>\n",
       "      <td>3.77</td>\n",
       "      <td>3.16</td>\n",
       "      <td>113.33</td>\n",
       "      <td>A_5</td>\n",
       "      <td>Legit bill</td>\n",
       "    </tr>\n",
       "  </tbody>\n",
       "</table>\n",
       "</div>"
      ],
      "text/plain": [
       "   diagonal  height_left  height_right  margin_low  margin_up  length   id  \\\n",
       "0    171.76       104.01        103.54        5.21       3.30  111.42  A_1   \n",
       "1    171.87       104.17        104.13        6.00       3.31  112.09  A_2   \n",
       "2    172.00       104.58        104.29        4.99       3.39  111.57  A_3   \n",
       "3    172.49       104.55        104.34        4.44       3.03  113.20  A_4   \n",
       "4    171.65       103.63        103.56        3.77       3.16  113.33  A_5   \n",
       "\n",
       "         Prediction  \n",
       "0  Counterfeit bill  \n",
       "1  Counterfeit bill  \n",
       "2  Counterfeit bill  \n",
       "3        Legit bill  \n",
       "4        Legit bill  "
      ]
     },
     "execution_count": 37,
     "metadata": {},
     "output_type": "execute_result"
    }
   ],
   "source": [
    "logistic_regression(data_test_reg)"
   ]
  },
  {
   "cell_type": "code",
   "execution_count": 38,
   "id": "1be70e63",
   "metadata": {},
   "outputs": [
    {
     "name": "stdout",
     "output_type": "stream",
     "text": [
      "Counterfeit bill detection using K-Means Classification...\n",
      "\n"
     ]
    },
    {
     "data": {
      "text/html": [
       "<div>\n",
       "<style scoped>\n",
       "    .dataframe tbody tr th:only-of-type {\n",
       "        vertical-align: middle;\n",
       "    }\n",
       "\n",
       "    .dataframe tbody tr th {\n",
       "        vertical-align: top;\n",
       "    }\n",
       "\n",
       "    .dataframe thead th {\n",
       "        text-align: right;\n",
       "    }\n",
       "</style>\n",
       "<table border=\"1\" class=\"dataframe\">\n",
       "  <thead>\n",
       "    <tr style=\"text-align: right;\">\n",
       "      <th></th>\n",
       "      <th>diagonal</th>\n",
       "      <th>height_left</th>\n",
       "      <th>height_right</th>\n",
       "      <th>margin_low</th>\n",
       "      <th>margin_up</th>\n",
       "      <th>length</th>\n",
       "      <th>id</th>\n",
       "      <th>Prediction</th>\n",
       "    </tr>\n",
       "  </thead>\n",
       "  <tbody>\n",
       "    <tr>\n",
       "      <th>0</th>\n",
       "      <td>171.76</td>\n",
       "      <td>104.01</td>\n",
       "      <td>103.54</td>\n",
       "      <td>5.21</td>\n",
       "      <td>3.30</td>\n",
       "      <td>111.42</td>\n",
       "      <td>A_1</td>\n",
       "      <td>Counterfeit bill</td>\n",
       "    </tr>\n",
       "    <tr>\n",
       "      <th>1</th>\n",
       "      <td>171.87</td>\n",
       "      <td>104.17</td>\n",
       "      <td>104.13</td>\n",
       "      <td>6.00</td>\n",
       "      <td>3.31</td>\n",
       "      <td>112.09</td>\n",
       "      <td>A_2</td>\n",
       "      <td>Counterfeit bill</td>\n",
       "    </tr>\n",
       "    <tr>\n",
       "      <th>2</th>\n",
       "      <td>172.00</td>\n",
       "      <td>104.58</td>\n",
       "      <td>104.29</td>\n",
       "      <td>4.99</td>\n",
       "      <td>3.39</td>\n",
       "      <td>111.57</td>\n",
       "      <td>A_3</td>\n",
       "      <td>Counterfeit bill</td>\n",
       "    </tr>\n",
       "    <tr>\n",
       "      <th>3</th>\n",
       "      <td>172.49</td>\n",
       "      <td>104.55</td>\n",
       "      <td>104.34</td>\n",
       "      <td>4.44</td>\n",
       "      <td>3.03</td>\n",
       "      <td>113.20</td>\n",
       "      <td>A_4</td>\n",
       "      <td>Legit bill</td>\n",
       "    </tr>\n",
       "    <tr>\n",
       "      <th>4</th>\n",
       "      <td>171.65</td>\n",
       "      <td>103.63</td>\n",
       "      <td>103.56</td>\n",
       "      <td>3.77</td>\n",
       "      <td>3.16</td>\n",
       "      <td>113.33</td>\n",
       "      <td>A_5</td>\n",
       "      <td>Legit bill</td>\n",
       "    </tr>\n",
       "  </tbody>\n",
       "</table>\n",
       "</div>"
      ],
      "text/plain": [
       "   diagonal  height_left  height_right  margin_low  margin_up  length   id  \\\n",
       "0    171.76       104.01        103.54        5.21       3.30  111.42  A_1   \n",
       "1    171.87       104.17        104.13        6.00       3.31  112.09  A_2   \n",
       "2    172.00       104.58        104.29        4.99       3.39  111.57  A_3   \n",
       "3    172.49       104.55        104.34        4.44       3.03  113.20  A_4   \n",
       "4    171.65       103.63        103.56        3.77       3.16  113.33  A_5   \n",
       "\n",
       "         Prediction  \n",
       "0  Counterfeit bill  \n",
       "1  Counterfeit bill  \n",
       "2  Counterfeit bill  \n",
       "3        Legit bill  \n",
       "4        Legit bill  "
      ]
     },
     "execution_count": 38,
     "metadata": {},
     "output_type": "execute_result"
    }
   ],
   "source": [
    "k_means_classification(data_test_km)"
   ]
  },
  {
   "cell_type": "code",
   "execution_count": null,
   "id": "a4ba6b80",
   "metadata": {},
   "outputs": [],
   "source": []
  }
 ],
 "metadata": {
  "kernelspec": {
   "display_name": "Python 3",
   "language": "python",
   "name": "python3"
  },
  "language_info": {
   "codemirror_mode": {
    "name": "ipython",
    "version": 3
   },
   "file_extension": ".py",
   "mimetype": "text/x-python",
   "name": "python",
   "nbconvert_exporter": "python",
   "pygments_lexer": "ipython3",
   "version": "3.8.8"
  }
 },
 "nbformat": 4,
 "nbformat_minor": 5
}
