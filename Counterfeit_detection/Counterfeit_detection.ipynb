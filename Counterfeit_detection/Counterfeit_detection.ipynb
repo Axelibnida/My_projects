{
 "cells": [
  {
   "cell_type": "markdown",
   "id": "7933d677",
   "metadata": {},
   "source": [
    "# Project: Counterfeit detection\n",
    "\n",
    "## Context\n",
    "\n",
    "A national French public organisation called ONCFM (national organisation against counterfeit money) needs us to come up with an algorithm able to automatically detect legit from counterfeit bills.\n",
    "\n",
    "## Notes & overview\n",
    "\n",
    "We will first use **Linear Regression** to predict some missing values, then we will try two ML algorithms to predict weither new examples would be legit or counterfeit bills: **Logistc Regression** as well as **K-Means Clustering for Classification**.\n",
    "\n",
    "### [Specifications (in French)](https://s3-eu-west-1.amazonaws.com/static.oc-static.com/prod/courses/files/parcours-data-analyst/DAN-P10-cdc-detection-faux-billets.pdf)\n",
    "\n",
    "## Summary\n",
    " - [1. Libraries import](#1)\n",
    " - [2. Databases import](#2)\n",
    " - [3. Data exploration](#3)\n",
    " - [4. Linear Regression](#4)\n",
    "   - [4.1 Model training](#4.1)\n",
    "   - [4.2 Prediction of the missing values](#4.2)\n",
    " - [5. Logistic Regression](#5)\n",
    "   - [5.1 Model training](#5.1)\n",
    "   - [5.2 Prediction on test dataset](#5.2)\n",
    " - [6. K-Means Clustering for Classification](#6)\n",
    "   - [6.1 Model training](#6.1)\n",
    "   - [6.2 Prediction on test dataset](#6.2)\n",
    " - [7. Final application](#7)\n",
    "\n",
    "<a name=\"1\"></a>\n",
    "## 1. Libraries import\n",
    "\n",
    "We first import the libraries we will need throughout this notebook."
   ]
  },
  {
   "cell_type": "code",
   "execution_count": 1,
   "id": "9b2a5f5b",
   "metadata": {},
   "outputs": [
    {
     "name": "stdout",
     "output_type": "stream",
     "text": [
      "Populating the interactive namespace from numpy and matplotlib\n"
     ]
    }
   ],
   "source": [
    "import pandas as pd\n",
    "import numpy as np\n",
    "import matplotlib.pyplot as plt\n",
    "#%matplotlib inline\n",
    "%pylab inline\n",
    "import seaborn as sns\n",
    "import plotly.express as px\n",
    "from sklearn.model_selection import train_test_split\n",
    "from sklearn.linear_model import LinearRegression\n",
    "from sklearn import metrics\n",
    "from sklearn.linear_model import LogisticRegression\n",
    "from sklearn.metrics import confusion_matrix\n",
    "from sklearn.metrics import classification_report\n",
    "from sklearn.cluster import KMeans\n",
    "import warnings\n",
    "warnings.filterwarnings('ignore')"
   ]
  },
  {
   "cell_type": "markdown",
   "id": "90139372",
   "metadata": {},
   "source": [
    "<a name=\"2\"></a>\n",
    "## 2. Databases import\n",
    "\n",
    "`data` is the database given to us by the ONCFM.\n",
    "\n",
    "`data_test` is another file given to us by the ONCFM as a format example of how the data on which the algorithm will perform looks. We can use this file as a *test set*."
   ]
  },
  {
   "cell_type": "code",
   "execution_count": 2,
   "id": "3be08290",
   "metadata": {},
   "outputs": [],
   "source": [
    "data = pd.read_csv('billets.csv', sep=';')\n",
    "data_test = pd.read_csv('billets_production.csv', sep=',')"
   ]
  },
  {
   "cell_type": "markdown",
   "id": "8f4b2709",
   "metadata": {},
   "source": [
    "<a name=\"3\"></a>\n",
    "## 3. Data exploration\n",
    "\n",
    "Let's have an idea about what the data looks like:"
   ]
  },
  {
   "cell_type": "code",
   "execution_count": 3,
   "id": "e9491a89",
   "metadata": {
    "scrolled": false
   },
   "outputs": [
    {
     "data": {
      "text/html": [
       "<div>\n",
       "<style scoped>\n",
       "    .dataframe tbody tr th:only-of-type {\n",
       "        vertical-align: middle;\n",
       "    }\n",
       "\n",
       "    .dataframe tbody tr th {\n",
       "        vertical-align: top;\n",
       "    }\n",
       "\n",
       "    .dataframe thead th {\n",
       "        text-align: right;\n",
       "    }\n",
       "</style>\n",
       "<table border=\"1\" class=\"dataframe\">\n",
       "  <thead>\n",
       "    <tr style=\"text-align: right;\">\n",
       "      <th></th>\n",
       "      <th>is_genuine</th>\n",
       "      <th>diagonal</th>\n",
       "      <th>height_left</th>\n",
       "      <th>height_right</th>\n",
       "      <th>margin_low</th>\n",
       "      <th>margin_up</th>\n",
       "      <th>length</th>\n",
       "    </tr>\n",
       "  </thead>\n",
       "  <tbody>\n",
       "    <tr>\n",
       "      <th>0</th>\n",
       "      <td>True</td>\n",
       "      <td>171.81</td>\n",
       "      <td>104.86</td>\n",
       "      <td>104.95</td>\n",
       "      <td>4.52</td>\n",
       "      <td>2.89</td>\n",
       "      <td>112.83</td>\n",
       "    </tr>\n",
       "    <tr>\n",
       "      <th>1</th>\n",
       "      <td>True</td>\n",
       "      <td>171.46</td>\n",
       "      <td>103.36</td>\n",
       "      <td>103.66</td>\n",
       "      <td>3.77</td>\n",
       "      <td>2.99</td>\n",
       "      <td>113.09</td>\n",
       "    </tr>\n",
       "    <tr>\n",
       "      <th>2</th>\n",
       "      <td>True</td>\n",
       "      <td>172.69</td>\n",
       "      <td>104.48</td>\n",
       "      <td>103.50</td>\n",
       "      <td>4.40</td>\n",
       "      <td>2.94</td>\n",
       "      <td>113.16</td>\n",
       "    </tr>\n",
       "    <tr>\n",
       "      <th>3</th>\n",
       "      <td>True</td>\n",
       "      <td>171.36</td>\n",
       "      <td>103.91</td>\n",
       "      <td>103.94</td>\n",
       "      <td>3.62</td>\n",
       "      <td>3.01</td>\n",
       "      <td>113.51</td>\n",
       "    </tr>\n",
       "    <tr>\n",
       "      <th>4</th>\n",
       "      <td>True</td>\n",
       "      <td>171.73</td>\n",
       "      <td>104.28</td>\n",
       "      <td>103.46</td>\n",
       "      <td>4.04</td>\n",
       "      <td>3.48</td>\n",
       "      <td>112.54</td>\n",
       "    </tr>\n",
       "    <tr>\n",
       "      <th>...</th>\n",
       "      <td>...</td>\n",
       "      <td>...</td>\n",
       "      <td>...</td>\n",
       "      <td>...</td>\n",
       "      <td>...</td>\n",
       "      <td>...</td>\n",
       "      <td>...</td>\n",
       "    </tr>\n",
       "    <tr>\n",
       "      <th>1495</th>\n",
       "      <td>False</td>\n",
       "      <td>171.75</td>\n",
       "      <td>104.38</td>\n",
       "      <td>104.17</td>\n",
       "      <td>4.42</td>\n",
       "      <td>3.09</td>\n",
       "      <td>111.28</td>\n",
       "    </tr>\n",
       "    <tr>\n",
       "      <th>1496</th>\n",
       "      <td>False</td>\n",
       "      <td>172.19</td>\n",
       "      <td>104.63</td>\n",
       "      <td>104.44</td>\n",
       "      <td>5.27</td>\n",
       "      <td>3.37</td>\n",
       "      <td>110.97</td>\n",
       "    </tr>\n",
       "    <tr>\n",
       "      <th>1497</th>\n",
       "      <td>False</td>\n",
       "      <td>171.80</td>\n",
       "      <td>104.01</td>\n",
       "      <td>104.12</td>\n",
       "      <td>5.51</td>\n",
       "      <td>3.36</td>\n",
       "      <td>111.95</td>\n",
       "    </tr>\n",
       "    <tr>\n",
       "      <th>1498</th>\n",
       "      <td>False</td>\n",
       "      <td>172.06</td>\n",
       "      <td>104.28</td>\n",
       "      <td>104.06</td>\n",
       "      <td>5.17</td>\n",
       "      <td>3.46</td>\n",
       "      <td>112.25</td>\n",
       "    </tr>\n",
       "    <tr>\n",
       "      <th>1499</th>\n",
       "      <td>False</td>\n",
       "      <td>171.47</td>\n",
       "      <td>104.15</td>\n",
       "      <td>103.82</td>\n",
       "      <td>4.63</td>\n",
       "      <td>3.37</td>\n",
       "      <td>112.07</td>\n",
       "    </tr>\n",
       "  </tbody>\n",
       "</table>\n",
       "<p>1500 rows × 7 columns</p>\n",
       "</div>"
      ],
      "text/plain": [
       "      is_genuine  diagonal  height_left  height_right  margin_low  margin_up  \\\n",
       "0           True    171.81       104.86        104.95        4.52       2.89   \n",
       "1           True    171.46       103.36        103.66        3.77       2.99   \n",
       "2           True    172.69       104.48        103.50        4.40       2.94   \n",
       "3           True    171.36       103.91        103.94        3.62       3.01   \n",
       "4           True    171.73       104.28        103.46        4.04       3.48   \n",
       "...          ...       ...          ...           ...         ...        ...   \n",
       "1495       False    171.75       104.38        104.17        4.42       3.09   \n",
       "1496       False    172.19       104.63        104.44        5.27       3.37   \n",
       "1497       False    171.80       104.01        104.12        5.51       3.36   \n",
       "1498       False    172.06       104.28        104.06        5.17       3.46   \n",
       "1499       False    171.47       104.15        103.82        4.63       3.37   \n",
       "\n",
       "      length  \n",
       "0     112.83  \n",
       "1     113.09  \n",
       "2     113.16  \n",
       "3     113.51  \n",
       "4     112.54  \n",
       "...      ...  \n",
       "1495  111.28  \n",
       "1496  110.97  \n",
       "1497  111.95  \n",
       "1498  112.25  \n",
       "1499  112.07  \n",
       "\n",
       "[1500 rows x 7 columns]"
      ]
     },
     "metadata": {},
     "output_type": "display_data"
    }
   ],
   "source": [
    "#pd.set_option('display.max_rows', None) # To show all rows\n",
    "pd.set_option('display.max_rows', 10) # To only show 10 rows\n",
    "display(data)"
   ]
  },
  {
   "cell_type": "markdown",
   "id": "2ceafa2e",
   "metadata": {},
   "source": [
    "The data contains 1000 examples of left bills and 500 examples of counterfeit ones.\n",
    "\n",
    "I like to display a correlation matrix to see if there are any correlated variables. It does not seem to be the case."
   ]
  },
  {
   "cell_type": "code",
   "execution_count": 4,
   "id": "6a5f1c00",
   "metadata": {},
   "outputs": [
    {
     "data": {
      "text/html": [
       "<div>\n",
       "<style scoped>\n",
       "    .dataframe tbody tr th:only-of-type {\n",
       "        vertical-align: middle;\n",
       "    }\n",
       "\n",
       "    .dataframe tbody tr th {\n",
       "        vertical-align: top;\n",
       "    }\n",
       "\n",
       "    .dataframe thead th {\n",
       "        text-align: right;\n",
       "    }\n",
       "</style>\n",
       "<table border=\"1\" class=\"dataframe\">\n",
       "  <thead>\n",
       "    <tr style=\"text-align: right;\">\n",
       "      <th></th>\n",
       "      <th>is_genuine</th>\n",
       "      <th>diagonal</th>\n",
       "      <th>height_left</th>\n",
       "      <th>height_right</th>\n",
       "      <th>margin_low</th>\n",
       "      <th>margin_up</th>\n",
       "      <th>length</th>\n",
       "    </tr>\n",
       "  </thead>\n",
       "  <tbody>\n",
       "    <tr>\n",
       "      <th>is_genuine</th>\n",
       "      <td>1.000000</td>\n",
       "      <td>0.132756</td>\n",
       "      <td>-0.379833</td>\n",
       "      <td>-0.485092</td>\n",
       "      <td>-0.783032</td>\n",
       "      <td>-0.606262</td>\n",
       "      <td>0.849285</td>\n",
       "    </tr>\n",
       "    <tr>\n",
       "      <th>diagonal</th>\n",
       "      <td>0.132756</td>\n",
       "      <td>1.000000</td>\n",
       "      <td>0.019472</td>\n",
       "      <td>-0.024492</td>\n",
       "      <td>-0.111534</td>\n",
       "      <td>-0.055649</td>\n",
       "      <td>0.097587</td>\n",
       "    </tr>\n",
       "    <tr>\n",
       "      <th>height_left</th>\n",
       "      <td>-0.379833</td>\n",
       "      <td>0.019472</td>\n",
       "      <td>1.000000</td>\n",
       "      <td>0.242279</td>\n",
       "      <td>0.302643</td>\n",
       "      <td>0.246522</td>\n",
       "      <td>-0.320863</td>\n",
       "    </tr>\n",
       "    <tr>\n",
       "      <th>height_right</th>\n",
       "      <td>-0.485092</td>\n",
       "      <td>-0.024492</td>\n",
       "      <td>0.242279</td>\n",
       "      <td>1.000000</td>\n",
       "      <td>0.391085</td>\n",
       "      <td>0.307005</td>\n",
       "      <td>-0.401751</td>\n",
       "    </tr>\n",
       "    <tr>\n",
       "      <th>margin_low</th>\n",
       "      <td>-0.783032</td>\n",
       "      <td>-0.111534</td>\n",
       "      <td>0.302643</td>\n",
       "      <td>0.391085</td>\n",
       "      <td>1.000000</td>\n",
       "      <td>0.431606</td>\n",
       "      <td>-0.666753</td>\n",
       "    </tr>\n",
       "    <tr>\n",
       "      <th>margin_up</th>\n",
       "      <td>-0.606262</td>\n",
       "      <td>-0.055649</td>\n",
       "      <td>0.246522</td>\n",
       "      <td>0.307005</td>\n",
       "      <td>0.431606</td>\n",
       "      <td>1.000000</td>\n",
       "      <td>-0.520575</td>\n",
       "    </tr>\n",
       "    <tr>\n",
       "      <th>length</th>\n",
       "      <td>0.849285</td>\n",
       "      <td>0.097587</td>\n",
       "      <td>-0.320863</td>\n",
       "      <td>-0.401751</td>\n",
       "      <td>-0.666753</td>\n",
       "      <td>-0.520575</td>\n",
       "      <td>1.000000</td>\n",
       "    </tr>\n",
       "  </tbody>\n",
       "</table>\n",
       "</div>"
      ],
      "text/plain": [
       "              is_genuine  diagonal  height_left  height_right  margin_low  \\\n",
       "is_genuine      1.000000  0.132756    -0.379833     -0.485092   -0.783032   \n",
       "diagonal        0.132756  1.000000     0.019472     -0.024492   -0.111534   \n",
       "height_left    -0.379833  0.019472     1.000000      0.242279    0.302643   \n",
       "height_right   -0.485092 -0.024492     0.242279      1.000000    0.391085   \n",
       "margin_low     -0.783032 -0.111534     0.302643      0.391085    1.000000   \n",
       "margin_up      -0.606262 -0.055649     0.246522      0.307005    0.431606   \n",
       "length          0.849285  0.097587    -0.320863     -0.401751   -0.666753   \n",
       "\n",
       "              margin_up    length  \n",
       "is_genuine    -0.606262  0.849285  \n",
       "diagonal      -0.055649  0.097587  \n",
       "height_left    0.246522 -0.320863  \n",
       "height_right   0.307005 -0.401751  \n",
       "margin_low     0.431606 -0.666753  \n",
       "margin_up      1.000000 -0.520575  \n",
       "length        -0.520575  1.000000  "
      ]
     },
     "metadata": {},
     "output_type": "display_data"
    }
   ],
   "source": [
    "corrMatrix = data.corr()\n",
    "display(corrMatrix)"
   ]
  },
  {
   "cell_type": "markdown",
   "id": "47fcfd84",
   "metadata": {},
   "source": [
    "I also like to use `.info()` to see if there are any missing values:"
   ]
  },
  {
   "cell_type": "code",
   "execution_count": 5,
   "id": "a8b04708",
   "metadata": {},
   "outputs": [
    {
     "name": "stdout",
     "output_type": "stream",
     "text": [
      "<class 'pandas.core.frame.DataFrame'>\n",
      "RangeIndex: 1500 entries, 0 to 1499\n",
      "Data columns (total 7 columns):\n",
      " #   Column        Non-Null Count  Dtype  \n",
      "---  ------        --------------  -----  \n",
      " 0   is_genuine    1500 non-null   bool   \n",
      " 1   diagonal      1500 non-null   float64\n",
      " 2   height_left   1500 non-null   float64\n",
      " 3   height_right  1500 non-null   float64\n",
      " 4   margin_low    1463 non-null   float64\n",
      " 5   margin_up     1500 non-null   float64\n",
      " 6   length        1500 non-null   float64\n",
      "dtypes: bool(1), float64(6)\n",
      "memory usage: 71.9 KB\n"
     ]
    }
   ],
   "source": [
    "data.info()"
   ]
  },
  {
   "cell_type": "markdown",
   "id": "54e48889",
   "metadata": {},
   "source": [
    "We can see that the column *margin_low* has 37 missing values. We don't really like NaNs, so we will first use a linear regression model using the ML library scikit-learn to \"predict\" these values so that we don't have missing values anymore.\n",
    "\n",
    "Note that we could also just delete these lines since there are only a few, or use another mean to fill these values, such as the mean of all the other examples.\n",
    "\n",
    "I decided to split the legit bills from the counterfeit bills since we wouldn't want to predict the *margin_low* values from the legit bills with data containing data from counterfeit ones."
   ]
  },
  {
   "cell_type": "code",
   "execution_count": 6,
   "id": "6589dd20",
   "metadata": {},
   "outputs": [
    {
     "name": "stdout",
     "output_type": "stream",
     "text": [
      "Legit bills: (1000, 7)\n",
      "Counterfeit bills: (500, 7)\n"
     ]
    }
   ],
   "source": [
    "data_true = data[data['is_genuine'] == True]\n",
    "data_false = data[data['is_genuine'] == False]\n",
    "\n",
    "print('Legit bills:', data_true.shape)\n",
    "print('Counterfeit bills:', data_false.shape)"
   ]
  },
  {
   "cell_type": "markdown",
   "id": "a91f809f",
   "metadata": {},
   "source": [
    "Legit bills:"
   ]
  },
  {
   "cell_type": "code",
   "execution_count": 7,
   "id": "eef692e5",
   "metadata": {},
   "outputs": [
    {
     "data": {
      "text/html": [
       "<div>\n",
       "<style scoped>\n",
       "    .dataframe tbody tr th:only-of-type {\n",
       "        vertical-align: middle;\n",
       "    }\n",
       "\n",
       "    .dataframe tbody tr th {\n",
       "        vertical-align: top;\n",
       "    }\n",
       "\n",
       "    .dataframe thead th {\n",
       "        text-align: right;\n",
       "    }\n",
       "</style>\n",
       "<table border=\"1\" class=\"dataframe\">\n",
       "  <thead>\n",
       "    <tr style=\"text-align: right;\">\n",
       "      <th></th>\n",
       "      <th>is_genuine</th>\n",
       "      <th>diagonal</th>\n",
       "      <th>height_left</th>\n",
       "      <th>height_right</th>\n",
       "      <th>margin_low</th>\n",
       "      <th>margin_up</th>\n",
       "      <th>length</th>\n",
       "    </tr>\n",
       "  </thead>\n",
       "  <tbody>\n",
       "    <tr>\n",
       "      <th>0</th>\n",
       "      <td>True</td>\n",
       "      <td>171.81</td>\n",
       "      <td>104.86</td>\n",
       "      <td>104.95</td>\n",
       "      <td>4.52</td>\n",
       "      <td>2.89</td>\n",
       "      <td>112.83</td>\n",
       "    </tr>\n",
       "    <tr>\n",
       "      <th>1</th>\n",
       "      <td>True</td>\n",
       "      <td>171.46</td>\n",
       "      <td>103.36</td>\n",
       "      <td>103.66</td>\n",
       "      <td>3.77</td>\n",
       "      <td>2.99</td>\n",
       "      <td>113.09</td>\n",
       "    </tr>\n",
       "    <tr>\n",
       "      <th>2</th>\n",
       "      <td>True</td>\n",
       "      <td>172.69</td>\n",
       "      <td>104.48</td>\n",
       "      <td>103.50</td>\n",
       "      <td>4.40</td>\n",
       "      <td>2.94</td>\n",
       "      <td>113.16</td>\n",
       "    </tr>\n",
       "    <tr>\n",
       "      <th>3</th>\n",
       "      <td>True</td>\n",
       "      <td>171.36</td>\n",
       "      <td>103.91</td>\n",
       "      <td>103.94</td>\n",
       "      <td>3.62</td>\n",
       "      <td>3.01</td>\n",
       "      <td>113.51</td>\n",
       "    </tr>\n",
       "    <tr>\n",
       "      <th>4</th>\n",
       "      <td>True</td>\n",
       "      <td>171.73</td>\n",
       "      <td>104.28</td>\n",
       "      <td>103.46</td>\n",
       "      <td>4.04</td>\n",
       "      <td>3.48</td>\n",
       "      <td>112.54</td>\n",
       "    </tr>\n",
       "  </tbody>\n",
       "</table>\n",
       "</div>"
      ],
      "text/plain": [
       "   is_genuine  diagonal  height_left  height_right  margin_low  margin_up  \\\n",
       "0        True    171.81       104.86        104.95        4.52       2.89   \n",
       "1        True    171.46       103.36        103.66        3.77       2.99   \n",
       "2        True    172.69       104.48        103.50        4.40       2.94   \n",
       "3        True    171.36       103.91        103.94        3.62       3.01   \n",
       "4        True    171.73       104.28        103.46        4.04       3.48   \n",
       "\n",
       "   length  \n",
       "0  112.83  \n",
       "1  113.09  \n",
       "2  113.16  \n",
       "3  113.51  \n",
       "4  112.54  "
      ]
     },
     "metadata": {},
     "output_type": "display_data"
    },
    {
     "name": "stdout",
     "output_type": "stream",
     "text": [
      "<class 'pandas.core.frame.DataFrame'>\n",
      "Int64Index: 1000 entries, 0 to 999\n",
      "Data columns (total 7 columns):\n",
      " #   Column        Non-Null Count  Dtype  \n",
      "---  ------        --------------  -----  \n",
      " 0   is_genuine    1000 non-null   bool   \n",
      " 1   diagonal      1000 non-null   float64\n",
      " 2   height_left   1000 non-null   float64\n",
      " 3   height_right  1000 non-null   float64\n",
      " 4   margin_low    971 non-null    float64\n",
      " 5   margin_up     1000 non-null   float64\n",
      " 6   length        1000 non-null   float64\n",
      "dtypes: bool(1), float64(6)\n",
      "memory usage: 55.7 KB\n"
     ]
    }
   ],
   "source": [
    "display(data_true.head())\n",
    "data_true.info() # 29 margin_low missing values"
   ]
  },
  {
   "cell_type": "markdown",
   "id": "2ec1d207",
   "metadata": {},
   "source": [
    "Counterfeit bills:"
   ]
  },
  {
   "cell_type": "code",
   "execution_count": 8,
   "id": "86c939e1",
   "metadata": {},
   "outputs": [
    {
     "data": {
      "text/html": [
       "<div>\n",
       "<style scoped>\n",
       "    .dataframe tbody tr th:only-of-type {\n",
       "        vertical-align: middle;\n",
       "    }\n",
       "\n",
       "    .dataframe tbody tr th {\n",
       "        vertical-align: top;\n",
       "    }\n",
       "\n",
       "    .dataframe thead th {\n",
       "        text-align: right;\n",
       "    }\n",
       "</style>\n",
       "<table border=\"1\" class=\"dataframe\">\n",
       "  <thead>\n",
       "    <tr style=\"text-align: right;\">\n",
       "      <th></th>\n",
       "      <th>is_genuine</th>\n",
       "      <th>diagonal</th>\n",
       "      <th>height_left</th>\n",
       "      <th>height_right</th>\n",
       "      <th>margin_low</th>\n",
       "      <th>margin_up</th>\n",
       "      <th>length</th>\n",
       "    </tr>\n",
       "  </thead>\n",
       "  <tbody>\n",
       "    <tr>\n",
       "      <th>1000</th>\n",
       "      <td>False</td>\n",
       "      <td>172.28</td>\n",
       "      <td>103.95</td>\n",
       "      <td>103.91</td>\n",
       "      <td>4.78</td>\n",
       "      <td>3.31</td>\n",
       "      <td>111.40</td>\n",
       "    </tr>\n",
       "    <tr>\n",
       "      <th>1001</th>\n",
       "      <td>False</td>\n",
       "      <td>171.92</td>\n",
       "      <td>103.86</td>\n",
       "      <td>104.30</td>\n",
       "      <td>4.96</td>\n",
       "      <td>3.13</td>\n",
       "      <td>111.29</td>\n",
       "    </tr>\n",
       "    <tr>\n",
       "      <th>1002</th>\n",
       "      <td>False</td>\n",
       "      <td>171.59</td>\n",
       "      <td>104.14</td>\n",
       "      <td>104.38</td>\n",
       "      <td>4.97</td>\n",
       "      <td>3.47</td>\n",
       "      <td>111.22</td>\n",
       "    </tr>\n",
       "    <tr>\n",
       "      <th>1003</th>\n",
       "      <td>False</td>\n",
       "      <td>172.02</td>\n",
       "      <td>104.33</td>\n",
       "      <td>104.33</td>\n",
       "      <td>5.19</td>\n",
       "      <td>3.21</td>\n",
       "      <td>111.99</td>\n",
       "    </tr>\n",
       "    <tr>\n",
       "      <th>1004</th>\n",
       "      <td>False</td>\n",
       "      <td>172.55</td>\n",
       "      <td>104.25</td>\n",
       "      <td>104.23</td>\n",
       "      <td>5.60</td>\n",
       "      <td>3.13</td>\n",
       "      <td>111.72</td>\n",
       "    </tr>\n",
       "  </tbody>\n",
       "</table>\n",
       "</div>"
      ],
      "text/plain": [
       "      is_genuine  diagonal  height_left  height_right  margin_low  margin_up  \\\n",
       "1000       False    172.28       103.95        103.91        4.78       3.31   \n",
       "1001       False    171.92       103.86        104.30        4.96       3.13   \n",
       "1002       False    171.59       104.14        104.38        4.97       3.47   \n",
       "1003       False    172.02       104.33        104.33        5.19       3.21   \n",
       "1004       False    172.55       104.25        104.23        5.60       3.13   \n",
       "\n",
       "      length  \n",
       "1000  111.40  \n",
       "1001  111.29  \n",
       "1002  111.22  \n",
       "1003  111.99  \n",
       "1004  111.72  "
      ]
     },
     "metadata": {},
     "output_type": "display_data"
    },
    {
     "name": "stdout",
     "output_type": "stream",
     "text": [
      "<class 'pandas.core.frame.DataFrame'>\n",
      "Int64Index: 500 entries, 1000 to 1499\n",
      "Data columns (total 7 columns):\n",
      " #   Column        Non-Null Count  Dtype  \n",
      "---  ------        --------------  -----  \n",
      " 0   is_genuine    500 non-null    bool   \n",
      " 1   diagonal      500 non-null    float64\n",
      " 2   height_left   500 non-null    float64\n",
      " 3   height_right  500 non-null    float64\n",
      " 4   margin_low    492 non-null    float64\n",
      " 5   margin_up     500 non-null    float64\n",
      " 6   length        500 non-null    float64\n",
      "dtypes: bool(1), float64(6)\n",
      "memory usage: 27.8 KB\n"
     ]
    }
   ],
   "source": [
    "display(data_false.head())\n",
    "data_false.info() # 8 missing margin_low values"
   ]
  },
  {
   "cell_type": "markdown",
   "id": "2050b1b0",
   "metadata": {},
   "source": [
    "We can actually visually see that the data from the counterfeit bills *looks* different than the legit ones.\n",
    "\n",
    "### Check for outliers\n",
    "\n",
    "It's always nice to check our data for any potentially disrupting outliers:"
   ]
  },
  {
   "cell_type": "code",
   "execution_count": 9,
   "id": "568f0f43",
   "metadata": {
    "scrolled": false
   },
   "outputs": [],
   "source": [
    "def Outliers(i):\n",
    "    \"\"\" Displays a boxplot and a list of the outliers of the input variable \"\"\"\n",
    "    print()\n",
    "    print(\"Boxplot :\", i)\n",
    "    box = boxplot(data[i])\n",
    "    plt.show()\n",
    "    print()\n",
    "    print(\"Outliers list:\")\n",
    "    top_points = box[\"fliers\"][0].get_data()[1]\n",
    "    display(pd.DataFrame(data[i][data[i].isin(top_points)]).sort_values(by = i, ascending=False))\n",
    "\n",
    "#for column in data.columns[1:]:\n",
    "#    Outliers(column)"
   ]
  },
  {
   "cell_type": "markdown",
   "id": "5d7458ee",
   "metadata": {},
   "source": [
    "Even though there are outliers, there do not seem to be extreme ones.\n",
    "\n",
    "Note: We can already see that having NaNs in our database is not a great thing: the boxplot() function didn't work on *margin_low* since it contains NaN values."
   ]
  },
  {
   "cell_type": "markdown",
   "id": "bac176da",
   "metadata": {},
   "source": [
    "<a name=\"4\"></a>\n",
    "## 4. Linear Regression\n",
    "\n",
    "<a name=\"4.1\"></a>\n",
    "### 4.1 Model preparation\n",
    "\n",
    "As we said before, let's predict missing values using linear regression.\n",
    "\n",
    "**Note: We will do so for both legit and counterfeit bills to keep a clean dataset, but we could argue than doing so for the counterfeit ones is not pertinent.**\n",
    "\n",
    "Let's first split the examples with the values we want to predict from the original dataset."
   ]
  },
  {
   "cell_type": "code",
   "execution_count": 10,
   "id": "046f1173",
   "metadata": {},
   "outputs": [],
   "source": [
    "data_true_null = data_true[data_true[\"margin_low\"].isnull()]\n",
    "data_false_null = data_false[data_false[\"margin_low\"].isnull()]\n",
    "\n",
    "data_true_without_null = data_true[data_true[\"margin_low\"].notnull()]\n",
    "data_false_without_null = data_false[data_false[\"margin_low\"].notnull()]"
   ]
  },
  {
   "cell_type": "code",
   "execution_count": 11,
   "id": "6bc676f4",
   "metadata": {},
   "outputs": [
    {
     "name": "stdout",
     "output_type": "stream",
     "text": [
      "Legit bills with missing margin_low: (29, 7)\n",
      "Counterfeit bills with missing margin_low: (8, 7)\n",
      "\n",
      "Full data legit bills: (971, 7)\n",
      "Full data counterfeit bills: (492, 7)\n"
     ]
    }
   ],
   "source": [
    "print('Legit bills with missing margin_low:', data_true_null.shape)\n",
    "print('Counterfeit bills with missing margin_low:', data_false_null.shape)\n",
    "print()\n",
    "print('Full data legit bills:', data_true_without_null.shape)\n",
    "print('Full data counterfeit bills:', data_false_without_null.shape)"
   ]
  },
  {
   "cell_type": "markdown",
   "id": "1cb4252c",
   "metadata": {},
   "source": [
    "We can visualize the data with seaborn:"
   ]
  },
  {
   "cell_type": "code",
   "execution_count": 12,
   "id": "52889fdb",
   "metadata": {},
   "outputs": [
    {
     "data": {
      "text/plain": [
       "<seaborn.axisgrid.PairGrid at 0x1f127704280>"
      ]
     },
     "execution_count": 12,
     "metadata": {},
     "output_type": "execute_result"
    },
    {
     "data": {
      "image/png": "[encoded data removed]",
      "text/plain": [
       "<Figure size 1080x180 with 7 Axes>"
      ]
     },
     "metadata": {
      "needs_background": "light"
     },
     "output_type": "display_data"
    },
    {
     "data": {
      "image/png": "[encoded data removed]",
      "text/plain": [
       "<Figure size 1080x180 with 7 Axes>"
      ]
     },
     "metadata": {
      "needs_background": "light"
     },
     "output_type": "display_data"
    }
   ],
   "source": [
    "sns.pairplot(data_true_without_null, x_vars=[\"diagonal\", \"height_left\", \"height_right\", \"margin_low\", \"margin_up\", \"length\"], y_vars=\"margin_low\", kind='reg')\n",
    "sns.pairplot(data_false_without_null, x_vars=[\"diagonal\", \"height_left\", \"height_right\", \"margin_low\", \"margin_up\", \"length\"], y_vars=\"margin_low\", kind='reg')"
   ]
  },
  {
   "cell_type": "markdown",
   "id": "56c2e796",
   "metadata": {},
   "source": [
    "We first assign X and y for linear regression:"
   ]
  },
  {
   "cell_type": "code",
   "execution_count": 13,
   "id": "ef562bbd",
   "metadata": {},
   "outputs": [],
   "source": [
    "feature_cols = ['diagonal', 'height_left', 'height_right', 'margin_up', 'length']\n",
    "\n",
    "X_true = data_true_without_null[feature_cols]\n",
    "X_false = data_false_without_null[feature_cols]\n",
    "\n",
    "y_true = data_true_without_null['margin_low']\n",
    "y_false = data_false_without_null['margin_low']"
   ]
  },
  {
   "cell_type": "markdown",
   "id": "8b9b9d98",
   "metadata": {},
   "source": [
    "Then split the data between *training* and *cross-validation* (which I called *test* in this notebook) sets."
   ]
  },
  {
   "cell_type": "code",
   "execution_count": 14,
   "id": "05f74ae5",
   "metadata": {},
   "outputs": [],
   "source": [
    "X_true_train, X_true_test, y_true_train, y_true_test = train_test_split(X_true, y_true)\n",
    "X_false_train, X_false_test, y_false_train, y_false_test = train_test_split(X_false, y_false)"
   ]
  },
  {
   "cell_type": "markdown",
   "id": "dff3ab3b",
   "metadata": {},
   "source": [
    "We train the models:"
   ]
  },
  {
   "cell_type": "code",
   "execution_count": 15,
   "id": "251c6a8d",
   "metadata": {},
   "outputs": [
    {
     "data": {
      "text/html": [
       "<style>#sk-container-id-1 {color: black;background-color: white;}#sk-container-id-1 pre{padding: 0;}#sk-container-id-1 div.sk-toggleable {background-color: white;}#sk-container-id-1 label.sk-toggleable__label {cursor: pointer;display: block;width: 100%;margin-bottom: 0;padding: 0.3em;box-sizing: border-box;text-align: center;}#sk-container-id-1 label.sk-toggleable__label-arrow:before {content: \"▸\";float: left;margin-right: 0.25em;color: #696969;}#sk-container-id-1 label.sk-toggleable__label-arrow:hover:before {color: black;}#sk-container-id-1 div.sk-estimator:hover label.sk-toggleable__label-arrow:before {color: black;}#sk-container-id-1 div.sk-toggleable__content {max-height: 0;max-width: 0;overflow: hidden;text-align: left;background-color: #f0f8ff;}#sk-container-id-1 div.sk-toggleable__content pre {margin: 0.2em;color: black;border-radius: 0.25em;background-color: #f0f8ff;}#sk-container-id-1 input.sk-toggleable__control:checked~div.sk-toggleable__content {max-height: 200px;max-width: 100%;overflow: auto;}#sk-container-id-1 input.sk-toggleable__control:checked~label.sk-toggleable__label-arrow:before {content: \"▾\";}#sk-container-id-1 div.sk-estimator input.sk-toggleable__control:checked~label.sk-toggleable__label {background-color: #d4ebff;}#sk-container-id-1 div.sk-label input.sk-toggleable__control:checked~label.sk-toggleable__label {background-color: #d4ebff;}#sk-container-id-1 input.sk-hidden--visually {border: 0;clip: rect(1px 1px 1px 1px);clip: rect(1px, 1px, 1px, 1px);height: 1px;margin: -1px;overflow: hidden;padding: 0;position: absolute;width: 1px;}#sk-container-id-1 div.sk-estimator {font-family: monospace;background-color: #f0f8ff;border: 1px dotted black;border-radius: 0.25em;box-sizing: border-box;margin-bottom: 0.5em;}#sk-container-id-1 div.sk-estimator:hover {background-color: #d4ebff;}#sk-container-id-1 div.sk-parallel-item::after {content: \"\";width: 100%;border-bottom: 1px solid gray;flex-grow: 1;}#sk-container-id-1 div.sk-label:hover label.sk-toggleable__label {background-color: #d4ebff;}#sk-container-id-1 div.sk-serial::before {content: \"\";position: absolute;border-left: 1px solid gray;box-sizing: border-box;top: 0;bottom: 0;left: 50%;z-index: 0;}#sk-container-id-1 div.sk-serial {display: flex;flex-direction: column;align-items: center;background-color: white;padding-right: 0.2em;padding-left: 0.2em;position: relative;}#sk-container-id-1 div.sk-item {position: relative;z-index: 1;}#sk-container-id-1 div.sk-parallel {display: flex;align-items: stretch;justify-content: center;background-color: white;position: relative;}#sk-container-id-1 div.sk-item::before, #sk-container-id-1 div.sk-parallel-item::before {content: \"\";position: absolute;border-left: 1px solid gray;box-sizing: border-box;top: 0;bottom: 0;left: 50%;z-index: -1;}#sk-container-id-1 div.sk-parallel-item {display: flex;flex-direction: column;z-index: 1;position: relative;background-color: white;}#sk-container-id-1 div.sk-parallel-item:first-child::after {align-self: flex-end;width: 50%;}#sk-container-id-1 div.sk-parallel-item:last-child::after {align-self: flex-start;width: 50%;}#sk-container-id-1 div.sk-parallel-item:only-child::after {width: 0;}#sk-container-id-1 div.sk-dashed-wrapped {border: 1px dashed gray;margin: 0 0.4em 0.5em 0.4em;box-sizing: border-box;padding-bottom: 0.4em;background-color: white;}#sk-container-id-1 div.sk-label label {font-family: monospace;font-weight: bold;display: inline-block;line-height: 1.2em;}#sk-container-id-1 div.sk-label-container {text-align: center;}#sk-container-id-1 div.sk-container {/* jupyter's `normalize.less` sets `[hidden] { display: none; }` but bootstrap.min.css set `[hidden] { display: none !important; }` so we also need the `!important` here to be able to override the default hidden behavior on the sphinx rendered scikit-learn.org. See: https://github.com/scikit-learn/scikit-learn/issues/21755 */display: inline-block !important;position: relative;}#sk-container-id-1 div.sk-text-repr-fallback {display: none;}</style><div id=\"sk-container-id-1\" class=\"sk-top-container\"><div class=\"sk-text-repr-fallback\"><pre>LinearRegression()</pre><b>In a Jupyter environment, please rerun this cell to show the HTML representation or trust the notebook. <br />On GitHub, the HTML representation is unable to render, please try loading this page with nbviewer.org.</b></div><div class=\"sk-container\" hidden><div class=\"sk-item\"><div class=\"sk-estimator sk-toggleable\"><input class=\"sk-toggleable__control sk-hidden--visually\" id=\"sk-estimator-id-1\" type=\"checkbox\" checked><label for=\"sk-estimator-id-1\" class=\"sk-toggleable__label sk-toggleable__label-arrow\">LinearRegression</label><div class=\"sk-toggleable__content\"><pre>LinearRegression()</pre></div></div></div></div></div>"
      ],
      "text/plain": [
       "LinearRegression()"
      ]
     },
     "execution_count": 15,
     "metadata": {},
     "output_type": "execute_result"
    }
   ],
   "source": [
    "linreg_true = LinearRegression()\n",
    "linreg_false = LinearRegression()\n",
    "\n",
    "linreg_true.fit(X_true_train, y_true_train)\n",
    "linreg_false.fit(X_false_train, y_false_train)"
   ]
  },
  {
   "cell_type": "markdown",
   "id": "441d3351",
   "metadata": {},
   "source": [
    "Let's print some useful informations: the coefficients."
   ]
  },
  {
   "cell_type": "code",
   "execution_count": 16,
   "id": "3a6ba9e1",
   "metadata": {},
   "outputs": [
    {
     "name": "stdout",
     "output_type": "stream",
     "text": [
      "-12.951126603929994\n",
      "11.144882636178854\n",
      "\n",
      "[ 0.04401402  0.02760476  0.02975377 -0.05957221  0.03289316]\n",
      "[-0.12127598  0.23179017 -0.00864829 -0.35688165 -0.06375586]\n"
     ]
    },
    {
     "data": {
      "text/plain": [
       "<zip at 0x1f128467640>"
      ]
     },
     "execution_count": 16,
     "metadata": {},
     "output_type": "execute_result"
    }
   ],
   "source": [
    "print(linreg_true.intercept_)\n",
    "print(linreg_false.intercept_)\n",
    "print()\n",
    "print(linreg_true.coef_)\n",
    "print(linreg_false.coef_)\n",
    "\n",
    "zip(feature_cols, linreg_true.coef_)\n",
    "zip(feature_cols, linreg_false.coef_)"
   ]
  },
  {
   "cell_type": "markdown",
   "id": "741eb6a7",
   "metadata": {},
   "source": [
    "Predictions of the trained models on the *test sets*:"
   ]
  },
  {
   "cell_type": "code",
   "execution_count": 17,
   "id": "74998193",
   "metadata": {
    "scrolled": true
   },
   "outputs": [
    {
     "name": "stdout",
     "output_type": "stream",
     "text": [
      "[4.10093021 4.13719273 4.09451289 4.1090038  4.12343391 4.13190758\n",
      " 4.0944275  4.13483691 4.12049022 4.09477924 4.11088954 4.11694839\n",
      " 4.08424418 4.14433829 4.11299804 4.05897758 4.1182746  4.14118527\n",
      " 4.14053464 4.13640794 4.12427159 4.14540798 4.13032926 4.10380766\n",
      " 4.11315708 4.08052304 4.1279743  4.15555985 4.14029612 4.10947878\n",
      " 4.13665809 4.10994449 4.07057872 4.12815388 4.13596275 4.11661104\n",
      " 4.12124942 4.10370814 4.08928872 4.09552407 4.15460008 4.11363597\n",
      " 4.09965753 4.0691673  4.13466562 4.14101876 4.12606754 4.08743677\n",
      " 4.16834649 4.13428972 4.1043705  4.14622613 4.10464874 4.11040283\n",
      " 4.13531428 4.09672869 4.17681104 4.09647764 4.11026559 4.09899805\n",
      " 4.10682147 4.13327493 4.10981922 4.1308694  4.1117448  4.13262679\n",
      " 4.07631185 4.08826989 4.10617771 4.1629225  4.09860748 4.11933063\n",
      " 4.14394583 4.11205262 4.10680439 4.10773591 4.11421611 4.09357762\n",
      " 4.14231933 4.11689441 4.08015525 4.17919661 4.097974   4.12188524\n",
      " 4.08372698 4.13402471 4.12120451 4.10990929 4.08662411 4.11614309\n",
      " 4.08616969 4.12368663 4.09907991 4.12697222 4.10448249 4.0483459\n",
      " 4.12388532 4.08412926 4.11840012 4.09472785 4.05903582 4.08957109\n",
      " 4.05862081 4.1186337  4.10597461 4.09308331 4.129027   4.1048664\n",
      " 4.13870062 4.07847009 4.11182829 4.1660607  4.13572801 4.16891664\n",
      " 4.12563154 4.09067937 4.11106322 4.09680918 4.13039821 4.1248801\n",
      " 4.0767919  4.10172383 4.10717572 4.13076186 4.12185337 4.12551969\n",
      " 4.09356523 4.12857393 4.13414985 4.12935248 4.11067965 4.12814791\n",
      " 4.13445249 4.11434893 4.07170869 4.13250114 4.11774001 4.11997647\n",
      " 4.13978824 4.1220875  4.10952891 4.09574968 4.07643504 4.06910322\n",
      " 4.12188626 4.0899322  4.16834425 4.11304559 4.11129724 4.07286265\n",
      " 4.11801473 4.1431547  4.06465295 4.13513519 4.12781982 4.1250679\n",
      " 4.12582783 4.13325887 4.11503595 4.08282092 4.12085587 4.12745729\n",
      " 4.17186741 4.13249848 4.12138103 4.12440697 4.11501876 4.14873642\n",
      " 4.11949529 4.15311419 4.16023459 4.11161598 4.10063058 4.13185808\n",
      " 4.15114873 4.18305139 4.14436338 4.10258295 4.10644652 4.12447978\n",
      " 4.07507725 4.13779853 4.15632972 4.13513079 4.13175541 4.11106058\n",
      " 4.14559329 4.12012985 4.13127091 4.10160484 4.13611515 4.08719231\n",
      " 4.11413009 4.10900117 4.14617154 4.08745123 4.10713998 4.12613754\n",
      " 4.12498695 4.08095094 4.12533034 4.13722775 4.09161681 4.10495534\n",
      " 4.11432763 4.10751731 4.09809611 4.13542196 4.15948102 4.13832913\n",
      " 4.11202316 4.13211454 4.14721816 4.15459774 4.1197427  4.15238084\n",
      " 4.13248902 4.11436623 4.09630454 4.14264013 4.13749407 4.12427498\n",
      " 4.12275365 4.15383787 4.086718   4.13325076 4.18228642 4.12869601\n",
      " 4.14584688 4.10306871 4.09755505 4.15131988 4.08735037 4.11529017\n",
      " 4.1226277  4.14417729 4.10077033 4.13794135 4.13579562 4.11755685\n",
      " 4.13946657 4.12750261 4.13862482]\n",
      "[5.00332034 5.19121308 5.21417494 5.24496045 5.28960343 5.27065486\n",
      " 5.06084924 5.24774311 5.15765349 5.12530103 5.06786219 5.33813354\n",
      " 5.22404641 5.00898361 5.30809252 5.38774076 5.07662145 5.3136211\n",
      " 5.12648027 5.13196607 5.17370387 5.24980306 5.10956155 5.42746807\n",
      " 5.41167016 5.30789652 5.27817839 5.23073466 5.28789679 5.23447109\n",
      " 5.34651502 5.12607513 5.39845023 5.13587621 5.28841381 5.28530003\n",
      " 5.17383007 5.30348838 5.28942283 5.49021189 5.14211615 5.09034259\n",
      " 5.25406332 5.1469134  5.11672202 5.14783333 5.08861321 5.41481525\n",
      " 5.19136421 5.15355753 5.29642517 5.20171751 5.38465286 4.9733156\n",
      " 5.11958591 5.18782028 5.14656977 5.13001129 5.24158176 5.24100884\n",
      " 5.33856692 5.31563368 5.2282675  5.3684319  5.19586681 5.26184598\n",
      " 5.2910314  5.26242512 5.18582625 5.15875389 5.31782788 5.32364436\n",
      " 5.08178015 5.19226168 5.22016583 5.14855455 5.13269107 5.30758073\n",
      " 5.27867877 5.31643953 5.25197368 5.20192688 5.21624826 5.1025762\n",
      " 5.23890085 5.23037713 5.37250296 5.09858497 5.38613363 5.29499437\n",
      " 5.25464871 5.11432435 5.20919498 5.23363888 5.06053496 5.16371985\n",
      " 5.27345121 5.31403046 5.1538046  5.21206953 5.08803616 5.28265033\n",
      " 5.21235604 5.17830079 5.26230314 5.36361295 5.28332904 5.2366817\n",
      " 5.32352281 5.2596684  5.21931802 5.26431854 5.29645136 5.31332839\n",
      " 5.18438721 5.19839691 5.16354097 5.28242412 5.17214184 5.36138591\n",
      " 5.14181732 5.26948138 5.2677482 ]\n"
     ]
    }
   ],
   "source": [
    "y_true_pred = linreg_true.predict(X_true_test)\n",
    "y_false_pred = linreg_false.predict(X_false_test)\n",
    "\n",
    "print(y_true_pred)\n",
    "print(y_false_pred)"
   ]
  },
  {
   "cell_type": "markdown",
   "id": "26aeb490",
   "metadata": {},
   "source": [
    "We can note that the predicted values for the counterfeit bills are quite different than the predicted values for the legit ones. This seems logical since we noted before during the data exploration that the values from the counterfeit bills already looked different.\n",
    "\n",
    "Let's evaluate the models:"
   ]
  },
  {
   "cell_type": "code",
   "execution_count": 18,
   "id": "1455791a",
   "metadata": {},
   "outputs": [
    {
     "name": "stdout",
     "output_type": "stream",
     "text": [
      "\n",
      "Legit bills:\n",
      "0.26585221113464585\n",
      "0.1129265039405479\n",
      "0.3360453897028613\n",
      "\n",
      "Counterfeit bills:\n",
      "0.48290066389652053\n",
      "0.34297071177035654\n",
      "0.5856370136614971\n"
     ]
    }
   ],
   "source": [
    "print()\n",
    "print('Legit bills:')\n",
    "print(metrics.mean_absolute_error(y_true_test, y_true_pred))\n",
    "print(metrics.mean_squared_error(y_true_test, y_true_pred))\n",
    "print(np.sqrt(metrics.mean_squared_error(y_true_test, y_true_pred)))\n",
    "\n",
    "print()\n",
    "print('Counterfeit bills:')\n",
    "print(metrics.mean_absolute_error(y_false_test, y_false_pred))\n",
    "print(metrics.mean_squared_error(y_false_test, y_false_pred))\n",
    "print(np.sqrt(metrics.mean_squared_error(y_false_test, y_false_pred)))"
   ]
  },
  {
   "cell_type": "markdown",
   "id": "fbb325af",
   "metadata": {},
   "source": [
    "<a name=\"4.2\"></a>\n",
    "### 4.2 Prediction of the missing values\n",
    "\n",
    "Now that we trained our models, we can use them to \"predict\" our missing values."
   ]
  },
  {
   "cell_type": "code",
   "execution_count": 19,
   "id": "3ff49434",
   "metadata": {},
   "outputs": [
    {
     "name": "stdout",
     "output_type": "stream",
     "text": [
      "\n",
      "Legit bills:\n",
      "[4.07893861 4.12127953 4.12815365 4.05518346 4.0987056  4.06865649\n",
      " 4.10326373 4.11854901 4.11632701 4.10054665 4.12454947 4.15009427\n",
      " 4.14645284 4.06683584 4.11018063 4.13344992 4.10342525 4.08677554\n",
      " 4.11741444 4.13894018 4.15206782 4.13660816 4.1572971  4.09425731\n",
      " 4.12779805 4.14144961 4.09685543 4.09593453 4.13444566]\n",
      "\n",
      "Counterfeit bills:\n",
      "[5.32513797 5.3545361  5.38082867 5.45125279 5.14322246 5.31046063\n",
      " 5.10770777 5.30225282]\n"
     ]
    }
   ],
   "source": [
    "print()\n",
    "print('Legit bills:')\n",
    "\n",
    "data_true_pred = data_true_null[feature_cols]\n",
    "pred_true = linreg_true.predict(data_true_pred)\n",
    "print(pred_true)\n",
    "\n",
    "\n",
    "print()\n",
    "print('Counterfeit bills:')\n",
    "\n",
    "data_false_pred = data_false_null[feature_cols]\n",
    "pred_false = linreg_false.predict(data_false_pred)\n",
    "print(pred_false)\n"
   ]
  },
  {
   "cell_type": "markdown",
   "id": "48f7f7ea",
   "metadata": {},
   "source": [
    "### Complete dataframe with missing values\n",
    "\n",
    "We can now add these predicted values to our original dataset.\n",
    "\n",
    "Note: Naming databases and variables is not my strong suit :)"
   ]
  },
  {
   "cell_type": "code",
   "execution_count": 20,
   "id": "2396c76b",
   "metadata": {},
   "outputs": [
    {
     "data": {
      "text/html": [
       "<div>\n",
       "<style scoped>\n",
       "    .dataframe tbody tr th:only-of-type {\n",
       "        vertical-align: middle;\n",
       "    }\n",
       "\n",
       "    .dataframe tbody tr th {\n",
       "        vertical-align: top;\n",
       "    }\n",
       "\n",
       "    .dataframe thead th {\n",
       "        text-align: right;\n",
       "    }\n",
       "</style>\n",
       "<table border=\"1\" class=\"dataframe\">\n",
       "  <thead>\n",
       "    <tr style=\"text-align: right;\">\n",
       "      <th></th>\n",
       "      <th>is_genuine</th>\n",
       "      <th>diagonal</th>\n",
       "      <th>height_left</th>\n",
       "      <th>height_right</th>\n",
       "      <th>margin_low</th>\n",
       "      <th>margin_up</th>\n",
       "      <th>length</th>\n",
       "    </tr>\n",
       "  </thead>\n",
       "  <tbody>\n",
       "    <tr>\n",
       "      <th>0</th>\n",
       "      <td>True</td>\n",
       "      <td>171.81</td>\n",
       "      <td>104.86</td>\n",
       "      <td>104.95</td>\n",
       "      <td>4.52</td>\n",
       "      <td>2.89</td>\n",
       "      <td>112.83</td>\n",
       "    </tr>\n",
       "    <tr>\n",
       "      <th>1</th>\n",
       "      <td>True</td>\n",
       "      <td>171.46</td>\n",
       "      <td>103.36</td>\n",
       "      <td>103.66</td>\n",
       "      <td>3.77</td>\n",
       "      <td>2.99</td>\n",
       "      <td>113.09</td>\n",
       "    </tr>\n",
       "    <tr>\n",
       "      <th>2</th>\n",
       "      <td>True</td>\n",
       "      <td>172.69</td>\n",
       "      <td>104.48</td>\n",
       "      <td>103.50</td>\n",
       "      <td>4.40</td>\n",
       "      <td>2.94</td>\n",
       "      <td>113.16</td>\n",
       "    </tr>\n",
       "    <tr>\n",
       "      <th>3</th>\n",
       "      <td>True</td>\n",
       "      <td>171.36</td>\n",
       "      <td>103.91</td>\n",
       "      <td>103.94</td>\n",
       "      <td>3.62</td>\n",
       "      <td>3.01</td>\n",
       "      <td>113.51</td>\n",
       "    </tr>\n",
       "    <tr>\n",
       "      <th>4</th>\n",
       "      <td>True</td>\n",
       "      <td>171.73</td>\n",
       "      <td>104.28</td>\n",
       "      <td>103.46</td>\n",
       "      <td>4.04</td>\n",
       "      <td>3.48</td>\n",
       "      <td>112.54</td>\n",
       "    </tr>\n",
       "    <tr>\n",
       "      <th>...</th>\n",
       "      <td>...</td>\n",
       "      <td>...</td>\n",
       "      <td>...</td>\n",
       "      <td>...</td>\n",
       "      <td>...</td>\n",
       "      <td>...</td>\n",
       "      <td>...</td>\n",
       "    </tr>\n",
       "    <tr>\n",
       "      <th>1495</th>\n",
       "      <td>False</td>\n",
       "      <td>171.75</td>\n",
       "      <td>104.38</td>\n",
       "      <td>104.17</td>\n",
       "      <td>4.42</td>\n",
       "      <td>3.09</td>\n",
       "      <td>111.28</td>\n",
       "    </tr>\n",
       "    <tr>\n",
       "      <th>1496</th>\n",
       "      <td>False</td>\n",
       "      <td>172.19</td>\n",
       "      <td>104.63</td>\n",
       "      <td>104.44</td>\n",
       "      <td>5.27</td>\n",
       "      <td>3.37</td>\n",
       "      <td>110.97</td>\n",
       "    </tr>\n",
       "    <tr>\n",
       "      <th>1497</th>\n",
       "      <td>False</td>\n",
       "      <td>171.80</td>\n",
       "      <td>104.01</td>\n",
       "      <td>104.12</td>\n",
       "      <td>5.51</td>\n",
       "      <td>3.36</td>\n",
       "      <td>111.95</td>\n",
       "    </tr>\n",
       "    <tr>\n",
       "      <th>1498</th>\n",
       "      <td>False</td>\n",
       "      <td>172.06</td>\n",
       "      <td>104.28</td>\n",
       "      <td>104.06</td>\n",
       "      <td>5.17</td>\n",
       "      <td>3.46</td>\n",
       "      <td>112.25</td>\n",
       "    </tr>\n",
       "    <tr>\n",
       "      <th>1499</th>\n",
       "      <td>False</td>\n",
       "      <td>171.47</td>\n",
       "      <td>104.15</td>\n",
       "      <td>103.82</td>\n",
       "      <td>4.63</td>\n",
       "      <td>3.37</td>\n",
       "      <td>112.07</td>\n",
       "    </tr>\n",
       "  </tbody>\n",
       "</table>\n",
       "<p>1500 rows × 7 columns</p>\n",
       "</div>"
      ],
      "text/plain": [
       "      is_genuine  diagonal  height_left  height_right  margin_low  margin_up  \\\n",
       "0           True    171.81       104.86        104.95        4.52       2.89   \n",
       "1           True    171.46       103.36        103.66        3.77       2.99   \n",
       "2           True    172.69       104.48        103.50        4.40       2.94   \n",
       "3           True    171.36       103.91        103.94        3.62       3.01   \n",
       "4           True    171.73       104.28        103.46        4.04       3.48   \n",
       "...          ...       ...          ...           ...         ...        ...   \n",
       "1495       False    171.75       104.38        104.17        4.42       3.09   \n",
       "1496       False    172.19       104.63        104.44        5.27       3.37   \n",
       "1497       False    171.80       104.01        104.12        5.51       3.36   \n",
       "1498       False    172.06       104.28        104.06        5.17       3.46   \n",
       "1499       False    171.47       104.15        103.82        4.63       3.37   \n",
       "\n",
       "      length  \n",
       "0     112.83  \n",
       "1     113.09  \n",
       "2     113.16  \n",
       "3     113.51  \n",
       "4     112.54  \n",
       "...      ...  \n",
       "1495  111.28  \n",
       "1496  110.97  \n",
       "1497  111.95  \n",
       "1498  112.25  \n",
       "1499  112.07  \n",
       "\n",
       "[1500 rows x 7 columns]"
      ]
     },
     "metadata": {},
     "output_type": "display_data"
    },
    {
     "name": "stdout",
     "output_type": "stream",
     "text": [
      "<class 'pandas.core.frame.DataFrame'>\n",
      "Int64Index: 1500 entries, 0 to 1499\n",
      "Data columns (total 7 columns):\n",
      " #   Column        Non-Null Count  Dtype  \n",
      "---  ------        --------------  -----  \n",
      " 0   is_genuine    1500 non-null   bool   \n",
      " 1   diagonal      1500 non-null   float64\n",
      " 2   height_left   1500 non-null   float64\n",
      " 3   height_right  1500 non-null   float64\n",
      " 4   margin_low    1500 non-null   float64\n",
      " 5   margin_up     1500 non-null   float64\n",
      " 6   length        1500 non-null   float64\n",
      "dtypes: bool(1), float64(6)\n",
      "memory usage: 83.5 KB\n"
     ]
    }
   ],
   "source": [
    "data_true2 = data_true.copy(deep=True)\n",
    "data_true2.loc[data_true2['margin_low'].isnull(), 'margin_low'] = pred_true\n",
    "\n",
    "data_false2 = data_false.copy(deep=True)\n",
    "data_false2.loc[data_false2['margin_low'].isnull(), 'margin_low'] = pred_false\n",
    "\n",
    "frames = (data_true2, data_false2)\n",
    "data2 = pd.concat(frames)\n",
    "\n",
    "display(data2)\n",
    "data2.info()"
   ]
  },
  {
   "cell_type": "markdown",
   "id": "52257cbf",
   "metadata": {},
   "source": [
    "There are no more missing values in our 1500 lines database!\n",
    "\n",
    "Now let's get the fun started ;)"
   ]
  },
  {
   "cell_type": "markdown",
   "id": "c04986ef",
   "metadata": {},
   "source": [
    "<a name=\"5\"></a>\n",
    "## 5. Logistic Regression\n",
    "\n",
    "We will first try using a logistic regression for our counterfeit detection application.\n",
    "\n",
    "We are again using the scikit-learn librairy, and the process for logistic regression is quite similar than for linear regression.\n",
    "\n",
    "<a name=\"5.1\"></a>\n",
    "### 5.1 Model training\n",
    "\n",
    "We assign X and y:"
   ]
  },
  {
   "cell_type": "code",
   "execution_count": 21,
   "id": "a4970152",
   "metadata": {},
   "outputs": [],
   "source": [
    "feature_cols_log = ['diagonal', 'height_left', 'height_right', 'margin_low', 'margin_up', 'length']\n",
    "X_log = data2[feature_cols_log]\n",
    "\n",
    "data2['is_genuine'] = data2['is_genuine'].astype('category')\n",
    "y_log = data2['is_genuine'].cat.codes"
   ]
  },
  {
   "cell_type": "markdown",
   "id": "a7dc60ae",
   "metadata": {},
   "source": [
    "Separation between *training* and *test* sets:"
   ]
  },
  {
   "cell_type": "code",
   "execution_count": 22,
   "id": "3b229f5b",
   "metadata": {},
   "outputs": [],
   "source": [
    "X_train_log, X_test_log, y_train_log, y_test_log = train_test_split(X_log, y_log, test_size=0.3, random_state=0)"
   ]
  },
  {
   "cell_type": "markdown",
   "id": "c8317794",
   "metadata": {},
   "source": [
    "Model training:"
   ]
  },
  {
   "cell_type": "code",
   "execution_count": 23,
   "id": "1cbe0926",
   "metadata": {},
   "outputs": [
    {
     "data": {
      "text/html": [
       "<style>#sk-container-id-2 {color: black;background-color: white;}#sk-container-id-2 pre{padding: 0;}#sk-container-id-2 div.sk-toggleable {background-color: white;}#sk-container-id-2 label.sk-toggleable__label {cursor: pointer;display: block;width: 100%;margin-bottom: 0;padding: 0.3em;box-sizing: border-box;text-align: center;}#sk-container-id-2 label.sk-toggleable__label-arrow:before {content: \"▸\";float: left;margin-right: 0.25em;color: #696969;}#sk-container-id-2 label.sk-toggleable__label-arrow:hover:before {color: black;}#sk-container-id-2 div.sk-estimator:hover label.sk-toggleable__label-arrow:before {color: black;}#sk-container-id-2 div.sk-toggleable__content {max-height: 0;max-width: 0;overflow: hidden;text-align: left;background-color: #f0f8ff;}#sk-container-id-2 div.sk-toggleable__content pre {margin: 0.2em;color: black;border-radius: 0.25em;background-color: #f0f8ff;}#sk-container-id-2 input.sk-toggleable__control:checked~div.sk-toggleable__content {max-height: 200px;max-width: 100%;overflow: auto;}#sk-container-id-2 input.sk-toggleable__control:checked~label.sk-toggleable__label-arrow:before {content: \"▾\";}#sk-container-id-2 div.sk-estimator input.sk-toggleable__control:checked~label.sk-toggleable__label {background-color: #d4ebff;}#sk-container-id-2 div.sk-label input.sk-toggleable__control:checked~label.sk-toggleable__label {background-color: #d4ebff;}#sk-container-id-2 input.sk-hidden--visually {border: 0;clip: rect(1px 1px 1px 1px);clip: rect(1px, 1px, 1px, 1px);height: 1px;margin: -1px;overflow: hidden;padding: 0;position: absolute;width: 1px;}#sk-container-id-2 div.sk-estimator {font-family: monospace;background-color: #f0f8ff;border: 1px dotted black;border-radius: 0.25em;box-sizing: border-box;margin-bottom: 0.5em;}#sk-container-id-2 div.sk-estimator:hover {background-color: #d4ebff;}#sk-container-id-2 div.sk-parallel-item::after {content: \"\";width: 100%;border-bottom: 1px solid gray;flex-grow: 1;}#sk-container-id-2 div.sk-label:hover label.sk-toggleable__label {background-color: #d4ebff;}#sk-container-id-2 div.sk-serial::before {content: \"\";position: absolute;border-left: 1px solid gray;box-sizing: border-box;top: 0;bottom: 0;left: 50%;z-index: 0;}#sk-container-id-2 div.sk-serial {display: flex;flex-direction: column;align-items: center;background-color: white;padding-right: 0.2em;padding-left: 0.2em;position: relative;}#sk-container-id-2 div.sk-item {position: relative;z-index: 1;}#sk-container-id-2 div.sk-parallel {display: flex;align-items: stretch;justify-content: center;background-color: white;position: relative;}#sk-container-id-2 div.sk-item::before, #sk-container-id-2 div.sk-parallel-item::before {content: \"\";position: absolute;border-left: 1px solid gray;box-sizing: border-box;top: 0;bottom: 0;left: 50%;z-index: -1;}#sk-container-id-2 div.sk-parallel-item {display: flex;flex-direction: column;z-index: 1;position: relative;background-color: white;}#sk-container-id-2 div.sk-parallel-item:first-child::after {align-self: flex-end;width: 50%;}#sk-container-id-2 div.sk-parallel-item:last-child::after {align-self: flex-start;width: 50%;}#sk-container-id-2 div.sk-parallel-item:only-child::after {width: 0;}#sk-container-id-2 div.sk-dashed-wrapped {border: 1px dashed gray;margin: 0 0.4em 0.5em 0.4em;box-sizing: border-box;padding-bottom: 0.4em;background-color: white;}#sk-container-id-2 div.sk-label label {font-family: monospace;font-weight: bold;display: inline-block;line-height: 1.2em;}#sk-container-id-2 div.sk-label-container {text-align: center;}#sk-container-id-2 div.sk-container {/* jupyter's `normalize.less` sets `[hidden] { display: none; }` but bootstrap.min.css set `[hidden] { display: none !important; }` so we also need the `!important` here to be able to override the default hidden behavior on the sphinx rendered scikit-learn.org. See: https://github.com/scikit-learn/scikit-learn/issues/21755 */display: inline-block !important;position: relative;}#sk-container-id-2 div.sk-text-repr-fallback {display: none;}</style><div id=\"sk-container-id-2\" class=\"sk-top-container\"><div class=\"sk-text-repr-fallback\"><pre>LogisticRegression()</pre><b>In a Jupyter environment, please rerun this cell to show the HTML representation or trust the notebook. <br />On GitHub, the HTML representation is unable to render, please try loading this page with nbviewer.org.</b></div><div class=\"sk-container\" hidden><div class=\"sk-item\"><div class=\"sk-estimator sk-toggleable\"><input class=\"sk-toggleable__control sk-hidden--visually\" id=\"sk-estimator-id-2\" type=\"checkbox\" checked><label for=\"sk-estimator-id-2\" class=\"sk-toggleable__label sk-toggleable__label-arrow\">LogisticRegression</label><div class=\"sk-toggleable__content\"><pre>LogisticRegression()</pre></div></div></div></div></div>"
      ],
      "text/plain": [
       "LogisticRegression()"
      ]
     },
     "execution_count": 23,
     "metadata": {},
     "output_type": "execute_result"
    }
   ],
   "source": [
    "logreg = LogisticRegression()\n",
    "logreg.fit(X_train_log, y_train_log)"
   ]
  },
  {
   "cell_type": "markdown",
   "id": "a987e1c4",
   "metadata": {},
   "source": [
    "Predictions of the trained model on the test set:"
   ]
  },
  {
   "cell_type": "code",
   "execution_count": 24,
   "id": "710d9626",
   "metadata": {},
   "outputs": [
    {
     "name": "stdout",
     "output_type": "stream",
     "text": [
      "[1 1 0 1 0 0 1 1 1 0 0 0 0 1 1 1 0 0 1 0 1 1 1 1 0 1 0 1 1 0 0 1 0 1 0 0 1\n",
      " 1 1 1 0 0 0 1 1 1 1 1 1 0 1 0 1 0 1 0 1 1 0 0 1 1 0 1 1 1 1 0 1 0 1 1 1 0\n",
      " 1 1 1 1 1 0 0 1 1 1 1 1 0 1 1 1 1 1 1 1 0 0 1 1 1 1 0 0 1 1 0 1 1 1 1 0 1\n",
      " 1 1 1 0 1 1 0 1 1 1 1 1 1 1 1 1 1 0 1 1 1 1 0 1 1 1 1 0 1 1 1 1 1 1 1 1 1\n",
      " 0 1 1 0 1 1 1 1 0 1 1 1 0 1 1 0 0 1 0 0 1 1 1 1 0 1 1 1 1 1 0 1 1 1 1 1 1\n",
      " 1 1 1 1 1 1 0 0 1 0 1 0 1 1 1 1 1 1 1 1 1 1 1 1 1 0 1 1 0 0 1 0 1 1 0 1 1\n",
      " 1 1 1 1 0 0 1 1 1 0 0 1 1 1 0 0 1 0 1 1 1 0 1 0 0 1 0 1 0 1 1 1 1 0 1 0 1\n",
      " 0 1 1 1 1 0 1 0 1 1 0 0 0 0 0 0 1 0 1 1 0 0 0 0 1 0 1 1 1 0 1 0 1 1 1 0 1\n",
      " 1 1 0 1 1 1 1 1 1 1 1 0 0 1 1 1 1 1 1 0 1 0 1 1 1 1 0 0 1 1 1 1 0 0 1 1 0\n",
      " 1 1 1 0 1 0 0 1 1 1 0 0 0 0 0 1 0 1 0 1 1 0 0 0 0 1 1 1 1 0 1 1 1 0 0 1 0\n",
      " 1 1 0 1 0 1 1 1 1 1 1 0 1 1 1 0 1 1 0 1 1 0 0 1 0 0 1 0 1 1 0 1 1 0 0 0 1\n",
      " 0 1 1 1 1 1 0 1 0 0 0 1 1 0 1 1 0 1 0 1 1 1 1 1 1 1 1 1 0 1 0 0 1 0 1 0 0\n",
      " 0 0 0 0 0 1]\n",
      "Accuracy of logistic regression classifier on test set: 1.00\n"
     ]
    }
   ],
   "source": [
    "y_pred_log = logreg.predict(X_test_log)\n",
    "print(y_pred_log)\n",
    "print('Accuracy of logistic regression classifier on test set: {:.2f}'.format(logreg.score(X_test_log, y_test_log)))"
   ]
  },
  {
   "cell_type": "markdown",
   "id": "260b5341",
   "metadata": {},
   "source": [
    "### Confusion matrix"
   ]
  },
  {
   "cell_type": "code",
   "execution_count": 25,
   "id": "15db9e34",
   "metadata": {},
   "outputs": [
    {
     "data": {
      "text/html": [
       "<div>\n",
       "<style scoped>\n",
       "    .dataframe tbody tr th:only-of-type {\n",
       "        vertical-align: middle;\n",
       "    }\n",
       "\n",
       "    .dataframe tbody tr th {\n",
       "        vertical-align: top;\n",
       "    }\n",
       "\n",
       "    .dataframe thead th {\n",
       "        text-align: right;\n",
       "    }\n",
       "</style>\n",
       "<table border=\"1\" class=\"dataframe\">\n",
       "  <thead>\n",
       "    <tr style=\"text-align: right;\">\n",
       "      <th></th>\n",
       "      <th>0</th>\n",
       "      <th>1</th>\n",
       "    </tr>\n",
       "  </thead>\n",
       "  <tbody>\n",
       "    <tr>\n",
       "      <th>0</th>\n",
       "      <td>156</td>\n",
       "      <td>1</td>\n",
       "    </tr>\n",
       "    <tr>\n",
       "      <th>1</th>\n",
       "      <td>0</td>\n",
       "      <td>293</td>\n",
       "    </tr>\n",
       "  </tbody>\n",
       "</table>\n",
       "</div>"
      ],
      "text/plain": [
       "     0    1\n",
       "0  156    1\n",
       "1    0  293"
      ]
     },
     "metadata": {},
     "output_type": "display_data"
    },
    {
     "name": "stdout",
     "output_type": "stream",
     "text": [
      "              precision    recall  f1-score   support\n",
      "\n",
      "           0       1.00      0.99      1.00       157\n",
      "           1       1.00      1.00      1.00       293\n",
      "\n",
      "    accuracy                           1.00       450\n",
      "   macro avg       1.00      1.00      1.00       450\n",
      "weighted avg       1.00      1.00      1.00       450\n",
      "\n"
     ]
    }
   ],
   "source": [
    "matrice_de_confusion_log = confusion_matrix(y_test_log, y_pred_log)\n",
    "display(pd.DataFrame(matrice_de_confusion_log))\n",
    "\n",
    "print(classification_report(y_test_log, y_pred_log))"
   ]
  },
  {
   "cell_type": "markdown",
   "id": "faafba7c",
   "metadata": {},
   "source": [
    "<a name=\"5.2\"></a>\n",
    "### 5.2 Predictions on test dataset\n",
    "\n",
    "We're testing our model on the test dataset given by the ONCFM (the *test* dataset we used to test our trained model on before could be called the *cross-validation* set)."
   ]
  },
  {
   "cell_type": "code",
   "execution_count": 26,
   "id": "e288f53c",
   "metadata": {},
   "outputs": [
    {
     "data": {
      "text/html": [
       "<div>\n",
       "<style scoped>\n",
       "    .dataframe tbody tr th:only-of-type {\n",
       "        vertical-align: middle;\n",
       "    }\n",
       "\n",
       "    .dataframe tbody tr th {\n",
       "        vertical-align: top;\n",
       "    }\n",
       "\n",
       "    .dataframe thead th {\n",
       "        text-align: right;\n",
       "    }\n",
       "</style>\n",
       "<table border=\"1\" class=\"dataframe\">\n",
       "  <thead>\n",
       "    <tr style=\"text-align: right;\">\n",
       "      <th></th>\n",
       "      <th>diagonal</th>\n",
       "      <th>height_left</th>\n",
       "      <th>height_right</th>\n",
       "      <th>margin_low</th>\n",
       "      <th>margin_up</th>\n",
       "      <th>length</th>\n",
       "      <th>id</th>\n",
       "    </tr>\n",
       "  </thead>\n",
       "  <tbody>\n",
       "    <tr>\n",
       "      <th>0</th>\n",
       "      <td>171.76</td>\n",
       "      <td>104.01</td>\n",
       "      <td>103.54</td>\n",
       "      <td>5.21</td>\n",
       "      <td>3.30</td>\n",
       "      <td>111.42</td>\n",
       "      <td>A_1</td>\n",
       "    </tr>\n",
       "    <tr>\n",
       "      <th>1</th>\n",
       "      <td>171.87</td>\n",
       "      <td>104.17</td>\n",
       "      <td>104.13</td>\n",
       "      <td>6.00</td>\n",
       "      <td>3.31</td>\n",
       "      <td>112.09</td>\n",
       "      <td>A_2</td>\n",
       "    </tr>\n",
       "    <tr>\n",
       "      <th>2</th>\n",
       "      <td>172.00</td>\n",
       "      <td>104.58</td>\n",
       "      <td>104.29</td>\n",
       "      <td>4.99</td>\n",
       "      <td>3.39</td>\n",
       "      <td>111.57</td>\n",
       "      <td>A_3</td>\n",
       "    </tr>\n",
       "    <tr>\n",
       "      <th>3</th>\n",
       "      <td>172.49</td>\n",
       "      <td>104.55</td>\n",
       "      <td>104.34</td>\n",
       "      <td>4.44</td>\n",
       "      <td>3.03</td>\n",
       "      <td>113.20</td>\n",
       "      <td>A_4</td>\n",
       "    </tr>\n",
       "    <tr>\n",
       "      <th>4</th>\n",
       "      <td>171.65</td>\n",
       "      <td>103.63</td>\n",
       "      <td>103.56</td>\n",
       "      <td>3.77</td>\n",
       "      <td>3.16</td>\n",
       "      <td>113.33</td>\n",
       "      <td>A_5</td>\n",
       "    </tr>\n",
       "  </tbody>\n",
       "</table>\n",
       "</div>"
      ],
      "text/plain": [
       "   diagonal  height_left  height_right  margin_low  margin_up  length   id\n",
       "0    171.76       104.01        103.54        5.21       3.30  111.42  A_1\n",
       "1    171.87       104.17        104.13        6.00       3.31  112.09  A_2\n",
       "2    172.00       104.58        104.29        4.99       3.39  111.57  A_3\n",
       "3    172.49       104.55        104.34        4.44       3.03  113.20  A_4\n",
       "4    171.65       103.63        103.56        3.77       3.16  113.33  A_5"
      ]
     },
     "metadata": {},
     "output_type": "display_data"
    }
   ],
   "source": [
    "display(data_test)"
   ]
  },
  {
   "cell_type": "code",
   "execution_count": 27,
   "id": "eb13b6cf",
   "metadata": {},
   "outputs": [
    {
     "name": "stdout",
     "output_type": "stream",
     "text": [
      "[0 0 0 1 1]\n"
     ]
    }
   ],
   "source": [
    "data_test2 = data_test[[\"diagonal\", \"height_left\", \"height_right\", \"margin_low\", \"margin_up\", \"length\"]]\n",
    "\n",
    "pred_log = logreg.predict(data_test2)\n",
    "\n",
    "print(pred_log) # 0 == counterfeit bill, 1 == legit bill"
   ]
  },
  {
   "cell_type": "markdown",
   "id": "5bfb3471",
   "metadata": {},
   "source": [
    "The results seem accurate, we can visally see than the predicted counterfeit bills correspond to the examples with unusual high values for *margin_low*."
   ]
  },
  {
   "cell_type": "markdown",
   "id": "74e3b825",
   "metadata": {},
   "source": [
    "<a name=\"6\"></a>\n",
    "## 6. K-Means Clustering for Classification\n",
    "\n",
    "We will now try our luck using a K-means classification model.\n",
    "\n",
    "We are still using the scikit-learn library.\n",
    "\n",
    "<a name=\"6.1\"></a>\n",
    "### 6.1 Model training\n",
    "\n",
    "We assign X and y:"
   ]
  },
  {
   "cell_type": "code",
   "execution_count": 28,
   "id": "745288c8",
   "metadata": {},
   "outputs": [],
   "source": [
    "feature_cols_km = ['diagonal', 'height_left', 'height_right', 'margin_low', 'margin_up', 'length']\n",
    "X_km = data2[feature_cols_km]\n",
    "\n",
    "y_km = data2['is_genuine'].cat.codes"
   ]
  },
  {
   "cell_type": "markdown",
   "id": "36491c54",
   "metadata": {},
   "source": [
    "Separate the data between *training* and *test*:"
   ]
  },
  {
   "cell_type": "code",
   "execution_count": 29,
   "id": "973ea553",
   "metadata": {},
   "outputs": [],
   "source": [
    "X_train_km, X_test_km, y_train_km, y_test_km = train_test_split(X_km, y_km, test_size=0.3, random_state=0)"
   ]
  },
  {
   "cell_type": "markdown",
   "id": "936aa52f",
   "metadata": {},
   "source": [
    "Now we train the model. Note that `random_state` is used so that we don't end up with our clusters randomly named 0 or 1, which is inconsistent."
   ]
  },
  {
   "cell_type": "code",
   "execution_count": 30,
   "id": "0864b69e",
   "metadata": {},
   "outputs": [
    {
     "data": {
      "text/html": [
       "<style>#sk-container-id-3 {color: black;background-color: white;}#sk-container-id-3 pre{padding: 0;}#sk-container-id-3 div.sk-toggleable {background-color: white;}#sk-container-id-3 label.sk-toggleable__label {cursor: pointer;display: block;width: 100%;margin-bottom: 0;padding: 0.3em;box-sizing: border-box;text-align: center;}#sk-container-id-3 label.sk-toggleable__label-arrow:before {content: \"▸\";float: left;margin-right: 0.25em;color: #696969;}#sk-container-id-3 label.sk-toggleable__label-arrow:hover:before {color: black;}#sk-container-id-3 div.sk-estimator:hover label.sk-toggleable__label-arrow:before {color: black;}#sk-container-id-3 div.sk-toggleable__content {max-height: 0;max-width: 0;overflow: hidden;text-align: left;background-color: #f0f8ff;}#sk-container-id-3 div.sk-toggleable__content pre {margin: 0.2em;color: black;border-radius: 0.25em;background-color: #f0f8ff;}#sk-container-id-3 input.sk-toggleable__control:checked~div.sk-toggleable__content {max-height: 200px;max-width: 100%;overflow: auto;}#sk-container-id-3 input.sk-toggleable__control:checked~label.sk-toggleable__label-arrow:before {content: \"▾\";}#sk-container-id-3 div.sk-estimator input.sk-toggleable__control:checked~label.sk-toggleable__label {background-color: #d4ebff;}#sk-container-id-3 div.sk-label input.sk-toggleable__control:checked~label.sk-toggleable__label {background-color: #d4ebff;}#sk-container-id-3 input.sk-hidden--visually {border: 0;clip: rect(1px 1px 1px 1px);clip: rect(1px, 1px, 1px, 1px);height: 1px;margin: -1px;overflow: hidden;padding: 0;position: absolute;width: 1px;}#sk-container-id-3 div.sk-estimator {font-family: monospace;background-color: #f0f8ff;border: 1px dotted black;border-radius: 0.25em;box-sizing: border-box;margin-bottom: 0.5em;}#sk-container-id-3 div.sk-estimator:hover {background-color: #d4ebff;}#sk-container-id-3 div.sk-parallel-item::after {content: \"\";width: 100%;border-bottom: 1px solid gray;flex-grow: 1;}#sk-container-id-3 div.sk-label:hover label.sk-toggleable__label {background-color: #d4ebff;}#sk-container-id-3 div.sk-serial::before {content: \"\";position: absolute;border-left: 1px solid gray;box-sizing: border-box;top: 0;bottom: 0;left: 50%;z-index: 0;}#sk-container-id-3 div.sk-serial {display: flex;flex-direction: column;align-items: center;background-color: white;padding-right: 0.2em;padding-left: 0.2em;position: relative;}#sk-container-id-3 div.sk-item {position: relative;z-index: 1;}#sk-container-id-3 div.sk-parallel {display: flex;align-items: stretch;justify-content: center;background-color: white;position: relative;}#sk-container-id-3 div.sk-item::before, #sk-container-id-3 div.sk-parallel-item::before {content: \"\";position: absolute;border-left: 1px solid gray;box-sizing: border-box;top: 0;bottom: 0;left: 50%;z-index: -1;}#sk-container-id-3 div.sk-parallel-item {display: flex;flex-direction: column;z-index: 1;position: relative;background-color: white;}#sk-container-id-3 div.sk-parallel-item:first-child::after {align-self: flex-end;width: 50%;}#sk-container-id-3 div.sk-parallel-item:last-child::after {align-self: flex-start;width: 50%;}#sk-container-id-3 div.sk-parallel-item:only-child::after {width: 0;}#sk-container-id-3 div.sk-dashed-wrapped {border: 1px dashed gray;margin: 0 0.4em 0.5em 0.4em;box-sizing: border-box;padding-bottom: 0.4em;background-color: white;}#sk-container-id-3 div.sk-label label {font-family: monospace;font-weight: bold;display: inline-block;line-height: 1.2em;}#sk-container-id-3 div.sk-label-container {text-align: center;}#sk-container-id-3 div.sk-container {/* jupyter's `normalize.less` sets `[hidden] { display: none; }` but bootstrap.min.css set `[hidden] { display: none !important; }` so we also need the `!important` here to be able to override the default hidden behavior on the sphinx rendered scikit-learn.org. See: https://github.com/scikit-learn/scikit-learn/issues/21755 */display: inline-block !important;position: relative;}#sk-container-id-3 div.sk-text-repr-fallback {display: none;}</style><div id=\"sk-container-id-3\" class=\"sk-top-container\"><div class=\"sk-text-repr-fallback\"><pre>KMeans(n_clusters=2, random_state=42)</pre><b>In a Jupyter environment, please rerun this cell to show the HTML representation or trust the notebook. <br />On GitHub, the HTML representation is unable to render, please try loading this page with nbviewer.org.</b></div><div class=\"sk-container\" hidden><div class=\"sk-item\"><div class=\"sk-estimator sk-toggleable\"><input class=\"sk-toggleable__control sk-hidden--visually\" id=\"sk-estimator-id-3\" type=\"checkbox\" checked><label for=\"sk-estimator-id-3\" class=\"sk-toggleable__label sk-toggleable__label-arrow\">KMeans</label><div class=\"sk-toggleable__content\"><pre>KMeans(n_clusters=2, random_state=42)</pre></div></div></div></div></div>"
      ],
      "text/plain": [
       "KMeans(n_clusters=2, random_state=42)"
      ]
     },
     "execution_count": 30,
     "metadata": {},
     "output_type": "execute_result"
    }
   ],
   "source": [
    "kmeans = KMeans(n_clusters=2, random_state =42)\n",
    "kmeans.fit(X_train_km, y_train_km)"
   ]
  },
  {
   "cell_type": "markdown",
   "id": "ae6c8c59",
   "metadata": {},
   "source": [
    "And predict on our *test dataset*:"
   ]
  },
  {
   "cell_type": "code",
   "execution_count": 31,
   "id": "06d7b8fe",
   "metadata": {},
   "outputs": [
    {
     "name": "stdout",
     "output_type": "stream",
     "text": [
      "[0 0 1 0 1 1 0 0 0 1 1 1 1 0 0 0 1 1 0 1 0 0 0 0 1 0 1 0 0 1 1 0 1 0 1 1 0\n",
      " 0 0 0 1 1 1 0 0 0 0 0 0 0 0 1 0 1 0 1 0 0 1 1 0 0 1 0 0 0 0 1 0 1 0 0 0 1\n",
      " 0 0 0 0 0 1 1 0 0 0 0 0 1 0 0 0 0 0 0 0 1 1 0 0 0 0 1 1 0 0 1 0 0 0 0 1 0\n",
      " 0 0 0 1 0 0 1 0 0 0 0 0 0 0 0 0 0 1 0 0 0 0 1 0 0 0 0 0 0 0 0 0 0 0 0 0 0\n",
      " 1 0 0 1 0 0 0 0 1 0 0 0 1 0 0 1 1 0 1 1 0 0 0 0 1 0 0 0 0 0 1 0 0 0 0 0 0\n",
      " 0 0 0 0 0 0 1 1 0 1 0 1 0 0 0 0 0 0 0 0 0 0 0 0 0 1 0 0 1 1 0 1 0 0 1 0 0\n",
      " 0 0 0 0 1 1 0 0 0 1 1 0 0 0 1 1 0 1 0 0 0 1 0 1 1 0 1 0 1 0 0 0 0 1 0 1 0\n",
      " 1 0 0 0 0 1 0 1 0 0 1 1 1 1 1 1 0 1 0 0 1 1 1 1 0 1 0 0 0 1 0 1 0 0 0 1 0\n",
      " 0 0 1 0 0 0 0 0 0 0 0 1 1 0 0 0 0 0 0 1 0 1 0 0 0 0 1 1 0 0 0 0 1 1 0 0 1\n",
      " 0 0 0 1 0 1 1 0 0 0 1 1 1 1 1 0 1 0 1 0 0 1 1 1 1 0 0 0 0 1 0 0 0 1 1 0 1\n",
      " 0 0 1 0 1 0 0 0 0 0 0 1 0 0 0 1 0 0 1 0 0 1 1 0 1 1 0 1 0 0 1 0 0 1 1 1 0\n",
      " 1 0 0 0 0 0 1 0 1 1 1 0 0 1 0 0 1 0 1 0 0 0 0 0 0 0 0 0 1 0 1 1 0 1 0 1 1\n",
      " 1 1 1 1 1 0]\n",
      "Accuracy of logistic regression classifier on test set: 1.00\n"
     ]
    }
   ],
   "source": [
    "y_pred_km = kmeans.predict(X_test_km)\n",
    "print(y_pred_km)\n",
    "print('Accuracy of logistic regression classifier on test set: {:.2f}'.format(logreg.score(X_test_km, y_test_km)))"
   ]
  },
  {
   "cell_type": "markdown",
   "id": "a152df1c",
   "metadata": {},
   "source": [
    "### Confusion matrix"
   ]
  },
  {
   "cell_type": "code",
   "execution_count": 32,
   "id": "26b7d384",
   "metadata": {},
   "outputs": [
    {
     "data": {
      "text/html": [
       "<div>\n",
       "<style scoped>\n",
       "    .dataframe tbody tr th:only-of-type {\n",
       "        vertical-align: middle;\n",
       "    }\n",
       "\n",
       "    .dataframe tbody tr th {\n",
       "        vertical-align: top;\n",
       "    }\n",
       "\n",
       "    .dataframe thead th {\n",
       "        text-align: right;\n",
       "    }\n",
       "</style>\n",
       "<table border=\"1\" class=\"dataframe\">\n",
       "  <thead>\n",
       "    <tr style=\"text-align: right;\">\n",
       "      <th></th>\n",
       "      <th>0</th>\n",
       "      <th>1</th>\n",
       "    </tr>\n",
       "  </thead>\n",
       "  <tbody>\n",
       "    <tr>\n",
       "      <th>0</th>\n",
       "      <td>156</td>\n",
       "      <td>1</td>\n",
       "    </tr>\n",
       "    <tr>\n",
       "      <th>1</th>\n",
       "      <td>0</td>\n",
       "      <td>293</td>\n",
       "    </tr>\n",
       "  </tbody>\n",
       "</table>\n",
       "</div>"
      ],
      "text/plain": [
       "     0    1\n",
       "0  156    1\n",
       "1    0  293"
      ]
     },
     "metadata": {},
     "output_type": "display_data"
    },
    {
     "name": "stdout",
     "output_type": "stream",
     "text": [
      "              precision    recall  f1-score   support\n",
      "\n",
      "           0       0.01      0.02      0.01       157\n",
      "           1       0.00      0.00      0.00       293\n",
      "\n",
      "    accuracy                           0.01       450\n",
      "   macro avg       0.01      0.01      0.01       450\n",
      "weighted avg       0.00      0.01      0.00       450\n",
      "\n"
     ]
    }
   ],
   "source": [
    "matrice_de_confusion_km = confusion_matrix(y_test_km, y_pred_km)\n",
    "display(pd.DataFrame(matrice_de_confusion_log))\n",
    "\n",
    "print(classification_report(y_test_km, y_pred_km))"
   ]
  },
  {
   "cell_type": "markdown",
   "id": "ecac2663",
   "metadata": {},
   "source": [
    "<a name=\"6.2\"></a>\n",
    "### 6.2 Predictions on test dataset"
   ]
  },
  {
   "cell_type": "code",
   "execution_count": 33,
   "id": "b5c8738a",
   "metadata": {},
   "outputs": [
    {
     "name": "stdout",
     "output_type": "stream",
     "text": [
      "[1 1 1 0 0]\n"
     ]
    }
   ],
   "source": [
    "pred_km = kmeans.predict(data_test2)\n",
    "\n",
    "print(pred_km) # 0 == legit bill, 1 == counterfeit bill"
   ]
  },
  {
   "cell_type": "markdown",
   "id": "adfde4f3",
   "metadata": {},
   "source": [
    "Note that now, the legit bills are labeled `0` and the counterfeit bills `1`.\n",
    "\n",
    "We can display the cluster centroids for our information:"
   ]
  },
  {
   "cell_type": "code",
   "execution_count": 34,
   "id": "af86552c",
   "metadata": {},
   "outputs": [
    {
     "name": "stdout",
     "output_type": "stream",
     "text": [
      "[[171.9764779  103.95455801 103.81372928   4.13044434   3.05947514\n",
      "  113.18551105]\n",
      " [171.89174847 104.19199387 104.14610429   5.24335871   3.34273006\n",
      "  111.58306748]]\n"
     ]
    }
   ],
   "source": [
    "print(kmeans.cluster_centers_)"
   ]
  },
  {
   "cell_type": "markdown",
   "id": "d3a93596",
   "metadata": {},
   "source": [
    "<a name=\"7\"></a>\n",
    "## 7. Final application\n",
    "\n",
    "Let's write clean functions so that we can use our logistic regression and K-Means classification algorithms for any new dataset (as long as it respects the same format as the `test_dataset`)"
   ]
  },
  {
   "cell_type": "code",
   "execution_count": 35,
   "id": "a82fad87",
   "metadata": {},
   "outputs": [],
   "source": [
    "def logistic_regression(data):\n",
    "    \"\"\"Applies logistic regression on input data\"\"\"\n",
    "    print(\"Counterfeit bill detection using Logistic Regression...\")\n",
    "    print()\n",
    "    data2 = data[feature_cols_log]\n",
    "    prediction = logreg.predict(data2)\n",
    "    data['Prediction'] = prediction\n",
    "    data.loc[data.Prediction == 0, \"Prediction\"] = \"Counterfeit bill\"\n",
    "    data.loc[data.Prediction == 1, \"Prediction\"] = \"Legit bill\"\n",
    "    return data\n",
    "\n",
    "\n",
    "def k_means_classification(data):\n",
    "    \"\"\"Applies K-Means classification on input data\"\"\"\n",
    "    print(\"Counterfeit bill detection using K-Means Classification...\")\n",
    "    print()\n",
    "    data2 = data[feature_cols_km]\n",
    "    prediction = kmeans.predict(data2)\n",
    "    data['Prediction'] = prediction\n",
    "    data.loc[data.Prediction == 0, \"Prediction\"] = \"Legit bill\"\n",
    "    data.loc[data.Prediction == 1, \"Prediction\"] = \"Counterfeit bill\"\n",
    "    return data"
   ]
  },
  {
   "cell_type": "code",
   "execution_count": 36,
   "id": "39be2e17",
   "metadata": {},
   "outputs": [],
   "source": [
    "data_test_reg = data_test.copy(deep=True)\n",
    "data_test_km = data_test.copy(deep=True)"
   ]
  },
  {
   "cell_type": "code",
   "execution_count": 37,
   "id": "10124d4e",
   "metadata": {},
   "outputs": [
    {
     "name": "stdout",
     "output_type": "stream",
     "text": [
      "Counterfeit bill detection using Logistic Regression...\n",
      "\n"
     ]
    },
    {
     "data": {
      "text/html": [
       "<div>\n",
       "<style scoped>\n",
       "    .dataframe tbody tr th:only-of-type {\n",
       "        vertical-align: middle;\n",
       "    }\n",
       "\n",
       "    .dataframe tbody tr th {\n",
       "        vertical-align: top;\n",
       "    }\n",
       "\n",
       "    .dataframe thead th {\n",
       "        text-align: right;\n",
       "    }\n",
       "</style>\n",
       "<table border=\"1\" class=\"dataframe\">\n",
       "  <thead>\n",
       "    <tr style=\"text-align: right;\">\n",
       "      <th></th>\n",
       "      <th>diagonal</th>\n",
       "      <th>height_left</th>\n",
       "      <th>height_right</th>\n",
       "      <th>margin_low</th>\n",
       "      <th>margin_up</th>\n",
       "      <th>length</th>\n",
       "      <th>id</th>\n",
       "      <th>Prediction</th>\n",
       "    </tr>\n",
       "  </thead>\n",
       "  <tbody>\n",
       "    <tr>\n",
       "      <th>0</th>\n",
       "      <td>171.76</td>\n",
       "      <td>104.01</td>\n",
       "      <td>103.54</td>\n",
       "      <td>5.21</td>\n",
       "      <td>3.30</td>\n",
       "      <td>111.42</td>\n",
       "      <td>A_1</td>\n",
       "      <td>Counterfeit bill</td>\n",
       "    </tr>\n",
       "    <tr>\n",
       "      <th>1</th>\n",
       "      <td>171.87</td>\n",
       "      <td>104.17</td>\n",
       "      <td>104.13</td>\n",
       "      <td>6.00</td>\n",
       "      <td>3.31</td>\n",
       "      <td>112.09</td>\n",
       "      <td>A_2</td>\n",
       "      <td>Counterfeit bill</td>\n",
       "    </tr>\n",
       "    <tr>\n",
       "      <th>2</th>\n",
       "      <td>172.00</td>\n",
       "      <td>104.58</td>\n",
       "      <td>104.29</td>\n",
       "      <td>4.99</td>\n",
       "      <td>3.39</td>\n",
       "      <td>111.57</td>\n",
       "      <td>A_3</td>\n",
       "      <td>Counterfeit bill</td>\n",
       "    </tr>\n",
       "    <tr>\n",
       "      <th>3</th>\n",
       "      <td>172.49</td>\n",
       "      <td>104.55</td>\n",
       "      <td>104.34</td>\n",
       "      <td>4.44</td>\n",
       "      <td>3.03</td>\n",
       "      <td>113.20</td>\n",
       "      <td>A_4</td>\n",
       "      <td>Legit bill</td>\n",
       "    </tr>\n",
       "    <tr>\n",
       "      <th>4</th>\n",
       "      <td>171.65</td>\n",
       "      <td>103.63</td>\n",
       "      <td>103.56</td>\n",
       "      <td>3.77</td>\n",
       "      <td>3.16</td>\n",
       "      <td>113.33</td>\n",
       "      <td>A_5</td>\n",
       "      <td>Legit bill</td>\n",
       "    </tr>\n",
       "  </tbody>\n",
       "</table>\n",
       "</div>"
      ],
      "text/plain": [
       "   diagonal  height_left  height_right  margin_low  margin_up  length   id  \\\n",
       "0    171.76       104.01        103.54        5.21       3.30  111.42  A_1   \n",
       "1    171.87       104.17        104.13        6.00       3.31  112.09  A_2   \n",
       "2    172.00       104.58        104.29        4.99       3.39  111.57  A_3   \n",
       "3    172.49       104.55        104.34        4.44       3.03  113.20  A_4   \n",
       "4    171.65       103.63        103.56        3.77       3.16  113.33  A_5   \n",
       "\n",
       "         Prediction  \n",
       "0  Counterfeit bill  \n",
       "1  Counterfeit bill  \n",
       "2  Counterfeit bill  \n",
       "3        Legit bill  \n",
       "4        Legit bill  "
      ]
     },
     "execution_count": 37,
     "metadata": {},
     "output_type": "execute_result"
    }
   ],
   "source": [
    "logistic_regression(data_test_reg)"
   ]
  },
  {
   "cell_type": "code",
   "execution_count": 38,
   "id": "a41499dd",
   "metadata": {},
   "outputs": [
    {
     "name": "stdout",
     "output_type": "stream",
     "text": [
      "Counterfeit bill detection using K-Means Classification...\n",
      "\n"
     ]
    },
    {
     "data": {
      "text/html": [
       "<div>\n",
       "<style scoped>\n",
       "    .dataframe tbody tr th:only-of-type {\n",
       "        vertical-align: middle;\n",
       "    }\n",
       "\n",
       "    .dataframe tbody tr th {\n",
       "        vertical-align: top;\n",
       "    }\n",
       "\n",
       "    .dataframe thead th {\n",
       "        text-align: right;\n",
       "    }\n",
       "</style>\n",
       "<table border=\"1\" class=\"dataframe\">\n",
       "  <thead>\n",
       "    <tr style=\"text-align: right;\">\n",
       "      <th></th>\n",
       "      <th>diagonal</th>\n",
       "      <th>height_left</th>\n",
       "      <th>height_right</th>\n",
       "      <th>margin_low</th>\n",
       "      <th>margin_up</th>\n",
       "      <th>length</th>\n",
       "      <th>id</th>\n",
       "      <th>Prediction</th>\n",
       "    </tr>\n",
       "  </thead>\n",
       "  <tbody>\n",
       "    <tr>\n",
       "      <th>0</th>\n",
       "      <td>171.76</td>\n",
       "      <td>104.01</td>\n",
       "      <td>103.54</td>\n",
       "      <td>5.21</td>\n",
       "      <td>3.30</td>\n",
       "      <td>111.42</td>\n",
       "      <td>A_1</td>\n",
       "      <td>Counterfeit bill</td>\n",
       "    </tr>\n",
       "    <tr>\n",
       "      <th>1</th>\n",
       "      <td>171.87</td>\n",
       "      <td>104.17</td>\n",
       "      <td>104.13</td>\n",
       "      <td>6.00</td>\n",
       "      <td>3.31</td>\n",
       "      <td>112.09</td>\n",
       "      <td>A_2</td>\n",
       "      <td>Counterfeit bill</td>\n",
       "    </tr>\n",
       "    <tr>\n",
       "      <th>2</th>\n",
       "      <td>172.00</td>\n",
       "      <td>104.58</td>\n",
       "      <td>104.29</td>\n",
       "      <td>4.99</td>\n",
       "      <td>3.39</td>\n",
       "      <td>111.57</td>\n",
       "      <td>A_3</td>\n",
       "      <td>Counterfeit bill</td>\n",
       "    </tr>\n",
       "    <tr>\n",
       "      <th>3</th>\n",
       "      <td>172.49</td>\n",
       "      <td>104.55</td>\n",
       "      <td>104.34</td>\n",
       "      <td>4.44</td>\n",
       "      <td>3.03</td>\n",
       "      <td>113.20</td>\n",
       "      <td>A_4</td>\n",
       "      <td>Legit bill</td>\n",
       "    </tr>\n",
       "    <tr>\n",
       "      <th>4</th>\n",
       "      <td>171.65</td>\n",
       "      <td>103.63</td>\n",
       "      <td>103.56</td>\n",
       "      <td>3.77</td>\n",
       "      <td>3.16</td>\n",
       "      <td>113.33</td>\n",
       "      <td>A_5</td>\n",
       "      <td>Legit bill</td>\n",
       "    </tr>\n",
       "  </tbody>\n",
       "</table>\n",
       "</div>"
      ],
      "text/plain": [
       "   diagonal  height_left  height_right  margin_low  margin_up  length   id  \\\n",
       "0    171.76       104.01        103.54        5.21       3.30  111.42  A_1   \n",
       "1    171.87       104.17        104.13        6.00       3.31  112.09  A_2   \n",
       "2    172.00       104.58        104.29        4.99       3.39  111.57  A_3   \n",
       "3    172.49       104.55        104.34        4.44       3.03  113.20  A_4   \n",
       "4    171.65       103.63        103.56        3.77       3.16  113.33  A_5   \n",
       "\n",
       "         Prediction  \n",
       "0  Counterfeit bill  \n",
       "1  Counterfeit bill  \n",
       "2  Counterfeit bill  \n",
       "3        Legit bill  \n",
       "4        Legit bill  "
      ]
     },
     "execution_count": 38,
     "metadata": {},
     "output_type": "execute_result"
    }
   ],
   "source": [
    "k_means_classification(data_test_km)"
   ]
  },
  {
   "cell_type": "code",
   "execution_count": null,
   "id": "86dbf894",
   "metadata": {},
   "outputs": [],
   "source": []
  }
 ],
 "metadata": {
  "kernelspec": {
   "display_name": "Python 3",
   "language": "python",
   "name": "python3"
  },
  "language_info": {
   "codemirror_mode": {
    "name": "ipython",
    "version": 3
   },
   "file_extension": ".py",
   "mimetype": "text/x-python",
   "name": "python",
   "nbconvert_exporter": "python",
   "pygments_lexer": "ipython3",
   "version": "3.8.8"
  }
 },
 "nbformat": 4,
 "nbformat_minor": 5
}
