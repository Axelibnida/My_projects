{
 "cells": [
  {
   "cell_type": "markdown",
   "id": "5a3943aa",
   "metadata": {},
   "source": [
    "# Anticipez les besoins en consommation de bâtiments\n",
    "\n",
    "## Summary\n",
    "\n",
    "* [Categorical features](#Categorical_features)\n",
    "    * [DataYear (DROPPED)](#DataYear)\n",
    "    * [Outlier (DROPPED)](#Outlier)\n",
    "    * [BuildingType (USING)](#BuildingType)\n",
    "    * [PrimaryPropertyType (USING)](#PrimaryPropertyType)\n",
    "    * [PropertyName (DROPPED)](#PropertyName)\n",
    "    * [Address (DROPPED)](#Address)\n",
    "    * [City (DROPPED)](#City)\n",
    "    * [State (DROPPED)](#State)\n",
    "    * [ZipCode (DROPPED)](#ZipCode)\n",
    "    * [TaxParcelIdentificationNumber (DROPPED)](#TaxParcelIdentificationNumber)\n",
    "    * [CouncilDistrictCode (DROPPED)](#CouncilDistrictCode)\n",
    "    * [Neighborhood (DROPPED)](#Neighborhood)\n",
    "* [Quantitatives features](#Quantitative_features)\n",
    "    * [Latitude & Longitude](#Latitude_&_Longitude)\n",
    "    * [Correlation Matrix](#Correlation_matrix)\n",
    "    * [NumberofBuildings (USING)](#NumberofBuildings)\n",
    "    * [NumberofFloors (USING)](#NumberofFloors)\n",
    "    * [PropertyGFATotal (USING)](#PropertyGFATotal)\n",
    "    * [TO PREDICT: TotalGHGEmissions (USING)](#TotalGHGEmissions)\n",
    "* Energy Star Score\n",
    "* [Multivariate Analyses](#Multivariate_analyses)\n",
    "* [Export](#Export)"
   ]
  },
  {
   "cell_type": "code",
   "execution_count": 1,
   "id": "b1c7d6df",
   "metadata": {},
   "outputs": [],
   "source": [
    "import pandas as pd\n",
    "import numpy as np\n",
    "import matplotlib.pyplot as plt"
   ]
  },
  {
   "cell_type": "code",
   "execution_count": 2,
   "id": "26d36ee6",
   "metadata": {},
   "outputs": [],
   "source": [
    "data = pd.read_csv('2016_Building_Energy_Benchmarking.csv', sep=',')"
   ]
  },
  {
   "cell_type": "code",
   "execution_count": 3,
   "id": "0d5667bc",
   "metadata": {},
   "outputs": [
    {
     "data": {
      "text/html": [
       "<div>\n",
       "<style scoped>\n",
       "    .dataframe tbody tr th:only-of-type {\n",
       "        vertical-align: middle;\n",
       "    }\n",
       "\n",
       "    .dataframe tbody tr th {\n",
       "        vertical-align: top;\n",
       "    }\n",
       "\n",
       "    .dataframe thead th {\n",
       "        text-align: right;\n",
       "    }\n",
       "</style>\n",
       "<table border=\"1\" class=\"dataframe\">\n",
       "  <thead>\n",
       "    <tr style=\"text-align: right;\">\n",
       "      <th></th>\n",
       "      <th>OSEBuildingID</th>\n",
       "      <th>DataYear</th>\n",
       "      <th>BuildingType</th>\n",
       "      <th>PrimaryPropertyType</th>\n",
       "      <th>PropertyName</th>\n",
       "      <th>Address</th>\n",
       "      <th>City</th>\n",
       "      <th>State</th>\n",
       "      <th>ZipCode</th>\n",
       "      <th>TaxParcelIdentificationNumber</th>\n",
       "      <th>...</th>\n",
       "      <th>Electricity(kWh)</th>\n",
       "      <th>Electricity(kBtu)</th>\n",
       "      <th>NaturalGas(therms)</th>\n",
       "      <th>NaturalGas(kBtu)</th>\n",
       "      <th>DefaultData</th>\n",
       "      <th>Comments</th>\n",
       "      <th>ComplianceStatus</th>\n",
       "      <th>Outlier</th>\n",
       "      <th>TotalGHGEmissions</th>\n",
       "      <th>GHGEmissionsIntensity</th>\n",
       "    </tr>\n",
       "  </thead>\n",
       "  <tbody>\n",
       "    <tr>\n",
       "      <th>0</th>\n",
       "      <td>1</td>\n",
       "      <td>2016</td>\n",
       "      <td>NonResidential</td>\n",
       "      <td>Hotel</td>\n",
       "      <td>Mayflower park hotel</td>\n",
       "      <td>405 Olive way</td>\n",
       "      <td>Seattle</td>\n",
       "      <td>WA</td>\n",
       "      <td>98101.0</td>\n",
       "      <td>0659000030</td>\n",
       "      <td>...</td>\n",
       "      <td>1.156514e+06</td>\n",
       "      <td>3946027.0</td>\n",
       "      <td>12764.52930</td>\n",
       "      <td>1276453.0</td>\n",
       "      <td>False</td>\n",
       "      <td>NaN</td>\n",
       "      <td>Compliant</td>\n",
       "      <td>NaN</td>\n",
       "      <td>249.98</td>\n",
       "      <td>2.83</td>\n",
       "    </tr>\n",
       "    <tr>\n",
       "      <th>1</th>\n",
       "      <td>2</td>\n",
       "      <td>2016</td>\n",
       "      <td>NonResidential</td>\n",
       "      <td>Hotel</td>\n",
       "      <td>Paramount Hotel</td>\n",
       "      <td>724 Pine street</td>\n",
       "      <td>Seattle</td>\n",
       "      <td>WA</td>\n",
       "      <td>98101.0</td>\n",
       "      <td>0659000220</td>\n",
       "      <td>...</td>\n",
       "      <td>9.504252e+05</td>\n",
       "      <td>3242851.0</td>\n",
       "      <td>51450.81641</td>\n",
       "      <td>5145082.0</td>\n",
       "      <td>False</td>\n",
       "      <td>NaN</td>\n",
       "      <td>Compliant</td>\n",
       "      <td>NaN</td>\n",
       "      <td>295.86</td>\n",
       "      <td>2.86</td>\n",
       "    </tr>\n",
       "    <tr>\n",
       "      <th>2</th>\n",
       "      <td>3</td>\n",
       "      <td>2016</td>\n",
       "      <td>NonResidential</td>\n",
       "      <td>Hotel</td>\n",
       "      <td>5673-The Westin Seattle</td>\n",
       "      <td>1900 5th Avenue</td>\n",
       "      <td>Seattle</td>\n",
       "      <td>WA</td>\n",
       "      <td>98101.0</td>\n",
       "      <td>0659000475</td>\n",
       "      <td>...</td>\n",
       "      <td>1.451544e+07</td>\n",
       "      <td>49526664.0</td>\n",
       "      <td>14938.00000</td>\n",
       "      <td>1493800.0</td>\n",
       "      <td>False</td>\n",
       "      <td>NaN</td>\n",
       "      <td>Compliant</td>\n",
       "      <td>NaN</td>\n",
       "      <td>2089.28</td>\n",
       "      <td>2.19</td>\n",
       "    </tr>\n",
       "    <tr>\n",
       "      <th>3</th>\n",
       "      <td>5</td>\n",
       "      <td>2016</td>\n",
       "      <td>NonResidential</td>\n",
       "      <td>Hotel</td>\n",
       "      <td>HOTEL MAX</td>\n",
       "      <td>620 STEWART ST</td>\n",
       "      <td>Seattle</td>\n",
       "      <td>WA</td>\n",
       "      <td>98101.0</td>\n",
       "      <td>0659000640</td>\n",
       "      <td>...</td>\n",
       "      <td>8.115253e+05</td>\n",
       "      <td>2768924.0</td>\n",
       "      <td>18112.13086</td>\n",
       "      <td>1811213.0</td>\n",
       "      <td>False</td>\n",
       "      <td>NaN</td>\n",
       "      <td>Compliant</td>\n",
       "      <td>NaN</td>\n",
       "      <td>286.43</td>\n",
       "      <td>4.67</td>\n",
       "    </tr>\n",
       "    <tr>\n",
       "      <th>4</th>\n",
       "      <td>8</td>\n",
       "      <td>2016</td>\n",
       "      <td>NonResidential</td>\n",
       "      <td>Hotel</td>\n",
       "      <td>WARWICK SEATTLE HOTEL (ID8)</td>\n",
       "      <td>401 LENORA ST</td>\n",
       "      <td>Seattle</td>\n",
       "      <td>WA</td>\n",
       "      <td>98121.0</td>\n",
       "      <td>0659000970</td>\n",
       "      <td>...</td>\n",
       "      <td>1.573449e+06</td>\n",
       "      <td>5368607.0</td>\n",
       "      <td>88039.98438</td>\n",
       "      <td>8803998.0</td>\n",
       "      <td>False</td>\n",
       "      <td>NaN</td>\n",
       "      <td>Compliant</td>\n",
       "      <td>NaN</td>\n",
       "      <td>505.01</td>\n",
       "      <td>2.88</td>\n",
       "    </tr>\n",
       "  </tbody>\n",
       "</table>\n",
       "<p>5 rows × 46 columns</p>\n",
       "</div>"
      ],
      "text/plain": [
       "   OSEBuildingID  DataYear    BuildingType PrimaryPropertyType  \\\n",
       "0              1      2016  NonResidential               Hotel   \n",
       "1              2      2016  NonResidential               Hotel   \n",
       "2              3      2016  NonResidential               Hotel   \n",
       "3              5      2016  NonResidential               Hotel   \n",
       "4              8      2016  NonResidential               Hotel   \n",
       "\n",
       "                  PropertyName          Address     City State  ZipCode  \\\n",
       "0         Mayflower park hotel    405 Olive way  Seattle    WA  98101.0   \n",
       "1              Paramount Hotel  724 Pine street  Seattle    WA  98101.0   \n",
       "2      5673-The Westin Seattle  1900 5th Avenue  Seattle    WA  98101.0   \n",
       "3                    HOTEL MAX   620 STEWART ST  Seattle    WA  98101.0   \n",
       "4  WARWICK SEATTLE HOTEL (ID8)    401 LENORA ST  Seattle    WA  98121.0   \n",
       "\n",
       "  TaxParcelIdentificationNumber  ...  Electricity(kWh) Electricity(kBtu)  \\\n",
       "0                    0659000030  ...      1.156514e+06         3946027.0   \n",
       "1                    0659000220  ...      9.504252e+05         3242851.0   \n",
       "2                    0659000475  ...      1.451544e+07        49526664.0   \n",
       "3                    0659000640  ...      8.115253e+05         2768924.0   \n",
       "4                    0659000970  ...      1.573449e+06         5368607.0   \n",
       "\n",
       "   NaturalGas(therms)  NaturalGas(kBtu)  DefaultData  Comments  \\\n",
       "0         12764.52930         1276453.0        False       NaN   \n",
       "1         51450.81641         5145082.0        False       NaN   \n",
       "2         14938.00000         1493800.0        False       NaN   \n",
       "3         18112.13086         1811213.0        False       NaN   \n",
       "4         88039.98438         8803998.0        False       NaN   \n",
       "\n",
       "   ComplianceStatus  Outlier  TotalGHGEmissions  GHGEmissionsIntensity  \n",
       "0         Compliant      NaN             249.98                   2.83  \n",
       "1         Compliant      NaN             295.86                   2.86  \n",
       "2         Compliant      NaN            2089.28                   2.19  \n",
       "3         Compliant      NaN             286.43                   4.67  \n",
       "4         Compliant      NaN             505.01                   2.88  \n",
       "\n",
       "[5 rows x 46 columns]"
      ]
     },
     "metadata": {},
     "output_type": "display_data"
    },
    {
     "name": "stdout",
     "output_type": "stream",
     "text": [
      "Data shape: (3376, 46)\n"
     ]
    }
   ],
   "source": [
    "display(data.head())\n",
    "print('Data shape:', data.shape)"
   ]
  },
  {
   "cell_type": "code",
   "execution_count": 4,
   "id": "7937633e",
   "metadata": {},
   "outputs": [
    {
     "name": "stdout",
     "output_type": "stream",
     "text": [
      "(3376, 45)\n"
     ]
    }
   ],
   "source": [
    "# Removing empty columns\n",
    "data = data.dropna(how='all', axis=1)\n",
    "\n",
    "# Removing empty rows\n",
    "data = data.dropna(how='all', axis=0)\n",
    "\n",
    "print(data.shape)"
   ]
  },
  {
   "cell_type": "code",
   "execution_count": 5,
   "id": "56d73f78",
   "metadata": {},
   "outputs": [],
   "source": [
    "#print(data.info())"
   ]
  },
  {
   "cell_type": "code",
   "execution_count": 6,
   "id": "1e363afa",
   "metadata": {},
   "outputs": [],
   "source": [
    "data_info = pd.DataFrame({'column': data.columns,\n",
    "                          'non-null count': len(data)-data.isnull().sum(),\n",
    "                          'null count': data.isnull().sum(),\n",
    "                          '% null': data.isnull().sum() / len(data) * 100,\n",
    "                          'n-unique': data.nunique(),\n",
    "                          'dtype': data.dtypes})"
   ]
  },
  {
   "cell_type": "code",
   "execution_count": 7,
   "id": "6dba0986",
   "metadata": {},
   "outputs": [
    {
     "data": {
      "text/html": [
       "<div>\n",
       "<style scoped>\n",
       "    .dataframe tbody tr th:only-of-type {\n",
       "        vertical-align: middle;\n",
       "    }\n",
       "\n",
       "    .dataframe tbody tr th {\n",
       "        vertical-align: top;\n",
       "    }\n",
       "\n",
       "    .dataframe thead th {\n",
       "        text-align: right;\n",
       "    }\n",
       "</style>\n",
       "<table border=\"1\" class=\"dataframe\">\n",
       "  <thead>\n",
       "    <tr style=\"text-align: right;\">\n",
       "      <th></th>\n",
       "      <th>column</th>\n",
       "      <th>non-null count</th>\n",
       "      <th>null count</th>\n",
       "      <th>% null</th>\n",
       "      <th>n-unique</th>\n",
       "      <th>dtype</th>\n",
       "    </tr>\n",
       "  </thead>\n",
       "  <tbody>\n",
       "    <tr>\n",
       "      <th>OSEBuildingID</th>\n",
       "      <td>OSEBuildingID</td>\n",
       "      <td>3376</td>\n",
       "      <td>0</td>\n",
       "      <td>0.000000</td>\n",
       "      <td>3376</td>\n",
       "      <td>int64</td>\n",
       "    </tr>\n",
       "    <tr>\n",
       "      <th>DataYear</th>\n",
       "      <td>DataYear</td>\n",
       "      <td>3376</td>\n",
       "      <td>0</td>\n",
       "      <td>0.000000</td>\n",
       "      <td>1</td>\n",
       "      <td>int64</td>\n",
       "    </tr>\n",
       "    <tr>\n",
       "      <th>BuildingType</th>\n",
       "      <td>BuildingType</td>\n",
       "      <td>3376</td>\n",
       "      <td>0</td>\n",
       "      <td>0.000000</td>\n",
       "      <td>8</td>\n",
       "      <td>object</td>\n",
       "    </tr>\n",
       "    <tr>\n",
       "      <th>PrimaryPropertyType</th>\n",
       "      <td>PrimaryPropertyType</td>\n",
       "      <td>3376</td>\n",
       "      <td>0</td>\n",
       "      <td>0.000000</td>\n",
       "      <td>24</td>\n",
       "      <td>object</td>\n",
       "    </tr>\n",
       "    <tr>\n",
       "      <th>PropertyName</th>\n",
       "      <td>PropertyName</td>\n",
       "      <td>3376</td>\n",
       "      <td>0</td>\n",
       "      <td>0.000000</td>\n",
       "      <td>3362</td>\n",
       "      <td>object</td>\n",
       "    </tr>\n",
       "    <tr>\n",
       "      <th>Address</th>\n",
       "      <td>Address</td>\n",
       "      <td>3376</td>\n",
       "      <td>0</td>\n",
       "      <td>0.000000</td>\n",
       "      <td>3354</td>\n",
       "      <td>object</td>\n",
       "    </tr>\n",
       "    <tr>\n",
       "      <th>City</th>\n",
       "      <td>City</td>\n",
       "      <td>3376</td>\n",
       "      <td>0</td>\n",
       "      <td>0.000000</td>\n",
       "      <td>1</td>\n",
       "      <td>object</td>\n",
       "    </tr>\n",
       "    <tr>\n",
       "      <th>State</th>\n",
       "      <td>State</td>\n",
       "      <td>3376</td>\n",
       "      <td>0</td>\n",
       "      <td>0.000000</td>\n",
       "      <td>1</td>\n",
       "      <td>object</td>\n",
       "    </tr>\n",
       "    <tr>\n",
       "      <th>ZipCode</th>\n",
       "      <td>ZipCode</td>\n",
       "      <td>3360</td>\n",
       "      <td>16</td>\n",
       "      <td>0.473934</td>\n",
       "      <td>55</td>\n",
       "      <td>float64</td>\n",
       "    </tr>\n",
       "    <tr>\n",
       "      <th>TaxParcelIdentificationNumber</th>\n",
       "      <td>TaxParcelIdentificationNumber</td>\n",
       "      <td>3376</td>\n",
       "      <td>0</td>\n",
       "      <td>0.000000</td>\n",
       "      <td>3268</td>\n",
       "      <td>object</td>\n",
       "    </tr>\n",
       "    <tr>\n",
       "      <th>CouncilDistrictCode</th>\n",
       "      <td>CouncilDistrictCode</td>\n",
       "      <td>3376</td>\n",
       "      <td>0</td>\n",
       "      <td>0.000000</td>\n",
       "      <td>7</td>\n",
       "      <td>int64</td>\n",
       "    </tr>\n",
       "    <tr>\n",
       "      <th>Neighborhood</th>\n",
       "      <td>Neighborhood</td>\n",
       "      <td>3376</td>\n",
       "      <td>0</td>\n",
       "      <td>0.000000</td>\n",
       "      <td>19</td>\n",
       "      <td>object</td>\n",
       "    </tr>\n",
       "    <tr>\n",
       "      <th>Latitude</th>\n",
       "      <td>Latitude</td>\n",
       "      <td>3376</td>\n",
       "      <td>0</td>\n",
       "      <td>0.000000</td>\n",
       "      <td>2876</td>\n",
       "      <td>float64</td>\n",
       "    </tr>\n",
       "    <tr>\n",
       "      <th>Longitude</th>\n",
       "      <td>Longitude</td>\n",
       "      <td>3376</td>\n",
       "      <td>0</td>\n",
       "      <td>0.000000</td>\n",
       "      <td>2656</td>\n",
       "      <td>float64</td>\n",
       "    </tr>\n",
       "    <tr>\n",
       "      <th>YearBuilt</th>\n",
       "      <td>YearBuilt</td>\n",
       "      <td>3376</td>\n",
       "      <td>0</td>\n",
       "      <td>0.000000</td>\n",
       "      <td>113</td>\n",
       "      <td>int64</td>\n",
       "    </tr>\n",
       "    <tr>\n",
       "      <th>NumberofBuildings</th>\n",
       "      <td>NumberofBuildings</td>\n",
       "      <td>3368</td>\n",
       "      <td>8</td>\n",
       "      <td>0.236967</td>\n",
       "      <td>17</td>\n",
       "      <td>float64</td>\n",
       "    </tr>\n",
       "    <tr>\n",
       "      <th>NumberofFloors</th>\n",
       "      <td>NumberofFloors</td>\n",
       "      <td>3376</td>\n",
       "      <td>0</td>\n",
       "      <td>0.000000</td>\n",
       "      <td>50</td>\n",
       "      <td>int64</td>\n",
       "    </tr>\n",
       "    <tr>\n",
       "      <th>PropertyGFATotal</th>\n",
       "      <td>PropertyGFATotal</td>\n",
       "      <td>3376</td>\n",
       "      <td>0</td>\n",
       "      <td>0.000000</td>\n",
       "      <td>3195</td>\n",
       "      <td>int64</td>\n",
       "    </tr>\n",
       "    <tr>\n",
       "      <th>PropertyGFAParking</th>\n",
       "      <td>PropertyGFAParking</td>\n",
       "      <td>3376</td>\n",
       "      <td>0</td>\n",
       "      <td>0.000000</td>\n",
       "      <td>496</td>\n",
       "      <td>int64</td>\n",
       "    </tr>\n",
       "    <tr>\n",
       "      <th>PropertyGFABuilding(s)</th>\n",
       "      <td>PropertyGFABuilding(s)</td>\n",
       "      <td>3376</td>\n",
       "      <td>0</td>\n",
       "      <td>0.000000</td>\n",
       "      <td>3193</td>\n",
       "      <td>int64</td>\n",
       "    </tr>\n",
       "    <tr>\n",
       "      <th>ListOfAllPropertyUseTypes</th>\n",
       "      <td>ListOfAllPropertyUseTypes</td>\n",
       "      <td>3367</td>\n",
       "      <td>9</td>\n",
       "      <td>0.266588</td>\n",
       "      <td>466</td>\n",
       "      <td>object</td>\n",
       "    </tr>\n",
       "    <tr>\n",
       "      <th>LargestPropertyUseType</th>\n",
       "      <td>LargestPropertyUseType</td>\n",
       "      <td>3356</td>\n",
       "      <td>20</td>\n",
       "      <td>0.592417</td>\n",
       "      <td>56</td>\n",
       "      <td>object</td>\n",
       "    </tr>\n",
       "    <tr>\n",
       "      <th>LargestPropertyUseTypeGFA</th>\n",
       "      <td>LargestPropertyUseTypeGFA</td>\n",
       "      <td>3356</td>\n",
       "      <td>20</td>\n",
       "      <td>0.592417</td>\n",
       "      <td>3122</td>\n",
       "      <td>float64</td>\n",
       "    </tr>\n",
       "    <tr>\n",
       "      <th>SecondLargestPropertyUseType</th>\n",
       "      <td>SecondLargestPropertyUseType</td>\n",
       "      <td>1679</td>\n",
       "      <td>1697</td>\n",
       "      <td>50.266588</td>\n",
       "      <td>50</td>\n",
       "      <td>object</td>\n",
       "    </tr>\n",
       "    <tr>\n",
       "      <th>SecondLargestPropertyUseTypeGFA</th>\n",
       "      <td>SecondLargestPropertyUseTypeGFA</td>\n",
       "      <td>1679</td>\n",
       "      <td>1697</td>\n",
       "      <td>50.266588</td>\n",
       "      <td>1352</td>\n",
       "      <td>float64</td>\n",
       "    </tr>\n",
       "    <tr>\n",
       "      <th>ThirdLargestPropertyUseType</th>\n",
       "      <td>ThirdLargestPropertyUseType</td>\n",
       "      <td>596</td>\n",
       "      <td>2780</td>\n",
       "      <td>82.345972</td>\n",
       "      <td>44</td>\n",
       "      <td>object</td>\n",
       "    </tr>\n",
       "    <tr>\n",
       "      <th>ThirdLargestPropertyUseTypeGFA</th>\n",
       "      <td>ThirdLargestPropertyUseTypeGFA</td>\n",
       "      <td>596</td>\n",
       "      <td>2780</td>\n",
       "      <td>82.345972</td>\n",
       "      <td>501</td>\n",
       "      <td>float64</td>\n",
       "    </tr>\n",
       "    <tr>\n",
       "      <th>YearsENERGYSTARCertified</th>\n",
       "      <td>YearsENERGYSTARCertified</td>\n",
       "      <td>119</td>\n",
       "      <td>3257</td>\n",
       "      <td>96.475118</td>\n",
       "      <td>65</td>\n",
       "      <td>object</td>\n",
       "    </tr>\n",
       "    <tr>\n",
       "      <th>ENERGYSTARScore</th>\n",
       "      <td>ENERGYSTARScore</td>\n",
       "      <td>2533</td>\n",
       "      <td>843</td>\n",
       "      <td>24.970379</td>\n",
       "      <td>100</td>\n",
       "      <td>float64</td>\n",
       "    </tr>\n",
       "    <tr>\n",
       "      <th>SiteEUI(kBtu/sf)</th>\n",
       "      <td>SiteEUI(kBtu/sf)</td>\n",
       "      <td>3369</td>\n",
       "      <td>7</td>\n",
       "      <td>0.207346</td>\n",
       "      <td>1085</td>\n",
       "      <td>float64</td>\n",
       "    </tr>\n",
       "    <tr>\n",
       "      <th>SiteEUIWN(kBtu/sf)</th>\n",
       "      <td>SiteEUIWN(kBtu/sf)</td>\n",
       "      <td>3370</td>\n",
       "      <td>6</td>\n",
       "      <td>0.177725</td>\n",
       "      <td>1105</td>\n",
       "      <td>float64</td>\n",
       "    </tr>\n",
       "    <tr>\n",
       "      <th>SourceEUI(kBtu/sf)</th>\n",
       "      <td>SourceEUI(kBtu/sf)</td>\n",
       "      <td>3367</td>\n",
       "      <td>9</td>\n",
       "      <td>0.266588</td>\n",
       "      <td>1648</td>\n",
       "      <td>float64</td>\n",
       "    </tr>\n",
       "    <tr>\n",
       "      <th>SourceEUIWN(kBtu/sf)</th>\n",
       "      <td>SourceEUIWN(kBtu/sf)</td>\n",
       "      <td>3367</td>\n",
       "      <td>9</td>\n",
       "      <td>0.266588</td>\n",
       "      <td>1694</td>\n",
       "      <td>float64</td>\n",
       "    </tr>\n",
       "    <tr>\n",
       "      <th>SiteEnergyUse(kBtu)</th>\n",
       "      <td>SiteEnergyUse(kBtu)</td>\n",
       "      <td>3371</td>\n",
       "      <td>5</td>\n",
       "      <td>0.148104</td>\n",
       "      <td>3354</td>\n",
       "      <td>float64</td>\n",
       "    </tr>\n",
       "    <tr>\n",
       "      <th>SiteEnergyUseWN(kBtu)</th>\n",
       "      <td>SiteEnergyUseWN(kBtu)</td>\n",
       "      <td>3370</td>\n",
       "      <td>6</td>\n",
       "      <td>0.177725</td>\n",
       "      <td>3341</td>\n",
       "      <td>float64</td>\n",
       "    </tr>\n",
       "    <tr>\n",
       "      <th>SteamUse(kBtu)</th>\n",
       "      <td>SteamUse(kBtu)</td>\n",
       "      <td>3367</td>\n",
       "      <td>9</td>\n",
       "      <td>0.266588</td>\n",
       "      <td>131</td>\n",
       "      <td>float64</td>\n",
       "    </tr>\n",
       "    <tr>\n",
       "      <th>Electricity(kWh)</th>\n",
       "      <td>Electricity(kWh)</td>\n",
       "      <td>3367</td>\n",
       "      <td>9</td>\n",
       "      <td>0.266588</td>\n",
       "      <td>3352</td>\n",
       "      <td>float64</td>\n",
       "    </tr>\n",
       "    <tr>\n",
       "      <th>Electricity(kBtu)</th>\n",
       "      <td>Electricity(kBtu)</td>\n",
       "      <td>3367</td>\n",
       "      <td>9</td>\n",
       "      <td>0.266588</td>\n",
       "      <td>3351</td>\n",
       "      <td>float64</td>\n",
       "    </tr>\n",
       "    <tr>\n",
       "      <th>NaturalGas(therms)</th>\n",
       "      <td>NaturalGas(therms)</td>\n",
       "      <td>3367</td>\n",
       "      <td>9</td>\n",
       "      <td>0.266588</td>\n",
       "      <td>2109</td>\n",
       "      <td>float64</td>\n",
       "    </tr>\n",
       "    <tr>\n",
       "      <th>NaturalGas(kBtu)</th>\n",
       "      <td>NaturalGas(kBtu)</td>\n",
       "      <td>3367</td>\n",
       "      <td>9</td>\n",
       "      <td>0.266588</td>\n",
       "      <td>2109</td>\n",
       "      <td>float64</td>\n",
       "    </tr>\n",
       "    <tr>\n",
       "      <th>DefaultData</th>\n",
       "      <td>DefaultData</td>\n",
       "      <td>3376</td>\n",
       "      <td>0</td>\n",
       "      <td>0.000000</td>\n",
       "      <td>2</td>\n",
       "      <td>bool</td>\n",
       "    </tr>\n",
       "    <tr>\n",
       "      <th>ComplianceStatus</th>\n",
       "      <td>ComplianceStatus</td>\n",
       "      <td>3376</td>\n",
       "      <td>0</td>\n",
       "      <td>0.000000</td>\n",
       "      <td>4</td>\n",
       "      <td>object</td>\n",
       "    </tr>\n",
       "    <tr>\n",
       "      <th>Outlier</th>\n",
       "      <td>Outlier</td>\n",
       "      <td>32</td>\n",
       "      <td>3344</td>\n",
       "      <td>99.052133</td>\n",
       "      <td>2</td>\n",
       "      <td>object</td>\n",
       "    </tr>\n",
       "    <tr>\n",
       "      <th>TotalGHGEmissions</th>\n",
       "      <td>TotalGHGEmissions</td>\n",
       "      <td>3367</td>\n",
       "      <td>9</td>\n",
       "      <td>0.266588</td>\n",
       "      <td>2818</td>\n",
       "      <td>float64</td>\n",
       "    </tr>\n",
       "    <tr>\n",
       "      <th>GHGEmissionsIntensity</th>\n",
       "      <td>GHGEmissionsIntensity</td>\n",
       "      <td>3367</td>\n",
       "      <td>9</td>\n",
       "      <td>0.266588</td>\n",
       "      <td>511</td>\n",
       "      <td>float64</td>\n",
       "    </tr>\n",
       "  </tbody>\n",
       "</table>\n",
       "</div>"
      ],
      "text/plain": [
       "                                                          column  \\\n",
       "OSEBuildingID                                      OSEBuildingID   \n",
       "DataYear                                                DataYear   \n",
       "BuildingType                                        BuildingType   \n",
       "PrimaryPropertyType                          PrimaryPropertyType   \n",
       "PropertyName                                        PropertyName   \n",
       "Address                                                  Address   \n",
       "City                                                        City   \n",
       "State                                                      State   \n",
       "ZipCode                                                  ZipCode   \n",
       "TaxParcelIdentificationNumber      TaxParcelIdentificationNumber   \n",
       "CouncilDistrictCode                          CouncilDistrictCode   \n",
       "Neighborhood                                        Neighborhood   \n",
       "Latitude                                                Latitude   \n",
       "Longitude                                              Longitude   \n",
       "YearBuilt                                              YearBuilt   \n",
       "NumberofBuildings                              NumberofBuildings   \n",
       "NumberofFloors                                    NumberofFloors   \n",
       "PropertyGFATotal                                PropertyGFATotal   \n",
       "PropertyGFAParking                            PropertyGFAParking   \n",
       "PropertyGFABuilding(s)                    PropertyGFABuilding(s)   \n",
       "ListOfAllPropertyUseTypes              ListOfAllPropertyUseTypes   \n",
       "LargestPropertyUseType                    LargestPropertyUseType   \n",
       "LargestPropertyUseTypeGFA              LargestPropertyUseTypeGFA   \n",
       "SecondLargestPropertyUseType        SecondLargestPropertyUseType   \n",
       "SecondLargestPropertyUseTypeGFA  SecondLargestPropertyUseTypeGFA   \n",
       "ThirdLargestPropertyUseType          ThirdLargestPropertyUseType   \n",
       "ThirdLargestPropertyUseTypeGFA    ThirdLargestPropertyUseTypeGFA   \n",
       "YearsENERGYSTARCertified                YearsENERGYSTARCertified   \n",
       "ENERGYSTARScore                                  ENERGYSTARScore   \n",
       "SiteEUI(kBtu/sf)                                SiteEUI(kBtu/sf)   \n",
       "SiteEUIWN(kBtu/sf)                            SiteEUIWN(kBtu/sf)   \n",
       "SourceEUI(kBtu/sf)                            SourceEUI(kBtu/sf)   \n",
       "SourceEUIWN(kBtu/sf)                        SourceEUIWN(kBtu/sf)   \n",
       "SiteEnergyUse(kBtu)                          SiteEnergyUse(kBtu)   \n",
       "SiteEnergyUseWN(kBtu)                      SiteEnergyUseWN(kBtu)   \n",
       "SteamUse(kBtu)                                    SteamUse(kBtu)   \n",
       "Electricity(kWh)                                Electricity(kWh)   \n",
       "Electricity(kBtu)                              Electricity(kBtu)   \n",
       "NaturalGas(therms)                            NaturalGas(therms)   \n",
       "NaturalGas(kBtu)                                NaturalGas(kBtu)   \n",
       "DefaultData                                          DefaultData   \n",
       "ComplianceStatus                                ComplianceStatus   \n",
       "Outlier                                                  Outlier   \n",
       "TotalGHGEmissions                              TotalGHGEmissions   \n",
       "GHGEmissionsIntensity                      GHGEmissionsIntensity   \n",
       "\n",
       "                                 non-null count  null count     % null  \\\n",
       "OSEBuildingID                              3376           0   0.000000   \n",
       "DataYear                                   3376           0   0.000000   \n",
       "BuildingType                               3376           0   0.000000   \n",
       "PrimaryPropertyType                        3376           0   0.000000   \n",
       "PropertyName                               3376           0   0.000000   \n",
       "Address                                    3376           0   0.000000   \n",
       "City                                       3376           0   0.000000   \n",
       "State                                      3376           0   0.000000   \n",
       "ZipCode                                    3360          16   0.473934   \n",
       "TaxParcelIdentificationNumber              3376           0   0.000000   \n",
       "CouncilDistrictCode                        3376           0   0.000000   \n",
       "Neighborhood                               3376           0   0.000000   \n",
       "Latitude                                   3376           0   0.000000   \n",
       "Longitude                                  3376           0   0.000000   \n",
       "YearBuilt                                  3376           0   0.000000   \n",
       "NumberofBuildings                          3368           8   0.236967   \n",
       "NumberofFloors                             3376           0   0.000000   \n",
       "PropertyGFATotal                           3376           0   0.000000   \n",
       "PropertyGFAParking                         3376           0   0.000000   \n",
       "PropertyGFABuilding(s)                     3376           0   0.000000   \n",
       "ListOfAllPropertyUseTypes                  3367           9   0.266588   \n",
       "LargestPropertyUseType                     3356          20   0.592417   \n",
       "LargestPropertyUseTypeGFA                  3356          20   0.592417   \n",
       "SecondLargestPropertyUseType               1679        1697  50.266588   \n",
       "SecondLargestPropertyUseTypeGFA            1679        1697  50.266588   \n",
       "ThirdLargestPropertyUseType                 596        2780  82.345972   \n",
       "ThirdLargestPropertyUseTypeGFA              596        2780  82.345972   \n",
       "YearsENERGYSTARCertified                    119        3257  96.475118   \n",
       "ENERGYSTARScore                            2533         843  24.970379   \n",
       "SiteEUI(kBtu/sf)                           3369           7   0.207346   \n",
       "SiteEUIWN(kBtu/sf)                         3370           6   0.177725   \n",
       "SourceEUI(kBtu/sf)                         3367           9   0.266588   \n",
       "SourceEUIWN(kBtu/sf)                       3367           9   0.266588   \n",
       "SiteEnergyUse(kBtu)                        3371           5   0.148104   \n",
       "SiteEnergyUseWN(kBtu)                      3370           6   0.177725   \n",
       "SteamUse(kBtu)                             3367           9   0.266588   \n",
       "Electricity(kWh)                           3367           9   0.266588   \n",
       "Electricity(kBtu)                          3367           9   0.266588   \n",
       "NaturalGas(therms)                         3367           9   0.266588   \n",
       "NaturalGas(kBtu)                           3367           9   0.266588   \n",
       "DefaultData                                3376           0   0.000000   \n",
       "ComplianceStatus                           3376           0   0.000000   \n",
       "Outlier                                      32        3344  99.052133   \n",
       "TotalGHGEmissions                          3367           9   0.266588   \n",
       "GHGEmissionsIntensity                      3367           9   0.266588   \n",
       "\n",
       "                                 n-unique    dtype  \n",
       "OSEBuildingID                        3376    int64  \n",
       "DataYear                                1    int64  \n",
       "BuildingType                            8   object  \n",
       "PrimaryPropertyType                    24   object  \n",
       "PropertyName                         3362   object  \n",
       "Address                              3354   object  \n",
       "City                                    1   object  \n",
       "State                                   1   object  \n",
       "ZipCode                                55  float64  \n",
       "TaxParcelIdentificationNumber        3268   object  \n",
       "CouncilDistrictCode                     7    int64  \n",
       "Neighborhood                           19   object  \n",
       "Latitude                             2876  float64  \n",
       "Longitude                            2656  float64  \n",
       "YearBuilt                             113    int64  \n",
       "NumberofBuildings                      17  float64  \n",
       "NumberofFloors                         50    int64  \n",
       "PropertyGFATotal                     3195    int64  \n",
       "PropertyGFAParking                    496    int64  \n",
       "PropertyGFABuilding(s)               3193    int64  \n",
       "ListOfAllPropertyUseTypes             466   object  \n",
       "LargestPropertyUseType                 56   object  \n",
       "LargestPropertyUseTypeGFA            3122  float64  \n",
       "SecondLargestPropertyUseType           50   object  \n",
       "SecondLargestPropertyUseTypeGFA      1352  float64  \n",
       "ThirdLargestPropertyUseType            44   object  \n",
       "ThirdLargestPropertyUseTypeGFA        501  float64  \n",
       "YearsENERGYSTARCertified               65   object  \n",
       "ENERGYSTARScore                       100  float64  \n",
       "SiteEUI(kBtu/sf)                     1085  float64  \n",
       "SiteEUIWN(kBtu/sf)                   1105  float64  \n",
       "SourceEUI(kBtu/sf)                   1648  float64  \n",
       "SourceEUIWN(kBtu/sf)                 1694  float64  \n",
       "SiteEnergyUse(kBtu)                  3354  float64  \n",
       "SiteEnergyUseWN(kBtu)                3341  float64  \n",
       "SteamUse(kBtu)                        131  float64  \n",
       "Electricity(kWh)                     3352  float64  \n",
       "Electricity(kBtu)                    3351  float64  \n",
       "NaturalGas(therms)                   2109  float64  \n",
       "NaturalGas(kBtu)                     2109  float64  \n",
       "DefaultData                             2     bool  \n",
       "ComplianceStatus                        4   object  \n",
       "Outlier                                 2   object  \n",
       "TotalGHGEmissions                    2818  float64  \n",
       "GHGEmissionsIntensity                 511  float64  "
      ]
     },
     "metadata": {},
     "output_type": "display_data"
    }
   ],
   "source": [
    "display(data_info)"
   ]
  },
  {
   "cell_type": "markdown",
   "id": "3d0c87f6",
   "metadata": {},
   "source": [
    "## OSEBuildingID\n",
    "\n",
    "*A unique identifier assigned to each property covered by the Seattle Benchmarking Ordinance for tracking and identification purposes.*\n",
    "\n",
    "* ID"
   ]
  },
  {
   "cell_type": "code",
   "execution_count": 8,
   "id": "ce49ab10",
   "metadata": {},
   "outputs": [
    {
     "data": {
      "text/plain": [
       "3376"
      ]
     },
     "execution_count": 8,
     "metadata": {},
     "output_type": "execute_result"
    }
   ],
   "source": [
    "data['OSEBuildingID'].nunique()"
   ]
  },
  {
   "cell_type": "markdown",
   "id": "ab1741ca",
   "metadata": {},
   "source": [
    "<a name='Categorical_features'></a>\n",
    "# Categorical features\n",
    "\n",
    "## DataYear\n",
    "\n",
    "*Calendar year (January-December) represented by each data record.*\n",
    "\n",
    "* Only 1 category so not pertinent: only 2016"
   ]
  },
  {
   "cell_type": "code",
   "execution_count": 9,
   "id": "50f00403",
   "metadata": {},
   "outputs": [
    {
     "data": {
      "text/plain": [
       "array([2016], dtype=int64)"
      ]
     },
     "execution_count": 9,
     "metadata": {},
     "output_type": "execute_result"
    }
   ],
   "source": [
    "data['DataYear'].unique()"
   ]
  },
  {
   "cell_type": "code",
   "execution_count": 10,
   "id": "15b703a3",
   "metadata": {},
   "outputs": [],
   "source": [
    "data = data.drop('DataYear', axis=1)"
   ]
  },
  {
   "cell_type": "code",
   "execution_count": 11,
   "id": "cb7446db",
   "metadata": {},
   "outputs": [
    {
     "data": {
      "text/plain": [
       "(3376, 44)"
      ]
     },
     "execution_count": 11,
     "metadata": {},
     "output_type": "execute_result"
    }
   ],
   "source": [
    "data.shape"
   ]
  },
  {
   "cell_type": "markdown",
   "id": "734455cb",
   "metadata": {},
   "source": [
    "## Outlier\n",
    "\n",
    "*Whether a property is a high or low outlier (Y/N)*\n",
    "\n",
    "* Ignoring for now (deleting lines with outliers)"
   ]
  },
  {
   "cell_type": "code",
   "execution_count": 12,
   "id": "914dbbd1",
   "metadata": {},
   "outputs": [
    {
     "data": {
      "text/plain": [
       "array([nan, 'High outlier', 'Low outlier'], dtype=object)"
      ]
     },
     "execution_count": 12,
     "metadata": {},
     "output_type": "execute_result"
    }
   ],
   "source": [
    "data['Outlier'].unique()"
   ]
  },
  {
   "cell_type": "code",
   "execution_count": 13,
   "id": "4e9d7b6b",
   "metadata": {},
   "outputs": [
    {
     "data": {
      "text/html": [
       "<div>\n",
       "<style scoped>\n",
       "    .dataframe tbody tr th:only-of-type {\n",
       "        vertical-align: middle;\n",
       "    }\n",
       "\n",
       "    .dataframe tbody tr th {\n",
       "        vertical-align: top;\n",
       "    }\n",
       "\n",
       "    .dataframe thead th {\n",
       "        text-align: right;\n",
       "    }\n",
       "</style>\n",
       "<table border=\"1\" class=\"dataframe\">\n",
       "  <thead>\n",
       "    <tr style=\"text-align: right;\">\n",
       "      <th></th>\n",
       "      <th>OSEBuildingID</th>\n",
       "      <th>BuildingType</th>\n",
       "      <th>PrimaryPropertyType</th>\n",
       "      <th>PropertyName</th>\n",
       "      <th>Address</th>\n",
       "      <th>City</th>\n",
       "      <th>State</th>\n",
       "      <th>ZipCode</th>\n",
       "      <th>TaxParcelIdentificationNumber</th>\n",
       "      <th>CouncilDistrictCode</th>\n",
       "      <th>...</th>\n",
       "      <th>SteamUse(kBtu)</th>\n",
       "      <th>Electricity(kWh)</th>\n",
       "      <th>Electricity(kBtu)</th>\n",
       "      <th>NaturalGas(therms)</th>\n",
       "      <th>NaturalGas(kBtu)</th>\n",
       "      <th>DefaultData</th>\n",
       "      <th>ComplianceStatus</th>\n",
       "      <th>Outlier</th>\n",
       "      <th>TotalGHGEmissions</th>\n",
       "      <th>GHGEmissionsIntensity</th>\n",
       "    </tr>\n",
       "  </thead>\n",
       "  <tbody>\n",
       "    <tr>\n",
       "      <th>226</th>\n",
       "      <td>350</td>\n",
       "      <td>NonResidential</td>\n",
       "      <td>Large Office</td>\n",
       "      <td>Second And Spring Building</td>\n",
       "      <td>1100 Second Avenue</td>\n",
       "      <td>Seattle</td>\n",
       "      <td>WA</td>\n",
       "      <td>98101.0</td>\n",
       "      <td>0942000045</td>\n",
       "      <td>7</td>\n",
       "      <td>...</td>\n",
       "      <td>0.0</td>\n",
       "      <td>1.166315e+07</td>\n",
       "      <td>39794668.0</td>\n",
       "      <td>16048.309570</td>\n",
       "      <td>1604831.0</td>\n",
       "      <td>False</td>\n",
       "      <td>Non-Compliant</td>\n",
       "      <td>High outlier</td>\n",
       "      <td>362.66</td>\n",
       "      <td>2.10</td>\n",
       "    </tr>\n",
       "    <tr>\n",
       "      <th>384</th>\n",
       "      <td>539</td>\n",
       "      <td>NonResidential</td>\n",
       "      <td>Retail Store</td>\n",
       "      <td>University Center</td>\n",
       "      <td>4501 Roosevelt Way NE</td>\n",
       "      <td>Seattle</td>\n",
       "      <td>WA</td>\n",
       "      <td>98105.0</td>\n",
       "      <td>5335200380</td>\n",
       "      <td>4</td>\n",
       "      <td>...</td>\n",
       "      <td>0.0</td>\n",
       "      <td>9.348260e+04</td>\n",
       "      <td>318963.0</td>\n",
       "      <td>0.000000</td>\n",
       "      <td>0.0</td>\n",
       "      <td>False</td>\n",
       "      <td>Non-Compliant</td>\n",
       "      <td>Low outlier</td>\n",
       "      <td>2.22</td>\n",
       "      <td>0.03</td>\n",
       "    </tr>\n",
       "    <tr>\n",
       "      <th>448</th>\n",
       "      <td>608</td>\n",
       "      <td>NonResidential</td>\n",
       "      <td>Large Office</td>\n",
       "      <td>411 1ST AVE  S (ID608)</td>\n",
       "      <td>411 1ST AVE S</td>\n",
       "      <td>Seattle</td>\n",
       "      <td>WA</td>\n",
       "      <td>98104.0</td>\n",
       "      <td>5247800200</td>\n",
       "      <td>2</td>\n",
       "      <td>...</td>\n",
       "      <td>0.0</td>\n",
       "      <td>4.715030e+05</td>\n",
       "      <td>1608768.0</td>\n",
       "      <td>3430.500488</td>\n",
       "      <td>343050.0</td>\n",
       "      <td>False</td>\n",
       "      <td>Non-Compliant</td>\n",
       "      <td>Low outlier</td>\n",
       "      <td>29.43</td>\n",
       "      <td>0.19</td>\n",
       "    </tr>\n",
       "    <tr>\n",
       "      <th>517</th>\n",
       "      <td>704</td>\n",
       "      <td>NonResidential</td>\n",
       "      <td>Large Office</td>\n",
       "      <td>401 Elliott Ave West</td>\n",
       "      <td>401 Elliot Ave West</td>\n",
       "      <td>Seattle</td>\n",
       "      <td>WA</td>\n",
       "      <td>98119.0</td>\n",
       "      <td>7666202110</td>\n",
       "      <td>7</td>\n",
       "      <td>...</td>\n",
       "      <td>0.0</td>\n",
       "      <td>7.953454e+06</td>\n",
       "      <td>27137187.0</td>\n",
       "      <td>0.000000</td>\n",
       "      <td>0.0</td>\n",
       "      <td>False</td>\n",
       "      <td>Non-Compliant</td>\n",
       "      <td>High outlier</td>\n",
       "      <td>189.18</td>\n",
       "      <td>1.46</td>\n",
       "    </tr>\n",
       "    <tr>\n",
       "      <th>720</th>\n",
       "      <td>19708</td>\n",
       "      <td>Multifamily HR (10+)</td>\n",
       "      <td>High-Rise Multifamily</td>\n",
       "      <td>Bay Vista</td>\n",
       "      <td>2821 2nd Ave</td>\n",
       "      <td>Seattle</td>\n",
       "      <td>WA</td>\n",
       "      <td>98121.0</td>\n",
       "      <td>0586400000</td>\n",
       "      <td>7</td>\n",
       "      <td>...</td>\n",
       "      <td>0.0</td>\n",
       "      <td>6.265616e+05</td>\n",
       "      <td>2137828.0</td>\n",
       "      <td>2700.760010</td>\n",
       "      <td>270076.0</td>\n",
       "      <td>False</td>\n",
       "      <td>Non-Compliant</td>\n",
       "      <td>Low outlier</td>\n",
       "      <td>29.25</td>\n",
       "      <td>0.17</td>\n",
       "    </tr>\n",
       "  </tbody>\n",
       "</table>\n",
       "<p>5 rows × 44 columns</p>\n",
       "</div>"
      ],
      "text/plain": [
       "     OSEBuildingID          BuildingType    PrimaryPropertyType  \\\n",
       "226            350        NonResidential           Large Office   \n",
       "384            539        NonResidential           Retail Store   \n",
       "448            608        NonResidential           Large Office   \n",
       "517            704        NonResidential           Large Office   \n",
       "720          19708  Multifamily HR (10+)  High-Rise Multifamily   \n",
       "\n",
       "                   PropertyName                Address     City State  \\\n",
       "226  Second And Spring Building     1100 Second Avenue  Seattle    WA   \n",
       "384           University Center  4501 Roosevelt Way NE  Seattle    WA   \n",
       "448      411 1ST AVE  S (ID608)          411 1ST AVE S  Seattle    WA   \n",
       "517        401 Elliott Ave West    401 Elliot Ave West  Seattle    WA   \n",
       "720                   Bay Vista           2821 2nd Ave  Seattle    WA   \n",
       "\n",
       "     ZipCode TaxParcelIdentificationNumber  CouncilDistrictCode  ...  \\\n",
       "226  98101.0                    0942000045                    7  ...   \n",
       "384  98105.0                    5335200380                    4  ...   \n",
       "448  98104.0                    5247800200                    2  ...   \n",
       "517  98119.0                    7666202110                    7  ...   \n",
       "720  98121.0                    0586400000                    7  ...   \n",
       "\n",
       "    SteamUse(kBtu)  Electricity(kWh)  Electricity(kBtu)  NaturalGas(therms)  \\\n",
       "226            0.0      1.166315e+07         39794668.0        16048.309570   \n",
       "384            0.0      9.348260e+04           318963.0            0.000000   \n",
       "448            0.0      4.715030e+05          1608768.0         3430.500488   \n",
       "517            0.0      7.953454e+06         27137187.0            0.000000   \n",
       "720            0.0      6.265616e+05          2137828.0         2700.760010   \n",
       "\n",
       "     NaturalGas(kBtu)  DefaultData  ComplianceStatus       Outlier  \\\n",
       "226         1604831.0        False     Non-Compliant  High outlier   \n",
       "384               0.0        False     Non-Compliant   Low outlier   \n",
       "448          343050.0        False     Non-Compliant   Low outlier   \n",
       "517               0.0        False     Non-Compliant  High outlier   \n",
       "720          270076.0        False     Non-Compliant   Low outlier   \n",
       "\n",
       "     TotalGHGEmissions GHGEmissionsIntensity  \n",
       "226             362.66                  2.10  \n",
       "384               2.22                  0.03  \n",
       "448              29.43                  0.19  \n",
       "517             189.18                  1.46  \n",
       "720              29.25                  0.17  \n",
       "\n",
       "[5 rows x 44 columns]"
      ]
     },
     "execution_count": 13,
     "metadata": {},
     "output_type": "execute_result"
    }
   ],
   "source": [
    "data[data['Outlier'].notnull()].head()"
   ]
  },
  {
   "cell_type": "code",
   "execution_count": 14,
   "id": "b9e881db",
   "metadata": {},
   "outputs": [
    {
     "data": {
      "text/html": [
       "<div>\n",
       "<style scoped>\n",
       "    .dataframe tbody tr th:only-of-type {\n",
       "        vertical-align: middle;\n",
       "    }\n",
       "\n",
       "    .dataframe tbody tr th {\n",
       "        vertical-align: top;\n",
       "    }\n",
       "\n",
       "    .dataframe thead th {\n",
       "        text-align: right;\n",
       "    }\n",
       "</style>\n",
       "<table border=\"1\" class=\"dataframe\">\n",
       "  <thead>\n",
       "    <tr style=\"text-align: right;\">\n",
       "      <th></th>\n",
       "      <th>Outlier</th>\n",
       "    </tr>\n",
       "  </thead>\n",
       "  <tbody>\n",
       "    <tr>\n",
       "      <th>Low outlier</th>\n",
       "      <td>23</td>\n",
       "    </tr>\n",
       "    <tr>\n",
       "      <th>High outlier</th>\n",
       "      <td>9</td>\n",
       "    </tr>\n",
       "  </tbody>\n",
       "</table>\n",
       "</div>"
      ],
      "text/plain": [
       "              Outlier\n",
       "Low outlier        23\n",
       "High outlier        9"
      ]
     },
     "execution_count": 14,
     "metadata": {},
     "output_type": "execute_result"
    }
   ],
   "source": [
    "Outlier_agg = pd.DataFrame(data['Outlier'].value_counts().sort_values(ascending=False))\n",
    "Outlier_agg"
   ]
  },
  {
   "cell_type": "code",
   "execution_count": 15,
   "id": "a064d008",
   "metadata": {},
   "outputs": [
    {
     "data": {
      "text/plain": [
       "Text(0.5, 1.0, 'Outlier != NaN repartition')"
      ]
     },
     "execution_count": 15,
     "metadata": {},
     "output_type": "execute_result"
    },
    {
     "data": {
      "image/png": "[encoded data removed]",
      "text/plain": [
       "<Figure size 1008x288 with 1 Axes>"
      ]
     },
     "metadata": {
      "needs_background": "light"
     },
     "output_type": "display_data"
    }
   ],
   "source": [
    "fig, ax = plt.subplots(figsize = (14,4))\n",
    "ax.bar(Outlier_agg.index, Outlier_agg['Outlier'])\n",
    "ax.set_xlabel('Outlier type', size=12)\n",
    "ax.set_ylabel('Count', size=12)\n",
    "ax.set_title('Outlier != NaN repartition', size=14)"
   ]
  },
  {
   "cell_type": "code",
   "execution_count": 16,
   "id": "f92ce82c",
   "metadata": {},
   "outputs": [],
   "source": [
    "data = data[data['Outlier'].isnull()]"
   ]
  },
  {
   "cell_type": "code",
   "execution_count": 17,
   "id": "c14818bf",
   "metadata": {},
   "outputs": [],
   "source": [
    "data = data.drop('Outlier', axis=1)"
   ]
  },
  {
   "cell_type": "code",
   "execution_count": 18,
   "id": "4a429cf9",
   "metadata": {},
   "outputs": [
    {
     "data": {
      "text/plain": [
       "(3344, 43)"
      ]
     },
     "execution_count": 18,
     "metadata": {},
     "output_type": "execute_result"
    }
   ],
   "source": [
    "data.shape"
   ]
  },
  {
   "cell_type": "markdown",
   "id": "a93d5344",
   "metadata": {},
   "source": [
    "## BuildingType\n",
    "\n",
    "*City of Seattle building type classification.*\n",
    "\n",
    "* Nous étudions seulement les bâtiments non destinés à l'habitation, donc suppression de la data en conséquence.\n",
    "* One-hot encoding"
   ]
  },
  {
   "cell_type": "code",
   "execution_count": 19,
   "id": "a9856e36",
   "metadata": {},
   "outputs": [
    {
     "data": {
      "text/plain": [
       "8"
      ]
     },
     "execution_count": 19,
     "metadata": {},
     "output_type": "execute_result"
    }
   ],
   "source": [
    "data['BuildingType'].nunique()"
   ]
  },
  {
   "cell_type": "code",
   "execution_count": 20,
   "id": "4aaacea9",
   "metadata": {},
   "outputs": [
    {
     "data": {
      "text/plain": [
       "array(['NonResidential', 'Nonresidential COS', 'Multifamily MR (5-9)',\n",
       "       'SPS-District K-12', 'Campus', 'Multifamily LR (1-4)',\n",
       "       'Multifamily HR (10+)', 'Nonresidential WA'], dtype=object)"
      ]
     },
     "execution_count": 20,
     "metadata": {},
     "output_type": "execute_result"
    }
   ],
   "source": [
    "data['BuildingType'].unique()"
   ]
  },
  {
   "cell_type": "code",
   "execution_count": 21,
   "id": "a16c5a70",
   "metadata": {},
   "outputs": [
    {
     "data": {
      "text/html": [
       "<div>\n",
       "<style scoped>\n",
       "    .dataframe tbody tr th:only-of-type {\n",
       "        vertical-align: middle;\n",
       "    }\n",
       "\n",
       "    .dataframe tbody tr th {\n",
       "        vertical-align: top;\n",
       "    }\n",
       "\n",
       "    .dataframe thead th {\n",
       "        text-align: right;\n",
       "    }\n",
       "</style>\n",
       "<table border=\"1\" class=\"dataframe\">\n",
       "  <thead>\n",
       "    <tr style=\"text-align: right;\">\n",
       "      <th></th>\n",
       "      <th>BuildingType</th>\n",
       "    </tr>\n",
       "  </thead>\n",
       "  <tbody>\n",
       "    <tr>\n",
       "      <th>NonResidential</th>\n",
       "      <td>1445</td>\n",
       "    </tr>\n",
       "    <tr>\n",
       "      <th>Multifamily LR (1-4)</th>\n",
       "      <td>1006</td>\n",
       "    </tr>\n",
       "    <tr>\n",
       "      <th>Multifamily MR (5-9)</th>\n",
       "      <td>578</td>\n",
       "    </tr>\n",
       "    <tr>\n",
       "      <th>Multifamily HR (10+)</th>\n",
       "      <td>109</td>\n",
       "    </tr>\n",
       "    <tr>\n",
       "      <th>SPS-District K-12</th>\n",
       "      <td>97</td>\n",
       "    </tr>\n",
       "    <tr>\n",
       "      <th>Nonresidential COS</th>\n",
       "      <td>84</td>\n",
       "    </tr>\n",
       "    <tr>\n",
       "      <th>Campus</th>\n",
       "      <td>24</td>\n",
       "    </tr>\n",
       "    <tr>\n",
       "      <th>Nonresidential WA</th>\n",
       "      <td>1</td>\n",
       "    </tr>\n",
       "  </tbody>\n",
       "</table>\n",
       "</div>"
      ],
      "text/plain": [
       "                      BuildingType\n",
       "NonResidential                1445\n",
       "Multifamily LR (1-4)          1006\n",
       "Multifamily MR (5-9)           578\n",
       "Multifamily HR (10+)           109\n",
       "SPS-District K-12               97\n",
       "Nonresidential COS              84\n",
       "Campus                          24\n",
       "Nonresidential WA                1"
      ]
     },
     "execution_count": 21,
     "metadata": {},
     "output_type": "execute_result"
    }
   ],
   "source": [
    "BuildingType_agg = pd.DataFrame(data['BuildingType'].value_counts().sort_values(ascending=False))\n",
    "BuildingType_agg"
   ]
  },
  {
   "cell_type": "code",
   "execution_count": 22,
   "id": "fa1f0bc9",
   "metadata": {},
   "outputs": [
    {
     "data": {
      "text/plain": [
       "Text(0.5, 1.0, 'BuildingType repartition')"
      ]
     },
     "execution_count": 22,
     "metadata": {},
     "output_type": "execute_result"
    },
    {
     "data": {
      "image/png": "[encoded data removed]",
      "text/plain": [
       "<Figure size 1296x288 with 1 Axes>"
      ]
     },
     "metadata": {
      "needs_background": "light"
     },
     "output_type": "display_data"
    }
   ],
   "source": [
    "fig, ax = plt.subplots(figsize = (18,4))\n",
    "ax.bar(BuildingType_agg.index, BuildingType_agg['BuildingType'])\n",
    "ax.set_xlabel('Building type', size=12)\n",
    "ax.set_ylabel('Count', size=12)\n",
    "ax.set_title('BuildingType repartition', size=14)"
   ]
  },
  {
   "cell_type": "code",
   "execution_count": 23,
   "id": "810d2941",
   "metadata": {},
   "outputs": [],
   "source": [
    "data = data[(data['BuildingType'] != 'Multifamily LR (1-4)')\n",
    "            & (data['BuildingType'] != 'Multifamily MR (5-9)')\n",
    "            & (data['BuildingType'] != 'Multifamily HR (10+)')]\n",
    "data = data[data['BuildingType'] != 'Nonresidential WA'] # Only 1 line"
   ]
  },
  {
   "cell_type": "code",
   "execution_count": 24,
   "id": "6b4ee187",
   "metadata": {},
   "outputs": [
    {
     "data": {
      "text/html": [
       "<div>\n",
       "<style scoped>\n",
       "    .dataframe tbody tr th:only-of-type {\n",
       "        vertical-align: middle;\n",
       "    }\n",
       "\n",
       "    .dataframe tbody tr th {\n",
       "        vertical-align: top;\n",
       "    }\n",
       "\n",
       "    .dataframe thead th {\n",
       "        text-align: right;\n",
       "    }\n",
       "</style>\n",
       "<table border=\"1\" class=\"dataframe\">\n",
       "  <thead>\n",
       "    <tr style=\"text-align: right;\">\n",
       "      <th></th>\n",
       "      <th>Campus</th>\n",
       "      <th>NonResidential</th>\n",
       "      <th>Nonresidential COS</th>\n",
       "      <th>SPS-District K-12</th>\n",
       "    </tr>\n",
       "  </thead>\n",
       "  <tbody>\n",
       "    <tr>\n",
       "      <th>0</th>\n",
       "      <td>0</td>\n",
       "      <td>1</td>\n",
       "      <td>0</td>\n",
       "      <td>0</td>\n",
       "    </tr>\n",
       "    <tr>\n",
       "      <th>1</th>\n",
       "      <td>0</td>\n",
       "      <td>1</td>\n",
       "      <td>0</td>\n",
       "      <td>0</td>\n",
       "    </tr>\n",
       "    <tr>\n",
       "      <th>2</th>\n",
       "      <td>0</td>\n",
       "      <td>1</td>\n",
       "      <td>0</td>\n",
       "      <td>0</td>\n",
       "    </tr>\n",
       "    <tr>\n",
       "      <th>3</th>\n",
       "      <td>0</td>\n",
       "      <td>1</td>\n",
       "      <td>0</td>\n",
       "      <td>0</td>\n",
       "    </tr>\n",
       "    <tr>\n",
       "      <th>4</th>\n",
       "      <td>0</td>\n",
       "      <td>1</td>\n",
       "      <td>0</td>\n",
       "      <td>0</td>\n",
       "    </tr>\n",
       "    <tr>\n",
       "      <th>...</th>\n",
       "      <td>...</td>\n",
       "      <td>...</td>\n",
       "      <td>...</td>\n",
       "      <td>...</td>\n",
       "    </tr>\n",
       "    <tr>\n",
       "      <th>3371</th>\n",
       "      <td>0</td>\n",
       "      <td>0</td>\n",
       "      <td>1</td>\n",
       "      <td>0</td>\n",
       "    </tr>\n",
       "    <tr>\n",
       "      <th>3372</th>\n",
       "      <td>0</td>\n",
       "      <td>0</td>\n",
       "      <td>1</td>\n",
       "      <td>0</td>\n",
       "    </tr>\n",
       "    <tr>\n",
       "      <th>3373</th>\n",
       "      <td>0</td>\n",
       "      <td>0</td>\n",
       "      <td>1</td>\n",
       "      <td>0</td>\n",
       "    </tr>\n",
       "    <tr>\n",
       "      <th>3374</th>\n",
       "      <td>0</td>\n",
       "      <td>0</td>\n",
       "      <td>1</td>\n",
       "      <td>0</td>\n",
       "    </tr>\n",
       "    <tr>\n",
       "      <th>3375</th>\n",
       "      <td>0</td>\n",
       "      <td>0</td>\n",
       "      <td>1</td>\n",
       "      <td>0</td>\n",
       "    </tr>\n",
       "  </tbody>\n",
       "</table>\n",
       "<p>1650 rows × 4 columns</p>\n",
       "</div>"
      ],
      "text/plain": [
       "      Campus  NonResidential  Nonresidential COS  SPS-District K-12\n",
       "0          0               1                   0                  0\n",
       "1          0               1                   0                  0\n",
       "2          0               1                   0                  0\n",
       "3          0               1                   0                  0\n",
       "4          0               1                   0                  0\n",
       "...      ...             ...                 ...                ...\n",
       "3371       0               0                   1                  0\n",
       "3372       0               0                   1                  0\n",
       "3373       0               0                   1                  0\n",
       "3374       0               0                   1                  0\n",
       "3375       0               0                   1                  0\n",
       "\n",
       "[1650 rows x 4 columns]"
      ]
     },
     "execution_count": 24,
     "metadata": {},
     "output_type": "execute_result"
    }
   ],
   "source": [
    "BuildingType = pd.get_dummies(data['BuildingType'])\n",
    "BuildingType"
   ]
  },
  {
   "cell_type": "code",
   "execution_count": 25,
   "id": "3834d3bd",
   "metadata": {},
   "outputs": [
    {
     "data": {
      "text/plain": [
       "['Campus', 'NonResidential', 'Nonresidential COS', 'SPS-District K-12']"
      ]
     },
     "execution_count": 25,
     "metadata": {},
     "output_type": "execute_result"
    }
   ],
   "source": [
    "BuildingType_features = BuildingType.columns.to_list()\n",
    "BuildingType_features"
   ]
  },
  {
   "cell_type": "code",
   "execution_count": 26,
   "id": "bf12584a",
   "metadata": {},
   "outputs": [],
   "source": [
    "data = data.join(BuildingType)"
   ]
  },
  {
   "cell_type": "code",
   "execution_count": 27,
   "id": "acd60962",
   "metadata": {},
   "outputs": [],
   "source": [
    "data = data.drop('BuildingType', axis=1)"
   ]
  },
  {
   "cell_type": "code",
   "execution_count": 28,
   "id": "f35ce385",
   "metadata": {},
   "outputs": [
    {
     "data": {
      "text/plain": [
       "(1650, 46)"
      ]
     },
     "execution_count": 28,
     "metadata": {},
     "output_type": "execute_result"
    }
   ],
   "source": [
    "data.shape"
   ]
  },
  {
   "cell_type": "code",
   "execution_count": 29,
   "id": "1b45d383",
   "metadata": {},
   "outputs": [
    {
     "name": "stdout",
     "output_type": "stream",
     "text": [
      "<class 'pandas.core.frame.DataFrame'>\n",
      "Int64Index: 1650 entries, 0 to 3375\n",
      "Data columns (total 46 columns):\n",
      " #   Column                           Non-Null Count  Dtype  \n",
      "---  ------                           --------------  -----  \n",
      " 0   OSEBuildingID                    1650 non-null   int64  \n",
      " 1   PrimaryPropertyType              1650 non-null   object \n",
      " 2   PropertyName                     1650 non-null   object \n",
      " 3   Address                          1650 non-null   object \n",
      " 4   City                             1650 non-null   object \n",
      " 5   State                            1650 non-null   object \n",
      " 6   ZipCode                          1634 non-null   float64\n",
      " 7   TaxParcelIdentificationNumber    1650 non-null   object \n",
      " 8   CouncilDistrictCode              1650 non-null   int64  \n",
      " 9   Neighborhood                     1650 non-null   object \n",
      " 10  Latitude                         1650 non-null   float64\n",
      " 11  Longitude                        1650 non-null   float64\n",
      " 12  YearBuilt                        1650 non-null   int64  \n",
      " 13  NumberofBuildings                1648 non-null   float64\n",
      " 14  NumberofFloors                   1650 non-null   int64  \n",
      " 15  PropertyGFATotal                 1650 non-null   int64  \n",
      " 16  PropertyGFAParking               1650 non-null   int64  \n",
      " 17  PropertyGFABuilding(s)           1650 non-null   int64  \n",
      " 18  ListOfAllPropertyUseTypes        1648 non-null   object \n",
      " 19  LargestPropertyUseType           1644 non-null   object \n",
      " 20  LargestPropertyUseTypeGFA        1644 non-null   float64\n",
      " 21  SecondLargestPropertyUseType     848 non-null    object \n",
      " 22  SecondLargestPropertyUseTypeGFA  848 non-null    float64\n",
      " 23  ThirdLargestPropertyUseType      351 non-null    object \n",
      " 24  ThirdLargestPropertyUseTypeGFA   351 non-null    float64\n",
      " 25  YearsENERGYSTARCertified         98 non-null     object \n",
      " 26  ENERGYSTARScore                  1083 non-null   float64\n",
      " 27  SiteEUI(kBtu/sf)                 1647 non-null   float64\n",
      " 28  SiteEUIWN(kBtu/sf)               1647 non-null   float64\n",
      " 29  SourceEUI(kBtu/sf)               1648 non-null   float64\n",
      " 30  SourceEUIWN(kBtu/sf)             1648 non-null   float64\n",
      " 31  SiteEnergyUse(kBtu)              1648 non-null   float64\n",
      " 32  SiteEnergyUseWN(kBtu)            1647 non-null   float64\n",
      " 33  SteamUse(kBtu)                   1648 non-null   float64\n",
      " 34  Electricity(kWh)                 1648 non-null   float64\n",
      " 35  Electricity(kBtu)                1648 non-null   float64\n",
      " 36  NaturalGas(therms)               1648 non-null   float64\n",
      " 37  NaturalGas(kBtu)                 1648 non-null   float64\n",
      " 38  DefaultData                      1650 non-null   bool   \n",
      " 39  ComplianceStatus                 1650 non-null   object \n",
      " 40  TotalGHGEmissions                1648 non-null   float64\n",
      " 41  GHGEmissionsIntensity            1648 non-null   float64\n",
      " 42  Campus                           1650 non-null   uint8  \n",
      " 43  NonResidential                   1650 non-null   uint8  \n",
      " 44  Nonresidential COS               1650 non-null   uint8  \n",
      " 45  SPS-District K-12                1650 non-null   uint8  \n",
      "dtypes: bool(1), float64(21), int64(7), object(13), uint8(4)\n",
      "memory usage: 614.0+ KB\n"
     ]
    }
   ],
   "source": [
    "data.info()"
   ]
  },
  {
   "cell_type": "markdown",
   "id": "e08429de",
   "metadata": {},
   "source": [
    "## PrimaryPropertyType\n",
    "\n",
    "*The primary use of a property (e.g. office, retail store). Primary use is defined as a function that accounts for more than 50% of a property. This is the Property Type - EPA Calculated field from Portfolio Manager.*\n",
    "\n",
    "* One-hot encoding: improving a lot: 0.347 --> 0.422"
   ]
  },
  {
   "cell_type": "code",
   "execution_count": 30,
   "id": "33b19c11",
   "metadata": {},
   "outputs": [
    {
     "data": {
      "text/plain": [
       "22"
      ]
     },
     "execution_count": 30,
     "metadata": {},
     "output_type": "execute_result"
    }
   ],
   "source": [
    "data['PrimaryPropertyType'].nunique()"
   ]
  },
  {
   "cell_type": "code",
   "execution_count": 31,
   "id": "a62cf822",
   "metadata": {},
   "outputs": [
    {
     "data": {
      "text/plain": [
       "array(['Hotel', 'Other', 'Mixed Use Property', 'K-12 School',\n",
       "       'University', 'Small- and Mid-Sized Office',\n",
       "       'Self-Storage Facility', 'Warehouse', 'Large Office',\n",
       "       'Senior Care Community', 'Medical Office', 'Retail Store',\n",
       "       'Hospital', 'Residence Hall', 'Distribution Center',\n",
       "       'Worship Facility', 'Supermarket / Grocery Store', 'Laboratory',\n",
       "       'Refrigerated Warehouse', 'Restaurant', 'Low-Rise Multifamily',\n",
       "       'Office'], dtype=object)"
      ]
     },
     "execution_count": 31,
     "metadata": {},
     "output_type": "execute_result"
    }
   ],
   "source": [
    "data['PrimaryPropertyType'].unique()"
   ]
  },
  {
   "cell_type": "code",
   "execution_count": 32,
   "id": "7407a945",
   "metadata": {},
   "outputs": [
    {
     "data": {
      "text/html": [
       "<div>\n",
       "<style scoped>\n",
       "    .dataframe tbody tr th:only-of-type {\n",
       "        vertical-align: middle;\n",
       "    }\n",
       "\n",
       "    .dataframe tbody tr th {\n",
       "        vertical-align: top;\n",
       "    }\n",
       "\n",
       "    .dataframe thead th {\n",
       "        text-align: right;\n",
       "    }\n",
       "</style>\n",
       "<table border=\"1\" class=\"dataframe\">\n",
       "  <thead>\n",
       "    <tr style=\"text-align: right;\">\n",
       "      <th></th>\n",
       "      <th>PrimaryPropertyType</th>\n",
       "    </tr>\n",
       "  </thead>\n",
       "  <tbody>\n",
       "    <tr>\n",
       "      <th>Small- and Mid-Sized Office</th>\n",
       "      <td>289</td>\n",
       "    </tr>\n",
       "    <tr>\n",
       "      <th>Other</th>\n",
       "      <td>247</td>\n",
       "    </tr>\n",
       "    <tr>\n",
       "      <th>Warehouse</th>\n",
       "      <td>187</td>\n",
       "    </tr>\n",
       "    <tr>\n",
       "      <th>Large Office</th>\n",
       "      <td>170</td>\n",
       "    </tr>\n",
       "    <tr>\n",
       "      <th>K-12 School</th>\n",
       "      <td>137</td>\n",
       "    </tr>\n",
       "    <tr>\n",
       "      <th>Mixed Use Property</th>\n",
       "      <td>114</td>\n",
       "    </tr>\n",
       "    <tr>\n",
       "      <th>Retail Store</th>\n",
       "      <td>89</td>\n",
       "    </tr>\n",
       "    <tr>\n",
       "      <th>Hotel</th>\n",
       "      <td>75</td>\n",
       "    </tr>\n",
       "    <tr>\n",
       "      <th>Worship Facility</th>\n",
       "      <td>69</td>\n",
       "    </tr>\n",
       "    <tr>\n",
       "      <th>Distribution Center</th>\n",
       "      <td>53</td>\n",
       "    </tr>\n",
       "    <tr>\n",
       "      <th>Supermarket / Grocery Store</th>\n",
       "      <td>40</td>\n",
       "    </tr>\n",
       "    <tr>\n",
       "      <th>Medical Office</th>\n",
       "      <td>39</td>\n",
       "    </tr>\n",
       "    <tr>\n",
       "      <th>Self-Storage Facility</th>\n",
       "      <td>28</td>\n",
       "    </tr>\n",
       "    <tr>\n",
       "      <th>University</th>\n",
       "      <td>23</td>\n",
       "    </tr>\n",
       "    <tr>\n",
       "      <th>Residence Hall</th>\n",
       "      <td>21</td>\n",
       "    </tr>\n",
       "    <tr>\n",
       "      <th>Senior Care Community</th>\n",
       "      <td>20</td>\n",
       "    </tr>\n",
       "    <tr>\n",
       "      <th>Restaurant</th>\n",
       "      <td>12</td>\n",
       "    </tr>\n",
       "    <tr>\n",
       "      <th>Refrigerated Warehouse</th>\n",
       "      <td>12</td>\n",
       "    </tr>\n",
       "    <tr>\n",
       "      <th>Laboratory</th>\n",
       "      <td>10</td>\n",
       "    </tr>\n",
       "    <tr>\n",
       "      <th>Hospital</th>\n",
       "      <td>10</td>\n",
       "    </tr>\n",
       "    <tr>\n",
       "      <th>Office</th>\n",
       "      <td>3</td>\n",
       "    </tr>\n",
       "    <tr>\n",
       "      <th>Low-Rise Multifamily</th>\n",
       "      <td>2</td>\n",
       "    </tr>\n",
       "  </tbody>\n",
       "</table>\n",
       "</div>"
      ],
      "text/plain": [
       "                             PrimaryPropertyType\n",
       "Small- and Mid-Sized Office                  289\n",
       "Other                                        247\n",
       "Warehouse                                    187\n",
       "Large Office                                 170\n",
       "K-12 School                                  137\n",
       "Mixed Use Property                           114\n",
       "Retail Store                                  89\n",
       "Hotel                                         75\n",
       "Worship Facility                              69\n",
       "Distribution Center                           53\n",
       "Supermarket / Grocery Store                   40\n",
       "Medical Office                                39\n",
       "Self-Storage Facility                         28\n",
       "University                                    23\n",
       "Residence Hall                                21\n",
       "Senior Care Community                         20\n",
       "Restaurant                                    12\n",
       "Refrigerated Warehouse                        12\n",
       "Laboratory                                    10\n",
       "Hospital                                      10\n",
       "Office                                         3\n",
       "Low-Rise Multifamily                           2"
      ]
     },
     "execution_count": 32,
     "metadata": {},
     "output_type": "execute_result"
    }
   ],
   "source": [
    "PrimaryPropertyType_agg = pd.DataFrame(data['PrimaryPropertyType'].value_counts().sort_values(ascending=False))\n",
    "PrimaryPropertyType_agg"
   ]
  },
  {
   "cell_type": "code",
   "execution_count": 33,
   "id": "bf097b03",
   "metadata": {},
   "outputs": [
    {
     "data": {
      "text/plain": [
       "Index(['Self-Storage Facility', 'University', 'Residence Hall',\n",
       "       'Senior Care Community', 'Restaurant', 'Refrigerated Warehouse',\n",
       "       'Laboratory', 'Hospital', 'Office', 'Low-Rise Multifamily'],\n",
       "      dtype='object')"
      ]
     },
     "execution_count": 33,
     "metadata": {},
     "output_type": "execute_result"
    }
   ],
   "source": [
    "low_used_features = PrimaryPropertyType_agg[PrimaryPropertyType_agg['PrimaryPropertyType'] <= 30].index\n",
    "low_used_features"
   ]
  },
  {
   "cell_type": "code",
   "execution_count": 34,
   "id": "b146972c",
   "metadata": {},
   "outputs": [],
   "source": [
    "#data = data[data['PrimaryPropertyType'] != 'Low-Rise Multifamily'] # Deleting primarily residential building"
   ]
  },
  {
   "cell_type": "code",
   "execution_count": 35,
   "id": "59f1743c",
   "metadata": {},
   "outputs": [
    {
     "data": {
      "text/plain": [
       "Text(0.5, 1.0, 'PrimaryPropertyType repartition')"
      ]
     },
     "execution_count": 35,
     "metadata": {},
     "output_type": "execute_result"
    },
    {
     "data": {
      "image/png": "[encoded data removed]",
      "text/plain": [
       "<Figure size 1296x288 with 1 Axes>"
      ]
     },
     "metadata": {
      "needs_background": "light"
     },
     "output_type": "display_data"
    }
   ],
   "source": [
    "fig, ax = plt.subplots(figsize = (18,4))\n",
    "ax.bar(PrimaryPropertyType_agg[0:10].index, PrimaryPropertyType_agg['PrimaryPropertyType'][0:10])\n",
    "ax.set_xlabel('PrimaryPropertyType', size=12)\n",
    "ax.set_ylabel('Count', size=12)\n",
    "ax.set_title('PrimaryPropertyType repartition', size=14)"
   ]
  },
  {
   "cell_type": "code",
   "execution_count": 36,
   "id": "1e5a0e89",
   "metadata": {},
   "outputs": [
    {
     "data": {
      "text/html": [
       "<div>\n",
       "<style scoped>\n",
       "    .dataframe tbody tr th:only-of-type {\n",
       "        vertical-align: middle;\n",
       "    }\n",
       "\n",
       "    .dataframe tbody tr th {\n",
       "        vertical-align: top;\n",
       "    }\n",
       "\n",
       "    .dataframe thead th {\n",
       "        text-align: right;\n",
       "    }\n",
       "</style>\n",
       "<table border=\"1\" class=\"dataframe\">\n",
       "  <thead>\n",
       "    <tr style=\"text-align: right;\">\n",
       "      <th></th>\n",
       "      <th>Distribution Center</th>\n",
       "      <th>Hospital</th>\n",
       "      <th>Hotel</th>\n",
       "      <th>K-12 School</th>\n",
       "      <th>Laboratory</th>\n",
       "      <th>Large Office</th>\n",
       "      <th>Low-Rise Multifamily</th>\n",
       "      <th>Medical Office</th>\n",
       "      <th>Mixed Use Property</th>\n",
       "      <th>Office</th>\n",
       "      <th>...</th>\n",
       "      <th>Residence Hall</th>\n",
       "      <th>Restaurant</th>\n",
       "      <th>Retail Store</th>\n",
       "      <th>Self-Storage Facility</th>\n",
       "      <th>Senior Care Community</th>\n",
       "      <th>Small- and Mid-Sized Office</th>\n",
       "      <th>Supermarket / Grocery Store</th>\n",
       "      <th>University</th>\n",
       "      <th>Warehouse</th>\n",
       "      <th>Worship Facility</th>\n",
       "    </tr>\n",
       "  </thead>\n",
       "  <tbody>\n",
       "    <tr>\n",
       "      <th>0</th>\n",
       "      <td>0</td>\n",
       "      <td>0</td>\n",
       "      <td>1</td>\n",
       "      <td>0</td>\n",
       "      <td>0</td>\n",
       "      <td>0</td>\n",
       "      <td>0</td>\n",
       "      <td>0</td>\n",
       "      <td>0</td>\n",
       "      <td>0</td>\n",
       "      <td>...</td>\n",
       "      <td>0</td>\n",
       "      <td>0</td>\n",
       "      <td>0</td>\n",
       "      <td>0</td>\n",
       "      <td>0</td>\n",
       "      <td>0</td>\n",
       "      <td>0</td>\n",
       "      <td>0</td>\n",
       "      <td>0</td>\n",
       "      <td>0</td>\n",
       "    </tr>\n",
       "    <tr>\n",
       "      <th>1</th>\n",
       "      <td>0</td>\n",
       "      <td>0</td>\n",
       "      <td>1</td>\n",
       "      <td>0</td>\n",
       "      <td>0</td>\n",
       "      <td>0</td>\n",
       "      <td>0</td>\n",
       "      <td>0</td>\n",
       "      <td>0</td>\n",
       "      <td>0</td>\n",
       "      <td>...</td>\n",
       "      <td>0</td>\n",
       "      <td>0</td>\n",
       "      <td>0</td>\n",
       "      <td>0</td>\n",
       "      <td>0</td>\n",
       "      <td>0</td>\n",
       "      <td>0</td>\n",
       "      <td>0</td>\n",
       "      <td>0</td>\n",
       "      <td>0</td>\n",
       "    </tr>\n",
       "    <tr>\n",
       "      <th>2</th>\n",
       "      <td>0</td>\n",
       "      <td>0</td>\n",
       "      <td>1</td>\n",
       "      <td>0</td>\n",
       "      <td>0</td>\n",
       "      <td>0</td>\n",
       "      <td>0</td>\n",
       "      <td>0</td>\n",
       "      <td>0</td>\n",
       "      <td>0</td>\n",
       "      <td>...</td>\n",
       "      <td>0</td>\n",
       "      <td>0</td>\n",
       "      <td>0</td>\n",
       "      <td>0</td>\n",
       "      <td>0</td>\n",
       "      <td>0</td>\n",
       "      <td>0</td>\n",
       "      <td>0</td>\n",
       "      <td>0</td>\n",
       "      <td>0</td>\n",
       "    </tr>\n",
       "    <tr>\n",
       "      <th>3</th>\n",
       "      <td>0</td>\n",
       "      <td>0</td>\n",
       "      <td>1</td>\n",
       "      <td>0</td>\n",
       "      <td>0</td>\n",
       "      <td>0</td>\n",
       "      <td>0</td>\n",
       "      <td>0</td>\n",
       "      <td>0</td>\n",
       "      <td>0</td>\n",
       "      <td>...</td>\n",
       "      <td>0</td>\n",
       "      <td>0</td>\n",
       "      <td>0</td>\n",
       "      <td>0</td>\n",
       "      <td>0</td>\n",
       "      <td>0</td>\n",
       "      <td>0</td>\n",
       "      <td>0</td>\n",
       "      <td>0</td>\n",
       "      <td>0</td>\n",
       "    </tr>\n",
       "    <tr>\n",
       "      <th>4</th>\n",
       "      <td>0</td>\n",
       "      <td>0</td>\n",
       "      <td>1</td>\n",
       "      <td>0</td>\n",
       "      <td>0</td>\n",
       "      <td>0</td>\n",
       "      <td>0</td>\n",
       "      <td>0</td>\n",
       "      <td>0</td>\n",
       "      <td>0</td>\n",
       "      <td>...</td>\n",
       "      <td>0</td>\n",
       "      <td>0</td>\n",
       "      <td>0</td>\n",
       "      <td>0</td>\n",
       "      <td>0</td>\n",
       "      <td>0</td>\n",
       "      <td>0</td>\n",
       "      <td>0</td>\n",
       "      <td>0</td>\n",
       "      <td>0</td>\n",
       "    </tr>\n",
       "    <tr>\n",
       "      <th>...</th>\n",
       "      <td>...</td>\n",
       "      <td>...</td>\n",
       "      <td>...</td>\n",
       "      <td>...</td>\n",
       "      <td>...</td>\n",
       "      <td>...</td>\n",
       "      <td>...</td>\n",
       "      <td>...</td>\n",
       "      <td>...</td>\n",
       "      <td>...</td>\n",
       "      <td>...</td>\n",
       "      <td>...</td>\n",
       "      <td>...</td>\n",
       "      <td>...</td>\n",
       "      <td>...</td>\n",
       "      <td>...</td>\n",
       "      <td>...</td>\n",
       "      <td>...</td>\n",
       "      <td>...</td>\n",
       "      <td>...</td>\n",
       "      <td>...</td>\n",
       "    </tr>\n",
       "    <tr>\n",
       "      <th>3371</th>\n",
       "      <td>0</td>\n",
       "      <td>0</td>\n",
       "      <td>0</td>\n",
       "      <td>0</td>\n",
       "      <td>0</td>\n",
       "      <td>0</td>\n",
       "      <td>0</td>\n",
       "      <td>0</td>\n",
       "      <td>0</td>\n",
       "      <td>1</td>\n",
       "      <td>...</td>\n",
       "      <td>0</td>\n",
       "      <td>0</td>\n",
       "      <td>0</td>\n",
       "      <td>0</td>\n",
       "      <td>0</td>\n",
       "      <td>0</td>\n",
       "      <td>0</td>\n",
       "      <td>0</td>\n",
       "      <td>0</td>\n",
       "      <td>0</td>\n",
       "    </tr>\n",
       "    <tr>\n",
       "      <th>3372</th>\n",
       "      <td>0</td>\n",
       "      <td>0</td>\n",
       "      <td>0</td>\n",
       "      <td>0</td>\n",
       "      <td>0</td>\n",
       "      <td>0</td>\n",
       "      <td>0</td>\n",
       "      <td>0</td>\n",
       "      <td>0</td>\n",
       "      <td>0</td>\n",
       "      <td>...</td>\n",
       "      <td>0</td>\n",
       "      <td>0</td>\n",
       "      <td>0</td>\n",
       "      <td>0</td>\n",
       "      <td>0</td>\n",
       "      <td>0</td>\n",
       "      <td>0</td>\n",
       "      <td>0</td>\n",
       "      <td>0</td>\n",
       "      <td>0</td>\n",
       "    </tr>\n",
       "    <tr>\n",
       "      <th>3373</th>\n",
       "      <td>0</td>\n",
       "      <td>0</td>\n",
       "      <td>0</td>\n",
       "      <td>0</td>\n",
       "      <td>0</td>\n",
       "      <td>0</td>\n",
       "      <td>0</td>\n",
       "      <td>0</td>\n",
       "      <td>0</td>\n",
       "      <td>0</td>\n",
       "      <td>...</td>\n",
       "      <td>0</td>\n",
       "      <td>0</td>\n",
       "      <td>0</td>\n",
       "      <td>0</td>\n",
       "      <td>0</td>\n",
       "      <td>0</td>\n",
       "      <td>0</td>\n",
       "      <td>0</td>\n",
       "      <td>0</td>\n",
       "      <td>0</td>\n",
       "    </tr>\n",
       "    <tr>\n",
       "      <th>3374</th>\n",
       "      <td>0</td>\n",
       "      <td>0</td>\n",
       "      <td>0</td>\n",
       "      <td>0</td>\n",
       "      <td>0</td>\n",
       "      <td>0</td>\n",
       "      <td>0</td>\n",
       "      <td>0</td>\n",
       "      <td>1</td>\n",
       "      <td>0</td>\n",
       "      <td>...</td>\n",
       "      <td>0</td>\n",
       "      <td>0</td>\n",
       "      <td>0</td>\n",
       "      <td>0</td>\n",
       "      <td>0</td>\n",
       "      <td>0</td>\n",
       "      <td>0</td>\n",
       "      <td>0</td>\n",
       "      <td>0</td>\n",
       "      <td>0</td>\n",
       "    </tr>\n",
       "    <tr>\n",
       "      <th>3375</th>\n",
       "      <td>0</td>\n",
       "      <td>0</td>\n",
       "      <td>0</td>\n",
       "      <td>0</td>\n",
       "      <td>0</td>\n",
       "      <td>0</td>\n",
       "      <td>0</td>\n",
       "      <td>0</td>\n",
       "      <td>1</td>\n",
       "      <td>0</td>\n",
       "      <td>...</td>\n",
       "      <td>0</td>\n",
       "      <td>0</td>\n",
       "      <td>0</td>\n",
       "      <td>0</td>\n",
       "      <td>0</td>\n",
       "      <td>0</td>\n",
       "      <td>0</td>\n",
       "      <td>0</td>\n",
       "      <td>0</td>\n",
       "      <td>0</td>\n",
       "    </tr>\n",
       "  </tbody>\n",
       "</table>\n",
       "<p>1650 rows × 22 columns</p>\n",
       "</div>"
      ],
      "text/plain": [
       "      Distribution Center  Hospital  Hotel  K-12 School  Laboratory  \\\n",
       "0                       0         0      1            0           0   \n",
       "1                       0         0      1            0           0   \n",
       "2                       0         0      1            0           0   \n",
       "3                       0         0      1            0           0   \n",
       "4                       0         0      1            0           0   \n",
       "...                   ...       ...    ...          ...         ...   \n",
       "3371                    0         0      0            0           0   \n",
       "3372                    0         0      0            0           0   \n",
       "3373                    0         0      0            0           0   \n",
       "3374                    0         0      0            0           0   \n",
       "3375                    0         0      0            0           0   \n",
       "\n",
       "      Large Office  Low-Rise Multifamily  Medical Office  Mixed Use Property  \\\n",
       "0                0                     0               0                   0   \n",
       "1                0                     0               0                   0   \n",
       "2                0                     0               0                   0   \n",
       "3                0                     0               0                   0   \n",
       "4                0                     0               0                   0   \n",
       "...            ...                   ...             ...                 ...   \n",
       "3371             0                     0               0                   0   \n",
       "3372             0                     0               0                   0   \n",
       "3373             0                     0               0                   0   \n",
       "3374             0                     0               0                   1   \n",
       "3375             0                     0               0                   1   \n",
       "\n",
       "      Office  ...  Residence Hall  Restaurant  Retail Store  \\\n",
       "0          0  ...               0           0             0   \n",
       "1          0  ...               0           0             0   \n",
       "2          0  ...               0           0             0   \n",
       "3          0  ...               0           0             0   \n",
       "4          0  ...               0           0             0   \n",
       "...      ...  ...             ...         ...           ...   \n",
       "3371       1  ...               0           0             0   \n",
       "3372       0  ...               0           0             0   \n",
       "3373       0  ...               0           0             0   \n",
       "3374       0  ...               0           0             0   \n",
       "3375       0  ...               0           0             0   \n",
       "\n",
       "      Self-Storage Facility  Senior Care Community  \\\n",
       "0                         0                      0   \n",
       "1                         0                      0   \n",
       "2                         0                      0   \n",
       "3                         0                      0   \n",
       "4                         0                      0   \n",
       "...                     ...                    ...   \n",
       "3371                      0                      0   \n",
       "3372                      0                      0   \n",
       "3373                      0                      0   \n",
       "3374                      0                      0   \n",
       "3375                      0                      0   \n",
       "\n",
       "      Small- and Mid-Sized Office  Supermarket / Grocery Store  University  \\\n",
       "0                               0                            0           0   \n",
       "1                               0                            0           0   \n",
       "2                               0                            0           0   \n",
       "3                               0                            0           0   \n",
       "4                               0                            0           0   \n",
       "...                           ...                          ...         ...   \n",
       "3371                            0                            0           0   \n",
       "3372                            0                            0           0   \n",
       "3373                            0                            0           0   \n",
       "3374                            0                            0           0   \n",
       "3375                            0                            0           0   \n",
       "\n",
       "      Warehouse  Worship Facility  \n",
       "0             0                 0  \n",
       "1             0                 0  \n",
       "2             0                 0  \n",
       "3             0                 0  \n",
       "4             0                 0  \n",
       "...         ...               ...  \n",
       "3371          0                 0  \n",
       "3372          0                 0  \n",
       "3373          0                 0  \n",
       "3374          0                 0  \n",
       "3375          0                 0  \n",
       "\n",
       "[1650 rows x 22 columns]"
      ]
     },
     "execution_count": 36,
     "metadata": {},
     "output_type": "execute_result"
    }
   ],
   "source": [
    "PrimaryPropertyType = pd.get_dummies(data['PrimaryPropertyType'])\n",
    "PrimaryPropertyType"
   ]
  },
  {
   "cell_type": "code",
   "execution_count": 37,
   "id": "3b4c3461",
   "metadata": {},
   "outputs": [],
   "source": [
    "PrimaryPropertyType = PrimaryPropertyType.drop(low_used_features, axis=1)"
   ]
  },
  {
   "cell_type": "code",
   "execution_count": 38,
   "id": "a6e12b62",
   "metadata": {},
   "outputs": [
    {
     "data": {
      "text/plain": [
       "['Distribution Center',\n",
       " 'Hotel',\n",
       " 'K-12 School',\n",
       " 'Large Office',\n",
       " 'Medical Office',\n",
       " 'Mixed Use Property',\n",
       " 'Other',\n",
       " 'Retail Store',\n",
       " 'Small- and Mid-Sized Office',\n",
       " 'Supermarket / Grocery Store',\n",
       " 'Warehouse',\n",
       " 'Worship Facility']"
      ]
     },
     "execution_count": 38,
     "metadata": {},
     "output_type": "execute_result"
    }
   ],
   "source": [
    "PrimaryPropertyType_features = PrimaryPropertyType.columns.to_list()\n",
    "PrimaryPropertyType_features"
   ]
  },
  {
   "cell_type": "code",
   "execution_count": 39,
   "id": "72f8f962",
   "metadata": {},
   "outputs": [],
   "source": [
    "data = data.join(PrimaryPropertyType)"
   ]
  },
  {
   "cell_type": "code",
   "execution_count": 40,
   "id": "e6728220",
   "metadata": {},
   "outputs": [],
   "source": [
    "data = data.drop('PrimaryPropertyType', axis=1)"
   ]
  },
  {
   "cell_type": "code",
   "execution_count": 41,
   "id": "5f51f5c2",
   "metadata": {},
   "outputs": [
    {
     "data": {
      "text/plain": [
       "(1650, 57)"
      ]
     },
     "execution_count": 41,
     "metadata": {},
     "output_type": "execute_result"
    }
   ],
   "source": [
    "data.shape"
   ]
  },
  {
   "cell_type": "markdown",
   "id": "db75231c",
   "metadata": {},
   "source": [
    "## PropertyName\n",
    "\n",
    "*Official or common property name as entered in EPA’s Portfolio Manager.*\n",
    "\n",
    "* Doesn't seem pertinent for now since only unique values"
   ]
  },
  {
   "cell_type": "code",
   "execution_count": 42,
   "id": "5db0fc84",
   "metadata": {},
   "outputs": [
    {
     "data": {
      "text/plain": [
       "1646"
      ]
     },
     "execution_count": 42,
     "metadata": {},
     "output_type": "execute_result"
    }
   ],
   "source": [
    "data['PropertyName'].nunique()"
   ]
  },
  {
   "cell_type": "code",
   "execution_count": 43,
   "id": "450f7591",
   "metadata": {},
   "outputs": [
    {
     "data": {
      "text/plain": [
       "array(['Mayflower park hotel', 'Paramount Hotel',\n",
       "       '5673-The Westin Seattle', ..., 'Queen Anne Pool',\n",
       "       'South Park Community Center', 'Van Asselt Community Center'],\n",
       "      dtype=object)"
      ]
     },
     "execution_count": 43,
     "metadata": {},
     "output_type": "execute_result"
    }
   ],
   "source": [
    "data['PropertyName'].unique()"
   ]
  },
  {
   "cell_type": "code",
   "execution_count": 44,
   "id": "42d220bd",
   "metadata": {},
   "outputs": [],
   "source": [
    "data = data.drop('PropertyName', axis=1)"
   ]
  },
  {
   "cell_type": "code",
   "execution_count": 45,
   "id": "15941d53",
   "metadata": {},
   "outputs": [
    {
     "data": {
      "text/plain": [
       "(1650, 56)"
      ]
     },
     "execution_count": 45,
     "metadata": {},
     "output_type": "execute_result"
    }
   ],
   "source": [
    "data.shape"
   ]
  },
  {
   "cell_type": "markdown",
   "id": "2bc802c6",
   "metadata": {},
   "source": [
    "## Address\n",
    "\n",
    "*Property street address*\n",
    "\n",
    "* Same as *PropertyName*"
   ]
  },
  {
   "cell_type": "code",
   "execution_count": 46,
   "id": "24d8e433",
   "metadata": {},
   "outputs": [
    {
     "data": {
      "text/plain": [
       "1629"
      ]
     },
     "execution_count": 46,
     "metadata": {},
     "output_type": "execute_result"
    }
   ],
   "source": [
    "data['Address'].nunique()"
   ]
  },
  {
   "cell_type": "code",
   "execution_count": 47,
   "id": "8df58bc6",
   "metadata": {},
   "outputs": [
    {
     "data": {
      "text/plain": [
       "array(['405 Olive way', '724 Pine street', '1900 5th Avenue', ...,\n",
       "       '1920 1st Ave W', '8319 8th Ave S', '2820 S Myrtle St'],\n",
       "      dtype=object)"
      ]
     },
     "execution_count": 47,
     "metadata": {},
     "output_type": "execute_result"
    }
   ],
   "source": [
    "data['Address'].unique()"
   ]
  },
  {
   "cell_type": "code",
   "execution_count": 48,
   "id": "8db146b7",
   "metadata": {},
   "outputs": [],
   "source": [
    "data = data.drop('Address', axis=1)"
   ]
  },
  {
   "cell_type": "code",
   "execution_count": 49,
   "id": "35751e8e",
   "metadata": {},
   "outputs": [
    {
     "data": {
      "text/plain": [
       "(1650, 55)"
      ]
     },
     "execution_count": 49,
     "metadata": {},
     "output_type": "execute_result"
    }
   ],
   "source": [
    "data.shape"
   ]
  },
  {
   "cell_type": "markdown",
   "id": "7b57e4d7",
   "metadata": {},
   "source": [
    "## City\n",
    "\n",
    "*Property city*\n",
    "\n",
    "* Only 1 category so not pertinent (Seattle)"
   ]
  },
  {
   "cell_type": "code",
   "execution_count": 50,
   "id": "939eaf0c",
   "metadata": {},
   "outputs": [
    {
     "data": {
      "text/plain": [
       "1"
      ]
     },
     "execution_count": 50,
     "metadata": {},
     "output_type": "execute_result"
    }
   ],
   "source": [
    "data['City'].nunique()"
   ]
  },
  {
   "cell_type": "code",
   "execution_count": 51,
   "id": "926980bb",
   "metadata": {},
   "outputs": [
    {
     "data": {
      "text/plain": [
       "array(['Seattle'], dtype=object)"
      ]
     },
     "execution_count": 51,
     "metadata": {},
     "output_type": "execute_result"
    }
   ],
   "source": [
    "data['City'].unique()"
   ]
  },
  {
   "cell_type": "code",
   "execution_count": 52,
   "id": "e67f19a2",
   "metadata": {},
   "outputs": [],
   "source": [
    "data = data.drop('City', axis=1)"
   ]
  },
  {
   "cell_type": "code",
   "execution_count": 53,
   "id": "9e2bd358",
   "metadata": {},
   "outputs": [
    {
     "data": {
      "text/plain": [
       "(1650, 54)"
      ]
     },
     "execution_count": 53,
     "metadata": {},
     "output_type": "execute_result"
    }
   ],
   "source": [
    "data.shape"
   ]
  },
  {
   "cell_type": "markdown",
   "id": "76ffe3f4",
   "metadata": {},
   "source": [
    "## State\n",
    "\n",
    "*Property state*\n",
    "\n",
    "* Only 1 category so not pertinent (WA)"
   ]
  },
  {
   "cell_type": "code",
   "execution_count": 54,
   "id": "9a750c86",
   "metadata": {},
   "outputs": [
    {
     "data": {
      "text/plain": [
       "1"
      ]
     },
     "execution_count": 54,
     "metadata": {},
     "output_type": "execute_result"
    }
   ],
   "source": [
    "data['State'].nunique()"
   ]
  },
  {
   "cell_type": "code",
   "execution_count": 55,
   "id": "ef5444af",
   "metadata": {},
   "outputs": [
    {
     "data": {
      "text/plain": [
       "array(['WA'], dtype=object)"
      ]
     },
     "execution_count": 55,
     "metadata": {},
     "output_type": "execute_result"
    }
   ],
   "source": [
    "data['State'].unique()"
   ]
  },
  {
   "cell_type": "code",
   "execution_count": 56,
   "id": "decf9565",
   "metadata": {},
   "outputs": [],
   "source": [
    "data = data.drop('State', axis=1)"
   ]
  },
  {
   "cell_type": "code",
   "execution_count": 57,
   "id": "748a77e9",
   "metadata": {},
   "outputs": [
    {
     "data": {
      "text/plain": [
       "(1650, 53)"
      ]
     },
     "execution_count": 57,
     "metadata": {},
     "output_type": "execute_result"
    }
   ],
   "source": [
    "data.shape"
   ]
  },
  {
   "cell_type": "markdown",
   "id": "c3f24521",
   "metadata": {},
   "source": [
    "## ZipCode\n",
    "\n",
    "*Property zip*\n",
    "\n",
    "* Dropping: reduces score"
   ]
  },
  {
   "cell_type": "code",
   "execution_count": 58,
   "id": "862c365f",
   "metadata": {},
   "outputs": [
    {
     "data": {
      "text/plain": [
       "48"
      ]
     },
     "execution_count": 58,
     "metadata": {},
     "output_type": "execute_result"
    }
   ],
   "source": [
    "data['ZipCode'].nunique()"
   ]
  },
  {
   "cell_type": "code",
   "execution_count": 59,
   "id": "e02a9da7",
   "metadata": {},
   "outputs": [
    {
     "data": {
      "text/plain": [
       "array([98101., 98121., 98104., 98154., 98118., 98105., 98112., 98125.,\n",
       "       98109., 98070., 98108., 98199., 98115., 98107., 98144., 98103.,\n",
       "       98119., 98136., 98122., 98126., 98133., 98146., 98033., 98106.,\n",
       "       98111., 98134., 98117., 98116., 98191., 98164., 98195., 98185.,\n",
       "       98181., 98102., 98168., 98155., 98006., 98124., 98053., 98013.,\n",
       "       98178., 98114., 98165., 98011., 98113., 98177., 98020., 98145.,\n",
       "          nan])"
      ]
     },
     "execution_count": 59,
     "metadata": {},
     "output_type": "execute_result"
    }
   ],
   "source": [
    "data['ZipCode'].unique()"
   ]
  },
  {
   "cell_type": "code",
   "execution_count": 60,
   "id": "b478ee8f",
   "metadata": {},
   "outputs": [],
   "source": [
    "#ZipCode = pd.get_dummies(data['ZipCode'])\n",
    "#ZipCode"
   ]
  },
  {
   "cell_type": "code",
   "execution_count": 61,
   "id": "33a93c95",
   "metadata": {},
   "outputs": [],
   "source": [
    "#ZipCode_features = ZipCode.columns.to_list()\n",
    "#ZipCode_features"
   ]
  },
  {
   "cell_type": "code",
   "execution_count": 62,
   "id": "19e8d059",
   "metadata": {},
   "outputs": [],
   "source": [
    "#data = data.join(ZipCode)"
   ]
  },
  {
   "cell_type": "code",
   "execution_count": 63,
   "id": "0adc7dbc",
   "metadata": {},
   "outputs": [],
   "source": [
    "data = data.drop(columns='ZipCode')"
   ]
  },
  {
   "cell_type": "code",
   "execution_count": 64,
   "id": "908a7c80",
   "metadata": {},
   "outputs": [
    {
     "data": {
      "text/plain": [
       "(1650, 52)"
      ]
     },
     "execution_count": 64,
     "metadata": {},
     "output_type": "execute_result"
    }
   ],
   "source": [
    "data.shape"
   ]
  },
  {
   "cell_type": "markdown",
   "id": "6c7b8d5b",
   "metadata": {},
   "source": [
    "## TaxParcelIdentificationNumber\n",
    "\n",
    "*Property King County PIN*\n",
    "\n",
    "* Almost only unique values so not pertinent\n",
    "* Some data not unique, check later to gather more knowledge"
   ]
  },
  {
   "cell_type": "code",
   "execution_count": 65,
   "id": "392dde6b",
   "metadata": {},
   "outputs": [
    {
     "data": {
      "text/plain": [
       "1570"
      ]
     },
     "execution_count": 65,
     "metadata": {},
     "output_type": "execute_result"
    }
   ],
   "source": [
    "data['TaxParcelIdentificationNumber'].nunique()"
   ]
  },
  {
   "cell_type": "code",
   "execution_count": 66,
   "id": "675824ef",
   "metadata": {},
   "outputs": [
    {
     "data": {
      "text/plain": [
       "array(['0659000030', '0659000220', '0659000475', ..., '3558300000',\n",
       "       '7883603155', '7857002030'], dtype=object)"
      ]
     },
     "execution_count": 66,
     "metadata": {},
     "output_type": "execute_result"
    }
   ],
   "source": [
    "data['TaxParcelIdentificationNumber'].unique()"
   ]
  },
  {
   "cell_type": "code",
   "execution_count": 67,
   "id": "139a70cc",
   "metadata": {},
   "outputs": [],
   "source": [
    "data = data.drop('TaxParcelIdentificationNumber', axis=1)"
   ]
  },
  {
   "cell_type": "code",
   "execution_count": 68,
   "id": "c39e1bdd",
   "metadata": {},
   "outputs": [
    {
     "data": {
      "text/plain": [
       "(1650, 51)"
      ]
     },
     "execution_count": 68,
     "metadata": {},
     "output_type": "execute_result"
    }
   ],
   "source": [
    "data.shape"
   ]
  },
  {
   "cell_type": "markdown",
   "id": "a422e113",
   "metadata": {},
   "source": [
    "## CouncilDistrictCode\n",
    "\n",
    "*Property City of Seattle council district.*\n",
    "\n",
    "* One-hot encoding: not improving results"
   ]
  },
  {
   "cell_type": "code",
   "execution_count": 69,
   "id": "59b16400",
   "metadata": {},
   "outputs": [
    {
     "data": {
      "text/plain": [
       "7"
      ]
     },
     "execution_count": 69,
     "metadata": {},
     "output_type": "execute_result"
    }
   ],
   "source": [
    "data['CouncilDistrictCode'].nunique()"
   ]
  },
  {
   "cell_type": "code",
   "execution_count": 70,
   "id": "d25e7631",
   "metadata": {},
   "outputs": [
    {
     "data": {
      "text/plain": [
       "array([7, 3, 2, 4, 5, 6, 1], dtype=int64)"
      ]
     },
     "execution_count": 70,
     "metadata": {},
     "output_type": "execute_result"
    }
   ],
   "source": [
    "data['CouncilDistrictCode'].unique()"
   ]
  },
  {
   "cell_type": "code",
   "execution_count": 71,
   "id": "af1138b3",
   "metadata": {},
   "outputs": [
    {
     "data": {
      "text/html": [
       "<div>\n",
       "<style scoped>\n",
       "    .dataframe tbody tr th:only-of-type {\n",
       "        vertical-align: middle;\n",
       "    }\n",
       "\n",
       "    .dataframe tbody tr th {\n",
       "        vertical-align: top;\n",
       "    }\n",
       "\n",
       "    .dataframe thead th {\n",
       "        text-align: right;\n",
       "    }\n",
       "</style>\n",
       "<table border=\"1\" class=\"dataframe\">\n",
       "  <thead>\n",
       "    <tr style=\"text-align: right;\">\n",
       "      <th></th>\n",
       "      <th>CouncilDistrictCode</th>\n",
       "    </tr>\n",
       "  </thead>\n",
       "  <tbody>\n",
       "    <tr>\n",
       "      <th>7</th>\n",
       "      <td>523</td>\n",
       "    </tr>\n",
       "    <tr>\n",
       "      <th>2</th>\n",
       "      <td>392</td>\n",
       "    </tr>\n",
       "    <tr>\n",
       "      <th>3</th>\n",
       "      <td>200</td>\n",
       "    </tr>\n",
       "    <tr>\n",
       "      <th>4</th>\n",
       "      <td>170</td>\n",
       "    </tr>\n",
       "    <tr>\n",
       "      <th>5</th>\n",
       "      <td>132</td>\n",
       "    </tr>\n",
       "    <tr>\n",
       "      <th>1</th>\n",
       "      <td>118</td>\n",
       "    </tr>\n",
       "    <tr>\n",
       "      <th>6</th>\n",
       "      <td>115</td>\n",
       "    </tr>\n",
       "  </tbody>\n",
       "</table>\n",
       "</div>"
      ],
      "text/plain": [
       "   CouncilDistrictCode\n",
       "7                  523\n",
       "2                  392\n",
       "3                  200\n",
       "4                  170\n",
       "5                  132\n",
       "1                  118\n",
       "6                  115"
      ]
     },
     "execution_count": 71,
     "metadata": {},
     "output_type": "execute_result"
    }
   ],
   "source": [
    "CouncilDistrictCode_agg = pd.DataFrame(data['CouncilDistrictCode'].value_counts().sort_values(ascending=False))\n",
    "CouncilDistrictCode_agg"
   ]
  },
  {
   "cell_type": "code",
   "execution_count": 72,
   "id": "6fc840b7",
   "metadata": {},
   "outputs": [
    {
     "data": {
      "text/plain": [
       "Text(0.5, 1.0, 'CouncilDistrictCode repartition')"
      ]
     },
     "execution_count": 72,
     "metadata": {},
     "output_type": "execute_result"
    },
    {
     "data": {
      "image/png": "[encoded data removed]",
      "text/plain": [
       "<Figure size 1008x288 with 1 Axes>"
      ]
     },
     "metadata": {
      "needs_background": "light"
     },
     "output_type": "display_data"
    }
   ],
   "source": [
    "fig, ax = plt.subplots(figsize = (14,4))\n",
    "ax.bar(CouncilDistrictCode_agg.index, CouncilDistrictCode_agg['CouncilDistrictCode'])\n",
    "ax.set_xlabel('CouncilDistrictCode', size=12)\n",
    "ax.set_ylabel('Count', size=12)\n",
    "ax.set_title('CouncilDistrictCode repartition', size=14)"
   ]
  },
  {
   "cell_type": "code",
   "execution_count": 73,
   "id": "bbb98c0b",
   "metadata": {},
   "outputs": [],
   "source": [
    "CouncilDistrictCode = pd.get_dummies(data['CouncilDistrictCode'])\n",
    "CouncilDistrictCode = CouncilDistrictCode.rename({1: 'District_1',\n",
    "                                                  2: 'District_2',\n",
    "                                                  3: 'District_3',\n",
    "                                                  4: 'District_4',\n",
    "                                                  5: 'District_5',\n",
    "                                                  6: 'District_6',\n",
    "                                                  7: 'District_7',}, axis=1)"
   ]
  },
  {
   "cell_type": "code",
   "execution_count": 74,
   "id": "0e36e066",
   "metadata": {},
   "outputs": [
    {
     "data": {
      "text/html": [
       "<div>\n",
       "<style scoped>\n",
       "    .dataframe tbody tr th:only-of-type {\n",
       "        vertical-align: middle;\n",
       "    }\n",
       "\n",
       "    .dataframe tbody tr th {\n",
       "        vertical-align: top;\n",
       "    }\n",
       "\n",
       "    .dataframe thead th {\n",
       "        text-align: right;\n",
       "    }\n",
       "</style>\n",
       "<table border=\"1\" class=\"dataframe\">\n",
       "  <thead>\n",
       "    <tr style=\"text-align: right;\">\n",
       "      <th></th>\n",
       "      <th>District_1</th>\n",
       "      <th>District_2</th>\n",
       "      <th>District_3</th>\n",
       "      <th>District_4</th>\n",
       "      <th>District_5</th>\n",
       "      <th>District_6</th>\n",
       "      <th>District_7</th>\n",
       "    </tr>\n",
       "  </thead>\n",
       "  <tbody>\n",
       "    <tr>\n",
       "      <th>0</th>\n",
       "      <td>0</td>\n",
       "      <td>0</td>\n",
       "      <td>0</td>\n",
       "      <td>0</td>\n",
       "      <td>0</td>\n",
       "      <td>0</td>\n",
       "      <td>1</td>\n",
       "    </tr>\n",
       "    <tr>\n",
       "      <th>1</th>\n",
       "      <td>0</td>\n",
       "      <td>0</td>\n",
       "      <td>0</td>\n",
       "      <td>0</td>\n",
       "      <td>0</td>\n",
       "      <td>0</td>\n",
       "      <td>1</td>\n",
       "    </tr>\n",
       "    <tr>\n",
       "      <th>2</th>\n",
       "      <td>0</td>\n",
       "      <td>0</td>\n",
       "      <td>0</td>\n",
       "      <td>0</td>\n",
       "      <td>0</td>\n",
       "      <td>0</td>\n",
       "      <td>1</td>\n",
       "    </tr>\n",
       "    <tr>\n",
       "      <th>3</th>\n",
       "      <td>0</td>\n",
       "      <td>0</td>\n",
       "      <td>0</td>\n",
       "      <td>0</td>\n",
       "      <td>0</td>\n",
       "      <td>0</td>\n",
       "      <td>1</td>\n",
       "    </tr>\n",
       "    <tr>\n",
       "      <th>4</th>\n",
       "      <td>0</td>\n",
       "      <td>0</td>\n",
       "      <td>0</td>\n",
       "      <td>0</td>\n",
       "      <td>0</td>\n",
       "      <td>0</td>\n",
       "      <td>1</td>\n",
       "    </tr>\n",
       "    <tr>\n",
       "      <th>...</th>\n",
       "      <td>...</td>\n",
       "      <td>...</td>\n",
       "      <td>...</td>\n",
       "      <td>...</td>\n",
       "      <td>...</td>\n",
       "      <td>...</td>\n",
       "      <td>...</td>\n",
       "    </tr>\n",
       "    <tr>\n",
       "      <th>3371</th>\n",
       "      <td>0</td>\n",
       "      <td>1</td>\n",
       "      <td>0</td>\n",
       "      <td>0</td>\n",
       "      <td>0</td>\n",
       "      <td>0</td>\n",
       "      <td>0</td>\n",
       "    </tr>\n",
       "    <tr>\n",
       "      <th>3372</th>\n",
       "      <td>0</td>\n",
       "      <td>1</td>\n",
       "      <td>0</td>\n",
       "      <td>0</td>\n",
       "      <td>0</td>\n",
       "      <td>0</td>\n",
       "      <td>0</td>\n",
       "    </tr>\n",
       "    <tr>\n",
       "      <th>3373</th>\n",
       "      <td>0</td>\n",
       "      <td>0</td>\n",
       "      <td>0</td>\n",
       "      <td>0</td>\n",
       "      <td>0</td>\n",
       "      <td>0</td>\n",
       "      <td>1</td>\n",
       "    </tr>\n",
       "    <tr>\n",
       "      <th>3374</th>\n",
       "      <td>1</td>\n",
       "      <td>0</td>\n",
       "      <td>0</td>\n",
       "      <td>0</td>\n",
       "      <td>0</td>\n",
       "      <td>0</td>\n",
       "      <td>0</td>\n",
       "    </tr>\n",
       "    <tr>\n",
       "      <th>3375</th>\n",
       "      <td>0</td>\n",
       "      <td>1</td>\n",
       "      <td>0</td>\n",
       "      <td>0</td>\n",
       "      <td>0</td>\n",
       "      <td>0</td>\n",
       "      <td>0</td>\n",
       "    </tr>\n",
       "  </tbody>\n",
       "</table>\n",
       "<p>1650 rows × 7 columns</p>\n",
       "</div>"
      ],
      "text/plain": [
       "      District_1  District_2  District_3  District_4  District_5  District_6  \\\n",
       "0              0           0           0           0           0           0   \n",
       "1              0           0           0           0           0           0   \n",
       "2              0           0           0           0           0           0   \n",
       "3              0           0           0           0           0           0   \n",
       "4              0           0           0           0           0           0   \n",
       "...          ...         ...         ...         ...         ...         ...   \n",
       "3371           0           1           0           0           0           0   \n",
       "3372           0           1           0           0           0           0   \n",
       "3373           0           0           0           0           0           0   \n",
       "3374           1           0           0           0           0           0   \n",
       "3375           0           1           0           0           0           0   \n",
       "\n",
       "      District_7  \n",
       "0              1  \n",
       "1              1  \n",
       "2              1  \n",
       "3              1  \n",
       "4              1  \n",
       "...          ...  \n",
       "3371           0  \n",
       "3372           0  \n",
       "3373           1  \n",
       "3374           0  \n",
       "3375           0  \n",
       "\n",
       "[1650 rows x 7 columns]"
      ]
     },
     "execution_count": 74,
     "metadata": {},
     "output_type": "execute_result"
    }
   ],
   "source": [
    "CouncilDistrictCode"
   ]
  },
  {
   "cell_type": "code",
   "execution_count": 75,
   "id": "e7b49e13",
   "metadata": {},
   "outputs": [
    {
     "data": {
      "text/plain": [
       "['District_1',\n",
       " 'District_2',\n",
       " 'District_3',\n",
       " 'District_4',\n",
       " 'District_5',\n",
       " 'District_6',\n",
       " 'District_7']"
      ]
     },
     "execution_count": 75,
     "metadata": {},
     "output_type": "execute_result"
    }
   ],
   "source": [
    "CouncilDistrictCode_features = CouncilDistrictCode.columns.to_list()\n",
    "CouncilDistrictCode_features"
   ]
  },
  {
   "cell_type": "code",
   "execution_count": 76,
   "id": "b5abd9ba",
   "metadata": {},
   "outputs": [],
   "source": [
    "#data = data.join(CouncilDistrictCode)"
   ]
  },
  {
   "cell_type": "code",
   "execution_count": 77,
   "id": "16cab589",
   "metadata": {},
   "outputs": [],
   "source": [
    "data = data.drop('CouncilDistrictCode', axis=1)"
   ]
  },
  {
   "cell_type": "code",
   "execution_count": 78,
   "id": "8878b5ad",
   "metadata": {},
   "outputs": [
    {
     "data": {
      "text/plain": [
       "(1650, 50)"
      ]
     },
     "execution_count": 78,
     "metadata": {},
     "output_type": "execute_result"
    }
   ],
   "source": [
    "data.shape"
   ]
  },
  {
   "cell_type": "code",
   "execution_count": 79,
   "id": "c3c41260",
   "metadata": {},
   "outputs": [
    {
     "name": "stdout",
     "output_type": "stream",
     "text": [
      "<class 'pandas.core.frame.DataFrame'>\n",
      "Int64Index: 1650 entries, 0 to 3375\n",
      "Data columns (total 50 columns):\n",
      " #   Column                           Non-Null Count  Dtype  \n",
      "---  ------                           --------------  -----  \n",
      " 0   OSEBuildingID                    1650 non-null   int64  \n",
      " 1   Neighborhood                     1650 non-null   object \n",
      " 2   Latitude                         1650 non-null   float64\n",
      " 3   Longitude                        1650 non-null   float64\n",
      " 4   YearBuilt                        1650 non-null   int64  \n",
      " 5   NumberofBuildings                1648 non-null   float64\n",
      " 6   NumberofFloors                   1650 non-null   int64  \n",
      " 7   PropertyGFATotal                 1650 non-null   int64  \n",
      " 8   PropertyGFAParking               1650 non-null   int64  \n",
      " 9   PropertyGFABuilding(s)           1650 non-null   int64  \n",
      " 10  ListOfAllPropertyUseTypes        1648 non-null   object \n",
      " 11  LargestPropertyUseType           1644 non-null   object \n",
      " 12  LargestPropertyUseTypeGFA        1644 non-null   float64\n",
      " 13  SecondLargestPropertyUseType     848 non-null    object \n",
      " 14  SecondLargestPropertyUseTypeGFA  848 non-null    float64\n",
      " 15  ThirdLargestPropertyUseType      351 non-null    object \n",
      " 16  ThirdLargestPropertyUseTypeGFA   351 non-null    float64\n",
      " 17  YearsENERGYSTARCertified         98 non-null     object \n",
      " 18  ENERGYSTARScore                  1083 non-null   float64\n",
      " 19  SiteEUI(kBtu/sf)                 1647 non-null   float64\n",
      " 20  SiteEUIWN(kBtu/sf)               1647 non-null   float64\n",
      " 21  SourceEUI(kBtu/sf)               1648 non-null   float64\n",
      " 22  SourceEUIWN(kBtu/sf)             1648 non-null   float64\n",
      " 23  SiteEnergyUse(kBtu)              1648 non-null   float64\n",
      " 24  SiteEnergyUseWN(kBtu)            1647 non-null   float64\n",
      " 25  SteamUse(kBtu)                   1648 non-null   float64\n",
      " 26  Electricity(kWh)                 1648 non-null   float64\n",
      " 27  Electricity(kBtu)                1648 non-null   float64\n",
      " 28  NaturalGas(therms)               1648 non-null   float64\n",
      " 29  NaturalGas(kBtu)                 1648 non-null   float64\n",
      " 30  DefaultData                      1650 non-null   bool   \n",
      " 31  ComplianceStatus                 1650 non-null   object \n",
      " 32  TotalGHGEmissions                1648 non-null   float64\n",
      " 33  GHGEmissionsIntensity            1648 non-null   float64\n",
      " 34  Campus                           1650 non-null   uint8  \n",
      " 35  NonResidential                   1650 non-null   uint8  \n",
      " 36  Nonresidential COS               1650 non-null   uint8  \n",
      " 37  SPS-District K-12                1650 non-null   uint8  \n",
      " 38  Distribution Center              1650 non-null   uint8  \n",
      " 39  Hotel                            1650 non-null   uint8  \n",
      " 40  K-12 School                      1650 non-null   uint8  \n",
      " 41  Large Office                     1650 non-null   uint8  \n",
      " 42  Medical Office                   1650 non-null   uint8  \n",
      " 43  Mixed Use Property               1650 non-null   uint8  \n",
      " 44  Other                            1650 non-null   uint8  \n",
      " 45  Retail Store                     1650 non-null   uint8  \n",
      " 46  Small- and Mid-Sized Office      1650 non-null   uint8  \n",
      " 47  Supermarket / Grocery Store      1650 non-null   uint8  \n",
      " 48  Warehouse                        1650 non-null   uint8  \n",
      " 49  Worship Facility                 1650 non-null   uint8  \n",
      "dtypes: bool(1), float64(20), int64(6), object(7), uint8(16)\n",
      "memory usage: 530.2+ KB\n"
     ]
    }
   ],
   "source": [
    "data.info()"
   ]
  },
  {
   "cell_type": "markdown",
   "id": "177cfa15",
   "metadata": {},
   "source": [
    "## Neighborhood\n",
    "\n",
    "*Property neighborhood area defined by the City of Seattle Department of Neighborhoods.*\n",
    "\n",
    "* One-hot encoding: not improving results"
   ]
  },
  {
   "cell_type": "code",
   "execution_count": 80,
   "id": "2e5e0312",
   "metadata": {},
   "outputs": [
    {
     "data": {
      "text/plain": [
       "19"
      ]
     },
     "execution_count": 80,
     "metadata": {},
     "output_type": "execute_result"
    }
   ],
   "source": [
    "data['Neighborhood'].nunique()"
   ]
  },
  {
   "cell_type": "code",
   "execution_count": 81,
   "id": "995a1dd8",
   "metadata": {},
   "outputs": [
    {
     "data": {
      "text/plain": [
       "array(['DOWNTOWN', 'SOUTHEAST', 'NORTHEAST', 'EAST', 'Central', 'NORTH',\n",
       "       'MAGNOLIA / QUEEN ANNE', 'LAKE UNION', 'GREATER DUWAMISH',\n",
       "       'BALLARD', 'NORTHWEST', 'CENTRAL', 'SOUTHWEST', 'DELRIDGE',\n",
       "       'Ballard', 'North', 'Delridge', 'Northwest',\n",
       "       'DELRIDGE NEIGHBORHOODS'], dtype=object)"
      ]
     },
     "execution_count": 81,
     "metadata": {},
     "output_type": "execute_result"
    }
   ],
   "source": [
    "data['Neighborhood'].unique()"
   ]
  },
  {
   "cell_type": "code",
   "execution_count": 82,
   "id": "7fbe345a",
   "metadata": {},
   "outputs": [
    {
     "data": {
      "text/html": [
       "<div>\n",
       "<style scoped>\n",
       "    .dataframe tbody tr th:only-of-type {\n",
       "        vertical-align: middle;\n",
       "    }\n",
       "\n",
       "    .dataframe tbody tr th {\n",
       "        vertical-align: top;\n",
       "    }\n",
       "\n",
       "    .dataframe thead th {\n",
       "        text-align: right;\n",
       "    }\n",
       "</style>\n",
       "<table border=\"1\" class=\"dataframe\">\n",
       "  <thead>\n",
       "    <tr style=\"text-align: right;\">\n",
       "      <th></th>\n",
       "      <th>Neighborhood</th>\n",
       "    </tr>\n",
       "  </thead>\n",
       "  <tbody>\n",
       "    <tr>\n",
       "      <th>DOWNTOWN</th>\n",
       "      <td>356</td>\n",
       "    </tr>\n",
       "    <tr>\n",
       "      <th>GREATER DUWAMISH</th>\n",
       "      <td>342</td>\n",
       "    </tr>\n",
       "    <tr>\n",
       "      <th>MAGNOLIA / QUEEN ANNE</th>\n",
       "      <td>149</td>\n",
       "    </tr>\n",
       "    <tr>\n",
       "      <th>LAKE UNION</th>\n",
       "      <td>148</td>\n",
       "    </tr>\n",
       "    <tr>\n",
       "      <th>NORTHEAST</th>\n",
       "      <td>125</td>\n",
       "    </tr>\n",
       "    <tr>\n",
       "      <th>EAST</th>\n",
       "      <td>120</td>\n",
       "    </tr>\n",
       "    <tr>\n",
       "      <th>NORTHWEST</th>\n",
       "      <td>81</td>\n",
       "    </tr>\n",
       "    <tr>\n",
       "      <th>BALLARD</th>\n",
       "      <td>64</td>\n",
       "    </tr>\n",
       "    <tr>\n",
       "      <th>NORTH</th>\n",
       "      <td>58</td>\n",
       "    </tr>\n",
       "    <tr>\n",
       "      <th>CENTRAL</th>\n",
       "      <td>49</td>\n",
       "    </tr>\n",
       "    <tr>\n",
       "      <th>SOUTHEAST</th>\n",
       "      <td>46</td>\n",
       "    </tr>\n",
       "    <tr>\n",
       "      <th>DELRIDGE</th>\n",
       "      <td>42</td>\n",
       "    </tr>\n",
       "    <tr>\n",
       "      <th>SOUTHWEST</th>\n",
       "      <td>40</td>\n",
       "    </tr>\n",
       "    <tr>\n",
       "      <th>North</th>\n",
       "      <td>9</td>\n",
       "    </tr>\n",
       "    <tr>\n",
       "      <th>Ballard</th>\n",
       "      <td>6</td>\n",
       "    </tr>\n",
       "    <tr>\n",
       "      <th>Northwest</th>\n",
       "      <td>5</td>\n",
       "    </tr>\n",
       "    <tr>\n",
       "      <th>Central</th>\n",
       "      <td>5</td>\n",
       "    </tr>\n",
       "    <tr>\n",
       "      <th>Delridge</th>\n",
       "      <td>4</td>\n",
       "    </tr>\n",
       "    <tr>\n",
       "      <th>DELRIDGE NEIGHBORHOODS</th>\n",
       "      <td>1</td>\n",
       "    </tr>\n",
       "  </tbody>\n",
       "</table>\n",
       "</div>"
      ],
      "text/plain": [
       "                        Neighborhood\n",
       "DOWNTOWN                         356\n",
       "GREATER DUWAMISH                 342\n",
       "MAGNOLIA / QUEEN ANNE            149\n",
       "LAKE UNION                       148\n",
       "NORTHEAST                        125\n",
       "EAST                             120\n",
       "NORTHWEST                         81\n",
       "BALLARD                           64\n",
       "NORTH                             58\n",
       "CENTRAL                           49\n",
       "SOUTHEAST                         46\n",
       "DELRIDGE                          42\n",
       "SOUTHWEST                         40\n",
       "North                              9\n",
       "Ballard                            6\n",
       "Northwest                          5\n",
       "Central                            5\n",
       "Delridge                           4\n",
       "DELRIDGE NEIGHBORHOODS             1"
      ]
     },
     "execution_count": 82,
     "metadata": {},
     "output_type": "execute_result"
    }
   ],
   "source": [
    "Neighborhood_agg = pd.DataFrame(data['Neighborhood'].value_counts().sort_values(ascending=False))\n",
    "Neighborhood_agg"
   ]
  },
  {
   "cell_type": "code",
   "execution_count": 83,
   "id": "dbda137b",
   "metadata": {},
   "outputs": [
    {
     "data": {
      "text/plain": [
       "Text(0.5, 1.0, 'Neighborhood repartition')"
      ]
     },
     "execution_count": 83,
     "metadata": {},
     "output_type": "execute_result"
    },
    {
     "data": {
      "image/png": "[encoded data removed]",
      "text/plain": [
       "<Figure size 1296x288 with 1 Axes>"
      ]
     },
     "metadata": {
      "needs_background": "light"
     },
     "output_type": "display_data"
    }
   ],
   "source": [
    "fig, ax = plt.subplots(figsize = (18,4))\n",
    "ax.bar(Neighborhood_agg[0:8].index, Neighborhood_agg['Neighborhood'][0:8])\n",
    "ax.set_xlabel('Neighborhood', size=12)\n",
    "ax.set_ylabel('Count', size=12)\n",
    "ax.set_title('Neighborhood repartition', size=14)"
   ]
  },
  {
   "cell_type": "code",
   "execution_count": 84,
   "id": "e8fe3cb9",
   "metadata": {},
   "outputs": [
    {
     "data": {
      "text/html": [
       "<div>\n",
       "<style scoped>\n",
       "    .dataframe tbody tr th:only-of-type {\n",
       "        vertical-align: middle;\n",
       "    }\n",
       "\n",
       "    .dataframe tbody tr th {\n",
       "        vertical-align: top;\n",
       "    }\n",
       "\n",
       "    .dataframe thead th {\n",
       "        text-align: right;\n",
       "    }\n",
       "</style>\n",
       "<table border=\"1\" class=\"dataframe\">\n",
       "  <thead>\n",
       "    <tr style=\"text-align: right;\">\n",
       "      <th></th>\n",
       "      <th>BALLARD</th>\n",
       "      <th>Ballard</th>\n",
       "      <th>CENTRAL</th>\n",
       "      <th>Central</th>\n",
       "      <th>DELRIDGE</th>\n",
       "      <th>DELRIDGE NEIGHBORHOODS</th>\n",
       "      <th>DOWNTOWN</th>\n",
       "      <th>Delridge</th>\n",
       "      <th>EAST</th>\n",
       "      <th>GREATER DUWAMISH</th>\n",
       "      <th>LAKE UNION</th>\n",
       "      <th>MAGNOLIA / QUEEN ANNE</th>\n",
       "      <th>NORTH</th>\n",
       "      <th>NORTHEAST</th>\n",
       "      <th>NORTHWEST</th>\n",
       "      <th>North</th>\n",
       "      <th>Northwest</th>\n",
       "      <th>SOUTHEAST</th>\n",
       "      <th>SOUTHWEST</th>\n",
       "    </tr>\n",
       "  </thead>\n",
       "  <tbody>\n",
       "    <tr>\n",
       "      <th>0</th>\n",
       "      <td>0</td>\n",
       "      <td>0</td>\n",
       "      <td>0</td>\n",
       "      <td>0</td>\n",
       "      <td>0</td>\n",
       "      <td>0</td>\n",
       "      <td>1</td>\n",
       "      <td>0</td>\n",
       "      <td>0</td>\n",
       "      <td>0</td>\n",
       "      <td>0</td>\n",
       "      <td>0</td>\n",
       "      <td>0</td>\n",
       "      <td>0</td>\n",
       "      <td>0</td>\n",
       "      <td>0</td>\n",
       "      <td>0</td>\n",
       "      <td>0</td>\n",
       "      <td>0</td>\n",
       "    </tr>\n",
       "    <tr>\n",
       "      <th>1</th>\n",
       "      <td>0</td>\n",
       "      <td>0</td>\n",
       "      <td>0</td>\n",
       "      <td>0</td>\n",
       "      <td>0</td>\n",
       "      <td>0</td>\n",
       "      <td>1</td>\n",
       "      <td>0</td>\n",
       "      <td>0</td>\n",
       "      <td>0</td>\n",
       "      <td>0</td>\n",
       "      <td>0</td>\n",
       "      <td>0</td>\n",
       "      <td>0</td>\n",
       "      <td>0</td>\n",
       "      <td>0</td>\n",
       "      <td>0</td>\n",
       "      <td>0</td>\n",
       "      <td>0</td>\n",
       "    </tr>\n",
       "    <tr>\n",
       "      <th>2</th>\n",
       "      <td>0</td>\n",
       "      <td>0</td>\n",
       "      <td>0</td>\n",
       "      <td>0</td>\n",
       "      <td>0</td>\n",
       "      <td>0</td>\n",
       "      <td>1</td>\n",
       "      <td>0</td>\n",
       "      <td>0</td>\n",
       "      <td>0</td>\n",
       "      <td>0</td>\n",
       "      <td>0</td>\n",
       "      <td>0</td>\n",
       "      <td>0</td>\n",
       "      <td>0</td>\n",
       "      <td>0</td>\n",
       "      <td>0</td>\n",
       "      <td>0</td>\n",
       "      <td>0</td>\n",
       "    </tr>\n",
       "    <tr>\n",
       "      <th>3</th>\n",
       "      <td>0</td>\n",
       "      <td>0</td>\n",
       "      <td>0</td>\n",
       "      <td>0</td>\n",
       "      <td>0</td>\n",
       "      <td>0</td>\n",
       "      <td>1</td>\n",
       "      <td>0</td>\n",
       "      <td>0</td>\n",
       "      <td>0</td>\n",
       "      <td>0</td>\n",
       "      <td>0</td>\n",
       "      <td>0</td>\n",
       "      <td>0</td>\n",
       "      <td>0</td>\n",
       "      <td>0</td>\n",
       "      <td>0</td>\n",
       "      <td>0</td>\n",
       "      <td>0</td>\n",
       "    </tr>\n",
       "    <tr>\n",
       "      <th>4</th>\n",
       "      <td>0</td>\n",
       "      <td>0</td>\n",
       "      <td>0</td>\n",
       "      <td>0</td>\n",
       "      <td>0</td>\n",
       "      <td>0</td>\n",
       "      <td>1</td>\n",
       "      <td>0</td>\n",
       "      <td>0</td>\n",
       "      <td>0</td>\n",
       "      <td>0</td>\n",
       "      <td>0</td>\n",
       "      <td>0</td>\n",
       "      <td>0</td>\n",
       "      <td>0</td>\n",
       "      <td>0</td>\n",
       "      <td>0</td>\n",
       "      <td>0</td>\n",
       "      <td>0</td>\n",
       "    </tr>\n",
       "    <tr>\n",
       "      <th>...</th>\n",
       "      <td>...</td>\n",
       "      <td>...</td>\n",
       "      <td>...</td>\n",
       "      <td>...</td>\n",
       "      <td>...</td>\n",
       "      <td>...</td>\n",
       "      <td>...</td>\n",
       "      <td>...</td>\n",
       "      <td>...</td>\n",
       "      <td>...</td>\n",
       "      <td>...</td>\n",
       "      <td>...</td>\n",
       "      <td>...</td>\n",
       "      <td>...</td>\n",
       "      <td>...</td>\n",
       "      <td>...</td>\n",
       "      <td>...</td>\n",
       "      <td>...</td>\n",
       "      <td>...</td>\n",
       "    </tr>\n",
       "    <tr>\n",
       "      <th>3371</th>\n",
       "      <td>0</td>\n",
       "      <td>0</td>\n",
       "      <td>0</td>\n",
       "      <td>0</td>\n",
       "      <td>0</td>\n",
       "      <td>0</td>\n",
       "      <td>0</td>\n",
       "      <td>0</td>\n",
       "      <td>0</td>\n",
       "      <td>1</td>\n",
       "      <td>0</td>\n",
       "      <td>0</td>\n",
       "      <td>0</td>\n",
       "      <td>0</td>\n",
       "      <td>0</td>\n",
       "      <td>0</td>\n",
       "      <td>0</td>\n",
       "      <td>0</td>\n",
       "      <td>0</td>\n",
       "    </tr>\n",
       "    <tr>\n",
       "      <th>3372</th>\n",
       "      <td>0</td>\n",
       "      <td>0</td>\n",
       "      <td>0</td>\n",
       "      <td>0</td>\n",
       "      <td>0</td>\n",
       "      <td>0</td>\n",
       "      <td>1</td>\n",
       "      <td>0</td>\n",
       "      <td>0</td>\n",
       "      <td>0</td>\n",
       "      <td>0</td>\n",
       "      <td>0</td>\n",
       "      <td>0</td>\n",
       "      <td>0</td>\n",
       "      <td>0</td>\n",
       "      <td>0</td>\n",
       "      <td>0</td>\n",
       "      <td>0</td>\n",
       "      <td>0</td>\n",
       "    </tr>\n",
       "    <tr>\n",
       "      <th>3373</th>\n",
       "      <td>0</td>\n",
       "      <td>0</td>\n",
       "      <td>0</td>\n",
       "      <td>0</td>\n",
       "      <td>0</td>\n",
       "      <td>0</td>\n",
       "      <td>0</td>\n",
       "      <td>0</td>\n",
       "      <td>0</td>\n",
       "      <td>0</td>\n",
       "      <td>0</td>\n",
       "      <td>1</td>\n",
       "      <td>0</td>\n",
       "      <td>0</td>\n",
       "      <td>0</td>\n",
       "      <td>0</td>\n",
       "      <td>0</td>\n",
       "      <td>0</td>\n",
       "      <td>0</td>\n",
       "    </tr>\n",
       "    <tr>\n",
       "      <th>3374</th>\n",
       "      <td>0</td>\n",
       "      <td>0</td>\n",
       "      <td>0</td>\n",
       "      <td>0</td>\n",
       "      <td>0</td>\n",
       "      <td>0</td>\n",
       "      <td>0</td>\n",
       "      <td>0</td>\n",
       "      <td>0</td>\n",
       "      <td>1</td>\n",
       "      <td>0</td>\n",
       "      <td>0</td>\n",
       "      <td>0</td>\n",
       "      <td>0</td>\n",
       "      <td>0</td>\n",
       "      <td>0</td>\n",
       "      <td>0</td>\n",
       "      <td>0</td>\n",
       "      <td>0</td>\n",
       "    </tr>\n",
       "    <tr>\n",
       "      <th>3375</th>\n",
       "      <td>0</td>\n",
       "      <td>0</td>\n",
       "      <td>0</td>\n",
       "      <td>0</td>\n",
       "      <td>0</td>\n",
       "      <td>0</td>\n",
       "      <td>0</td>\n",
       "      <td>0</td>\n",
       "      <td>0</td>\n",
       "      <td>1</td>\n",
       "      <td>0</td>\n",
       "      <td>0</td>\n",
       "      <td>0</td>\n",
       "      <td>0</td>\n",
       "      <td>0</td>\n",
       "      <td>0</td>\n",
       "      <td>0</td>\n",
       "      <td>0</td>\n",
       "      <td>0</td>\n",
       "    </tr>\n",
       "  </tbody>\n",
       "</table>\n",
       "<p>1650 rows × 19 columns</p>\n",
       "</div>"
      ],
      "text/plain": [
       "      BALLARD  Ballard  CENTRAL  Central  DELRIDGE  DELRIDGE NEIGHBORHOODS  \\\n",
       "0           0        0        0        0         0                       0   \n",
       "1           0        0        0        0         0                       0   \n",
       "2           0        0        0        0         0                       0   \n",
       "3           0        0        0        0         0                       0   \n",
       "4           0        0        0        0         0                       0   \n",
       "...       ...      ...      ...      ...       ...                     ...   \n",
       "3371        0        0        0        0         0                       0   \n",
       "3372        0        0        0        0         0                       0   \n",
       "3373        0        0        0        0         0                       0   \n",
       "3374        0        0        0        0         0                       0   \n",
       "3375        0        0        0        0         0                       0   \n",
       "\n",
       "      DOWNTOWN  Delridge  EAST  GREATER DUWAMISH  LAKE UNION  \\\n",
       "0            1         0     0                 0           0   \n",
       "1            1         0     0                 0           0   \n",
       "2            1         0     0                 0           0   \n",
       "3            1         0     0                 0           0   \n",
       "4            1         0     0                 0           0   \n",
       "...        ...       ...   ...               ...         ...   \n",
       "3371         0         0     0                 1           0   \n",
       "3372         1         0     0                 0           0   \n",
       "3373         0         0     0                 0           0   \n",
       "3374         0         0     0                 1           0   \n",
       "3375         0         0     0                 1           0   \n",
       "\n",
       "      MAGNOLIA / QUEEN ANNE  NORTH  NORTHEAST  NORTHWEST  North  Northwest  \\\n",
       "0                         0      0          0          0      0          0   \n",
       "1                         0      0          0          0      0          0   \n",
       "2                         0      0          0          0      0          0   \n",
       "3                         0      0          0          0      0          0   \n",
       "4                         0      0          0          0      0          0   \n",
       "...                     ...    ...        ...        ...    ...        ...   \n",
       "3371                      0      0          0          0      0          0   \n",
       "3372                      0      0          0          0      0          0   \n",
       "3373                      1      0          0          0      0          0   \n",
       "3374                      0      0          0          0      0          0   \n",
       "3375                      0      0          0          0      0          0   \n",
       "\n",
       "      SOUTHEAST  SOUTHWEST  \n",
       "0             0          0  \n",
       "1             0          0  \n",
       "2             0          0  \n",
       "3             0          0  \n",
       "4             0          0  \n",
       "...         ...        ...  \n",
       "3371          0          0  \n",
       "3372          0          0  \n",
       "3373          0          0  \n",
       "3374          0          0  \n",
       "3375          0          0  \n",
       "\n",
       "[1650 rows x 19 columns]"
      ]
     },
     "execution_count": 84,
     "metadata": {},
     "output_type": "execute_result"
    }
   ],
   "source": [
    "Neighborhood = pd.get_dummies(data['Neighborhood'])\n",
    "Neighborhood"
   ]
  },
  {
   "cell_type": "code",
   "execution_count": 85,
   "id": "5f46538e",
   "metadata": {},
   "outputs": [
    {
     "data": {
      "text/plain": [
       "['BALLARD',\n",
       " 'Ballard',\n",
       " 'CENTRAL',\n",
       " 'Central',\n",
       " 'DELRIDGE',\n",
       " 'DELRIDGE NEIGHBORHOODS',\n",
       " 'DOWNTOWN',\n",
       " 'Delridge',\n",
       " 'EAST',\n",
       " 'GREATER DUWAMISH',\n",
       " 'LAKE UNION',\n",
       " 'MAGNOLIA / QUEEN ANNE',\n",
       " 'NORTH',\n",
       " 'NORTHEAST',\n",
       " 'NORTHWEST',\n",
       " 'North',\n",
       " 'Northwest',\n",
       " 'SOUTHEAST',\n",
       " 'SOUTHWEST']"
      ]
     },
     "execution_count": 85,
     "metadata": {},
     "output_type": "execute_result"
    }
   ],
   "source": [
    "Neighborhood_features = Neighborhood.columns.to_list()\n",
    "Neighborhood_features"
   ]
  },
  {
   "cell_type": "code",
   "execution_count": 86,
   "id": "208f84b6",
   "metadata": {},
   "outputs": [],
   "source": [
    "#data = data.join(Neighborhood)"
   ]
  },
  {
   "cell_type": "code",
   "execution_count": 87,
   "id": "ea33a165",
   "metadata": {},
   "outputs": [],
   "source": [
    "data = data.drop('Neighborhood', axis=1)"
   ]
  },
  {
   "cell_type": "code",
   "execution_count": 88,
   "id": "cb6c55d8",
   "metadata": {},
   "outputs": [
    {
     "data": {
      "text/plain": [
       "(1650, 49)"
      ]
     },
     "execution_count": 88,
     "metadata": {},
     "output_type": "execute_result"
    }
   ],
   "source": [
    "data.shape"
   ]
  },
  {
   "cell_type": "markdown",
   "id": "98c0ca2b",
   "metadata": {},
   "source": [
    "## YearBuilt\n",
    "\n",
    "*Year in which a property was constructed or underwent a complete renovation.*\n",
    "\n",
    "* Creating an ordinal feature Building_age"
   ]
  },
  {
   "cell_type": "code",
   "execution_count": 89,
   "id": "cd6e20c5",
   "metadata": {},
   "outputs": [
    {
     "data": {
      "text/plain": [
       "113"
      ]
     },
     "execution_count": 89,
     "metadata": {},
     "output_type": "execute_result"
    }
   ],
   "source": [
    "data['YearBuilt'].nunique()"
   ]
  },
  {
   "cell_type": "code",
   "execution_count": 90,
   "id": "5c53ca23",
   "metadata": {},
   "outputs": [
    {
     "data": {
      "text/plain": [
       "array([1927, 1996, 1969, 1926, 1980, 1999, 1904, 1998, 1928, 1922, 2004,\n",
       "       1930, 1983, 1907, 1916, 1985, 1961, 2001, 1991, 1955, 1978, 1949,\n",
       "       1989, 1906, 1994, 1992, 1990, 1950, 1900, 1954, 1911, 1973, 1920,\n",
       "       1910, 1982, 1908, 1959, 2000, 1997, 1962, 1970, 2008, 1948, 1965,\n",
       "       1929, 2010, 1938, 1986, 2002, 1923, 2003, 1957, 1964, 1941, 1963,\n",
       "       2006, 1915, 1958, 2009, 2011, 1971, 2007, 1951, 1953, 1952, 1960,\n",
       "       1937, 1966, 1968, 1925, 1924, 2005, 1931, 1972, 1914, 1913, 1995,\n",
       "       1981, 1976, 1909, 1988, 1979, 1947, 1984, 1956, 1912, 1977, 1921,\n",
       "       1945, 1974, 1975, 1946, 1967, 1987, 1940, 1932, 1993, 1918, 1905,\n",
       "       1902, 1939, 1944, 1917, 1942, 1903, 2012, 2013, 1919, 1901, 1936,\n",
       "       1935, 2014, 2015], dtype=int64)"
      ]
     },
     "execution_count": 90,
     "metadata": {},
     "output_type": "execute_result"
    }
   ],
   "source": [
    "data['YearBuilt'].unique()"
   ]
  },
  {
   "cell_type": "code",
   "execution_count": 91,
   "id": "2ff9f3e6",
   "metadata": {},
   "outputs": [
    {
     "data": {
      "text/plain": [
       "Text(0.5, 1.0, 'Date de construction des bâtiments')"
      ]
     },
     "execution_count": 91,
     "metadata": {},
     "output_type": "execute_result"
    },
    {
     "data": {
      "image/png": "[encoded data removed]",
      "text/plain": [
       "<Figure size 1008x504 with 1 Axes>"
      ]
     },
     "metadata": {
      "needs_background": "light"
     },
     "output_type": "display_data"
    }
   ],
   "source": [
    "plt.figure(figsize=(14,7))\n",
    "plt.plot(data['YearBuilt'].sort_values(ascending=True), range(len(data)), '-')\n",
    "plt.title('Date de construction des bâtiments', size=18)"
   ]
  },
  {
   "cell_type": "code",
   "execution_count": 92,
   "id": "8d446dc8",
   "metadata": {},
   "outputs": [],
   "source": [
    "data['Building_age'] = 2016 - data['YearBuilt']"
   ]
  },
  {
   "cell_type": "code",
   "execution_count": 93,
   "id": "1832b9f5",
   "metadata": {},
   "outputs": [
    {
     "data": {
      "text/plain": [
       "0       89\n",
       "1       20\n",
       "2       47\n",
       "3       90\n",
       "4       36\n",
       "        ..\n",
       "3371    26\n",
       "3372    12\n",
       "3373    42\n",
       "3374    27\n",
       "3375    78\n",
       "Name: Building_age, Length: 1650, dtype: int64"
      ]
     },
     "execution_count": 93,
     "metadata": {},
     "output_type": "execute_result"
    }
   ],
   "source": [
    "data['Building_age']"
   ]
  },
  {
   "cell_type": "code",
   "execution_count": 94,
   "id": "fa566386",
   "metadata": {},
   "outputs": [],
   "source": [
    "data = data.drop('YearBuilt', axis=1)"
   ]
  },
  {
   "cell_type": "code",
   "execution_count": 95,
   "id": "916818ed",
   "metadata": {},
   "outputs": [
    {
     "data": {
      "text/plain": [
       "(1650, 49)"
      ]
     },
     "execution_count": 95,
     "metadata": {},
     "output_type": "execute_result"
    }
   ],
   "source": [
    "data.shape"
   ]
  },
  {
   "cell_type": "markdown",
   "id": "08b2648c",
   "metadata": {},
   "source": [
    "## ListOfAllPropertyUseTypes\n",
    "\n",
    "*All property uses reported in Portfolio Manager*\n",
    "\n",
    "* Need to do list aggregations like P2\n",
    "* Maybe use later"
   ]
  },
  {
   "cell_type": "code",
   "execution_count": 96,
   "id": "da70899f",
   "metadata": {},
   "outputs": [
    {
     "data": {
      "text/plain": [
       "372"
      ]
     },
     "execution_count": 96,
     "metadata": {},
     "output_type": "execute_result"
    }
   ],
   "source": [
    "data['ListOfAllPropertyUseTypes'].nunique()"
   ]
  },
  {
   "cell_type": "code",
   "execution_count": 97,
   "id": "09a1a1a5",
   "metadata": {
    "scrolled": true
   },
   "outputs": [
    {
     "data": {
      "text/plain": [
       "0                                                   Hotel\n",
       "1                              Hotel, Parking, Restaurant\n",
       "2                                                   Hotel\n",
       "3                                                   Hotel\n",
       "4                           Hotel, Parking, Swimming Pool\n",
       "                              ...                        \n",
       "3371                                               Office\n",
       "3372                                   Other - Recreation\n",
       "3373    Fitness Center/Health Club/Gym, Other - Recrea...\n",
       "3374    Fitness Center/Health Club/Gym, Food Service, ...\n",
       "3375    Fitness Center/Health Club/Gym, Food Service, ...\n",
       "Name: ListOfAllPropertyUseTypes, Length: 1650, dtype: object"
      ]
     },
     "execution_count": 97,
     "metadata": {},
     "output_type": "execute_result"
    }
   ],
   "source": [
    "data['ListOfAllPropertyUseTypes']"
   ]
  },
  {
   "cell_type": "code",
   "execution_count": 98,
   "id": "76c9a5fe",
   "metadata": {},
   "outputs": [],
   "source": [
    "data = data.drop('ListOfAllPropertyUseTypes', axis=1)"
   ]
  },
  {
   "cell_type": "code",
   "execution_count": 99,
   "id": "7d9bde6f",
   "metadata": {},
   "outputs": [
    {
     "data": {
      "text/plain": [
       "(1650, 48)"
      ]
     },
     "execution_count": 99,
     "metadata": {},
     "output_type": "execute_result"
    }
   ],
   "source": [
    "data.shape"
   ]
  },
  {
   "cell_type": "markdown",
   "id": "8a4135c2",
   "metadata": {},
   "source": [
    "## LargestPropertyUseType\n",
    "\n",
    "*The largest use of a property (e.g. office, retail store) by GFA.*\n",
    "\n",
    "* Maybe use later"
   ]
  },
  {
   "cell_type": "code",
   "execution_count": 100,
   "id": "0cc8c5d2",
   "metadata": {},
   "outputs": [
    {
     "data": {
      "text/plain": [
       "56"
      ]
     },
     "execution_count": 100,
     "metadata": {},
     "output_type": "execute_result"
    }
   ],
   "source": [
    "data['LargestPropertyUseType'].nunique()"
   ]
  },
  {
   "cell_type": "code",
   "execution_count": 101,
   "id": "1f23eb6f",
   "metadata": {},
   "outputs": [
    {
     "data": {
      "text/plain": [
       "array(['Hotel', 'Police Station', 'Other - Entertainment/Public Assembly',\n",
       "       'Library', 'Fitness Center/Health Club/Gym', 'Social/Meeting Hall',\n",
       "       'Courthouse', 'Other', 'K-12 School', 'College/University',\n",
       "       'Automobile Dealership', 'Office', 'Self-Storage Facility',\n",
       "       'Non-Refrigerated Warehouse', 'Other - Mall',\n",
       "       'Senior Care Community', 'Medical Office', 'Retail Store',\n",
       "       'Hospital (General Medical & Surgical)', 'Museum',\n",
       "       'Repair Services (Vehicle, Shoe, Locksmith, etc)',\n",
       "       'Other - Lodging/Residential', 'Residence Hall/Dormitory',\n",
       "       'Other/Specialty Hospital', 'Financial Office',\n",
       "       'Distribution Center', 'Parking', 'Multifamily Housing',\n",
       "       'Worship Facility', 'Restaurant', 'Data Center', 'Laboratory',\n",
       "       'Supermarket/Grocery Store', 'Convention Center',\n",
       "       'Urgent Care/Clinic/Other Outpatient', nan, 'Other - Services',\n",
       "       'Strip Mall', 'Wholesale Club/Supercenter',\n",
       "       'Refrigerated Warehouse', 'Manufacturing/Industrial Plant',\n",
       "       'Other - Recreation', 'Lifestyle Center',\n",
       "       'Other - Public Services', 'Other - Education', 'Fire Station',\n",
       "       'Performing Arts', 'Residential Care Facility', 'Bank Branch',\n",
       "       'Other - Restaurant/Bar', 'Food Service', 'Adult Education',\n",
       "       'Other - Utility', 'Movie Theater',\n",
       "       'Personal Services (Health/Beauty, Dry Cleaning, etc)',\n",
       "       'Pre-school/Daycare', 'Prison/Incarceration'], dtype=object)"
      ]
     },
     "execution_count": 101,
     "metadata": {},
     "output_type": "execute_result"
    }
   ],
   "source": [
    "data['LargestPropertyUseType'].unique()"
   ]
  },
  {
   "cell_type": "code",
   "execution_count": 102,
   "id": "1809ede4",
   "metadata": {},
   "outputs": [
    {
     "data": {
      "text/html": [
       "<div>\n",
       "<style scoped>\n",
       "    .dataframe tbody tr th:only-of-type {\n",
       "        vertical-align: middle;\n",
       "    }\n",
       "\n",
       "    .dataframe tbody tr th {\n",
       "        vertical-align: top;\n",
       "    }\n",
       "\n",
       "    .dataframe thead th {\n",
       "        text-align: right;\n",
       "    }\n",
       "</style>\n",
       "<table border=\"1\" class=\"dataframe\">\n",
       "  <thead>\n",
       "    <tr style=\"text-align: right;\">\n",
       "      <th></th>\n",
       "      <th>LargestPropertyUseType</th>\n",
       "    </tr>\n",
       "  </thead>\n",
       "  <tbody>\n",
       "    <tr>\n",
       "      <th>Office</th>\n",
       "      <td>491</td>\n",
       "    </tr>\n",
       "    <tr>\n",
       "      <th>Non-Refrigerated Warehouse</th>\n",
       "      <td>199</td>\n",
       "    </tr>\n",
       "    <tr>\n",
       "      <th>K-12 School</th>\n",
       "      <td>137</td>\n",
       "    </tr>\n",
       "    <tr>\n",
       "      <th>Retail Store</th>\n",
       "      <td>97</td>\n",
       "    </tr>\n",
       "    <tr>\n",
       "      <th>Other</th>\n",
       "      <td>95</td>\n",
       "    </tr>\n",
       "    <tr>\n",
       "      <th>Hotel</th>\n",
       "      <td>75</td>\n",
       "    </tr>\n",
       "    <tr>\n",
       "      <th>Worship Facility</th>\n",
       "      <td>69</td>\n",
       "    </tr>\n",
       "    <tr>\n",
       "      <th>Distribution Center</th>\n",
       "      <td>54</td>\n",
       "    </tr>\n",
       "    <tr>\n",
       "      <th>Supermarket/Grocery Store</th>\n",
       "      <td>41</td>\n",
       "    </tr>\n",
       "    <tr>\n",
       "      <th>Medical Office</th>\n",
       "      <td>41</td>\n",
       "    </tr>\n",
       "    <tr>\n",
       "      <th>Other - Recreation</th>\n",
       "      <td>31</td>\n",
       "    </tr>\n",
       "    <tr>\n",
       "      <th>Parking</th>\n",
       "      <td>30</td>\n",
       "    </tr>\n",
       "    <tr>\n",
       "      <th>Self-Storage Facility</th>\n",
       "      <td>27</td>\n",
       "    </tr>\n",
       "    <tr>\n",
       "      <th>College/University</th>\n",
       "      <td>23</td>\n",
       "    </tr>\n",
       "    <tr>\n",
       "      <th>Residence Hall/Dormitory</th>\n",
       "      <td>22</td>\n",
       "    </tr>\n",
       "    <tr>\n",
       "      <th>Other - Entertainment/Public Assembly</th>\n",
       "      <td>21</td>\n",
       "    </tr>\n",
       "    <tr>\n",
       "      <th>Senior Care Community</th>\n",
       "      <td>20</td>\n",
       "    </tr>\n",
       "    <tr>\n",
       "      <th>Laboratory</th>\n",
       "      <td>13</td>\n",
       "    </tr>\n",
       "    <tr>\n",
       "      <th>Refrigerated Warehouse</th>\n",
       "      <td>12</td>\n",
       "    </tr>\n",
       "    <tr>\n",
       "      <th>Restaurant</th>\n",
       "      <td>12</td>\n",
       "    </tr>\n",
       "    <tr>\n",
       "      <th>Multifamily Housing</th>\n",
       "      <td>11</td>\n",
       "    </tr>\n",
       "    <tr>\n",
       "      <th>Social/Meeting Hall</th>\n",
       "      <td>10</td>\n",
       "    </tr>\n",
       "    <tr>\n",
       "      <th>Hospital (General Medical &amp; Surgical)</th>\n",
       "      <td>10</td>\n",
       "    </tr>\n",
       "    <tr>\n",
       "      <th>Manufacturing/Industrial Plant</th>\n",
       "      <td>8</td>\n",
       "    </tr>\n",
       "    <tr>\n",
       "      <th>Strip Mall</th>\n",
       "      <td>6</td>\n",
       "    </tr>\n",
       "    <tr>\n",
       "      <th>Repair Services (Vehicle, Shoe, Locksmith, etc)</th>\n",
       "      <td>6</td>\n",
       "    </tr>\n",
       "    <tr>\n",
       "      <th>Other - Services</th>\n",
       "      <td>5</td>\n",
       "    </tr>\n",
       "    <tr>\n",
       "      <th>Fitness Center/Health Club/Gym</th>\n",
       "      <td>5</td>\n",
       "    </tr>\n",
       "    <tr>\n",
       "      <th>Other - Lodging/Residential</th>\n",
       "      <td>5</td>\n",
       "    </tr>\n",
       "    <tr>\n",
       "      <th>Museum</th>\n",
       "      <td>5</td>\n",
       "    </tr>\n",
       "    <tr>\n",
       "      <th>Automobile Dealership</th>\n",
       "      <td>5</td>\n",
       "    </tr>\n",
       "    <tr>\n",
       "      <th>Other - Mall</th>\n",
       "      <td>4</td>\n",
       "    </tr>\n",
       "    <tr>\n",
       "      <th>Urgent Care/Clinic/Other Outpatient</th>\n",
       "      <td>4</td>\n",
       "    </tr>\n",
       "    <tr>\n",
       "      <th>Bank Branch</th>\n",
       "      <td>4</td>\n",
       "    </tr>\n",
       "    <tr>\n",
       "      <th>Library</th>\n",
       "      <td>4</td>\n",
       "    </tr>\n",
       "    <tr>\n",
       "      <th>Financial Office</th>\n",
       "      <td>4</td>\n",
       "    </tr>\n",
       "    <tr>\n",
       "      <th>Other/Specialty Hospital</th>\n",
       "      <td>4</td>\n",
       "    </tr>\n",
       "    <tr>\n",
       "      <th>Other - Education</th>\n",
       "      <td>4</td>\n",
       "    </tr>\n",
       "    <tr>\n",
       "      <th>Data Center</th>\n",
       "      <td>3</td>\n",
       "    </tr>\n",
       "    <tr>\n",
       "      <th>Prison/Incarceration</th>\n",
       "      <td>3</td>\n",
       "    </tr>\n",
       "    <tr>\n",
       "      <th>Performing Arts</th>\n",
       "      <td>3</td>\n",
       "    </tr>\n",
       "    <tr>\n",
       "      <th>Adult Education</th>\n",
       "      <td>2</td>\n",
       "    </tr>\n",
       "    <tr>\n",
       "      <th>Other - Utility</th>\n",
       "      <td>2</td>\n",
       "    </tr>\n",
       "    <tr>\n",
       "      <th>Lifestyle Center</th>\n",
       "      <td>2</td>\n",
       "    </tr>\n",
       "    <tr>\n",
       "      <th>Other - Restaurant/Bar</th>\n",
       "      <td>2</td>\n",
       "    </tr>\n",
       "    <tr>\n",
       "      <th>Pre-school/Daycare</th>\n",
       "      <td>2</td>\n",
       "    </tr>\n",
       "    <tr>\n",
       "      <th>Other - Public Services</th>\n",
       "      <td>2</td>\n",
       "    </tr>\n",
       "    <tr>\n",
       "      <th>Fire Station</th>\n",
       "      <td>1</td>\n",
       "    </tr>\n",
       "    <tr>\n",
       "      <th>Movie Theater</th>\n",
       "      <td>1</td>\n",
       "    </tr>\n",
       "    <tr>\n",
       "      <th>Police Station</th>\n",
       "      <td>1</td>\n",
       "    </tr>\n",
       "    <tr>\n",
       "      <th>Courthouse</th>\n",
       "      <td>1</td>\n",
       "    </tr>\n",
       "    <tr>\n",
       "      <th>Food Service</th>\n",
       "      <td>1</td>\n",
       "    </tr>\n",
       "    <tr>\n",
       "      <th>Wholesale Club/Supercenter</th>\n",
       "      <td>1</td>\n",
       "    </tr>\n",
       "    <tr>\n",
       "      <th>Convention Center</th>\n",
       "      <td>1</td>\n",
       "    </tr>\n",
       "    <tr>\n",
       "      <th>Residential Care Facility</th>\n",
       "      <td>1</td>\n",
       "    </tr>\n",
       "    <tr>\n",
       "      <th>Personal Services (Health/Beauty, Dry Cleaning, etc)</th>\n",
       "      <td>1</td>\n",
       "    </tr>\n",
       "  </tbody>\n",
       "</table>\n",
       "</div>"
      ],
      "text/plain": [
       "                                                    LargestPropertyUseType\n",
       "Office                                                                 491\n",
       "Non-Refrigerated Warehouse                                             199\n",
       "K-12 School                                                            137\n",
       "Retail Store                                                            97\n",
       "Other                                                                   95\n",
       "Hotel                                                                   75\n",
       "Worship Facility                                                        69\n",
       "Distribution Center                                                     54\n",
       "Supermarket/Grocery Store                                               41\n",
       "Medical Office                                                          41\n",
       "Other - Recreation                                                      31\n",
       "Parking                                                                 30\n",
       "Self-Storage Facility                                                   27\n",
       "College/University                                                      23\n",
       "Residence Hall/Dormitory                                                22\n",
       "Other - Entertainment/Public Assembly                                   21\n",
       "Senior Care Community                                                   20\n",
       "Laboratory                                                              13\n",
       "Refrigerated Warehouse                                                  12\n",
       "Restaurant                                                              12\n",
       "Multifamily Housing                                                     11\n",
       "Social/Meeting Hall                                                     10\n",
       "Hospital (General Medical & Surgical)                                   10\n",
       "Manufacturing/Industrial Plant                                           8\n",
       "Strip Mall                                                               6\n",
       "Repair Services (Vehicle, Shoe, Locksmith, etc)                          6\n",
       "Other - Services                                                         5\n",
       "Fitness Center/Health Club/Gym                                           5\n",
       "Other - Lodging/Residential                                              5\n",
       "Museum                                                                   5\n",
       "Automobile Dealership                                                    5\n",
       "Other - Mall                                                             4\n",
       "Urgent Care/Clinic/Other Outpatient                                      4\n",
       "Bank Branch                                                              4\n",
       "Library                                                                  4\n",
       "Financial Office                                                         4\n",
       "Other/Specialty Hospital                                                 4\n",
       "Other - Education                                                        4\n",
       "Data Center                                                              3\n",
       "Prison/Incarceration                                                     3\n",
       "Performing Arts                                                          3\n",
       "Adult Education                                                          2\n",
       "Other - Utility                                                          2\n",
       "Lifestyle Center                                                         2\n",
       "Other - Restaurant/Bar                                                   2\n",
       "Pre-school/Daycare                                                       2\n",
       "Other - Public Services                                                  2\n",
       "Fire Station                                                             1\n",
       "Movie Theater                                                            1\n",
       "Police Station                                                           1\n",
       "Courthouse                                                               1\n",
       "Food Service                                                             1\n",
       "Wholesale Club/Supercenter                                               1\n",
       "Convention Center                                                        1\n",
       "Residential Care Facility                                                1\n",
       "Personal Services (Health/Beauty, Dry Cleaning,...                       1"
      ]
     },
     "execution_count": 102,
     "metadata": {},
     "output_type": "execute_result"
    }
   ],
   "source": [
    "LargestPropertyUseType_agg = pd.DataFrame(data['LargestPropertyUseType'].value_counts().sort_values(ascending=False))\n",
    "LargestPropertyUseType_agg"
   ]
  },
  {
   "cell_type": "code",
   "execution_count": 103,
   "id": "aeee1bde",
   "metadata": {},
   "outputs": [
    {
     "data": {
      "text/plain": [
       "Text(0.5, 1.0, 'LargestPropertyUseType repartition')"
      ]
     },
     "execution_count": 103,
     "metadata": {},
     "output_type": "execute_result"
    },
    {
     "data": {
      "image/png": "[encoded data removed]",
      "text/plain": [
       "<Figure size 1296x288 with 1 Axes>"
      ]
     },
     "metadata": {
      "needs_background": "light"
     },
     "output_type": "display_data"
    }
   ],
   "source": [
    "fig, ax = plt.subplots(figsize = (18,4))\n",
    "ax.bar(LargestPropertyUseType_agg[0:8].index, LargestPropertyUseType_agg['LargestPropertyUseType'][0:8])\n",
    "ax.set_xlabel('LargestPropertyUseType', size=12)\n",
    "ax.set_ylabel('Count', size=12)\n",
    "ax.set_title('LargestPropertyUseType repartition', size=14)"
   ]
  },
  {
   "cell_type": "code",
   "execution_count": 104,
   "id": "ff8d79f0",
   "metadata": {},
   "outputs": [],
   "source": [
    "data = data.drop('LargestPropertyUseType', axis=1)"
   ]
  },
  {
   "cell_type": "code",
   "execution_count": 105,
   "id": "bd2deded",
   "metadata": {},
   "outputs": [
    {
     "data": {
      "text/plain": [
       "(1650, 47)"
      ]
     },
     "execution_count": 105,
     "metadata": {},
     "output_type": "execute_result"
    }
   ],
   "source": [
    "data.shape"
   ]
  },
  {
   "cell_type": "markdown",
   "id": "991a3460",
   "metadata": {},
   "source": [
    "## SecondLargestPropertyUseType\n",
    "\n",
    "*The second largest use of a property (e.g. office, retail store) by GFA.*\n",
    "\n",
    "* Full useless, dropping"
   ]
  },
  {
   "cell_type": "code",
   "execution_count": 106,
   "id": "005711a0",
   "metadata": {},
   "outputs": [
    {
     "data": {
      "text/plain": [
       "47"
      ]
     },
     "execution_count": 106,
     "metadata": {},
     "output_type": "execute_result"
    }
   ],
   "source": [
    "data['SecondLargestPropertyUseType'].nunique()"
   ]
  },
  {
   "cell_type": "code",
   "execution_count": 107,
   "id": "9231c951",
   "metadata": {},
   "outputs": [
    {
     "data": {
      "text/plain": [
       "array([nan, 'Parking', 'Office', 'Restaurant', 'K-12 School',\n",
       "       'Laboratory', 'Refrigerated Warehouse',\n",
       "       'Non-Refrigerated Warehouse', 'Other - Education',\n",
       "       'Vocational School', 'Retail Store',\n",
       "       'Personal Services (Health/Beauty, Dry Cleaning, etc)',\n",
       "       'Other - Entertainment/Public Assembly', 'Data Center',\n",
       "       'Swimming Pool', 'Other', 'Courthouse', 'Residence Hall/Dormitory',\n",
       "       'Distribution Center', 'Self-Storage Facility', 'Other - Services',\n",
       "       'Movie Theater', 'Supermarket/Grocery Store', 'Medical Office',\n",
       "       'Other - Recreation', 'Convenience Store without Gas Station',\n",
       "       'Performing Arts', 'College/University', 'Other - Restaurant/Bar',\n",
       "       'Adult Education', 'Enclosed Mall', 'Multifamily Housing',\n",
       "       'Bar/Nightclub', 'Financial Office',\n",
       "       'Repair Services (Vehicle, Shoe, Locksmith, etc)',\n",
       "       'Manufacturing/Industrial Plant', 'Other - Lodging/Residential',\n",
       "       'Bank Branch', 'Fitness Center/Health Club/Gym', 'Hotel',\n",
       "       'Worship Facility', 'Food Sales', 'Other - Public Services',\n",
       "       'Food Service', 'Pre-school/Daycare', 'Social/Meeting Hall',\n",
       "       'Hospital (General Medical & Surgical)', 'Automobile Dealership'],\n",
       "      dtype=object)"
      ]
     },
     "execution_count": 107,
     "metadata": {},
     "output_type": "execute_result"
    }
   ],
   "source": [
    "data['SecondLargestPropertyUseType'].unique()"
   ]
  },
  {
   "cell_type": "code",
   "execution_count": 108,
   "id": "dfaa736f",
   "metadata": {},
   "outputs": [],
   "source": [
    "data = data.drop('SecondLargestPropertyUseType', axis=1)"
   ]
  },
  {
   "cell_type": "code",
   "execution_count": 109,
   "id": "63165f9c",
   "metadata": {},
   "outputs": [
    {
     "data": {
      "text/plain": [
       "(1650, 46)"
      ]
     },
     "execution_count": 109,
     "metadata": {},
     "output_type": "execute_result"
    }
   ],
   "source": [
    "data.shape"
   ]
  },
  {
   "cell_type": "markdown",
   "id": "cd61185f",
   "metadata": {},
   "source": [
    "## ThirdLargestPropertyUseType\n",
    "\n",
    "*The third largest use of a property (e.g. office, retail store) by GFA.*\n",
    "\n",
    "* Full useless, dropping"
   ]
  },
  {
   "cell_type": "code",
   "execution_count": 110,
   "id": "afb602a4",
   "metadata": {},
   "outputs": [
    {
     "data": {
      "text/plain": [
       "39"
      ]
     },
     "execution_count": 110,
     "metadata": {},
     "output_type": "execute_result"
    }
   ],
   "source": [
    "data['ThirdLargestPropertyUseType'].nunique()"
   ]
  },
  {
   "cell_type": "code",
   "execution_count": 111,
   "id": "3f92d6f1",
   "metadata": {},
   "outputs": [
    {
     "data": {
      "text/plain": [
       "array([nan, 'Restaurant', 'Swimming Pool', 'Data Center', 'Office',\n",
       "       'Retail Store', 'Other - Entertainment/Public Assembly',\n",
       "       'Non-Refrigerated Warehouse', 'Other', 'Distribution Center',\n",
       "       'Food Service', 'Other - Services', 'Medical Office', 'Parking',\n",
       "       'Other - Utility', 'K-12 School', 'Fitness Center/Health Club/Gym',\n",
       "       'Social/Meeting Hall', 'Pre-school/Daycare',\n",
       "       'Convenience Store without Gas Station', 'Financial Office',\n",
       "       'Other - Restaurant/Bar', 'Other - Education',\n",
       "       'Multifamily Housing', 'Laboratory', 'Bank Branch', 'Hotel',\n",
       "       'Personal Services (Health/Beauty, Dry Cleaning, etc)',\n",
       "       'Other - Recreation', 'Self-Storage Facility',\n",
       "       'Other - Technology/Science', 'Refrigerated Warehouse',\n",
       "       'Bar/Nightclub', 'Manufacturing/Industrial Plant',\n",
       "       'Other/Specialty Hospital', 'Fast Food Restaurant',\n",
       "       'Worship Facility', 'Supermarket/Grocery Store', 'Strip Mall',\n",
       "       'Vocational School'], dtype=object)"
      ]
     },
     "execution_count": 111,
     "metadata": {},
     "output_type": "execute_result"
    }
   ],
   "source": [
    "data['ThirdLargestPropertyUseType'].unique()"
   ]
  },
  {
   "cell_type": "code",
   "execution_count": 112,
   "id": "bc51730f",
   "metadata": {},
   "outputs": [],
   "source": [
    "data = data.drop('ThirdLargestPropertyUseType', axis=1)"
   ]
  },
  {
   "cell_type": "code",
   "execution_count": 113,
   "id": "7885f1d5",
   "metadata": {},
   "outputs": [
    {
     "data": {
      "text/plain": [
       "(1650, 45)"
      ]
     },
     "execution_count": 113,
     "metadata": {},
     "output_type": "execute_result"
    }
   ],
   "source": [
    "data.shape"
   ]
  },
  {
   "cell_type": "markdown",
   "id": "84bc4436",
   "metadata": {},
   "source": [
    "## DefaultData\n",
    "\n",
    "*The property used default data for at least one property characteristic.*\n",
    "\n",
    "* Ignoring for now, so dropping"
   ]
  },
  {
   "cell_type": "code",
   "execution_count": 114,
   "id": "12112044",
   "metadata": {},
   "outputs": [
    {
     "data": {
      "text/plain": [
       "2"
      ]
     },
     "execution_count": 114,
     "metadata": {},
     "output_type": "execute_result"
    }
   ],
   "source": [
    "data['DefaultData'].nunique()"
   ]
  },
  {
   "cell_type": "code",
   "execution_count": 115,
   "id": "a2fe81ba",
   "metadata": {},
   "outputs": [
    {
     "data": {
      "text/plain": [
       "array([False,  True])"
      ]
     },
     "execution_count": 115,
     "metadata": {},
     "output_type": "execute_result"
    }
   ],
   "source": [
    "data['DefaultData'].unique()"
   ]
  },
  {
   "cell_type": "code",
   "execution_count": 116,
   "id": "5cac74cf",
   "metadata": {},
   "outputs": [
    {
     "data": {
      "text/plain": [
       "False    1564\n",
       "True       86\n",
       "Name: DefaultData, dtype: int64"
      ]
     },
     "execution_count": 116,
     "metadata": {},
     "output_type": "execute_result"
    }
   ],
   "source": [
    "data['DefaultData'].value_counts()"
   ]
  },
  {
   "cell_type": "code",
   "execution_count": 117,
   "id": "8b82ba76",
   "metadata": {},
   "outputs": [],
   "source": [
    "data = data.drop('DefaultData', axis=1)"
   ]
  },
  {
   "cell_type": "code",
   "execution_count": 118,
   "id": "7abfbf7f",
   "metadata": {},
   "outputs": [
    {
     "data": {
      "text/plain": [
       "(1650, 44)"
      ]
     },
     "execution_count": 118,
     "metadata": {},
     "output_type": "execute_result"
    }
   ],
   "source": [
    "data.shape"
   ]
  },
  {
   "cell_type": "markdown",
   "id": "762dc141",
   "metadata": {},
   "source": [
    "## ComplianceStatus\n",
    "\n",
    "*Whether a property has met energy benchmarking requirements for the current reporting year.*\n",
    "\n",
    "* Ignoring for now"
   ]
  },
  {
   "cell_type": "code",
   "execution_count": 119,
   "id": "51e9b526",
   "metadata": {},
   "outputs": [
    {
     "data": {
      "text/plain": [
       "4"
      ]
     },
     "execution_count": 119,
     "metadata": {},
     "output_type": "execute_result"
    }
   ],
   "source": [
    "data['ComplianceStatus'].nunique()"
   ]
  },
  {
   "cell_type": "code",
   "execution_count": 120,
   "id": "65eb4ec7",
   "metadata": {},
   "outputs": [
    {
     "data": {
      "text/plain": [
       "array(['Compliant', 'Error - Correct Default Data', 'Missing Data',\n",
       "       'Non-Compliant'], dtype=object)"
      ]
     },
     "execution_count": 120,
     "metadata": {},
     "output_type": "execute_result"
    }
   ],
   "source": [
    "data['ComplianceStatus'].unique()"
   ]
  },
  {
   "cell_type": "code",
   "execution_count": 121,
   "id": "64df1bbc",
   "metadata": {},
   "outputs": [
    {
     "data": {
      "text/plain": [
       "Compliant                       1547\n",
       "Error - Correct Default Data      86\n",
       "Missing Data                      14\n",
       "Non-Compliant                      3\n",
       "Name: ComplianceStatus, dtype: int64"
      ]
     },
     "execution_count": 121,
     "metadata": {},
     "output_type": "execute_result"
    }
   ],
   "source": [
    "data['ComplianceStatus'].value_counts()"
   ]
  },
  {
   "cell_type": "code",
   "execution_count": 122,
   "id": "18f7961f",
   "metadata": {},
   "outputs": [],
   "source": [
    "data = data.drop('ComplianceStatus', axis=1)"
   ]
  },
  {
   "cell_type": "code",
   "execution_count": 123,
   "id": "301040a3",
   "metadata": {},
   "outputs": [
    {
     "data": {
      "text/plain": [
       "(1650, 43)"
      ]
     },
     "execution_count": 123,
     "metadata": {},
     "output_type": "execute_result"
    }
   ],
   "source": [
    "data.shape"
   ]
  },
  {
   "cell_type": "markdown",
   "id": "f7ffcfff",
   "metadata": {},
   "source": [
    "<a name='Quantitative_features'></a>\n",
    "# Quantitative features"
   ]
  },
  {
   "cell_type": "markdown",
   "id": "6d192fec",
   "metadata": {},
   "source": [
    "<a name='Latitude_&_Longitude'></a>\n",
    "## Latitude & Longitude\n",
    "\n",
    "*Property latitude.*\n",
    "\n",
    "*Property longitude.*\n",
    "\n",
    "* What to do with coordinates?\n",
    "* Maybe use later"
   ]
  },
  {
   "cell_type": "code",
   "execution_count": 124,
   "id": "499e4fea",
   "metadata": {},
   "outputs": [],
   "source": [
    "data = data.drop(['Latitude',\n",
    "                  'Longitude'], axis=1)"
   ]
  },
  {
   "cell_type": "code",
   "execution_count": 125,
   "id": "5b307892",
   "metadata": {},
   "outputs": [
    {
     "data": {
      "text/plain": [
       "(1650, 41)"
      ]
     },
     "execution_count": 125,
     "metadata": {},
     "output_type": "execute_result"
    }
   ],
   "source": [
    "data.shape"
   ]
  },
  {
   "cell_type": "markdown",
   "id": "b7a2dd73",
   "metadata": {},
   "source": [
    "<a name='Correlation_matrix'></a>\n",
    "## *Correlation Matrix*"
   ]
  },
  {
   "cell_type": "code",
   "execution_count": 126,
   "id": "2e19e9aa",
   "metadata": {},
   "outputs": [],
   "source": [
    "numeric_cols = data.select_dtypes(include=['int64', 'float64']).columns.tolist()"
   ]
  },
  {
   "cell_type": "code",
   "execution_count": 127,
   "id": "af91d68c",
   "metadata": {},
   "outputs": [
    {
     "data": {
      "text/plain": [
       "['OSEBuildingID',\n",
       " 'NumberofBuildings',\n",
       " 'NumberofFloors',\n",
       " 'PropertyGFATotal',\n",
       " 'PropertyGFAParking',\n",
       " 'PropertyGFABuilding(s)',\n",
       " 'LargestPropertyUseTypeGFA',\n",
       " 'SecondLargestPropertyUseTypeGFA',\n",
       " 'ThirdLargestPropertyUseTypeGFA',\n",
       " 'ENERGYSTARScore',\n",
       " 'SiteEUI(kBtu/sf)',\n",
       " 'SiteEUIWN(kBtu/sf)',\n",
       " 'SourceEUI(kBtu/sf)',\n",
       " 'SourceEUIWN(kBtu/sf)',\n",
       " 'SiteEnergyUse(kBtu)',\n",
       " 'SiteEnergyUseWN(kBtu)',\n",
       " 'SteamUse(kBtu)',\n",
       " 'Electricity(kWh)',\n",
       " 'Electricity(kBtu)',\n",
       " 'NaturalGas(therms)',\n",
       " 'NaturalGas(kBtu)',\n",
       " 'TotalGHGEmissions',\n",
       " 'GHGEmissionsIntensity',\n",
       " 'Building_age']"
      ]
     },
     "execution_count": 127,
     "metadata": {},
     "output_type": "execute_result"
    }
   ],
   "source": [
    "numeric_cols"
   ]
  },
  {
   "cell_type": "code",
   "execution_count": 128,
   "id": "fd5142ba",
   "metadata": {},
   "outputs": [],
   "source": [
    "corrMatrix = data[numeric_cols].corr(method='spearman')"
   ]
  },
  {
   "cell_type": "code",
   "execution_count": 129,
   "id": "5ebacb75",
   "metadata": {},
   "outputs": [
    {
     "data": {
      "text/html": [
       "<style  type=\"text/css\" >\n",
       "#T_8c851_row3_col5,#T_8c851_row3_col6,#T_8c851_row5_col3,#T_8c851_row5_col6,#T_8c851_row6_col3,#T_8c851_row6_col5,#T_8c851_row10_col11,#T_8c851_row10_col12,#T_8c851_row10_col13,#T_8c851_row11_col10,#T_8c851_row11_col12,#T_8c851_row11_col13,#T_8c851_row12_col10,#T_8c851_row12_col11,#T_8c851_row12_col13,#T_8c851_row13_col10,#T_8c851_row13_col11,#T_8c851_row13_col12,#T_8c851_row14_col15,#T_8c851_row14_col17,#T_8c851_row14_col18,#T_8c851_row15_col14,#T_8c851_row17_col14,#T_8c851_row18_col14{\n",
       "            background-color :  green;\n",
       "        }#T_8c851_row3_col7,#T_8c851_row3_col14,#T_8c851_row3_col15,#T_8c851_row3_col17,#T_8c851_row3_col18,#T_8c851_row5_col14,#T_8c851_row5_col15,#T_8c851_row5_col17,#T_8c851_row5_col18,#T_8c851_row6_col14,#T_8c851_row6_col15,#T_8c851_row6_col17,#T_8c851_row6_col18,#T_8c851_row7_col3,#T_8c851_row10_col14,#T_8c851_row10_col15,#T_8c851_row10_col21,#T_8c851_row10_col22,#T_8c851_row11_col14,#T_8c851_row11_col15,#T_8c851_row11_col21,#T_8c851_row11_col22,#T_8c851_row12_col14,#T_8c851_row12_col15,#T_8c851_row12_col17,#T_8c851_row12_col18,#T_8c851_row13_col14,#T_8c851_row13_col15,#T_8c851_row13_col17,#T_8c851_row13_col18,#T_8c851_row14_col3,#T_8c851_row14_col5,#T_8c851_row14_col6,#T_8c851_row14_col10,#T_8c851_row14_col11,#T_8c851_row14_col12,#T_8c851_row14_col13,#T_8c851_row14_col21,#T_8c851_row15_col3,#T_8c851_row15_col5,#T_8c851_row15_col6,#T_8c851_row15_col10,#T_8c851_row15_col11,#T_8c851_row15_col12,#T_8c851_row15_col13,#T_8c851_row15_col17,#T_8c851_row15_col18,#T_8c851_row15_col21,#T_8c851_row17_col3,#T_8c851_row17_col5,#T_8c851_row17_col6,#T_8c851_row17_col12,#T_8c851_row17_col13,#T_8c851_row17_col15,#T_8c851_row18_col3,#T_8c851_row18_col5,#T_8c851_row18_col6,#T_8c851_row18_col12,#T_8c851_row18_col13,#T_8c851_row18_col15,#T_8c851_row19_col21,#T_8c851_row19_col22,#T_8c851_row20_col21,#T_8c851_row20_col22,#T_8c851_row21_col10,#T_8c851_row21_col11,#T_8c851_row21_col14,#T_8c851_row21_col15,#T_8c851_row21_col19,#T_8c851_row21_col20,#T_8c851_row21_col22,#T_8c851_row22_col10,#T_8c851_row22_col11,#T_8c851_row22_col19,#T_8c851_row22_col20,#T_8c851_row22_col21{\n",
       "            background-color :  lightgreen;\n",
       "        }</style><table id=\"T_8c851_\" ><thead>    <tr>        <th class=\"blank level0\" ></th>        <th class=\"col_heading level0 col0\" >OSEBuildingID</th>        <th class=\"col_heading level0 col1\" >NumberofBuildings</th>        <th class=\"col_heading level0 col2\" >NumberofFloors</th>        <th class=\"col_heading level0 col3\" >PropertyGFATotal</th>        <th class=\"col_heading level0 col4\" >PropertyGFAParking</th>        <th class=\"col_heading level0 col5\" >PropertyGFABuilding(s)</th>        <th class=\"col_heading level0 col6\" >LargestPropertyUseTypeGFA</th>        <th class=\"col_heading level0 col7\" >SecondLargestPropertyUseTypeGFA</th>        <th class=\"col_heading level0 col8\" >ThirdLargestPropertyUseTypeGFA</th>        <th class=\"col_heading level0 col9\" >ENERGYSTARScore</th>        <th class=\"col_heading level0 col10\" >SiteEUI(kBtu/sf)</th>        <th class=\"col_heading level0 col11\" >SiteEUIWN(kBtu/sf)</th>        <th class=\"col_heading level0 col12\" >SourceEUI(kBtu/sf)</th>        <th class=\"col_heading level0 col13\" >SourceEUIWN(kBtu/sf)</th>        <th class=\"col_heading level0 col14\" >SiteEnergyUse(kBtu)</th>        <th class=\"col_heading level0 col15\" >SiteEnergyUseWN(kBtu)</th>        <th class=\"col_heading level0 col16\" >SteamUse(kBtu)</th>        <th class=\"col_heading level0 col17\" >Electricity(kWh)</th>        <th class=\"col_heading level0 col18\" >Electricity(kBtu)</th>        <th class=\"col_heading level0 col19\" >NaturalGas(therms)</th>        <th class=\"col_heading level0 col20\" >NaturalGas(kBtu)</th>        <th class=\"col_heading level0 col21\" >TotalGHGEmissions</th>        <th class=\"col_heading level0 col22\" >GHGEmissionsIntensity</th>        <th class=\"col_heading level0 col23\" >Building_age</th>    </tr></thead><tbody>\n",
       "                <tr>\n",
       "                        <th id=\"T_8c851_level0_row0\" class=\"row_heading level0 row0\" >OSEBuildingID</th>\n",
       "                        <td id=\"T_8c851_row0_col0\" class=\"data row0 col0\" >1.000000</td>\n",
       "                        <td id=\"T_8c851_row0_col1\" class=\"data row0 col1\" >-0.026965</td>\n",
       "                        <td id=\"T_8c851_row0_col2\" class=\"data row0 col2\" >-0.327917</td>\n",
       "                        <td id=\"T_8c851_row0_col3\" class=\"data row0 col3\" >-0.548789</td>\n",
       "                        <td id=\"T_8c851_row0_col4\" class=\"data row0 col4\" >-0.248373</td>\n",
       "                        <td id=\"T_8c851_row0_col5\" class=\"data row0 col5\" >-0.549386</td>\n",
       "                        <td id=\"T_8c851_row0_col6\" class=\"data row0 col6\" >-0.521739</td>\n",
       "                        <td id=\"T_8c851_row0_col7\" class=\"data row0 col7\" >-0.347537</td>\n",
       "                        <td id=\"T_8c851_row0_col8\" class=\"data row0 col8\" >-0.311233</td>\n",
       "                        <td id=\"T_8c851_row0_col9\" class=\"data row0 col9\" >-0.049173</td>\n",
       "                        <td id=\"T_8c851_row0_col10\" class=\"data row0 col10\" >-0.068619</td>\n",
       "                        <td id=\"T_8c851_row0_col11\" class=\"data row0 col11\" >-0.058439</td>\n",
       "                        <td id=\"T_8c851_row0_col12\" class=\"data row0 col12\" >-0.100693</td>\n",
       "                        <td id=\"T_8c851_row0_col13\" class=\"data row0 col13\" >-0.096575</td>\n",
       "                        <td id=\"T_8c851_row0_col14\" class=\"data row0 col14\" >-0.385126</td>\n",
       "                        <td id=\"T_8c851_row0_col15\" class=\"data row0 col15\" >-0.384768</td>\n",
       "                        <td id=\"T_8c851_row0_col16\" class=\"data row0 col16\" >-0.178454</td>\n",
       "                        <td id=\"T_8c851_row0_col17\" class=\"data row0 col17\" >-0.388334</td>\n",
       "                        <td id=\"T_8c851_row0_col18\" class=\"data row0 col18\" >-0.388334</td>\n",
       "                        <td id=\"T_8c851_row0_col19\" class=\"data row0 col19\" >-0.086530</td>\n",
       "                        <td id=\"T_8c851_row0_col20\" class=\"data row0 col20\" >-0.086530</td>\n",
       "                        <td id=\"T_8c851_row0_col21\" class=\"data row0 col21\" >-0.312338</td>\n",
       "                        <td id=\"T_8c851_row0_col22\" class=\"data row0 col22\" >0.024192</td>\n",
       "                        <td id=\"T_8c851_row0_col23\" class=\"data row0 col23\" >0.043778</td>\n",
       "            </tr>\n",
       "            <tr>\n",
       "                        <th id=\"T_8c851_level0_row1\" class=\"row_heading level0 row1\" >NumberofBuildings</th>\n",
       "                        <td id=\"T_8c851_row1_col0\" class=\"data row1 col0\" >-0.026965</td>\n",
       "                        <td id=\"T_8c851_row1_col1\" class=\"data row1 col1\" >1.000000</td>\n",
       "                        <td id=\"T_8c851_row1_col2\" class=\"data row1 col2\" >-0.038056</td>\n",
       "                        <td id=\"T_8c851_row1_col3\" class=\"data row1 col3\" >0.059937</td>\n",
       "                        <td id=\"T_8c851_row1_col4\" class=\"data row1 col4\" >-0.018305</td>\n",
       "                        <td id=\"T_8c851_row1_col5\" class=\"data row1 col5\" >0.059229</td>\n",
       "                        <td id=\"T_8c851_row1_col6\" class=\"data row1 col6\" >0.081373</td>\n",
       "                        <td id=\"T_8c851_row1_col7\" class=\"data row1 col7\" >0.003972</td>\n",
       "                        <td id=\"T_8c851_row1_col8\" class=\"data row1 col8\" >0.056851</td>\n",
       "                        <td id=\"T_8c851_row1_col9\" class=\"data row1 col9\" >0.008414</td>\n",
       "                        <td id=\"T_8c851_row1_col10\" class=\"data row1 col10\" >0.021826</td>\n",
       "                        <td id=\"T_8c851_row1_col11\" class=\"data row1 col11\" >0.015806</td>\n",
       "                        <td id=\"T_8c851_row1_col12\" class=\"data row1 col12\" >0.006571</td>\n",
       "                        <td id=\"T_8c851_row1_col13\" class=\"data row1 col13\" >0.000086</td>\n",
       "                        <td id=\"T_8c851_row1_col14\" class=\"data row1 col14\" >0.056456</td>\n",
       "                        <td id=\"T_8c851_row1_col15\" class=\"data row1 col15\" >0.048874</td>\n",
       "                        <td id=\"T_8c851_row1_col16\" class=\"data row1 col16\" >0.031570</td>\n",
       "                        <td id=\"T_8c851_row1_col17\" class=\"data row1 col17\" >0.044563</td>\n",
       "                        <td id=\"T_8c851_row1_col18\" class=\"data row1 col18\" >0.044563</td>\n",
       "                        <td id=\"T_8c851_row1_col19\" class=\"data row1 col19\" >0.041687</td>\n",
       "                        <td id=\"T_8c851_row1_col20\" class=\"data row1 col20\" >0.041687</td>\n",
       "                        <td id=\"T_8c851_row1_col21\" class=\"data row1 col21\" >0.064029</td>\n",
       "                        <td id=\"T_8c851_row1_col22\" class=\"data row1 col22\" >0.045563</td>\n",
       "                        <td id=\"T_8c851_row1_col23\" class=\"data row1 col23\" >-0.040476</td>\n",
       "            </tr>\n",
       "            <tr>\n",
       "                        <th id=\"T_8c851_level0_row2\" class=\"row_heading level0 row2\" >NumberofFloors</th>\n",
       "                        <td id=\"T_8c851_row2_col0\" class=\"data row2 col0\" >-0.327917</td>\n",
       "                        <td id=\"T_8c851_row2_col1\" class=\"data row2 col1\" >-0.038056</td>\n",
       "                        <td id=\"T_8c851_row2_col2\" class=\"data row2 col2\" >1.000000</td>\n",
       "                        <td id=\"T_8c851_row2_col3\" class=\"data row2 col3\" >0.503018</td>\n",
       "                        <td id=\"T_8c851_row2_col4\" class=\"data row2 col4\" >0.440646</td>\n",
       "                        <td id=\"T_8c851_row2_col5\" class=\"data row2 col5\" >0.467881</td>\n",
       "                        <td id=\"T_8c851_row2_col6\" class=\"data row2 col6\" >0.443663</td>\n",
       "                        <td id=\"T_8c851_row2_col7\" class=\"data row2 col7\" >0.513403</td>\n",
       "                        <td id=\"T_8c851_row2_col8\" class=\"data row2 col8\" >0.332553</td>\n",
       "                        <td id=\"T_8c851_row2_col9\" class=\"data row2 col9\" >0.146639</td>\n",
       "                        <td id=\"T_8c851_row2_col10\" class=\"data row2 col10\" >0.178258</td>\n",
       "                        <td id=\"T_8c851_row2_col11\" class=\"data row2 col11\" >0.143131</td>\n",
       "                        <td id=\"T_8c851_row2_col12\" class=\"data row2 col12\" >0.255194</td>\n",
       "                        <td id=\"T_8c851_row2_col13\" class=\"data row2 col13\" >0.236217</td>\n",
       "                        <td id=\"T_8c851_row2_col14\" class=\"data row2 col14\" >0.431603</td>\n",
       "                        <td id=\"T_8c851_row2_col15\" class=\"data row2 col15\" >0.412386</td>\n",
       "                        <td id=\"T_8c851_row2_col16\" class=\"data row2 col16\" >0.257464</td>\n",
       "                        <td id=\"T_8c851_row2_col17\" class=\"data row2 col17\" >0.474318</td>\n",
       "                        <td id=\"T_8c851_row2_col18\" class=\"data row2 col18\" >0.474318</td>\n",
       "                        <td id=\"T_8c851_row2_col19\" class=\"data row2 col19\" >-0.054180</td>\n",
       "                        <td id=\"T_8c851_row2_col20\" class=\"data row2 col20\" >-0.054180</td>\n",
       "                        <td id=\"T_8c851_row2_col21\" class=\"data row2 col21\" >0.279092</td>\n",
       "                        <td id=\"T_8c851_row2_col22\" class=\"data row2 col22\" >-0.078639</td>\n",
       "                        <td id=\"T_8c851_row2_col23\" class=\"data row2 col23\" >-0.086045</td>\n",
       "            </tr>\n",
       "            <tr>\n",
       "                        <th id=\"T_8c851_level0_row3\" class=\"row_heading level0 row3\" >PropertyGFATotal</th>\n",
       "                        <td id=\"T_8c851_row3_col0\" class=\"data row3 col0\" >-0.548789</td>\n",
       "                        <td id=\"T_8c851_row3_col1\" class=\"data row3 col1\" >0.059937</td>\n",
       "                        <td id=\"T_8c851_row3_col2\" class=\"data row3 col2\" >0.503018</td>\n",
       "                        <td id=\"T_8c851_row3_col3\" class=\"data row3 col3\" >1.000000</td>\n",
       "                        <td id=\"T_8c851_row3_col4\" class=\"data row3 col4\" >0.423191</td>\n",
       "                        <td id=\"T_8c851_row3_col5\" class=\"data row3 col5\" >0.978723</td>\n",
       "                        <td id=\"T_8c851_row3_col6\" class=\"data row3 col6\" >0.925008</td>\n",
       "                        <td id=\"T_8c851_row3_col7\" class=\"data row3 col7\" >0.690609</td>\n",
       "                        <td id=\"T_8c851_row3_col8\" class=\"data row3 col8\" >0.543064</td>\n",
       "                        <td id=\"T_8c851_row3_col9\" class=\"data row3 col9\" >0.146562</td>\n",
       "                        <td id=\"T_8c851_row3_col10\" class=\"data row3 col10\" >0.150292</td>\n",
       "                        <td id=\"T_8c851_row3_col11\" class=\"data row3 col11\" >0.116289</td>\n",
       "                        <td id=\"T_8c851_row3_col12\" class=\"data row3 col12\" >0.217313</td>\n",
       "                        <td id=\"T_8c851_row3_col13\" class=\"data row3 col13\" >0.193847</td>\n",
       "                        <td id=\"T_8c851_row3_col14\" class=\"data row3 col14\" >0.721719</td>\n",
       "                        <td id=\"T_8c851_row3_col15\" class=\"data row3 col15\" >0.703447</td>\n",
       "                        <td id=\"T_8c851_row3_col16\" class=\"data row3 col16\" >0.203502</td>\n",
       "                        <td id=\"T_8c851_row3_col17\" class=\"data row3 col17\" >0.732900</td>\n",
       "                        <td id=\"T_8c851_row3_col18\" class=\"data row3 col18\" >0.732900</td>\n",
       "                        <td id=\"T_8c851_row3_col19\" class=\"data row3 col19\" >0.190845</td>\n",
       "                        <td id=\"T_8c851_row3_col20\" class=\"data row3 col20\" >0.190845</td>\n",
       "                        <td id=\"T_8c851_row3_col21\" class=\"data row3 col21\" >0.566355</td>\n",
       "                        <td id=\"T_8c851_row3_col22\" class=\"data row3 col22\" >-0.051232</td>\n",
       "                        <td id=\"T_8c851_row3_col23\" class=\"data row3 col23\" >-0.284414</td>\n",
       "            </tr>\n",
       "            <tr>\n",
       "                        <th id=\"T_8c851_level0_row4\" class=\"row_heading level0 row4\" >PropertyGFAParking</th>\n",
       "                        <td id=\"T_8c851_row4_col0\" class=\"data row4 col0\" >-0.248373</td>\n",
       "                        <td id=\"T_8c851_row4_col1\" class=\"data row4 col1\" >-0.018305</td>\n",
       "                        <td id=\"T_8c851_row4_col2\" class=\"data row4 col2\" >0.440646</td>\n",
       "                        <td id=\"T_8c851_row4_col3\" class=\"data row4 col3\" >0.423191</td>\n",
       "                        <td id=\"T_8c851_row4_col4\" class=\"data row4 col4\" >1.000000</td>\n",
       "                        <td id=\"T_8c851_row4_col5\" class=\"data row4 col5\" >0.282948</td>\n",
       "                        <td id=\"T_8c851_row4_col6\" class=\"data row4 col6\" >0.331473</td>\n",
       "                        <td id=\"T_8c851_row4_col7\" class=\"data row4 col7\" >0.456931</td>\n",
       "                        <td id=\"T_8c851_row4_col8\" class=\"data row4 col8\" >0.251986</td>\n",
       "                        <td id=\"T_8c851_row4_col9\" class=\"data row4 col9\" >0.036894</td>\n",
       "                        <td id=\"T_8c851_row4_col10\" class=\"data row4 col10\" >0.198991</td>\n",
       "                        <td id=\"T_8c851_row4_col11\" class=\"data row4 col11\" >0.173782</td>\n",
       "                        <td id=\"T_8c851_row4_col12\" class=\"data row4 col12\" >0.275825</td>\n",
       "                        <td id=\"T_8c851_row4_col13\" class=\"data row4 col13\" >0.260123</td>\n",
       "                        <td id=\"T_8c851_row4_col14\" class=\"data row4 col14\" >0.353380</td>\n",
       "                        <td id=\"T_8c851_row4_col15\" class=\"data row4 col15\" >0.337867</td>\n",
       "                        <td id=\"T_8c851_row4_col16\" class=\"data row4 col16\" >0.041241</td>\n",
       "                        <td id=\"T_8c851_row4_col17\" class=\"data row4 col17\" >0.396785</td>\n",
       "                        <td id=\"T_8c851_row4_col18\" class=\"data row4 col18\" >0.396785</td>\n",
       "                        <td id=\"T_8c851_row4_col19\" class=\"data row4 col19\" >-0.029278</td>\n",
       "                        <td id=\"T_8c851_row4_col20\" class=\"data row4 col20\" >-0.029278</td>\n",
       "                        <td id=\"T_8c851_row4_col21\" class=\"data row4 col21\" >0.198377</td>\n",
       "                        <td id=\"T_8c851_row4_col22\" class=\"data row4 col22\" >-0.138292</td>\n",
       "                        <td id=\"T_8c851_row4_col23\" class=\"data row4 col23\" >-0.362132</td>\n",
       "            </tr>\n",
       "            <tr>\n",
       "                        <th id=\"T_8c851_level0_row5\" class=\"row_heading level0 row5\" >PropertyGFABuilding(s)</th>\n",
       "                        <td id=\"T_8c851_row5_col0\" class=\"data row5 col0\" >-0.549386</td>\n",
       "                        <td id=\"T_8c851_row5_col1\" class=\"data row5 col1\" >0.059229</td>\n",
       "                        <td id=\"T_8c851_row5_col2\" class=\"data row5 col2\" >0.467881</td>\n",
       "                        <td id=\"T_8c851_row5_col3\" class=\"data row5 col3\" >0.978723</td>\n",
       "                        <td id=\"T_8c851_row5_col4\" class=\"data row5 col4\" >0.282948</td>\n",
       "                        <td id=\"T_8c851_row5_col5\" class=\"data row5 col5\" >1.000000</td>\n",
       "                        <td id=\"T_8c851_row5_col6\" class=\"data row5 col6\" >0.922499</td>\n",
       "                        <td id=\"T_8c851_row5_col7\" class=\"data row5 col7\" >0.649883</td>\n",
       "                        <td id=\"T_8c851_row5_col8\" class=\"data row5 col8\" >0.533255</td>\n",
       "                        <td id=\"T_8c851_row5_col9\" class=\"data row5 col9\" >0.153037</td>\n",
       "                        <td id=\"T_8c851_row5_col10\" class=\"data row5 col10\" >0.116895</td>\n",
       "                        <td id=\"T_8c851_row5_col11\" class=\"data row5 col11\" >0.084704</td>\n",
       "                        <td id=\"T_8c851_row5_col12\" class=\"data row5 col12\" >0.174645</td>\n",
       "                        <td id=\"T_8c851_row5_col13\" class=\"data row5 col13\" >0.152688</td>\n",
       "                        <td id=\"T_8c851_row5_col14\" class=\"data row5 col14\" >0.703057</td>\n",
       "                        <td id=\"T_8c851_row5_col15\" class=\"data row5 col15\" >0.686206</td>\n",
       "                        <td id=\"T_8c851_row5_col16\" class=\"data row5 col16\" >0.213315</td>\n",
       "                        <td id=\"T_8c851_row5_col17\" class=\"data row5 col17\" >0.706058</td>\n",
       "                        <td id=\"T_8c851_row5_col18\" class=\"data row5 col18\" >0.706058</td>\n",
       "                        <td id=\"T_8c851_row5_col19\" class=\"data row5 col19\" >0.204173</td>\n",
       "                        <td id=\"T_8c851_row5_col20\" class=\"data row5 col20\" >0.204173</td>\n",
       "                        <td id=\"T_8c851_row5_col21\" class=\"data row5 col21\" >0.567456</td>\n",
       "                        <td id=\"T_8c851_row5_col22\" class=\"data row5 col22\" >-0.031138</td>\n",
       "                        <td id=\"T_8c851_row5_col23\" class=\"data row5 col23\" >-0.231129</td>\n",
       "            </tr>\n",
       "            <tr>\n",
       "                        <th id=\"T_8c851_level0_row6\" class=\"row_heading level0 row6\" >LargestPropertyUseTypeGFA</th>\n",
       "                        <td id=\"T_8c851_row6_col0\" class=\"data row6 col0\" >-0.521739</td>\n",
       "                        <td id=\"T_8c851_row6_col1\" class=\"data row6 col1\" >0.081373</td>\n",
       "                        <td id=\"T_8c851_row6_col2\" class=\"data row6 col2\" >0.443663</td>\n",
       "                        <td id=\"T_8c851_row6_col3\" class=\"data row6 col3\" >0.925008</td>\n",
       "                        <td id=\"T_8c851_row6_col4\" class=\"data row6 col4\" >0.331473</td>\n",
       "                        <td id=\"T_8c851_row6_col5\" class=\"data row6 col5\" >0.922499</td>\n",
       "                        <td id=\"T_8c851_row6_col6\" class=\"data row6 col6\" >1.000000</td>\n",
       "                        <td id=\"T_8c851_row6_col7\" class=\"data row6 col7\" >0.557995</td>\n",
       "                        <td id=\"T_8c851_row6_col8\" class=\"data row6 col8\" >0.429341</td>\n",
       "                        <td id=\"T_8c851_row6_col9\" class=\"data row6 col9\" >0.177424</td>\n",
       "                        <td id=\"T_8c851_row6_col10\" class=\"data row6 col10\" >0.087161</td>\n",
       "                        <td id=\"T_8c851_row6_col11\" class=\"data row6 col11\" >0.056370</td>\n",
       "                        <td id=\"T_8c851_row6_col12\" class=\"data row6 col12\" >0.143464</td>\n",
       "                        <td id=\"T_8c851_row6_col13\" class=\"data row6 col13\" >0.121003</td>\n",
       "                        <td id=\"T_8c851_row6_col14\" class=\"data row6 col14\" >0.680116</td>\n",
       "                        <td id=\"T_8c851_row6_col15\" class=\"data row6 col15\" >0.663523</td>\n",
       "                        <td id=\"T_8c851_row6_col16\" class=\"data row6 col16\" >0.197494</td>\n",
       "                        <td id=\"T_8c851_row6_col17\" class=\"data row6 col17\" >0.682018</td>\n",
       "                        <td id=\"T_8c851_row6_col18\" class=\"data row6 col18\" >0.682018</td>\n",
       "                        <td id=\"T_8c851_row6_col19\" class=\"data row6 col19\" >0.194170</td>\n",
       "                        <td id=\"T_8c851_row6_col20\" class=\"data row6 col20\" >0.194170</td>\n",
       "                        <td id=\"T_8c851_row6_col21\" class=\"data row6 col21\" >0.550191</td>\n",
       "                        <td id=\"T_8c851_row6_col22\" class=\"data row6 col22\" >-0.031289</td>\n",
       "                        <td id=\"T_8c851_row6_col23\" class=\"data row6 col23\" >-0.289120</td>\n",
       "            </tr>\n",
       "            <tr>\n",
       "                        <th id=\"T_8c851_level0_row7\" class=\"row_heading level0 row7\" >SecondLargestPropertyUseTypeGFA</th>\n",
       "                        <td id=\"T_8c851_row7_col0\" class=\"data row7 col0\" >-0.347537</td>\n",
       "                        <td id=\"T_8c851_row7_col1\" class=\"data row7 col1\" >0.003972</td>\n",
       "                        <td id=\"T_8c851_row7_col2\" class=\"data row7 col2\" >0.513403</td>\n",
       "                        <td id=\"T_8c851_row7_col3\" class=\"data row7 col3\" >0.690609</td>\n",
       "                        <td id=\"T_8c851_row7_col4\" class=\"data row7 col4\" >0.456931</td>\n",
       "                        <td id=\"T_8c851_row7_col5\" class=\"data row7 col5\" >0.649883</td>\n",
       "                        <td id=\"T_8c851_row7_col6\" class=\"data row7 col6\" >0.557995</td>\n",
       "                        <td id=\"T_8c851_row7_col7\" class=\"data row7 col7\" >1.000000</td>\n",
       "                        <td id=\"T_8c851_row7_col8\" class=\"data row7 col8\" >0.624520</td>\n",
       "                        <td id=\"T_8c851_row7_col9\" class=\"data row7 col9\" >0.199481</td>\n",
       "                        <td id=\"T_8c851_row7_col10\" class=\"data row7 col10\" >0.075736</td>\n",
       "                        <td id=\"T_8c851_row7_col11\" class=\"data row7 col11\" >0.043759</td>\n",
       "                        <td id=\"T_8c851_row7_col12\" class=\"data row7 col12\" >0.139888</td>\n",
       "                        <td id=\"T_8c851_row7_col13\" class=\"data row7 col13\" >0.122287</td>\n",
       "                        <td id=\"T_8c851_row7_col14\" class=\"data row7 col14\" >0.535346</td>\n",
       "                        <td id=\"T_8c851_row7_col15\" class=\"data row7 col15\" >0.520102</td>\n",
       "                        <td id=\"T_8c851_row7_col16\" class=\"data row7 col16\" >0.136674</td>\n",
       "                        <td id=\"T_8c851_row7_col17\" class=\"data row7 col17\" >0.559876</td>\n",
       "                        <td id=\"T_8c851_row7_col18\" class=\"data row7 col18\" >0.559876</td>\n",
       "                        <td id=\"T_8c851_row7_col19\" class=\"data row7 col19\" >0.054644</td>\n",
       "                        <td id=\"T_8c851_row7_col20\" class=\"data row7 col20\" >0.054644</td>\n",
       "                        <td id=\"T_8c851_row7_col21\" class=\"data row7 col21\" >0.389040</td>\n",
       "                        <td id=\"T_8c851_row7_col22\" class=\"data row7 col22\" >-0.155612</td>\n",
       "                        <td id=\"T_8c851_row7_col23\" class=\"data row7 col23\" >-0.281213</td>\n",
       "            </tr>\n",
       "            <tr>\n",
       "                        <th id=\"T_8c851_level0_row8\" class=\"row_heading level0 row8\" >ThirdLargestPropertyUseTypeGFA</th>\n",
       "                        <td id=\"T_8c851_row8_col0\" class=\"data row8 col0\" >-0.311233</td>\n",
       "                        <td id=\"T_8c851_row8_col1\" class=\"data row8 col1\" >0.056851</td>\n",
       "                        <td id=\"T_8c851_row8_col2\" class=\"data row8 col2\" >0.332553</td>\n",
       "                        <td id=\"T_8c851_row8_col3\" class=\"data row8 col3\" >0.543064</td>\n",
       "                        <td id=\"T_8c851_row8_col4\" class=\"data row8 col4\" >0.251986</td>\n",
       "                        <td id=\"T_8c851_row8_col5\" class=\"data row8 col5\" >0.533255</td>\n",
       "                        <td id=\"T_8c851_row8_col6\" class=\"data row8 col6\" >0.429341</td>\n",
       "                        <td id=\"T_8c851_row8_col7\" class=\"data row8 col7\" >0.624520</td>\n",
       "                        <td id=\"T_8c851_row8_col8\" class=\"data row8 col8\" >1.000000</td>\n",
       "                        <td id=\"T_8c851_row8_col9\" class=\"data row8 col9\" >0.072125</td>\n",
       "                        <td id=\"T_8c851_row8_col10\" class=\"data row8 col10\" >0.058557</td>\n",
       "                        <td id=\"T_8c851_row8_col11\" class=\"data row8 col11\" >0.042529</td>\n",
       "                        <td id=\"T_8c851_row8_col12\" class=\"data row8 col12\" >0.133507</td>\n",
       "                        <td id=\"T_8c851_row8_col13\" class=\"data row8 col13\" >0.124175</td>\n",
       "                        <td id=\"T_8c851_row8_col14\" class=\"data row8 col14\" >0.458440</td>\n",
       "                        <td id=\"T_8c851_row8_col15\" class=\"data row8 col15\" >0.447157</td>\n",
       "                        <td id=\"T_8c851_row8_col16\" class=\"data row8 col16\" >0.133221</td>\n",
       "                        <td id=\"T_8c851_row8_col17\" class=\"data row8 col17\" >0.487682</td>\n",
       "                        <td id=\"T_8c851_row8_col18\" class=\"data row8 col18\" >0.487682</td>\n",
       "                        <td id=\"T_8c851_row8_col19\" class=\"data row8 col19\" >0.077216</td>\n",
       "                        <td id=\"T_8c851_row8_col20\" class=\"data row8 col20\" >0.077216</td>\n",
       "                        <td id=\"T_8c851_row8_col21\" class=\"data row8 col21\" >0.366343</td>\n",
       "                        <td id=\"T_8c851_row8_col22\" class=\"data row8 col22\" >-0.089608</td>\n",
       "                        <td id=\"T_8c851_row8_col23\" class=\"data row8 col23\" >-0.119970</td>\n",
       "            </tr>\n",
       "            <tr>\n",
       "                        <th id=\"T_8c851_level0_row9\" class=\"row_heading level0 row9\" >ENERGYSTARScore</th>\n",
       "                        <td id=\"T_8c851_row9_col0\" class=\"data row9 col0\" >-0.049173</td>\n",
       "                        <td id=\"T_8c851_row9_col1\" class=\"data row9 col1\" >0.008414</td>\n",
       "                        <td id=\"T_8c851_row9_col2\" class=\"data row9 col2\" >0.146639</td>\n",
       "                        <td id=\"T_8c851_row9_col3\" class=\"data row9 col3\" >0.146562</td>\n",
       "                        <td id=\"T_8c851_row9_col4\" class=\"data row9 col4\" >0.036894</td>\n",
       "                        <td id=\"T_8c851_row9_col5\" class=\"data row9 col5\" >0.153037</td>\n",
       "                        <td id=\"T_8c851_row9_col6\" class=\"data row9 col6\" >0.177424</td>\n",
       "                        <td id=\"T_8c851_row9_col7\" class=\"data row9 col7\" >0.199481</td>\n",
       "                        <td id=\"T_8c851_row9_col8\" class=\"data row9 col8\" >0.072125</td>\n",
       "                        <td id=\"T_8c851_row9_col9\" class=\"data row9 col9\" >1.000000</td>\n",
       "                        <td id=\"T_8c851_row9_col10\" class=\"data row9 col10\" >-0.505117</td>\n",
       "                        <td id=\"T_8c851_row9_col11\" class=\"data row9 col11\" >-0.507011</td>\n",
       "                        <td id=\"T_8c851_row9_col12\" class=\"data row9 col12\" >-0.467406</td>\n",
       "                        <td id=\"T_8c851_row9_col13\" class=\"data row9 col13\" >-0.472673</td>\n",
       "                        <td id=\"T_8c851_row9_col14\" class=\"data row9 col14\" >-0.159034</td>\n",
       "                        <td id=\"T_8c851_row9_col15\" class=\"data row9 col15\" >-0.155713</td>\n",
       "                        <td id=\"T_8c851_row9_col16\" class=\"data row9 col16\" >0.013910</td>\n",
       "                        <td id=\"T_8c851_row9_col17\" class=\"data row9 col17\" >-0.149928</td>\n",
       "                        <td id=\"T_8c851_row9_col18\" class=\"data row9 col18\" >-0.149928</td>\n",
       "                        <td id=\"T_8c851_row9_col19\" class=\"data row9 col19\" >-0.118063</td>\n",
       "                        <td id=\"T_8c851_row9_col20\" class=\"data row9 col20\" >-0.118063</td>\n",
       "                        <td id=\"T_8c851_row9_col21\" class=\"data row9 col21\" >-0.120457</td>\n",
       "                        <td id=\"T_8c851_row9_col22\" class=\"data row9 col22\" >-0.311451</td>\n",
       "                        <td id=\"T_8c851_row9_col23\" class=\"data row9 col23\" >0.003509</td>\n",
       "            </tr>\n",
       "            <tr>\n",
       "                        <th id=\"T_8c851_level0_row10\" class=\"row_heading level0 row10\" >SiteEUI(kBtu/sf)</th>\n",
       "                        <td id=\"T_8c851_row10_col0\" class=\"data row10 col0\" >-0.068619</td>\n",
       "                        <td id=\"T_8c851_row10_col1\" class=\"data row10 col1\" >0.021826</td>\n",
       "                        <td id=\"T_8c851_row10_col2\" class=\"data row10 col2\" >0.178258</td>\n",
       "                        <td id=\"T_8c851_row10_col3\" class=\"data row10 col3\" >0.150292</td>\n",
       "                        <td id=\"T_8c851_row10_col4\" class=\"data row10 col4\" >0.198991</td>\n",
       "                        <td id=\"T_8c851_row10_col5\" class=\"data row10 col5\" >0.116895</td>\n",
       "                        <td id=\"T_8c851_row10_col6\" class=\"data row10 col6\" >0.087161</td>\n",
       "                        <td id=\"T_8c851_row10_col7\" class=\"data row10 col7\" >0.075736</td>\n",
       "                        <td id=\"T_8c851_row10_col8\" class=\"data row10 col8\" >0.058557</td>\n",
       "                        <td id=\"T_8c851_row10_col9\" class=\"data row10 col9\" >-0.505117</td>\n",
       "                        <td id=\"T_8c851_row10_col10\" class=\"data row10 col10\" >1.000000</td>\n",
       "                        <td id=\"T_8c851_row10_col11\" class=\"data row10 col11\" >0.983353</td>\n",
       "                        <td id=\"T_8c851_row10_col12\" class=\"data row10 col12\" >0.936118</td>\n",
       "                        <td id=\"T_8c851_row10_col13\" class=\"data row10 col13\" >0.929504</td>\n",
       "                        <td id=\"T_8c851_row10_col14\" class=\"data row10 col14\" >0.715214</td>\n",
       "                        <td id=\"T_8c851_row10_col15\" class=\"data row10 col15\" >0.700561</td>\n",
       "                        <td id=\"T_8c851_row10_col16\" class=\"data row10 col16\" >0.141420</td>\n",
       "                        <td id=\"T_8c851_row10_col17\" class=\"data row10 col17\" >0.610293</td>\n",
       "                        <td id=\"T_8c851_row10_col18\" class=\"data row10 col18\" >0.610293</td>\n",
       "                        <td id=\"T_8c851_row10_col19\" class=\"data row10 col19\" >0.410123</td>\n",
       "                        <td id=\"T_8c851_row10_col20\" class=\"data row10 col20\" >0.410123</td>\n",
       "                        <td id=\"T_8c851_row10_col21\" class=\"data row10 col21\" >0.654101</td>\n",
       "                        <td id=\"T_8c851_row10_col22\" class=\"data row10 col22\" >0.687367</td>\n",
       "                        <td id=\"T_8c851_row10_col23\" class=\"data row10 col23\" >-0.140737</td>\n",
       "            </tr>\n",
       "            <tr>\n",
       "                        <th id=\"T_8c851_level0_row11\" class=\"row_heading level0 row11\" >SiteEUIWN(kBtu/sf)</th>\n",
       "                        <td id=\"T_8c851_row11_col0\" class=\"data row11 col0\" >-0.058439</td>\n",
       "                        <td id=\"T_8c851_row11_col1\" class=\"data row11 col1\" >0.015806</td>\n",
       "                        <td id=\"T_8c851_row11_col2\" class=\"data row11 col2\" >0.143131</td>\n",
       "                        <td id=\"T_8c851_row11_col3\" class=\"data row11 col3\" >0.116289</td>\n",
       "                        <td id=\"T_8c851_row11_col4\" class=\"data row11 col4\" >0.173782</td>\n",
       "                        <td id=\"T_8c851_row11_col5\" class=\"data row11 col5\" >0.084704</td>\n",
       "                        <td id=\"T_8c851_row11_col6\" class=\"data row11 col6\" >0.056370</td>\n",
       "                        <td id=\"T_8c851_row11_col7\" class=\"data row11 col7\" >0.043759</td>\n",
       "                        <td id=\"T_8c851_row11_col8\" class=\"data row11 col8\" >0.042529</td>\n",
       "                        <td id=\"T_8c851_row11_col9\" class=\"data row11 col9\" >-0.507011</td>\n",
       "                        <td id=\"T_8c851_row11_col10\" class=\"data row11 col10\" >0.983353</td>\n",
       "                        <td id=\"T_8c851_row11_col11\" class=\"data row11 col11\" >1.000000</td>\n",
       "                        <td id=\"T_8c851_row11_col12\" class=\"data row11 col12\" >0.901421</td>\n",
       "                        <td id=\"T_8c851_row11_col13\" class=\"data row11 col13\" >0.925843</td>\n",
       "                        <td id=\"T_8c851_row11_col14\" class=\"data row11 col14\" >0.685407</td>\n",
       "                        <td id=\"T_8c851_row11_col15\" class=\"data row11 col15\" >0.704069</td>\n",
       "                        <td id=\"T_8c851_row11_col16\" class=\"data row11 col16\" >0.124046</td>\n",
       "                        <td id=\"T_8c851_row11_col17\" class=\"data row11 col17\" >0.564240</td>\n",
       "                        <td id=\"T_8c851_row11_col18\" class=\"data row11 col18\" >0.564240</td>\n",
       "                        <td id=\"T_8c851_row11_col19\" class=\"data row11 col19\" >0.447802</td>\n",
       "                        <td id=\"T_8c851_row11_col20\" class=\"data row11 col20\" >0.447802</td>\n",
       "                        <td id=\"T_8c851_row11_col21\" class=\"data row11 col21\" >0.653732</td>\n",
       "                        <td id=\"T_8c851_row11_col22\" class=\"data row11 col22\" >0.716811</td>\n",
       "                        <td id=\"T_8c851_row11_col23\" class=\"data row11 col23\" >-0.124592</td>\n",
       "            </tr>\n",
       "            <tr>\n",
       "                        <th id=\"T_8c851_level0_row12\" class=\"row_heading level0 row12\" >SourceEUI(kBtu/sf)</th>\n",
       "                        <td id=\"T_8c851_row12_col0\" class=\"data row12 col0\" >-0.100693</td>\n",
       "                        <td id=\"T_8c851_row12_col1\" class=\"data row12 col1\" >0.006571</td>\n",
       "                        <td id=\"T_8c851_row12_col2\" class=\"data row12 col2\" >0.255194</td>\n",
       "                        <td id=\"T_8c851_row12_col3\" class=\"data row12 col3\" >0.217313</td>\n",
       "                        <td id=\"T_8c851_row12_col4\" class=\"data row12 col4\" >0.275825</td>\n",
       "                        <td id=\"T_8c851_row12_col5\" class=\"data row12 col5\" >0.174645</td>\n",
       "                        <td id=\"T_8c851_row12_col6\" class=\"data row12 col6\" >0.143464</td>\n",
       "                        <td id=\"T_8c851_row12_col7\" class=\"data row12 col7\" >0.139888</td>\n",
       "                        <td id=\"T_8c851_row12_col8\" class=\"data row12 col8\" >0.133507</td>\n",
       "                        <td id=\"T_8c851_row12_col9\" class=\"data row12 col9\" >-0.467406</td>\n",
       "                        <td id=\"T_8c851_row12_col10\" class=\"data row12 col10\" >0.936118</td>\n",
       "                        <td id=\"T_8c851_row12_col11\" class=\"data row12 col11\" >0.901421</td>\n",
       "                        <td id=\"T_8c851_row12_col12\" class=\"data row12 col12\" >1.000000</td>\n",
       "                        <td id=\"T_8c851_row12_col13\" class=\"data row12 col13\" >0.983612</td>\n",
       "                        <td id=\"T_8c851_row12_col14\" class=\"data row12 col14\" >0.725467</td>\n",
       "                        <td id=\"T_8c851_row12_col15\" class=\"data row12 col15\" >0.700925</td>\n",
       "                        <td id=\"T_8c851_row12_col16\" class=\"data row12 col16\" >0.117318</td>\n",
       "                        <td id=\"T_8c851_row12_col17\" class=\"data row12 col17\" >0.739688</td>\n",
       "                        <td id=\"T_8c851_row12_col18\" class=\"data row12 col18\" >0.739688</td>\n",
       "                        <td id=\"T_8c851_row12_col19\" class=\"data row12 col19\" >0.218097</td>\n",
       "                        <td id=\"T_8c851_row12_col20\" class=\"data row12 col20\" >0.218097</td>\n",
       "                        <td id=\"T_8c851_row12_col21\" class=\"data row12 col21\" >0.533481</td>\n",
       "                        <td id=\"T_8c851_row12_col22\" class=\"data row12 col22\" >0.463698</td>\n",
       "                        <td id=\"T_8c851_row12_col23\" class=\"data row12 col23\" >-0.204371</td>\n",
       "            </tr>\n",
       "            <tr>\n",
       "                        <th id=\"T_8c851_level0_row13\" class=\"row_heading level0 row13\" >SourceEUIWN(kBtu/sf)</th>\n",
       "                        <td id=\"T_8c851_row13_col0\" class=\"data row13 col0\" >-0.096575</td>\n",
       "                        <td id=\"T_8c851_row13_col1\" class=\"data row13 col1\" >0.000086</td>\n",
       "                        <td id=\"T_8c851_row13_col2\" class=\"data row13 col2\" >0.236217</td>\n",
       "                        <td id=\"T_8c851_row13_col3\" class=\"data row13 col3\" >0.193847</td>\n",
       "                        <td id=\"T_8c851_row13_col4\" class=\"data row13 col4\" >0.260123</td>\n",
       "                        <td id=\"T_8c851_row13_col5\" class=\"data row13 col5\" >0.152688</td>\n",
       "                        <td id=\"T_8c851_row13_col6\" class=\"data row13 col6\" >0.121003</td>\n",
       "                        <td id=\"T_8c851_row13_col7\" class=\"data row13 col7\" >0.122287</td>\n",
       "                        <td id=\"T_8c851_row13_col8\" class=\"data row13 col8\" >0.124175</td>\n",
       "                        <td id=\"T_8c851_row13_col9\" class=\"data row13 col9\" >-0.472673</td>\n",
       "                        <td id=\"T_8c851_row13_col10\" class=\"data row13 col10\" >0.929504</td>\n",
       "                        <td id=\"T_8c851_row13_col11\" class=\"data row13 col11\" >0.925843</td>\n",
       "                        <td id=\"T_8c851_row13_col12\" class=\"data row13 col12\" >0.983612</td>\n",
       "                        <td id=\"T_8c851_row13_col13\" class=\"data row13 col13\" >1.000000</td>\n",
       "                        <td id=\"T_8c851_row13_col14\" class=\"data row13 col14\" >0.705714</td>\n",
       "                        <td id=\"T_8c851_row13_col15\" class=\"data row13 col15\" >0.715607</td>\n",
       "                        <td id=\"T_8c851_row13_col16\" class=\"data row13 col16\" >0.102461</td>\n",
       "                        <td id=\"T_8c851_row13_col17\" class=\"data row13 col17\" >0.711393</td>\n",
       "                        <td id=\"T_8c851_row13_col18\" class=\"data row13 col18\" >0.711393</td>\n",
       "                        <td id=\"T_8c851_row13_col19\" class=\"data row13 col19\" >0.238040</td>\n",
       "                        <td id=\"T_8c851_row13_col20\" class=\"data row13 col20\" >0.238040</td>\n",
       "                        <td id=\"T_8c851_row13_col21\" class=\"data row13 col21\" >0.527787</td>\n",
       "                        <td id=\"T_8c851_row13_col22\" class=\"data row13 col22\" >0.477244</td>\n",
       "                        <td id=\"T_8c851_row13_col23\" class=\"data row13 col23\" >-0.197525</td>\n",
       "            </tr>\n",
       "            <tr>\n",
       "                        <th id=\"T_8c851_level0_row14\" class=\"row_heading level0 row14\" >SiteEnergyUse(kBtu)</th>\n",
       "                        <td id=\"T_8c851_row14_col0\" class=\"data row14 col0\" >-0.385126</td>\n",
       "                        <td id=\"T_8c851_row14_col1\" class=\"data row14 col1\" >0.056456</td>\n",
       "                        <td id=\"T_8c851_row14_col2\" class=\"data row14 col2\" >0.431603</td>\n",
       "                        <td id=\"T_8c851_row14_col3\" class=\"data row14 col3\" >0.721719</td>\n",
       "                        <td id=\"T_8c851_row14_col4\" class=\"data row14 col4\" >0.353380</td>\n",
       "                        <td id=\"T_8c851_row14_col5\" class=\"data row14 col5\" >0.703057</td>\n",
       "                        <td id=\"T_8c851_row14_col6\" class=\"data row14 col6\" >0.680116</td>\n",
       "                        <td id=\"T_8c851_row14_col7\" class=\"data row14 col7\" >0.535346</td>\n",
       "                        <td id=\"T_8c851_row14_col8\" class=\"data row14 col8\" >0.458440</td>\n",
       "                        <td id=\"T_8c851_row14_col9\" class=\"data row14 col9\" >-0.159034</td>\n",
       "                        <td id=\"T_8c851_row14_col10\" class=\"data row14 col10\" >0.715214</td>\n",
       "                        <td id=\"T_8c851_row14_col11\" class=\"data row14 col11\" >0.685407</td>\n",
       "                        <td id=\"T_8c851_row14_col12\" class=\"data row14 col12\" >0.725467</td>\n",
       "                        <td id=\"T_8c851_row14_col13\" class=\"data row14 col13\" >0.705714</td>\n",
       "                        <td id=\"T_8c851_row14_col14\" class=\"data row14 col14\" >1.000000</td>\n",
       "                        <td id=\"T_8c851_row14_col15\" class=\"data row14 col15\" >0.980979</td>\n",
       "                        <td id=\"T_8c851_row14_col16\" class=\"data row14 col16\" >0.231229</td>\n",
       "                        <td id=\"T_8c851_row14_col17\" class=\"data row14 col17\" >0.918751</td>\n",
       "                        <td id=\"T_8c851_row14_col18\" class=\"data row14 col18\" >0.918751</td>\n",
       "                        <td id=\"T_8c851_row14_col19\" class=\"data row14 col19\" >0.433738</td>\n",
       "                        <td id=\"T_8c851_row14_col20\" class=\"data row14 col20\" >0.433738</td>\n",
       "                        <td id=\"T_8c851_row14_col21\" class=\"data row14 col21\" >0.856021</td>\n",
       "                        <td id=\"T_8c851_row14_col22\" class=\"data row14 col22\" >0.443011</td>\n",
       "                        <td id=\"T_8c851_row14_col23\" class=\"data row14 col23\" >-0.259973</td>\n",
       "            </tr>\n",
       "            <tr>\n",
       "                        <th id=\"T_8c851_level0_row15\" class=\"row_heading level0 row15\" >SiteEnergyUseWN(kBtu)</th>\n",
       "                        <td id=\"T_8c851_row15_col0\" class=\"data row15 col0\" >-0.384768</td>\n",
       "                        <td id=\"T_8c851_row15_col1\" class=\"data row15 col1\" >0.048874</td>\n",
       "                        <td id=\"T_8c851_row15_col2\" class=\"data row15 col2\" >0.412386</td>\n",
       "                        <td id=\"T_8c851_row15_col3\" class=\"data row15 col3\" >0.703447</td>\n",
       "                        <td id=\"T_8c851_row15_col4\" class=\"data row15 col4\" >0.337867</td>\n",
       "                        <td id=\"T_8c851_row15_col5\" class=\"data row15 col5\" >0.686206</td>\n",
       "                        <td id=\"T_8c851_row15_col6\" class=\"data row15 col6\" >0.663523</td>\n",
       "                        <td id=\"T_8c851_row15_col7\" class=\"data row15 col7\" >0.520102</td>\n",
       "                        <td id=\"T_8c851_row15_col8\" class=\"data row15 col8\" >0.447157</td>\n",
       "                        <td id=\"T_8c851_row15_col9\" class=\"data row15 col9\" >-0.155713</td>\n",
       "                        <td id=\"T_8c851_row15_col10\" class=\"data row15 col10\" >0.700561</td>\n",
       "                        <td id=\"T_8c851_row15_col11\" class=\"data row15 col11\" >0.704069</td>\n",
       "                        <td id=\"T_8c851_row15_col12\" class=\"data row15 col12\" >0.700925</td>\n",
       "                        <td id=\"T_8c851_row15_col13\" class=\"data row15 col13\" >0.715607</td>\n",
       "                        <td id=\"T_8c851_row15_col14\" class=\"data row15 col14\" >0.980979</td>\n",
       "                        <td id=\"T_8c851_row15_col15\" class=\"data row15 col15\" >1.000000</td>\n",
       "                        <td id=\"T_8c851_row15_col16\" class=\"data row15 col16\" >0.212181</td>\n",
       "                        <td id=\"T_8c851_row15_col17\" class=\"data row15 col17\" >0.889474</td>\n",
       "                        <td id=\"T_8c851_row15_col18\" class=\"data row15 col18\" >0.889474</td>\n",
       "                        <td id=\"T_8c851_row15_col19\" class=\"data row15 col19\" >0.462867</td>\n",
       "                        <td id=\"T_8c851_row15_col20\" class=\"data row15 col20\" >0.462867</td>\n",
       "                        <td id=\"T_8c851_row15_col21\" class=\"data row15 col21\" >0.854912</td>\n",
       "                        <td id=\"T_8c851_row15_col22\" class=\"data row15 col22\" >0.457164</td>\n",
       "                        <td id=\"T_8c851_row15_col23\" class=\"data row15 col23\" >-0.254728</td>\n",
       "            </tr>\n",
       "            <tr>\n",
       "                        <th id=\"T_8c851_level0_row16\" class=\"row_heading level0 row16\" >SteamUse(kBtu)</th>\n",
       "                        <td id=\"T_8c851_row16_col0\" class=\"data row16 col0\" >-0.178454</td>\n",
       "                        <td id=\"T_8c851_row16_col1\" class=\"data row16 col1\" >0.031570</td>\n",
       "                        <td id=\"T_8c851_row16_col2\" class=\"data row16 col2\" >0.257464</td>\n",
       "                        <td id=\"T_8c851_row16_col3\" class=\"data row16 col3\" >0.203502</td>\n",
       "                        <td id=\"T_8c851_row16_col4\" class=\"data row16 col4\" >0.041241</td>\n",
       "                        <td id=\"T_8c851_row16_col5\" class=\"data row16 col5\" >0.213315</td>\n",
       "                        <td id=\"T_8c851_row16_col6\" class=\"data row16 col6\" >0.197494</td>\n",
       "                        <td id=\"T_8c851_row16_col7\" class=\"data row16 col7\" >0.136674</td>\n",
       "                        <td id=\"T_8c851_row16_col8\" class=\"data row16 col8\" >0.133221</td>\n",
       "                        <td id=\"T_8c851_row16_col9\" class=\"data row16 col9\" >0.013910</td>\n",
       "                        <td id=\"T_8c851_row16_col10\" class=\"data row16 col10\" >0.141420</td>\n",
       "                        <td id=\"T_8c851_row16_col11\" class=\"data row16 col11\" >0.124046</td>\n",
       "                        <td id=\"T_8c851_row16_col12\" class=\"data row16 col12\" >0.117318</td>\n",
       "                        <td id=\"T_8c851_row16_col13\" class=\"data row16 col13\" >0.102461</td>\n",
       "                        <td id=\"T_8c851_row16_col14\" class=\"data row16 col14\" >0.231229</td>\n",
       "                        <td id=\"T_8c851_row16_col15\" class=\"data row16 col15\" >0.212181</td>\n",
       "                        <td id=\"T_8c851_row16_col16\" class=\"data row16 col16\" >1.000000</td>\n",
       "                        <td id=\"T_8c851_row16_col17\" class=\"data row16 col17\" >0.194486</td>\n",
       "                        <td id=\"T_8c851_row16_col18\" class=\"data row16 col18\" >0.194486</td>\n",
       "                        <td id=\"T_8c851_row16_col19\" class=\"data row16 col19\" >-0.079482</td>\n",
       "                        <td id=\"T_8c851_row16_col20\" class=\"data row16 col20\" >-0.079482</td>\n",
       "                        <td id=\"T_8c851_row16_col21\" class=\"data row16 col21\" >0.295466</td>\n",
       "                        <td id=\"T_8c851_row16_col22\" class=\"data row16 col22\" >0.208538</td>\n",
       "                        <td id=\"T_8c851_row16_col23\" class=\"data row16 col23\" >0.125086</td>\n",
       "            </tr>\n",
       "            <tr>\n",
       "                        <th id=\"T_8c851_level0_row17\" class=\"row_heading level0 row17\" >Electricity(kWh)</th>\n",
       "                        <td id=\"T_8c851_row17_col0\" class=\"data row17 col0\" >-0.388334</td>\n",
       "                        <td id=\"T_8c851_row17_col1\" class=\"data row17 col1\" >0.044563</td>\n",
       "                        <td id=\"T_8c851_row17_col2\" class=\"data row17 col2\" >0.474318</td>\n",
       "                        <td id=\"T_8c851_row17_col3\" class=\"data row17 col3\" >0.732900</td>\n",
       "                        <td id=\"T_8c851_row17_col4\" class=\"data row17 col4\" >0.396785</td>\n",
       "                        <td id=\"T_8c851_row17_col5\" class=\"data row17 col5\" >0.706058</td>\n",
       "                        <td id=\"T_8c851_row17_col6\" class=\"data row17 col6\" >0.682018</td>\n",
       "                        <td id=\"T_8c851_row17_col7\" class=\"data row17 col7\" >0.559876</td>\n",
       "                        <td id=\"T_8c851_row17_col8\" class=\"data row17 col8\" >0.487682</td>\n",
       "                        <td id=\"T_8c851_row17_col9\" class=\"data row17 col9\" >-0.149928</td>\n",
       "                        <td id=\"T_8c851_row17_col10\" class=\"data row17 col10\" >0.610293</td>\n",
       "                        <td id=\"T_8c851_row17_col11\" class=\"data row17 col11\" >0.564240</td>\n",
       "                        <td id=\"T_8c851_row17_col12\" class=\"data row17 col12\" >0.739688</td>\n",
       "                        <td id=\"T_8c851_row17_col13\" class=\"data row17 col13\" >0.711393</td>\n",
       "                        <td id=\"T_8c851_row17_col14\" class=\"data row17 col14\" >0.918751</td>\n",
       "                        <td id=\"T_8c851_row17_col15\" class=\"data row17 col15\" >0.889474</td>\n",
       "                        <td id=\"T_8c851_row17_col16\" class=\"data row17 col16\" >0.194486</td>\n",
       "                        <td id=\"T_8c851_row17_col17\" class=\"data row17 col17\" >1.000000</td>\n",
       "                        <td id=\"T_8c851_row17_col18\" class=\"data row17 col18\" >1.000000</td>\n",
       "                        <td id=\"T_8c851_row17_col19\" class=\"data row17 col19\" >0.182301</td>\n",
       "                        <td id=\"T_8c851_row17_col20\" class=\"data row17 col20\" >0.182301</td>\n",
       "                        <td id=\"T_8c851_row17_col21\" class=\"data row17 col21\" >0.640960</td>\n",
       "                        <td id=\"T_8c851_row17_col22\" class=\"data row17 col22\" >0.177927</td>\n",
       "                        <td id=\"T_8c851_row17_col23\" class=\"data row17 col23\" >-0.319038</td>\n",
       "            </tr>\n",
       "            <tr>\n",
       "                        <th id=\"T_8c851_level0_row18\" class=\"row_heading level0 row18\" >Electricity(kBtu)</th>\n",
       "                        <td id=\"T_8c851_row18_col0\" class=\"data row18 col0\" >-0.388334</td>\n",
       "                        <td id=\"T_8c851_row18_col1\" class=\"data row18 col1\" >0.044563</td>\n",
       "                        <td id=\"T_8c851_row18_col2\" class=\"data row18 col2\" >0.474318</td>\n",
       "                        <td id=\"T_8c851_row18_col3\" class=\"data row18 col3\" >0.732900</td>\n",
       "                        <td id=\"T_8c851_row18_col4\" class=\"data row18 col4\" >0.396785</td>\n",
       "                        <td id=\"T_8c851_row18_col5\" class=\"data row18 col5\" >0.706058</td>\n",
       "                        <td id=\"T_8c851_row18_col6\" class=\"data row18 col6\" >0.682018</td>\n",
       "                        <td id=\"T_8c851_row18_col7\" class=\"data row18 col7\" >0.559876</td>\n",
       "                        <td id=\"T_8c851_row18_col8\" class=\"data row18 col8\" >0.487682</td>\n",
       "                        <td id=\"T_8c851_row18_col9\" class=\"data row18 col9\" >-0.149928</td>\n",
       "                        <td id=\"T_8c851_row18_col10\" class=\"data row18 col10\" >0.610293</td>\n",
       "                        <td id=\"T_8c851_row18_col11\" class=\"data row18 col11\" >0.564240</td>\n",
       "                        <td id=\"T_8c851_row18_col12\" class=\"data row18 col12\" >0.739688</td>\n",
       "                        <td id=\"T_8c851_row18_col13\" class=\"data row18 col13\" >0.711393</td>\n",
       "                        <td id=\"T_8c851_row18_col14\" class=\"data row18 col14\" >0.918751</td>\n",
       "                        <td id=\"T_8c851_row18_col15\" class=\"data row18 col15\" >0.889474</td>\n",
       "                        <td id=\"T_8c851_row18_col16\" class=\"data row18 col16\" >0.194486</td>\n",
       "                        <td id=\"T_8c851_row18_col17\" class=\"data row18 col17\" >1.000000</td>\n",
       "                        <td id=\"T_8c851_row18_col18\" class=\"data row18 col18\" >1.000000</td>\n",
       "                        <td id=\"T_8c851_row18_col19\" class=\"data row18 col19\" >0.182301</td>\n",
       "                        <td id=\"T_8c851_row18_col20\" class=\"data row18 col20\" >0.182301</td>\n",
       "                        <td id=\"T_8c851_row18_col21\" class=\"data row18 col21\" >0.640960</td>\n",
       "                        <td id=\"T_8c851_row18_col22\" class=\"data row18 col22\" >0.177927</td>\n",
       "                        <td id=\"T_8c851_row18_col23\" class=\"data row18 col23\" >-0.319038</td>\n",
       "            </tr>\n",
       "            <tr>\n",
       "                        <th id=\"T_8c851_level0_row19\" class=\"row_heading level0 row19\" >NaturalGas(therms)</th>\n",
       "                        <td id=\"T_8c851_row19_col0\" class=\"data row19 col0\" >-0.086530</td>\n",
       "                        <td id=\"T_8c851_row19_col1\" class=\"data row19 col1\" >0.041687</td>\n",
       "                        <td id=\"T_8c851_row19_col2\" class=\"data row19 col2\" >-0.054180</td>\n",
       "                        <td id=\"T_8c851_row19_col3\" class=\"data row19 col3\" >0.190845</td>\n",
       "                        <td id=\"T_8c851_row19_col4\" class=\"data row19 col4\" >-0.029278</td>\n",
       "                        <td id=\"T_8c851_row19_col5\" class=\"data row19 col5\" >0.204173</td>\n",
       "                        <td id=\"T_8c851_row19_col6\" class=\"data row19 col6\" >0.194170</td>\n",
       "                        <td id=\"T_8c851_row19_col7\" class=\"data row19 col7\" >0.054644</td>\n",
       "                        <td id=\"T_8c851_row19_col8\" class=\"data row19 col8\" >0.077216</td>\n",
       "                        <td id=\"T_8c851_row19_col9\" class=\"data row19 col9\" >-0.118063</td>\n",
       "                        <td id=\"T_8c851_row19_col10\" class=\"data row19 col10\" >0.410123</td>\n",
       "                        <td id=\"T_8c851_row19_col11\" class=\"data row19 col11\" >0.447802</td>\n",
       "                        <td id=\"T_8c851_row19_col12\" class=\"data row19 col12\" >0.218097</td>\n",
       "                        <td id=\"T_8c851_row19_col13\" class=\"data row19 col13\" >0.238040</td>\n",
       "                        <td id=\"T_8c851_row19_col14\" class=\"data row19 col14\" >0.433738</td>\n",
       "                        <td id=\"T_8c851_row19_col15\" class=\"data row19 col15\" >0.462867</td>\n",
       "                        <td id=\"T_8c851_row19_col16\" class=\"data row19 col16\" >-0.079482</td>\n",
       "                        <td id=\"T_8c851_row19_col17\" class=\"data row19 col17\" >0.182301</td>\n",
       "                        <td id=\"T_8c851_row19_col18\" class=\"data row19 col18\" >0.182301</td>\n",
       "                        <td id=\"T_8c851_row19_col19\" class=\"data row19 col19\" >1.000000</td>\n",
       "                        <td id=\"T_8c851_row19_col20\" class=\"data row19 col20\" >1.000000</td>\n",
       "                        <td id=\"T_8c851_row19_col21\" class=\"data row19 col21\" >0.735822</td>\n",
       "                        <td id=\"T_8c851_row19_col22\" class=\"data row19 col22\" >0.759366</td>\n",
       "                        <td id=\"T_8c851_row19_col23\" class=\"data row19 col23\" >-0.050063</td>\n",
       "            </tr>\n",
       "            <tr>\n",
       "                        <th id=\"T_8c851_level0_row20\" class=\"row_heading level0 row20\" >NaturalGas(kBtu)</th>\n",
       "                        <td id=\"T_8c851_row20_col0\" class=\"data row20 col0\" >-0.086530</td>\n",
       "                        <td id=\"T_8c851_row20_col1\" class=\"data row20 col1\" >0.041687</td>\n",
       "                        <td id=\"T_8c851_row20_col2\" class=\"data row20 col2\" >-0.054180</td>\n",
       "                        <td id=\"T_8c851_row20_col3\" class=\"data row20 col3\" >0.190845</td>\n",
       "                        <td id=\"T_8c851_row20_col4\" class=\"data row20 col4\" >-0.029278</td>\n",
       "                        <td id=\"T_8c851_row20_col5\" class=\"data row20 col5\" >0.204173</td>\n",
       "                        <td id=\"T_8c851_row20_col6\" class=\"data row20 col6\" >0.194170</td>\n",
       "                        <td id=\"T_8c851_row20_col7\" class=\"data row20 col7\" >0.054644</td>\n",
       "                        <td id=\"T_8c851_row20_col8\" class=\"data row20 col8\" >0.077216</td>\n",
       "                        <td id=\"T_8c851_row20_col9\" class=\"data row20 col9\" >-0.118063</td>\n",
       "                        <td id=\"T_8c851_row20_col10\" class=\"data row20 col10\" >0.410123</td>\n",
       "                        <td id=\"T_8c851_row20_col11\" class=\"data row20 col11\" >0.447802</td>\n",
       "                        <td id=\"T_8c851_row20_col12\" class=\"data row20 col12\" >0.218097</td>\n",
       "                        <td id=\"T_8c851_row20_col13\" class=\"data row20 col13\" >0.238040</td>\n",
       "                        <td id=\"T_8c851_row20_col14\" class=\"data row20 col14\" >0.433738</td>\n",
       "                        <td id=\"T_8c851_row20_col15\" class=\"data row20 col15\" >0.462867</td>\n",
       "                        <td id=\"T_8c851_row20_col16\" class=\"data row20 col16\" >-0.079482</td>\n",
       "                        <td id=\"T_8c851_row20_col17\" class=\"data row20 col17\" >0.182301</td>\n",
       "                        <td id=\"T_8c851_row20_col18\" class=\"data row20 col18\" >0.182301</td>\n",
       "                        <td id=\"T_8c851_row20_col19\" class=\"data row20 col19\" >1.000000</td>\n",
       "                        <td id=\"T_8c851_row20_col20\" class=\"data row20 col20\" >1.000000</td>\n",
       "                        <td id=\"T_8c851_row20_col21\" class=\"data row20 col21\" >0.735822</td>\n",
       "                        <td id=\"T_8c851_row20_col22\" class=\"data row20 col22\" >0.759366</td>\n",
       "                        <td id=\"T_8c851_row20_col23\" class=\"data row20 col23\" >-0.050063</td>\n",
       "            </tr>\n",
       "            <tr>\n",
       "                        <th id=\"T_8c851_level0_row21\" class=\"row_heading level0 row21\" >TotalGHGEmissions</th>\n",
       "                        <td id=\"T_8c851_row21_col0\" class=\"data row21 col0\" >-0.312338</td>\n",
       "                        <td id=\"T_8c851_row21_col1\" class=\"data row21 col1\" >0.064029</td>\n",
       "                        <td id=\"T_8c851_row21_col2\" class=\"data row21 col2\" >0.279092</td>\n",
       "                        <td id=\"T_8c851_row21_col3\" class=\"data row21 col3\" >0.566355</td>\n",
       "                        <td id=\"T_8c851_row21_col4\" class=\"data row21 col4\" >0.198377</td>\n",
       "                        <td id=\"T_8c851_row21_col5\" class=\"data row21 col5\" >0.567456</td>\n",
       "                        <td id=\"T_8c851_row21_col6\" class=\"data row21 col6\" >0.550191</td>\n",
       "                        <td id=\"T_8c851_row21_col7\" class=\"data row21 col7\" >0.389040</td>\n",
       "                        <td id=\"T_8c851_row21_col8\" class=\"data row21 col8\" >0.366343</td>\n",
       "                        <td id=\"T_8c851_row21_col9\" class=\"data row21 col9\" >-0.120457</td>\n",
       "                        <td id=\"T_8c851_row21_col10\" class=\"data row21 col10\" >0.654101</td>\n",
       "                        <td id=\"T_8c851_row21_col11\" class=\"data row21 col11\" >0.653732</td>\n",
       "                        <td id=\"T_8c851_row21_col12\" class=\"data row21 col12\" >0.533481</td>\n",
       "                        <td id=\"T_8c851_row21_col13\" class=\"data row21 col13\" >0.527787</td>\n",
       "                        <td id=\"T_8c851_row21_col14\" class=\"data row21 col14\" >0.856021</td>\n",
       "                        <td id=\"T_8c851_row21_col15\" class=\"data row21 col15\" >0.854912</td>\n",
       "                        <td id=\"T_8c851_row21_col16\" class=\"data row21 col16\" >0.295466</td>\n",
       "                        <td id=\"T_8c851_row21_col17\" class=\"data row21 col17\" >0.640960</td>\n",
       "                        <td id=\"T_8c851_row21_col18\" class=\"data row21 col18\" >0.640960</td>\n",
       "                        <td id=\"T_8c851_row21_col19\" class=\"data row21 col19\" >0.735822</td>\n",
       "                        <td id=\"T_8c851_row21_col20\" class=\"data row21 col20\" >0.735822</td>\n",
       "                        <td id=\"T_8c851_row21_col21\" class=\"data row21 col21\" >1.000000</td>\n",
       "                        <td id=\"T_8c851_row21_col22\" class=\"data row21 col22\" >0.742140</td>\n",
       "                        <td id=\"T_8c851_row21_col23\" class=\"data row21 col23\" >-0.146557</td>\n",
       "            </tr>\n",
       "            <tr>\n",
       "                        <th id=\"T_8c851_level0_row22\" class=\"row_heading level0 row22\" >GHGEmissionsIntensity</th>\n",
       "                        <td id=\"T_8c851_row22_col0\" class=\"data row22 col0\" >0.024192</td>\n",
       "                        <td id=\"T_8c851_row22_col1\" class=\"data row22 col1\" >0.045563</td>\n",
       "                        <td id=\"T_8c851_row22_col2\" class=\"data row22 col2\" >-0.078639</td>\n",
       "                        <td id=\"T_8c851_row22_col3\" class=\"data row22 col3\" >-0.051232</td>\n",
       "                        <td id=\"T_8c851_row22_col4\" class=\"data row22 col4\" >-0.138292</td>\n",
       "                        <td id=\"T_8c851_row22_col5\" class=\"data row22 col5\" >-0.031138</td>\n",
       "                        <td id=\"T_8c851_row22_col6\" class=\"data row22 col6\" >-0.031289</td>\n",
       "                        <td id=\"T_8c851_row22_col7\" class=\"data row22 col7\" >-0.155612</td>\n",
       "                        <td id=\"T_8c851_row22_col8\" class=\"data row22 col8\" >-0.089608</td>\n",
       "                        <td id=\"T_8c851_row22_col9\" class=\"data row22 col9\" >-0.311451</td>\n",
       "                        <td id=\"T_8c851_row22_col10\" class=\"data row22 col10\" >0.687367</td>\n",
       "                        <td id=\"T_8c851_row22_col11\" class=\"data row22 col11\" >0.716811</td>\n",
       "                        <td id=\"T_8c851_row22_col12\" class=\"data row22 col12\" >0.463698</td>\n",
       "                        <td id=\"T_8c851_row22_col13\" class=\"data row22 col13\" >0.477244</td>\n",
       "                        <td id=\"T_8c851_row22_col14\" class=\"data row22 col14\" >0.443011</td>\n",
       "                        <td id=\"T_8c851_row22_col15\" class=\"data row22 col15\" >0.457164</td>\n",
       "                        <td id=\"T_8c851_row22_col16\" class=\"data row22 col16\" >0.208538</td>\n",
       "                        <td id=\"T_8c851_row22_col17\" class=\"data row22 col17\" >0.177927</td>\n",
       "                        <td id=\"T_8c851_row22_col18\" class=\"data row22 col18\" >0.177927</td>\n",
       "                        <td id=\"T_8c851_row22_col19\" class=\"data row22 col19\" >0.759366</td>\n",
       "                        <td id=\"T_8c851_row22_col20\" class=\"data row22 col20\" >0.759366</td>\n",
       "                        <td id=\"T_8c851_row22_col21\" class=\"data row22 col21\" >0.742140</td>\n",
       "                        <td id=\"T_8c851_row22_col22\" class=\"data row22 col22\" >1.000000</td>\n",
       "                        <td id=\"T_8c851_row22_col23\" class=\"data row22 col23\" >0.066211</td>\n",
       "            </tr>\n",
       "            <tr>\n",
       "                        <th id=\"T_8c851_level0_row23\" class=\"row_heading level0 row23\" >Building_age</th>\n",
       "                        <td id=\"T_8c851_row23_col0\" class=\"data row23 col0\" >0.043778</td>\n",
       "                        <td id=\"T_8c851_row23_col1\" class=\"data row23 col1\" >-0.040476</td>\n",
       "                        <td id=\"T_8c851_row23_col2\" class=\"data row23 col2\" >-0.086045</td>\n",
       "                        <td id=\"T_8c851_row23_col3\" class=\"data row23 col3\" >-0.284414</td>\n",
       "                        <td id=\"T_8c851_row23_col4\" class=\"data row23 col4\" >-0.362132</td>\n",
       "                        <td id=\"T_8c851_row23_col5\" class=\"data row23 col5\" >-0.231129</td>\n",
       "                        <td id=\"T_8c851_row23_col6\" class=\"data row23 col6\" >-0.289120</td>\n",
       "                        <td id=\"T_8c851_row23_col7\" class=\"data row23 col7\" >-0.281213</td>\n",
       "                        <td id=\"T_8c851_row23_col8\" class=\"data row23 col8\" >-0.119970</td>\n",
       "                        <td id=\"T_8c851_row23_col9\" class=\"data row23 col9\" >0.003509</td>\n",
       "                        <td id=\"T_8c851_row23_col10\" class=\"data row23 col10\" >-0.140737</td>\n",
       "                        <td id=\"T_8c851_row23_col11\" class=\"data row23 col11\" >-0.124592</td>\n",
       "                        <td id=\"T_8c851_row23_col12\" class=\"data row23 col12\" >-0.204371</td>\n",
       "                        <td id=\"T_8c851_row23_col13\" class=\"data row23 col13\" >-0.197525</td>\n",
       "                        <td id=\"T_8c851_row23_col14\" class=\"data row23 col14\" >-0.259973</td>\n",
       "                        <td id=\"T_8c851_row23_col15\" class=\"data row23 col15\" >-0.254728</td>\n",
       "                        <td id=\"T_8c851_row23_col16\" class=\"data row23 col16\" >0.125086</td>\n",
       "                        <td id=\"T_8c851_row23_col17\" class=\"data row23 col17\" >-0.319038</td>\n",
       "                        <td id=\"T_8c851_row23_col18\" class=\"data row23 col18\" >-0.319038</td>\n",
       "                        <td id=\"T_8c851_row23_col19\" class=\"data row23 col19\" >-0.050063</td>\n",
       "                        <td id=\"T_8c851_row23_col20\" class=\"data row23 col20\" >-0.050063</td>\n",
       "                        <td id=\"T_8c851_row23_col21\" class=\"data row23 col21\" >-0.146557</td>\n",
       "                        <td id=\"T_8c851_row23_col22\" class=\"data row23 col22\" >0.066211</td>\n",
       "                        <td id=\"T_8c851_row23_col23\" class=\"data row23 col23\" >1.000000</td>\n",
       "            </tr>\n",
       "    </tbody></table>"
      ],
      "text/plain": [
       "<pandas.io.formats.style.Styler at 0x2456803d280>"
      ]
     },
     "execution_count": 129,
     "metadata": {},
     "output_type": "execute_result"
    }
   ],
   "source": [
    "corrMatrix.style.applymap(lambda x: 'background-color : lightgreen' if (x >= 0.65) & (x < 0.9)\n",
    "                          else 'background-color : green' if (x >= 0.9) & (x != 1)\n",
    "                          else '')"
   ]
  },
  {
   "cell_type": "markdown",
   "id": "525024cd",
   "metadata": {},
   "source": [
    "## NumberofBuildings\n",
    "\n",
    "*Number of buildings included in the property's report. In cases where a property is reporting as a campus, multiple buildings may be included in one report.*\n",
    "\n",
    "* Deleted 1 outlier (111 buildings)\n",
    "* 52 properties with 0 buildings?"
   ]
  },
  {
   "cell_type": "code",
   "execution_count": 130,
   "id": "8c5ab2fd",
   "metadata": {},
   "outputs": [
    {
     "data": {
      "text/plain": [
       "16"
      ]
     },
     "execution_count": 130,
     "metadata": {},
     "output_type": "execute_result"
    }
   ],
   "source": [
    "data['NumberofBuildings'].nunique()"
   ]
  },
  {
   "cell_type": "code",
   "execution_count": 131,
   "id": "705d84f8",
   "metadata": {},
   "outputs": [
    {
     "data": {
      "text/plain": [
       "array([  1.,   3.,   0.,   2.,   4.,  27.,   6.,  11.,  14.,   9.,  nan,\n",
       "         7.,   5.,   8.,  23.,  10., 111.])"
      ]
     },
     "execution_count": 131,
     "metadata": {},
     "output_type": "execute_result"
    }
   ],
   "source": [
    "data['NumberofBuildings'].unique()"
   ]
  },
  {
   "cell_type": "code",
   "execution_count": 132,
   "id": "9e20857c",
   "metadata": {},
   "outputs": [
    {
     "data": {
      "text/plain": [
       "1.0      1544\n",
       "0.0        52\n",
       "2.0        14\n",
       "3.0        12\n",
       "5.0         7\n",
       "6.0         4\n",
       "4.0         4\n",
       "8.0         2\n",
       "14.0        2\n",
       "9.0         1\n",
       "111.0       1\n",
       "11.0        1\n",
       "10.0        1\n",
       "23.0        1\n",
       "7.0         1\n",
       "27.0        1\n",
       "Name: NumberofBuildings, dtype: int64"
      ]
     },
     "execution_count": 132,
     "metadata": {},
     "output_type": "execute_result"
    }
   ],
   "source": [
    "data['NumberofBuildings'].value_counts()"
   ]
  },
  {
   "cell_type": "code",
   "execution_count": 133,
   "id": "c72ec7c6",
   "metadata": {},
   "outputs": [
    {
     "data": {
      "text/plain": [
       "<AxesSubplot: >"
      ]
     },
     "execution_count": 133,
     "metadata": {},
     "output_type": "execute_result"
    },
    {
     "data": {
      "image/png": "[encoded data removed]",
      "text/plain": [
       "<Figure size 432x288 with 1 Axes>"
      ]
     },
     "metadata": {
      "needs_background": "light"
     },
     "output_type": "display_data"
    }
   ],
   "source": [
    "data.boxplot(column='NumberofBuildings')"
   ]
  },
  {
   "cell_type": "code",
   "execution_count": 134,
   "id": "09a96c1b",
   "metadata": {},
   "outputs": [
    {
     "data": {
      "text/html": [
       "<div>\n",
       "<style scoped>\n",
       "    .dataframe tbody tr th:only-of-type {\n",
       "        vertical-align: middle;\n",
       "    }\n",
       "\n",
       "    .dataframe tbody tr th {\n",
       "        vertical-align: top;\n",
       "    }\n",
       "\n",
       "    .dataframe thead th {\n",
       "        text-align: right;\n",
       "    }\n",
       "</style>\n",
       "<table border=\"1\" class=\"dataframe\">\n",
       "  <thead>\n",
       "    <tr style=\"text-align: right;\">\n",
       "      <th></th>\n",
       "      <th>OSEBuildingID</th>\n",
       "      <th>NumberofBuildings</th>\n",
       "      <th>NumberofFloors</th>\n",
       "      <th>PropertyGFATotal</th>\n",
       "      <th>PropertyGFAParking</th>\n",
       "      <th>PropertyGFABuilding(s)</th>\n",
       "      <th>LargestPropertyUseTypeGFA</th>\n",
       "      <th>SecondLargestPropertyUseTypeGFA</th>\n",
       "      <th>ThirdLargestPropertyUseTypeGFA</th>\n",
       "      <th>YearsENERGYSTARCertified</th>\n",
       "      <th>...</th>\n",
       "      <th>Large Office</th>\n",
       "      <th>Medical Office</th>\n",
       "      <th>Mixed Use Property</th>\n",
       "      <th>Other</th>\n",
       "      <th>Retail Store</th>\n",
       "      <th>Small- and Mid-Sized Office</th>\n",
       "      <th>Supermarket / Grocery Store</th>\n",
       "      <th>Warehouse</th>\n",
       "      <th>Worship Facility</th>\n",
       "      <th>Building_age</th>\n",
       "    </tr>\n",
       "  </thead>\n",
       "  <tbody>\n",
       "    <tr>\n",
       "      <th>3274</th>\n",
       "      <td>49967</td>\n",
       "      <td>111.0</td>\n",
       "      <td>0</td>\n",
       "      <td>9320156</td>\n",
       "      <td>0</td>\n",
       "      <td>9320156</td>\n",
       "      <td>9320156.0</td>\n",
       "      <td>NaN</td>\n",
       "      <td>NaN</td>\n",
       "      <td>NaN</td>\n",
       "      <td>...</td>\n",
       "      <td>0</td>\n",
       "      <td>0</td>\n",
       "      <td>0</td>\n",
       "      <td>0</td>\n",
       "      <td>0</td>\n",
       "      <td>0</td>\n",
       "      <td>0</td>\n",
       "      <td>0</td>\n",
       "      <td>0</td>\n",
       "      <td>116</td>\n",
       "    </tr>\n",
       "  </tbody>\n",
       "</table>\n",
       "<p>1 rows × 41 columns</p>\n",
       "</div>"
      ],
      "text/plain": [
       "      OSEBuildingID  NumberofBuildings  NumberofFloors  PropertyGFATotal  \\\n",
       "3274          49967              111.0               0           9320156   \n",
       "\n",
       "      PropertyGFAParking  PropertyGFABuilding(s)  LargestPropertyUseTypeGFA  \\\n",
       "3274                   0                 9320156                  9320156.0   \n",
       "\n",
       "      SecondLargestPropertyUseTypeGFA  ThirdLargestPropertyUseTypeGFA  \\\n",
       "3274                              NaN                             NaN   \n",
       "\n",
       "     YearsENERGYSTARCertified  ...  Large Office  Medical Office  \\\n",
       "3274                      NaN  ...             0               0   \n",
       "\n",
       "      Mixed Use Property  Other  Retail Store  Small- and Mid-Sized Office  \\\n",
       "3274                   0      0             0                            0   \n",
       "\n",
       "      Supermarket / Grocery Store  Warehouse  Worship Facility  Building_age  \n",
       "3274                            0          0                 0           116  \n",
       "\n",
       "[1 rows x 41 columns]"
      ]
     },
     "execution_count": 134,
     "metadata": {},
     "output_type": "execute_result"
    }
   ],
   "source": [
    "data[data['NumberofBuildings'] == 111]"
   ]
  },
  {
   "cell_type": "code",
   "execution_count": 135,
   "id": "142fe1ab",
   "metadata": {},
   "outputs": [],
   "source": [
    "data = data.drop(data.loc[data['NumberofBuildings'] == 111].index,  axis=0)"
   ]
  },
  {
   "cell_type": "code",
   "execution_count": 136,
   "id": "55cb67b9",
   "metadata": {},
   "outputs": [
    {
     "data": {
      "text/plain": [
       "<AxesSubplot: >"
      ]
     },
     "execution_count": 136,
     "metadata": {},
     "output_type": "execute_result"
    },
    {
     "data": {
      "image/png": "[encoded data removed]",
      "text/plain": [
       "<Figure size 432x288 with 1 Axes>"
      ]
     },
     "metadata": {
      "needs_background": "light"
     },
     "output_type": "display_data"
    }
   ],
   "source": [
    "data.boxplot(column='NumberofBuildings')"
   ]
  },
  {
   "cell_type": "code",
   "execution_count": 137,
   "id": "bfcb49f0",
   "metadata": {},
   "outputs": [
    {
     "data": {
      "text/plain": [
       "(array([1.61e+03, 2.30e+01, 7.00e+00, 2.00e+00, 1.00e+00, 2.00e+00,\n",
       "        0.00e+00, 0.00e+00, 1.00e+00, 1.00e+00]),\n",
       " array([ 0. ,  2.7,  5.4,  8.1, 10.8, 13.5, 16.2, 18.9, 21.6, 24.3, 27. ]),\n",
       " <BarContainer object of 10 artists>)"
      ]
     },
     "execution_count": 137,
     "metadata": {},
     "output_type": "execute_result"
    },
    {
     "data": {
      "image/png": "[encoded data removed]",
      "text/plain": [
       "<Figure size 432x288 with 1 Axes>"
      ]
     },
     "metadata": {
      "needs_background": "light"
     },
     "output_type": "display_data"
    }
   ],
   "source": [
    "plt.hist(data['NumberofBuildings'])"
   ]
  },
  {
   "cell_type": "code",
   "execution_count": 138,
   "id": "f3260181",
   "metadata": {},
   "outputs": [],
   "source": [
    "#outliers_high = data[data['NumberofBuildings'] > data['NumberofBuildings'].quantile(0.975)].index"
   ]
  },
  {
   "cell_type": "code",
   "execution_count": 139,
   "id": "cbf2ccc3",
   "metadata": {},
   "outputs": [],
   "source": [
    "#outliers_high"
   ]
  },
  {
   "cell_type": "code",
   "execution_count": 140,
   "id": "afc8be22",
   "metadata": {},
   "outputs": [],
   "source": [
    "#data.filter(items=outliers_high, axis=0)"
   ]
  },
  {
   "cell_type": "code",
   "execution_count": 141,
   "id": "22e0c6e9",
   "metadata": {},
   "outputs": [
    {
     "data": {
      "text/plain": [
       "(1649, 41)"
      ]
     },
     "execution_count": 141,
     "metadata": {},
     "output_type": "execute_result"
    }
   ],
   "source": [
    "data.shape"
   ]
  },
  {
   "cell_type": "markdown",
   "id": "7d086815",
   "metadata": {},
   "source": [
    "## NumberofFloors\n",
    "\n",
    "*Number of floors reported in Portfolio Manager*"
   ]
  },
  {
   "cell_type": "code",
   "execution_count": 142,
   "id": "3ecd5e54",
   "metadata": {},
   "outputs": [
    {
     "data": {
      "text/plain": [
       "45"
      ]
     },
     "execution_count": 142,
     "metadata": {},
     "output_type": "execute_result"
    }
   ],
   "source": [
    "data['NumberofFloors'].nunique()"
   ]
  },
  {
   "cell_type": "code",
   "execution_count": 143,
   "id": "06472acd",
   "metadata": {},
   "outputs": [
    {
     "data": {
      "text/plain": [
       "array([12, 11, 41, 10, 18,  2,  8, 15, 25,  9, 33,  6, 28,  5, 19,  7,  1,\n",
       "        3,  4, 24, 20, 34,  0, 16, 23, 17, 36, 22, 47, 29, 14, 49, 37, 42,\n",
       "       63, 13, 21, 55, 46, 30, 56, 76, 27, 99, 39], dtype=int64)"
      ]
     },
     "execution_count": 143,
     "metadata": {},
     "output_type": "execute_result"
    }
   ],
   "source": [
    "data['NumberofFloors'].unique()"
   ]
  },
  {
   "cell_type": "code",
   "execution_count": 144,
   "id": "ed34fd17",
   "metadata": {
    "scrolled": true
   },
   "outputs": [
    {
     "data": {
      "text/plain": [
       "1     460\n",
       "2     386\n",
       "3     265\n",
       "4     145\n",
       "5     102\n",
       "6      83\n",
       "7      33\n",
       "8      22\n",
       "10     18\n",
       "11     18\n",
       "0      15\n",
       "12      9\n",
       "14      9\n",
       "9       8\n",
       "13      7\n",
       "15      6\n",
       "42      5\n",
       "19      5\n",
       "17      4\n",
       "24      3\n",
       "33      3\n",
       "29      3\n",
       "25      3\n",
       "22      3\n",
       "23      3\n",
       "20      3\n",
       "18      3\n",
       "21      3\n",
       "16      3\n",
       "34      2\n",
       "36      2\n",
       "41      2\n",
       "47      1\n",
       "76      1\n",
       "63      1\n",
       "56      1\n",
       "55      1\n",
       "49      1\n",
       "39      1\n",
       "46      1\n",
       "37      1\n",
       "30      1\n",
       "28      1\n",
       "27      1\n",
       "99      1\n",
       "Name: NumberofFloors, dtype: int64"
      ]
     },
     "execution_count": 144,
     "metadata": {},
     "output_type": "execute_result"
    }
   ],
   "source": [
    "data['NumberofFloors'].value_counts()"
   ]
  },
  {
   "cell_type": "code",
   "execution_count": 145,
   "id": "d1f3ac3c",
   "metadata": {},
   "outputs": [
    {
     "data": {
      "text/plain": [
       "<AxesSubplot: >"
      ]
     },
     "execution_count": 145,
     "metadata": {},
     "output_type": "execute_result"
    },
    {
     "data": {
      "image/png": "[encoded data removed]",
      "text/plain": [
       "<Figure size 432x288 with 1 Axes>"
      ]
     },
     "metadata": {
      "needs_background": "light"
     },
     "output_type": "display_data"
    }
   ],
   "source": [
    "data.boxplot(column='NumberofFloors')"
   ]
  },
  {
   "cell_type": "code",
   "execution_count": 146,
   "id": "33de9025",
   "metadata": {},
   "outputs": [
    {
     "data": {
      "text/plain": [
       "(array([1.519e+03, 8.200e+01, 2.300e+01, 1.000e+01, 1.000e+01, 2.000e+00,\n",
       "        1.000e+00, 1.000e+00, 0.000e+00, 1.000e+00]),\n",
       " array([ 0. ,  9.9, 19.8, 29.7, 39.6, 49.5, 59.4, 69.3, 79.2, 89.1, 99. ]),\n",
       " <BarContainer object of 10 artists>)"
      ]
     },
     "execution_count": 146,
     "metadata": {},
     "output_type": "execute_result"
    },
    {
     "data": {
      "image/png": "[encoded data removed]",
      "text/plain": [
       "<Figure size 432x288 with 1 Axes>"
      ]
     },
     "metadata": {
      "needs_background": "light"
     },
     "output_type": "display_data"
    }
   ],
   "source": [
    "plt.hist(data['NumberofFloors'])"
   ]
  },
  {
   "cell_type": "code",
   "execution_count": 147,
   "id": "0c90d9da",
   "metadata": {},
   "outputs": [
    {
     "data": {
      "text/plain": [
       "(1649, 41)"
      ]
     },
     "execution_count": 147,
     "metadata": {},
     "output_type": "execute_result"
    }
   ],
   "source": [
    "data.shape"
   ]
  },
  {
   "cell_type": "markdown",
   "id": "d557e34a",
   "metadata": {},
   "source": [
    "## PropertyGFATotal\n",
    "\n",
    "*Total building and parking gross floor area.*"
   ]
  },
  {
   "cell_type": "code",
   "execution_count": 148,
   "id": "b08b2f73",
   "metadata": {},
   "outputs": [
    {
     "data": {
      "text/plain": [
       "0        88434\n",
       "1       103566\n",
       "2       956110\n",
       "3        61320\n",
       "4       175580\n",
       "         ...  \n",
       "3371     12294\n",
       "3372     16000\n",
       "3373     13157\n",
       "3374     14101\n",
       "3375     18258\n",
       "Name: PropertyGFATotal, Length: 1649, dtype: int64"
      ]
     },
     "execution_count": 148,
     "metadata": {},
     "output_type": "execute_result"
    }
   ],
   "source": [
    "data['PropertyGFATotal']"
   ]
  },
  {
   "cell_type": "code",
   "execution_count": 149,
   "id": "315d2790",
   "metadata": {},
   "outputs": [
    {
     "data": {
      "text/plain": [
       "<AxesSubplot: >"
      ]
     },
     "execution_count": 149,
     "metadata": {},
     "output_type": "execute_result"
    },
    {
     "data": {
      "image/png": "[encoded data removed]",
      "text/plain": [
       "<Figure size 432x288 with 1 Axes>"
      ]
     },
     "metadata": {
      "needs_background": "light"
     },
     "output_type": "display_data"
    }
   ],
   "source": [
    "data.boxplot(column='PropertyGFATotal')"
   ]
  },
  {
   "cell_type": "code",
   "execution_count": 150,
   "id": "1658ce6a",
   "metadata": {},
   "outputs": [
    {
     "data": {
      "text/plain": [
       "(array([1.452e+03, 1.280e+02, 3.000e+01, 1.500e+01, 7.000e+00, 6.000e+00,\n",
       "        5.000e+00, 3.000e+00, 2.000e+00, 1.000e+00]),\n",
       " array([  11285. ,  230156.5,  449028. ,  667899.5,  886771. , 1105642.5,\n",
       "        1324514. , 1543385.5, 1762257. , 1981128.5, 2200000. ]),\n",
       " <BarContainer object of 10 artists>)"
      ]
     },
     "execution_count": 150,
     "metadata": {},
     "output_type": "execute_result"
    },
    {
     "data": {
      "image/png": "[encoded data removed]",
      "text/plain": [
       "<Figure size 432x288 with 1 Axes>"
      ]
     },
     "metadata": {
      "needs_background": "light"
     },
     "output_type": "display_data"
    }
   ],
   "source": [
    "plt.hist(data['PropertyGFATotal'])"
   ]
  },
  {
   "cell_type": "code",
   "execution_count": 151,
   "id": "9e4f95e6",
   "metadata": {},
   "outputs": [
    {
     "data": {
      "text/plain": [
       "Int64Index([   2,   36,   49,   77,  124,  128,  155,  158,  166,  170,  205,\n",
       "             206,  207,  212,  214,  221,  225,  227,  229,  230,  231,  233,\n",
       "             261,  271,  273,  285,  292,  293,  302,  304,  307,  477,  490,\n",
       "             559,  564,  577,  618, 1418, 1494, 2314, 2530, 2835],\n",
       "           dtype='int64')"
      ]
     },
     "execution_count": 151,
     "metadata": {},
     "output_type": "execute_result"
    }
   ],
   "source": [
    "outliers_high = data[data['PropertyGFATotal'] > data['PropertyGFATotal'].quantile(0.975)].index\n",
    "outliers_high"
   ]
  },
  {
   "cell_type": "code",
   "execution_count": 152,
   "id": "d2b5699f",
   "metadata": {},
   "outputs": [
    {
     "data": {
      "text/plain": [
       "Int64Index([ 780,  859, 1027, 1030, 1106, 1132, 1134, 1162, 1191, 1244, 1472,\n",
       "            1497, 1581, 1620, 1727, 1734, 1817, 2049, 2104, 2106, 2143, 2144,\n",
       "            2185, 2192, 2227, 2246, 2385, 2930, 3361, 3362, 3363, 3364, 3365,\n",
       "            3366, 3368, 3369, 3370, 3371, 3372, 3373, 3374, 3375],\n",
       "           dtype='int64')"
      ]
     },
     "execution_count": 152,
     "metadata": {},
     "output_type": "execute_result"
    }
   ],
   "source": [
    "outliers_low = data[data['PropertyGFATotal'] < data['PropertyGFATotal'].quantile(0.025)].index\n",
    "outliers_low"
   ]
  },
  {
   "cell_type": "code",
   "execution_count": 153,
   "id": "29691be2",
   "metadata": {},
   "outputs": [],
   "source": [
    "data = data.drop(outliers_high)\n",
    "data = data.drop(outliers_low)"
   ]
  },
  {
   "cell_type": "code",
   "execution_count": 154,
   "id": "69820f83",
   "metadata": {},
   "outputs": [
    {
     "data": {
      "text/plain": [
       "(1565, 41)"
      ]
     },
     "execution_count": 154,
     "metadata": {},
     "output_type": "execute_result"
    }
   ],
   "source": [
    "data.shape"
   ]
  },
  {
   "cell_type": "markdown",
   "id": "2ae1e9bc",
   "metadata": {},
   "source": [
    "## PropertyGFAParking\n",
    "\n",
    "*Total space in square feet of all types of parking (Fully Enclosed, Partially Enclosed, and Open).*\n",
    "\n",
    "* Dopping: correlated to PropertyGFATotal"
   ]
  },
  {
   "cell_type": "code",
   "execution_count": 155,
   "id": "32421e82",
   "metadata": {},
   "outputs": [],
   "source": [
    "data = data.drop('PropertyGFAParking', axis=1)"
   ]
  },
  {
   "cell_type": "code",
   "execution_count": 156,
   "id": "d3b748e5",
   "metadata": {},
   "outputs": [
    {
     "data": {
      "text/plain": [
       "(1565, 40)"
      ]
     },
     "execution_count": 156,
     "metadata": {},
     "output_type": "execute_result"
    }
   ],
   "source": [
    "data.shape"
   ]
  },
  {
   "cell_type": "markdown",
   "id": "78effe81",
   "metadata": {},
   "source": [
    "## PropertyGFABuilding(s)\n",
    "\n",
    "*Total floor space in square feet between the outside surfaces of a building’s enclosing walls. This includes all areas inside the building(s), such as tenant space, common areas, stairwells, basements, storage, etc.*\n",
    "\n",
    "* Dropping: correlated to PropertyGFATotal"
   ]
  },
  {
   "cell_type": "code",
   "execution_count": 157,
   "id": "d204e4f9",
   "metadata": {},
   "outputs": [],
   "source": [
    "data = data.drop('PropertyGFABuilding(s)', axis=1)"
   ]
  },
  {
   "cell_type": "code",
   "execution_count": 158,
   "id": "ba077ea9",
   "metadata": {},
   "outputs": [
    {
     "data": {
      "text/plain": [
       "(1565, 39)"
      ]
     },
     "execution_count": 158,
     "metadata": {},
     "output_type": "execute_result"
    }
   ],
   "source": [
    "data.shape"
   ]
  },
  {
   "cell_type": "markdown",
   "id": "5f3cbf0c",
   "metadata": {},
   "source": [
    "## LargestPropertyUseTypeGFA\n",
    "\n",
    "*The gross floor area (GFA) of the largest use of the property.*\n",
    "\n",
    "* Dropping: correlated to PropertyGFATotal"
   ]
  },
  {
   "cell_type": "code",
   "execution_count": 159,
   "id": "491e056f",
   "metadata": {},
   "outputs": [],
   "source": [
    "data = data.drop('LargestPropertyUseTypeGFA', axis=1)"
   ]
  },
  {
   "cell_type": "code",
   "execution_count": 160,
   "id": "5393d1aa",
   "metadata": {},
   "outputs": [
    {
     "data": {
      "text/plain": [
       "(1565, 38)"
      ]
     },
     "execution_count": 160,
     "metadata": {},
     "output_type": "execute_result"
    }
   ],
   "source": [
    "data.shape"
   ]
  },
  {
   "cell_type": "markdown",
   "id": "a7baed40",
   "metadata": {},
   "source": [
    "## SiteEnergyUse(kBtu)\n",
    "\n",
    "*The annual amount of energy consumed by the property from all sources of energy.*\n",
    "\n",
    "* Dropping: correlated to PropertyGFATotal"
   ]
  },
  {
   "cell_type": "code",
   "execution_count": 161,
   "id": "f8c0f9c6",
   "metadata": {},
   "outputs": [],
   "source": [
    "data = data.drop('SiteEnergyUse(kBtu)', axis=1)"
   ]
  },
  {
   "cell_type": "code",
   "execution_count": 162,
   "id": "de20744f",
   "metadata": {},
   "outputs": [
    {
     "data": {
      "text/plain": [
       "(1565, 37)"
      ]
     },
     "execution_count": 162,
     "metadata": {},
     "output_type": "execute_result"
    }
   ],
   "source": [
    "data.shape"
   ]
  },
  {
   "cell_type": "markdown",
   "id": "f1574da2",
   "metadata": {},
   "source": [
    "## SecondLargestPropertyUseTypeGFA\n",
    "\n",
    "*The gross floor area (GFA) of the second largest use of the property.*\n",
    "\n",
    "* Full useless, maybe use later"
   ]
  },
  {
   "cell_type": "code",
   "execution_count": 163,
   "id": "685ec611",
   "metadata": {},
   "outputs": [],
   "source": [
    "data = data.drop('SecondLargestPropertyUseTypeGFA', axis=1)"
   ]
  },
  {
   "cell_type": "code",
   "execution_count": 164,
   "id": "a1c31445",
   "metadata": {},
   "outputs": [
    {
     "data": {
      "text/plain": [
       "(1565, 36)"
      ]
     },
     "execution_count": 164,
     "metadata": {},
     "output_type": "execute_result"
    }
   ],
   "source": [
    "data.shape"
   ]
  },
  {
   "cell_type": "markdown",
   "id": "f260fa2f",
   "metadata": {},
   "source": [
    "## ThirdLargestPropertyUseTypeGFA\n",
    "\n",
    "*The third largest use of a property (e.g. office, retail store) by GFA.*\n",
    "\n",
    "* Full useless, maybe use later"
   ]
  },
  {
   "cell_type": "code",
   "execution_count": 165,
   "id": "14dcc3f3",
   "metadata": {},
   "outputs": [],
   "source": [
    "data = data.drop('ThirdLargestPropertyUseTypeGFA', axis=1)"
   ]
  },
  {
   "cell_type": "code",
   "execution_count": 166,
   "id": "c54f0441",
   "metadata": {},
   "outputs": [
    {
     "data": {
      "text/plain": [
       "(1565, 35)"
      ]
     },
     "execution_count": 166,
     "metadata": {},
     "output_type": "execute_result"
    }
   ],
   "source": [
    "data.shape"
   ]
  },
  {
   "cell_type": "markdown",
   "id": "37fb70dd",
   "metadata": {},
   "source": [
    "## SiteEUIWN(kBtu/sf)\n",
    "\n",
    "*Weather Normalized (WN) Site Energy Use Intensity (EUI) is a property's WN Site Energy divided by its gross floor area (in square feet). WN Site Energy is the Site Energy Use the property would have consumed during 30-year average weather conditions. WN Site EUI is measured in measured in thousands of British thermal units (kBtu) per square foot.*\n",
    "\n",
    "* Dropping: correlated to SiteEUI(kBtu/sf)"
   ]
  },
  {
   "cell_type": "code",
   "execution_count": 167,
   "id": "8f1a70b0",
   "metadata": {},
   "outputs": [],
   "source": [
    "data = data.drop('SiteEUIWN(kBtu/sf)', axis=1)"
   ]
  },
  {
   "cell_type": "code",
   "execution_count": 168,
   "id": "a5d678c3",
   "metadata": {},
   "outputs": [
    {
     "data": {
      "text/plain": [
       "(1565, 34)"
      ]
     },
     "execution_count": 168,
     "metadata": {},
     "output_type": "execute_result"
    }
   ],
   "source": [
    "data.shape"
   ]
  },
  {
   "cell_type": "markdown",
   "id": "9cfd6b3b",
   "metadata": {},
   "source": [
    "## SourceEUI(kBtu/sf)\n",
    "\n",
    "*Source Energy Use Intensity (EUI) is a property's Source Energy Use divided by its gross floor area. Source Energy Use is the annual energy used to operate the property, including losses from generation, transmission, & distribution. Source EUI is measured in thousands of British thermal units (kBtu) per square foot.*\n",
    "\n",
    "* Dropping: correlated to SiteEUI(kBtu/sf)"
   ]
  },
  {
   "cell_type": "code",
   "execution_count": 169,
   "id": "3d488ec4",
   "metadata": {},
   "outputs": [],
   "source": [
    "data = data.drop('SourceEUI(kBtu/sf)', axis=1)"
   ]
  },
  {
   "cell_type": "code",
   "execution_count": 170,
   "id": "73c34a61",
   "metadata": {},
   "outputs": [
    {
     "data": {
      "text/plain": [
       "(1565, 33)"
      ]
     },
     "execution_count": 170,
     "metadata": {},
     "output_type": "execute_result"
    }
   ],
   "source": [
    "data.shape"
   ]
  },
  {
   "cell_type": "markdown",
   "id": "d55b9da5",
   "metadata": {},
   "source": [
    "## SourceEUIWN(kBtu/sf)\n",
    "\n",
    "*Weather Normalized (WN) Source Energy Use Intensity (EUI) is a property's WN Source Energy divided by its gross floor area. WN Source Energy is the Source Energy Use the property would have consumed during 30-year average weather conditions. WN Source EUI is measured in measured in thousands of British thermal units (kBtu) per square foot.*\n",
    "\n",
    "* Dropping: correlated to SiteEUI(kBtu/sf)"
   ]
  },
  {
   "cell_type": "code",
   "execution_count": 171,
   "id": "85e497ea",
   "metadata": {},
   "outputs": [],
   "source": [
    "data = data.drop('SourceEUIWN(kBtu/sf)', axis=1)"
   ]
  },
  {
   "cell_type": "code",
   "execution_count": 172,
   "id": "2473b19d",
   "metadata": {},
   "outputs": [
    {
     "data": {
      "text/plain": [
       "(1565, 32)"
      ]
     },
     "execution_count": 172,
     "metadata": {},
     "output_type": "execute_result"
    }
   ],
   "source": [
    "data.shape"
   ]
  },
  {
   "cell_type": "markdown",
   "id": "057e3e37",
   "metadata": {},
   "source": [
    "## SiteEnergyUseWN(kBtu)\n",
    "\n",
    "*The annual amount of energy consumed by the property from all sources of energy, adjusted to what the property would have consumed during 30-year average weather conditions.*\n",
    "\n",
    "* Dropping: correlated to SiteEnergyUse(kBtu)"
   ]
  },
  {
   "cell_type": "code",
   "execution_count": 173,
   "id": "50dce2e8",
   "metadata": {},
   "outputs": [],
   "source": [
    "data = data.drop('SiteEnergyUseWN(kBtu)', axis=1)"
   ]
  },
  {
   "cell_type": "code",
   "execution_count": 174,
   "id": "b5bfad7a",
   "metadata": {},
   "outputs": [
    {
     "data": {
      "text/plain": [
       "(1565, 31)"
      ]
     },
     "execution_count": 174,
     "metadata": {},
     "output_type": "execute_result"
    }
   ],
   "source": [
    "data.shape"
   ]
  },
  {
   "cell_type": "markdown",
   "id": "dda7724c",
   "metadata": {},
   "source": [
    "## Electricity(kWh)\n",
    "\n",
    "*The annual amount of electricity consumed by the property on-site, including electricity purchased from the grid and generated by onsite renewable systems, measured in kWh.*\n",
    "\n",
    "* Dropping: correlated to SiteEnergyUse(kBtu)"
   ]
  },
  {
   "cell_type": "code",
   "execution_count": 175,
   "id": "8251a9a5",
   "metadata": {},
   "outputs": [],
   "source": [
    "data = data.drop('Electricity(kWh)', axis=1)"
   ]
  },
  {
   "cell_type": "code",
   "execution_count": 176,
   "id": "be185b98",
   "metadata": {},
   "outputs": [
    {
     "data": {
      "text/plain": [
       "(1565, 30)"
      ]
     },
     "execution_count": 176,
     "metadata": {},
     "output_type": "execute_result"
    }
   ],
   "source": [
    "data.shape"
   ]
  },
  {
   "cell_type": "markdown",
   "id": "4b1562e8",
   "metadata": {},
   "source": [
    "## Electricity(kBtu)\n",
    "\n",
    "*The annual amount of electricity consumed by the property on-site, including electricity purchased from the grid and generated by onsite renewable systems, measured in thousands of British thermal units (kBtu).*\n",
    "\n",
    "* Dropping: correlated to SiteEnergyUse(kBtu)"
   ]
  },
  {
   "cell_type": "code",
   "execution_count": 177,
   "id": "4a84304b",
   "metadata": {},
   "outputs": [],
   "source": [
    "data = data.drop('Electricity(kBtu)', axis=1)"
   ]
  },
  {
   "cell_type": "code",
   "execution_count": 178,
   "id": "9c88891f",
   "metadata": {},
   "outputs": [
    {
     "data": {
      "text/plain": [
       "(1565, 29)"
      ]
     },
     "execution_count": 178,
     "metadata": {},
     "output_type": "execute_result"
    }
   ],
   "source": [
    "data.shape"
   ]
  },
  {
   "cell_type": "markdown",
   "id": "2250f6a6",
   "metadata": {},
   "source": [
    "## SiteEUI(kBtu/sf)\n",
    "\n",
    "*Site Energy Use Intensity (EUI) is a property's Site Energy Use divided by its gross floor area. Site Energy Use is the annual amount of all the energy consumed by the property on-site, as reported on utility bills. Site EUI is measured in thousands of British thermal units (kBtu) per square foot.*\n",
    "\n",
    "* Dropping: correlated to TotalGHGEmissions"
   ]
  },
  {
   "cell_type": "code",
   "execution_count": 179,
   "id": "f902e602",
   "metadata": {},
   "outputs": [],
   "source": [
    "data = data.drop('SiteEUI(kBtu/sf)', axis=1)"
   ]
  },
  {
   "cell_type": "code",
   "execution_count": 180,
   "id": "01345d23",
   "metadata": {},
   "outputs": [
    {
     "data": {
      "text/plain": [
       "(1565, 28)"
      ]
     },
     "execution_count": 180,
     "metadata": {},
     "output_type": "execute_result"
    }
   ],
   "source": [
    "data.shape"
   ]
  },
  {
   "cell_type": "markdown",
   "id": "4859aace",
   "metadata": {},
   "source": [
    "## NaturalGas(therms)\n",
    "\n",
    "*The annual amount of utility-supplied natural gas consumed by the property, measured in therms.*\n",
    "\n",
    "* Dropping: correlated to TotalGHGEmissions"
   ]
  },
  {
   "cell_type": "code",
   "execution_count": 181,
   "id": "95119a65",
   "metadata": {},
   "outputs": [],
   "source": [
    "data = data.drop('NaturalGas(therms)', axis=1)"
   ]
  },
  {
   "cell_type": "code",
   "execution_count": 182,
   "id": "7dfe7a48",
   "metadata": {},
   "outputs": [
    {
     "data": {
      "text/plain": [
       "(1565, 27)"
      ]
     },
     "execution_count": 182,
     "metadata": {},
     "output_type": "execute_result"
    }
   ],
   "source": [
    "data.shape"
   ]
  },
  {
   "cell_type": "markdown",
   "id": "1e8dca8c",
   "metadata": {},
   "source": [
    "## NaturalGas(kBtu)\n",
    "\n",
    "*The annual amount of utility-supplied natural gas consumed by the property, measured in thousands of British thermal units (kBtu).*\n",
    "\n",
    "* Dropping: correlated to TotalGHGEmissions"
   ]
  },
  {
   "cell_type": "code",
   "execution_count": 183,
   "id": "4ec2dcdb",
   "metadata": {},
   "outputs": [],
   "source": [
    "data = data.drop('NaturalGas(kBtu)', axis=1)"
   ]
  },
  {
   "cell_type": "code",
   "execution_count": 184,
   "id": "55d2ddf9",
   "metadata": {},
   "outputs": [
    {
     "data": {
      "text/plain": [
       "(1565, 26)"
      ]
     },
     "execution_count": 184,
     "metadata": {},
     "output_type": "execute_result"
    }
   ],
   "source": [
    "data.shape"
   ]
  },
  {
   "cell_type": "markdown",
   "id": "480cd5de",
   "metadata": {},
   "source": [
    "## SteamUse(kBtu)\n",
    "\n",
    "*The annual amount of district steam consumed by the property on-site, measured in thousands of British thermal units (kBtu).*\n",
    "\n",
    "* Dropping: data we're not supposed to have for predictions"
   ]
  },
  {
   "cell_type": "code",
   "execution_count": 185,
   "id": "dcd37617",
   "metadata": {},
   "outputs": [],
   "source": [
    "data = data.drop('SteamUse(kBtu)', axis=1)"
   ]
  },
  {
   "cell_type": "code",
   "execution_count": 186,
   "id": "173539b0",
   "metadata": {},
   "outputs": [
    {
     "data": {
      "text/plain": [
       "(1565, 25)"
      ]
     },
     "execution_count": 186,
     "metadata": {},
     "output_type": "execute_result"
    }
   ],
   "source": [
    "data.shape"
   ]
  },
  {
   "cell_type": "markdown",
   "id": "ed89009c",
   "metadata": {},
   "source": [
    "## GHGEmissionsIntensity\n",
    "\n",
    "*Total Greenhouse Gas Emissions divided by property's gross floor area, measured in kilograms of carbon dioxide equivalent per square foot. This calculation uses a GHG emissions factor from Seattle City Light's portfolio of generating resources*\n",
    "\n",
    "* Dropping for now: correlated to TotalGHGEmissions\n",
    "* Maybe use later as a feature to predict"
   ]
  },
  {
   "cell_type": "code",
   "execution_count": 187,
   "id": "95a22f6d",
   "metadata": {},
   "outputs": [],
   "source": [
    "data = data.drop('GHGEmissionsIntensity', axis=1)"
   ]
  },
  {
   "cell_type": "code",
   "execution_count": 188,
   "id": "a67c877c",
   "metadata": {},
   "outputs": [
    {
     "data": {
      "text/plain": [
       "(1565, 24)"
      ]
     },
     "execution_count": 188,
     "metadata": {},
     "output_type": "execute_result"
    }
   ],
   "source": [
    "data.shape"
   ]
  },
  {
   "cell_type": "markdown",
   "id": "a737d9af",
   "metadata": {},
   "source": [
    "## YearsENERGYSTARCertified\n",
    "\n",
    "*Years the property has received ENERGY STAR certification.*\n",
    "\n",
    "* 94% empty, dropping for now"
   ]
  },
  {
   "cell_type": "code",
   "execution_count": 189,
   "id": "632f458f",
   "metadata": {},
   "outputs": [],
   "source": [
    "data = data.drop('YearsENERGYSTARCertified', axis=1)"
   ]
  },
  {
   "cell_type": "code",
   "execution_count": 190,
   "id": "ed03dfcf",
   "metadata": {},
   "outputs": [
    {
     "data": {
      "text/plain": [
       "(1565, 23)"
      ]
     },
     "execution_count": 190,
     "metadata": {},
     "output_type": "execute_result"
    }
   ],
   "source": [
    "data.shape"
   ]
  },
  {
   "cell_type": "markdown",
   "id": "0996f743",
   "metadata": {},
   "source": [
    "## ENERGYSTARScore\n",
    "\n",
    "*An EPA calculated 1-100 rating that assesses a property’s overall energy performance, based on national data to control for differences among climate, building uses, and operations. A score of 50 represents the national median.*\n",
    "\n",
    "* Dropping for now, work on it later"
   ]
  },
  {
   "cell_type": "code",
   "execution_count": 191,
   "id": "54441e4f",
   "metadata": {},
   "outputs": [
    {
     "data": {
      "text/plain": [
       "0       60.0\n",
       "1       61.0\n",
       "3       56.0\n",
       "4       75.0\n",
       "5        NaN\n",
       "        ... \n",
       "3340     NaN\n",
       "3347    77.0\n",
       "3356     NaN\n",
       "3360     NaN\n",
       "3367     NaN\n",
       "Name: ENERGYSTARScore, Length: 1565, dtype: float64"
      ]
     },
     "execution_count": 191,
     "metadata": {},
     "output_type": "execute_result"
    }
   ],
   "source": [
    "data['ENERGYSTARScore']"
   ]
  },
  {
   "cell_type": "code",
   "execution_count": 192,
   "id": "057ce14c",
   "metadata": {},
   "outputs": [
    {
     "data": {
      "text/plain": [
       "<AxesSubplot: >"
      ]
     },
     "execution_count": 192,
     "metadata": {},
     "output_type": "execute_result"
    },
    {
     "data": {
      "image/png": "[encoded data removed]",
      "text/plain": [
       "<Figure size 432x288 with 1 Axes>"
      ]
     },
     "metadata": {
      "needs_background": "light"
     },
     "output_type": "display_data"
    }
   ],
   "source": [
    "data.boxplot(column='ENERGYSTARScore')"
   ]
  },
  {
   "cell_type": "code",
   "execution_count": 193,
   "id": "c54390fb",
   "metadata": {},
   "outputs": [
    {
     "data": {
      "text/plain": [
       "(array([ 69.,  49.,  43.,  58.,  58.,  99., 108., 154., 173., 218.]),\n",
       " array([  1. ,  10.9,  20.8,  30.7,  40.6,  50.5,  60.4,  70.3,  80.2,\n",
       "         90.1, 100. ]),\n",
       " <BarContainer object of 10 artists>)"
      ]
     },
     "execution_count": 193,
     "metadata": {},
     "output_type": "execute_result"
    },
    {
     "data": {
      "image/png": "[encoded data removed]",
      "text/plain": [
       "<Figure size 432x288 with 1 Axes>"
      ]
     },
     "metadata": {
      "needs_background": "light"
     },
     "output_type": "display_data"
    }
   ],
   "source": [
    "plt.hist(data['ENERGYSTARScore'])"
   ]
  },
  {
   "cell_type": "code",
   "execution_count": 194,
   "id": "ba8d6a15",
   "metadata": {},
   "outputs": [],
   "source": [
    "data = data.drop('ENERGYSTARScore', axis=1)"
   ]
  },
  {
   "cell_type": "code",
   "execution_count": 195,
   "id": "d514d4e8",
   "metadata": {},
   "outputs": [
    {
     "data": {
      "text/plain": [
       "(1565, 22)"
      ]
     },
     "execution_count": 195,
     "metadata": {},
     "output_type": "execute_result"
    }
   ],
   "source": [
    "data.shape"
   ]
  },
  {
   "cell_type": "markdown",
   "id": "8d77412c",
   "metadata": {},
   "source": [
    "<a name='TotalGHGEmissions'></a>\n",
    "## TotalGHGEmissions (feature to predict)\n",
    "\n",
    "*The total amount of greenhouse gas emissions, including carbon dioxide, methane, and nitrous oxide gases released into the atmosphere as a result of energy consumption at the property, measured in metric tons of carbon dioxide equivalent. This calculation uses a GHG emissions factor from Seattle CIty Light's portfolio of generating resources. This uses Seattle City Light's 2015 emissions factor of 52.44 lbs CO2e/MWh until the 2016 factor is available. Enwave steam factor = 170.17 lbs CO2e/MMBtu. Gas factor sourced from EPA Portfolio Manager = 53.11 kg CO2e/MBtu.*\n",
    "\n",
    "* Removing NaN values (2 lines)"
   ]
  },
  {
   "cell_type": "code",
   "execution_count": 196,
   "id": "09afbab0",
   "metadata": {},
   "outputs": [
    {
     "data": {
      "text/plain": [
       "0        249.98\n",
       "1        295.86\n",
       "3        286.43\n",
       "4        505.01\n",
       "5        301.81\n",
       "         ...   \n",
       "3340      67.65\n",
       "3347       9.24\n",
       "3356    1000.06\n",
       "3360       4.44\n",
       "3367     259.22\n",
       "Name: TotalGHGEmissions, Length: 1565, dtype: float64"
      ]
     },
     "execution_count": 196,
     "metadata": {},
     "output_type": "execute_result"
    }
   ],
   "source": [
    "data['TotalGHGEmissions']"
   ]
  },
  {
   "cell_type": "code",
   "execution_count": 197,
   "id": "f26a8faf",
   "metadata": {},
   "outputs": [
    {
     "data": {
      "text/plain": [
       "<AxesSubplot: >"
      ]
     },
     "execution_count": 197,
     "metadata": {},
     "output_type": "execute_result"
    },
    {
     "data": {
      "image/png": "[encoded data removed]",
      "text/plain": [
       "<Figure size 432x288 with 1 Axes>"
      ]
     },
     "metadata": {
      "needs_background": "light"
     },
     "output_type": "display_data"
    }
   ],
   "source": [
    "data.boxplot(column='TotalGHGEmissions')"
   ]
  },
  {
   "cell_type": "code",
   "execution_count": 198,
   "id": "6dee2347",
   "metadata": {},
   "outputs": [
    {
     "data": {
      "text/plain": [
       "(array([1.548e+03, 1.000e+01, 3.000e+00, 1.000e+00, 0.000e+00, 0.000e+00,\n",
       "        0.000e+00, 0.000e+00, 0.000e+00, 1.000e+00]),\n",
       " array([-8.0000000e-01,  1.6863780e+03,  3.3735560e+03,  5.0607340e+03,\n",
       "         6.7479120e+03,  8.4350900e+03,  1.0122268e+04,  1.1809446e+04,\n",
       "         1.3496624e+04,  1.5183802e+04,  1.6870980e+04]),\n",
       " <BarContainer object of 10 artists>)"
      ]
     },
     "execution_count": 198,
     "metadata": {},
     "output_type": "execute_result"
    },
    {
     "data": {
      "image/png": "[encoded data removed]",
      "text/plain": [
       "<Figure size 432x288 with 1 Axes>"
      ]
     },
     "metadata": {
      "needs_background": "light"
     },
     "output_type": "display_data"
    }
   ],
   "source": [
    "plt.hist(data['TotalGHGEmissions'])"
   ]
  },
  {
   "cell_type": "code",
   "execution_count": 199,
   "id": "1dadda45",
   "metadata": {},
   "outputs": [],
   "source": [
    "data = data[data['TotalGHGEmissions'].notnull()]"
   ]
  },
  {
   "cell_type": "code",
   "execution_count": 200,
   "id": "d4fa9447",
   "metadata": {},
   "outputs": [
    {
     "data": {
      "text/plain": [
       "(1563, 22)"
      ]
     },
     "execution_count": 200,
     "metadata": {},
     "output_type": "execute_result"
    }
   ],
   "source": [
    "data.shape"
   ]
  },
  {
   "cell_type": "code",
   "execution_count": 201,
   "id": "1c0f7b5e",
   "metadata": {},
   "outputs": [
    {
     "data": {
      "text/plain": [
       "Int64Index([  17,   20,   21,   35,   59,   71,   98,  105,  119,  167,  194,\n",
       "             220,  260,  262,  272,  280,  329,  334,  340,  346,  355,  373,\n",
       "             429,  550,  558,  809, 1672, 1690, 1754, 2325, 2522, 2524, 3156,\n",
       "            3182, 3187, 3205, 3233, 3261, 3264, 3356],\n",
       "           dtype='int64')"
      ]
     },
     "execution_count": 201,
     "metadata": {},
     "output_type": "execute_result"
    }
   ],
   "source": [
    "outliers_high = data[data['TotalGHGEmissions'] > data['TotalGHGEmissions'].quantile(0.975)].index\n",
    "outliers_high"
   ]
  },
  {
   "cell_type": "code",
   "execution_count": 202,
   "id": "e6ef6d3a",
   "metadata": {},
   "outputs": [
    {
     "data": {
      "text/plain": [
       "Int64Index([  28,  152,  513,  595,  683,  684,  746,  974, 1000, 1031, 1041,\n",
       "            1049, 1093, 1263, 1317, 1359, 1361, 1433, 1458, 1568, 1576, 1577,\n",
       "            1590, 1641, 1658, 1698, 1994, 2105, 2145, 2151, 2182, 2199, 2205,\n",
       "            2332, 2447, 2636, 2916, 2926, 3009, 3206],\n",
       "           dtype='int64')"
      ]
     },
     "execution_count": 202,
     "metadata": {},
     "output_type": "execute_result"
    }
   ],
   "source": [
    "outliers_low = data[data['TotalGHGEmissions'] < data['TotalGHGEmissions'].quantile(0.025)].index\n",
    "outliers_low"
   ]
  },
  {
   "cell_type": "code",
   "execution_count": 203,
   "id": "4865f51d",
   "metadata": {},
   "outputs": [],
   "source": [
    "data = data.drop(outliers_high)\n",
    "data = data.drop(outliers_low)"
   ]
  },
  {
   "cell_type": "code",
   "execution_count": 204,
   "id": "d6a509e3",
   "metadata": {},
   "outputs": [
    {
     "data": {
      "text/plain": [
       "(1483, 22)"
      ]
     },
     "execution_count": 204,
     "metadata": {},
     "output_type": "execute_result"
    }
   ],
   "source": [
    "data.shape"
   ]
  },
  {
   "cell_type": "markdown",
   "id": "02930dd9",
   "metadata": {},
   "source": [
    "<a name='Multivariate_analyses'></a>\n",
    "# Multivariate Analyses\n",
    "\n",
    "## NumberofBuildings vs NumberofFloors"
   ]
  },
  {
   "cell_type": "code",
   "execution_count": 205,
   "id": "a3d516a8",
   "metadata": {},
   "outputs": [
    {
     "data": {
      "image/png": "[encoded data removed]",
      "text/plain": [
       "<Figure size 720x432 with 1 Axes>"
      ]
     },
     "metadata": {
      "needs_background": "light"
     },
     "output_type": "display_data"
    }
   ],
   "source": [
    "fig, ax = plt.subplots(figsize=(10,6))\n",
    "plt.plot(data['NumberofBuildings'], data['NumberofFloors'], '.')\n",
    "ax.set_xlabel('NumberofBuildings', size=14)\n",
    "ax.set_ylabel(\"NumberofFloors\", size=14)\n",
    "plt.title(\"Nombre d'étages vs nombre de bâtiments\", size=18)\n",
    "plt.show()"
   ]
  },
  {
   "cell_type": "markdown",
   "id": "b431b13a",
   "metadata": {},
   "source": [
    "# Émissions vs superficie totale"
   ]
  },
  {
   "cell_type": "code",
   "execution_count": 206,
   "id": "0e36b3fe",
   "metadata": {},
   "outputs": [
    {
     "data": {
      "image/png": "[encoded data removed]",
      "text/plain": [
       "<Figure size 720x432 with 1 Axes>"
      ]
     },
     "metadata": {
      "needs_background": "light"
     },
     "output_type": "display_data"
    }
   ],
   "source": [
    "fig, ax = plt.subplots(figsize=(10,6))\n",
    "plt.plot(data['PropertyGFATotal'], data['TotalGHGEmissions'], '.')\n",
    "ax.set_xlabel('PropertyGFATotal', size=14)\n",
    "ax.set_ylabel(\"TotalGHGEmissions\", size=14)\n",
    "plt.title(\"Émissions vs superficie totale\", size=18)\n",
    "plt.show()"
   ]
  },
  {
   "cell_type": "markdown",
   "id": "a8a4eecb",
   "metadata": {},
   "source": [
    "# Émissions vs Nombre de bâtiments"
   ]
  },
  {
   "cell_type": "code",
   "execution_count": 207,
   "id": "c0a15d90",
   "metadata": {},
   "outputs": [
    {
     "data": {
      "image/png": "[encoded data removed]",
      "text/plain": [
       "<Figure size 720x432 with 1 Axes>"
      ]
     },
     "metadata": {
      "needs_background": "light"
     },
     "output_type": "display_data"
    }
   ],
   "source": [
    "fig, ax = plt.subplots(figsize=(10,6))\n",
    "plt.plot(data['NumberofBuildings'], data['TotalGHGEmissions'], '.')\n",
    "ax.set_xlabel('NumberofBuildings', size=14)\n",
    "ax.set_ylabel(\"TotalGHGEmissions\", size=14)\n",
    "plt.title(\"Émissions vs nombre de bâtiments\", size=18)\n",
    "plt.show()"
   ]
  },
  {
   "cell_type": "markdown",
   "id": "e3416201",
   "metadata": {},
   "source": [
    "# Émissions vs Number of floors"
   ]
  },
  {
   "cell_type": "code",
   "execution_count": 208,
   "id": "0bb2df9a",
   "metadata": {},
   "outputs": [
    {
     "data": {
      "image/png": "[encoded data removed]",
      "text/plain": [
       "<Figure size 720x432 with 1 Axes>"
      ]
     },
     "metadata": {
      "needs_background": "light"
     },
     "output_type": "display_data"
    }
   ],
   "source": [
    "fig, ax = plt.subplots(figsize=(10,6))\n",
    "plt.plot(data['NumberofFloors'], data['TotalGHGEmissions'], '.')\n",
    "ax.set_xlabel('NumberofFloors', size=14)\n",
    "ax.set_ylabel(\"TotalGHGEmissions\", size=14)\n",
    "plt.title(\"Émissions vs nombre d'étages\", size=18)\n",
    "plt.show()"
   ]
  },
  {
   "cell_type": "markdown",
   "id": "f26b75e5",
   "metadata": {},
   "source": [
    "# Émissions vs âge du bâtiment"
   ]
  },
  {
   "cell_type": "code",
   "execution_count": 209,
   "id": "c4923510",
   "metadata": {},
   "outputs": [
    {
     "data": {
      "image/png": "[encoded data removed]",
      "text/plain": [
       "<Figure size 720x432 with 1 Axes>"
      ]
     },
     "metadata": {
      "needs_background": "light"
     },
     "output_type": "display_data"
    }
   ],
   "source": [
    "fig, ax = plt.subplots(figsize=(10,6))\n",
    "plt.plot(data['Building_age'], data['TotalGHGEmissions'], '.')\n",
    "ax.set_xlabel('Building_age', size=14)\n",
    "ax.set_ylabel(\"TotalGHGEmissions\", size=14)\n",
    "plt.title(\"Émissions vs âge du bâtiment\", size=18)\n",
    "plt.show()"
   ]
  },
  {
   "cell_type": "markdown",
   "id": "8afdc4c7",
   "metadata": {},
   "source": [
    "# Nombre d'étages par type de bâtiment"
   ]
  },
  {
   "cell_type": "code",
   "execution_count": 210,
   "id": "9e868530",
   "metadata": {},
   "outputs": [
    {
     "data": {
      "image/png": "[encoded data removed]",
      "text/plain": [
       "<Figure size 1008x432 with 1 Axes>"
      ]
     },
     "metadata": {
      "needs_background": "light"
     },
     "output_type": "display_data"
    }
   ],
   "source": [
    "fig, ax = plt.subplots(figsize = (14,6))\n",
    "plt.hist([data[data['Campus'] == 1]['NumberofFloors'],\n",
    "          data[data['NonResidential'] == 1]['NumberofFloors'],\n",
    "          data[data['Nonresidential COS'] == 1]['NumberofFloors'],\n",
    "          data[data['SPS-District K-12'] == 1]['NumberofFloors']], bins=10, label=['Campus',\n",
    "                                                                                   'NonResidential',\n",
    "                                                                                   'Nonresidential COS',\n",
    "                                                                                   'SPS-District K-12'])\n",
    "ax.legend()\n",
    "plt.show()"
   ]
  },
  {
   "cell_type": "markdown",
   "id": "d844711f",
   "metadata": {},
   "source": [
    "# Export"
   ]
  },
  {
   "cell_type": "code",
   "execution_count": 211,
   "id": "d6ef2ab7",
   "metadata": {},
   "outputs": [
    {
     "data": {
      "text/html": [
       "<div>\n",
       "<style scoped>\n",
       "    .dataframe tbody tr th:only-of-type {\n",
       "        vertical-align: middle;\n",
       "    }\n",
       "\n",
       "    .dataframe tbody tr th {\n",
       "        vertical-align: top;\n",
       "    }\n",
       "\n",
       "    .dataframe thead th {\n",
       "        text-align: right;\n",
       "    }\n",
       "</style>\n",
       "<table border=\"1\" class=\"dataframe\">\n",
       "  <thead>\n",
       "    <tr style=\"text-align: right;\">\n",
       "      <th></th>\n",
       "      <th>OSEBuildingID</th>\n",
       "      <th>NumberofBuildings</th>\n",
       "      <th>NumberofFloors</th>\n",
       "      <th>PropertyGFATotal</th>\n",
       "      <th>TotalGHGEmissions</th>\n",
       "      <th>Campus</th>\n",
       "      <th>NonResidential</th>\n",
       "      <th>Nonresidential COS</th>\n",
       "      <th>SPS-District K-12</th>\n",
       "      <th>Distribution Center</th>\n",
       "      <th>...</th>\n",
       "      <th>Large Office</th>\n",
       "      <th>Medical Office</th>\n",
       "      <th>Mixed Use Property</th>\n",
       "      <th>Other</th>\n",
       "      <th>Retail Store</th>\n",
       "      <th>Small- and Mid-Sized Office</th>\n",
       "      <th>Supermarket / Grocery Store</th>\n",
       "      <th>Warehouse</th>\n",
       "      <th>Worship Facility</th>\n",
       "      <th>Building_age</th>\n",
       "    </tr>\n",
       "  </thead>\n",
       "  <tbody>\n",
       "    <tr>\n",
       "      <th>0</th>\n",
       "      <td>1</td>\n",
       "      <td>1.0</td>\n",
       "      <td>12</td>\n",
       "      <td>88434</td>\n",
       "      <td>249.98</td>\n",
       "      <td>0</td>\n",
       "      <td>1</td>\n",
       "      <td>0</td>\n",
       "      <td>0</td>\n",
       "      <td>0</td>\n",
       "      <td>...</td>\n",
       "      <td>0</td>\n",
       "      <td>0</td>\n",
       "      <td>0</td>\n",
       "      <td>0</td>\n",
       "      <td>0</td>\n",
       "      <td>0</td>\n",
       "      <td>0</td>\n",
       "      <td>0</td>\n",
       "      <td>0</td>\n",
       "      <td>89</td>\n",
       "    </tr>\n",
       "  </tbody>\n",
       "</table>\n",
       "<p>1 rows × 22 columns</p>\n",
       "</div>"
      ],
      "text/plain": [
       "   OSEBuildingID  NumberofBuildings  NumberofFloors  PropertyGFATotal  \\\n",
       "0              1                1.0              12             88434   \n",
       "\n",
       "   TotalGHGEmissions  Campus  NonResidential  Nonresidential COS  \\\n",
       "0             249.98       0               1                   0   \n",
       "\n",
       "   SPS-District K-12  Distribution Center  ...  Large Office  Medical Office  \\\n",
       "0                  0                    0  ...             0               0   \n",
       "\n",
       "   Mixed Use Property  Other  Retail Store  Small- and Mid-Sized Office  \\\n",
       "0                   0      0             0                            0   \n",
       "\n",
       "   Supermarket / Grocery Store  Warehouse  Worship Facility  Building_age  \n",
       "0                            0          0                 0            89  \n",
       "\n",
       "[1 rows x 22 columns]"
      ]
     },
     "metadata": {},
     "output_type": "display_data"
    },
    {
     "name": "stdout",
     "output_type": "stream",
     "text": [
      "<class 'pandas.core.frame.DataFrame'>\n",
      "Int64Index: 1483 entries, 0 to 3367\n",
      "Data columns (total 22 columns):\n",
      " #   Column                       Non-Null Count  Dtype  \n",
      "---  ------                       --------------  -----  \n",
      " 0   OSEBuildingID                1483 non-null   int64  \n",
      " 1   NumberofBuildings            1483 non-null   float64\n",
      " 2   NumberofFloors               1483 non-null   int64  \n",
      " 3   PropertyGFATotal             1483 non-null   int64  \n",
      " 4   TotalGHGEmissions            1483 non-null   float64\n",
      " 5   Campus                       1483 non-null   uint8  \n",
      " 6   NonResidential               1483 non-null   uint8  \n",
      " 7   Nonresidential COS           1483 non-null   uint8  \n",
      " 8   SPS-District K-12            1483 non-null   uint8  \n",
      " 9   Distribution Center          1483 non-null   uint8  \n",
      " 10  Hotel                        1483 non-null   uint8  \n",
      " 11  K-12 School                  1483 non-null   uint8  \n",
      " 12  Large Office                 1483 non-null   uint8  \n",
      " 13  Medical Office               1483 non-null   uint8  \n",
      " 14  Mixed Use Property           1483 non-null   uint8  \n",
      " 15  Other                        1483 non-null   uint8  \n",
      " 16  Retail Store                 1483 non-null   uint8  \n",
      " 17  Small- and Mid-Sized Office  1483 non-null   uint8  \n",
      " 18  Supermarket / Grocery Store  1483 non-null   uint8  \n",
      " 19  Warehouse                    1483 non-null   uint8  \n",
      " 20  Worship Facility             1483 non-null   uint8  \n",
      " 21  Building_age                 1483 non-null   int64  \n",
      "dtypes: float64(2), int64(4), uint8(16)\n",
      "memory usage: 104.3 KB\n",
      "None\n",
      "(1483, 22)\n"
     ]
    }
   ],
   "source": [
    "display(data.head(1))\n",
    "print(data.info())\n",
    "print(data.shape)"
   ]
  },
  {
   "cell_type": "code",
   "execution_count": 212,
   "id": "de9defb8",
   "metadata": {},
   "outputs": [],
   "source": [
    "data.to_csv('cleaned_data.csv', sep=',', index=False)"
   ]
  },
  {
   "cell_type": "code",
   "execution_count": 213,
   "id": "8c0d5e20",
   "metadata": {},
   "outputs": [],
   "source": [
    "corrMatrix = data.corr(method='spearman')"
   ]
  },
  {
   "cell_type": "code",
   "execution_count": 214,
   "id": "fb64c205",
   "metadata": {},
   "outputs": [
    {
     "data": {
      "text/html": [
       "<style  type=\"text/css\" >\n",
       "#T_ecb4a_row8_col11,#T_ecb4a_row11_col8{\n",
       "            background-color :  lightgreen;\n",
       "        }</style><table id=\"T_ecb4a_\" ><thead>    <tr>        <th class=\"blank level0\" ></th>        <th class=\"col_heading level0 col0\" >OSEBuildingID</th>        <th class=\"col_heading level0 col1\" >NumberofBuildings</th>        <th class=\"col_heading level0 col2\" >NumberofFloors</th>        <th class=\"col_heading level0 col3\" >PropertyGFATotal</th>        <th class=\"col_heading level0 col4\" >TotalGHGEmissions</th>        <th class=\"col_heading level0 col5\" >Campus</th>        <th class=\"col_heading level0 col6\" >NonResidential</th>        <th class=\"col_heading level0 col7\" >Nonresidential COS</th>        <th class=\"col_heading level0 col8\" >SPS-District K-12</th>        <th class=\"col_heading level0 col9\" >Distribution Center</th>        <th class=\"col_heading level0 col10\" >Hotel</th>        <th class=\"col_heading level0 col11\" >K-12 School</th>        <th class=\"col_heading level0 col12\" >Large Office</th>        <th class=\"col_heading level0 col13\" >Medical Office</th>        <th class=\"col_heading level0 col14\" >Mixed Use Property</th>        <th class=\"col_heading level0 col15\" >Other</th>        <th class=\"col_heading level0 col16\" >Retail Store</th>        <th class=\"col_heading level0 col17\" >Small- and Mid-Sized Office</th>        <th class=\"col_heading level0 col18\" >Supermarket / Grocery Store</th>        <th class=\"col_heading level0 col19\" >Warehouse</th>        <th class=\"col_heading level0 col20\" >Worship Facility</th>        <th class=\"col_heading level0 col21\" >Building_age</th>    </tr></thead><tbody>\n",
       "                <tr>\n",
       "                        <th id=\"T_ecb4a_level0_row0\" class=\"row_heading level0 row0\" >OSEBuildingID</th>\n",
       "                        <td id=\"T_ecb4a_row0_col0\" class=\"data row0 col0\" >1.000000</td>\n",
       "                        <td id=\"T_ecb4a_row0_col1\" class=\"data row0 col1\" >-0.014059</td>\n",
       "                        <td id=\"T_ecb4a_row0_col2\" class=\"data row0 col2\" >-0.296875</td>\n",
       "                        <td id=\"T_ecb4a_row0_col3\" class=\"data row0 col3\" >-0.543304</td>\n",
       "                        <td id=\"T_ecb4a_row0_col4\" class=\"data row0 col4\" >-0.290287</td>\n",
       "                        <td id=\"T_ecb4a_row0_col5\" class=\"data row0 col5\" >0.016483</td>\n",
       "                        <td id=\"T_ecb4a_row0_col6\" class=\"data row0 col6\" >0.059749</td>\n",
       "                        <td id=\"T_ecb4a_row0_col7\" class=\"data row0 col7\" >0.029406</td>\n",
       "                        <td id=\"T_ecb4a_row0_col8\" class=\"data row0 col8\" >-0.112334</td>\n",
       "                        <td id=\"T_ecb4a_row0_col9\" class=\"data row0 col9\" >-0.022858</td>\n",
       "                        <td id=\"T_ecb4a_row0_col10\" class=\"data row0 col10\" >-0.178664</td>\n",
       "                        <td id=\"T_ecb4a_row0_col11\" class=\"data row0 col11\" >-0.048771</td>\n",
       "                        <td id=\"T_ecb4a_row0_col12\" class=\"data row0 col12\" >-0.223816</td>\n",
       "                        <td id=\"T_ecb4a_row0_col13\" class=\"data row0 col13\" >-0.021717</td>\n",
       "                        <td id=\"T_ecb4a_row0_col14\" class=\"data row0 col14\" >0.052247</td>\n",
       "                        <td id=\"T_ecb4a_row0_col15\" class=\"data row0 col15\" >0.049232</td>\n",
       "                        <td id=\"T_ecb4a_row0_col16\" class=\"data row0 col16\" >-0.003105</td>\n",
       "                        <td id=\"T_ecb4a_row0_col17\" class=\"data row0 col17\" >0.049996</td>\n",
       "                        <td id=\"T_ecb4a_row0_col18\" class=\"data row0 col18\" >0.071737</td>\n",
       "                        <td id=\"T_ecb4a_row0_col19\" class=\"data row0 col19\" >0.062252</td>\n",
       "                        <td id=\"T_ecb4a_row0_col20\" class=\"data row0 col20\" >0.092811</td>\n",
       "                        <td id=\"T_ecb4a_row0_col21\" class=\"data row0 col21\" >0.030126</td>\n",
       "            </tr>\n",
       "            <tr>\n",
       "                        <th id=\"T_ecb4a_level0_row1\" class=\"row_heading level0 row1\" >NumberofBuildings</th>\n",
       "                        <td id=\"T_ecb4a_row1_col0\" class=\"data row1 col0\" >-0.014059</td>\n",
       "                        <td id=\"T_ecb4a_row1_col1\" class=\"data row1 col1\" >1.000000</td>\n",
       "                        <td id=\"T_ecb4a_row1_col2\" class=\"data row1 col2\" >-0.033678</td>\n",
       "                        <td id=\"T_ecb4a_row1_col3\" class=\"data row1 col3\" >0.030519</td>\n",
       "                        <td id=\"T_ecb4a_row1_col4\" class=\"data row1 col4\" >0.050080</td>\n",
       "                        <td id=\"T_ecb4a_row1_col5\" class=\"data row1 col5\" >0.269165</td>\n",
       "                        <td id=\"T_ecb4a_row1_col6\" class=\"data row1 col6\" >-0.066712</td>\n",
       "                        <td id=\"T_ecb4a_row1_col7\" class=\"data row1 col7\" >-0.037474</td>\n",
       "                        <td id=\"T_ecb4a_row1_col8\" class=\"data row1 col8\" >0.003771</td>\n",
       "                        <td id=\"T_ecb4a_row1_col9\" class=\"data row1 col9\" >0.033810</td>\n",
       "                        <td id=\"T_ecb4a_row1_col10\" class=\"data row1 col10\" >0.016135</td>\n",
       "                        <td id=\"T_ecb4a_row1_col11\" class=\"data row1 col11\" >0.034187</td>\n",
       "                        <td id=\"T_ecb4a_row1_col12\" class=\"data row1 col12\" >-0.004726</td>\n",
       "                        <td id=\"T_ecb4a_row1_col13\" class=\"data row1 col13\" >-0.016452</td>\n",
       "                        <td id=\"T_ecb4a_row1_col14\" class=\"data row1 col14\" >-0.007228</td>\n",
       "                        <td id=\"T_ecb4a_row1_col15\" class=\"data row1 col15\" >0.069924</td>\n",
       "                        <td id=\"T_ecb4a_row1_col16\" class=\"data row1 col16\" >-0.033763</td>\n",
       "                        <td id=\"T_ecb4a_row1_col17\" class=\"data row1 col17\" >-0.057972</td>\n",
       "                        <td id=\"T_ecb4a_row1_col18\" class=\"data row1 col18\" >-0.032879</td>\n",
       "                        <td id=\"T_ecb4a_row1_col19\" class=\"data row1 col19\" >-0.012799</td>\n",
       "                        <td id=\"T_ecb4a_row1_col20\" class=\"data row1 col20\" >-0.010935</td>\n",
       "                        <td id=\"T_ecb4a_row1_col21\" class=\"data row1 col21\" >-0.042367</td>\n",
       "            </tr>\n",
       "            <tr>\n",
       "                        <th id=\"T_ecb4a_level0_row2\" class=\"row_heading level0 row2\" >NumberofFloors</th>\n",
       "                        <td id=\"T_ecb4a_row2_col0\" class=\"data row2 col0\" >-0.296875</td>\n",
       "                        <td id=\"T_ecb4a_row2_col1\" class=\"data row2 col1\" >-0.033678</td>\n",
       "                        <td id=\"T_ecb4a_row2_col2\" class=\"data row2 col2\" >1.000000</td>\n",
       "                        <td id=\"T_ecb4a_row2_col3\" class=\"data row2 col3\" >0.451708</td>\n",
       "                        <td id=\"T_ecb4a_row2_col4\" class=\"data row2 col4\" >0.186662</td>\n",
       "                        <td id=\"T_ecb4a_row2_col5\" class=\"data row2 col5\" >-0.024412</td>\n",
       "                        <td id=\"T_ecb4a_row2_col6\" class=\"data row2 col6\" >0.163276</td>\n",
       "                        <td id=\"T_ecb4a_row2_col7\" class=\"data row2 col7\" >-0.114512</td>\n",
       "                        <td id=\"T_ecb4a_row2_col8\" class=\"data row2 col8\" >-0.109342</td>\n",
       "                        <td id=\"T_ecb4a_row2_col9\" class=\"data row2 col9\" >-0.186702</td>\n",
       "                        <td id=\"T_ecb4a_row2_col10\" class=\"data row2 col10\" >0.270779</td>\n",
       "                        <td id=\"T_ecb4a_row2_col11\" class=\"data row2 col11\" >-0.090915</td>\n",
       "                        <td id=\"T_ecb4a_row2_col12\" class=\"data row2 col12\" >0.420947</td>\n",
       "                        <td id=\"T_ecb4a_row2_col13\" class=\"data row2 col13\" >0.064275</td>\n",
       "                        <td id=\"T_ecb4a_row2_col14\" class=\"data row2 col14\" >0.008528</td>\n",
       "                        <td id=\"T_ecb4a_row2_col15\" class=\"data row2 col15\" >-0.111495</td>\n",
       "                        <td id=\"T_ecb4a_row2_col16\" class=\"data row2 col16\" >-0.132239</td>\n",
       "                        <td id=\"T_ecb4a_row2_col17\" class=\"data row2 col17\" >0.172905</td>\n",
       "                        <td id=\"T_ecb4a_row2_col18\" class=\"data row2 col18\" >-0.157698</td>\n",
       "                        <td id=\"T_ecb4a_row2_col19\" class=\"data row2 col19\" >-0.294888</td>\n",
       "                        <td id=\"T_ecb4a_row2_col20\" class=\"data row2 col20\" >-0.082932</td>\n",
       "                        <td id=\"T_ecb4a_row2_col21\" class=\"data row2 col21\" >-0.051499</td>\n",
       "            </tr>\n",
       "            <tr>\n",
       "                        <th id=\"T_ecb4a_level0_row3\" class=\"row_heading level0 row3\" >PropertyGFATotal</th>\n",
       "                        <td id=\"T_ecb4a_row3_col0\" class=\"data row3 col0\" >-0.543304</td>\n",
       "                        <td id=\"T_ecb4a_row3_col1\" class=\"data row3 col1\" >0.030519</td>\n",
       "                        <td id=\"T_ecb4a_row3_col2\" class=\"data row3 col2\" >0.451708</td>\n",
       "                        <td id=\"T_ecb4a_row3_col3\" class=\"data row3 col3\" >1.000000</td>\n",
       "                        <td id=\"T_ecb4a_row3_col4\" class=\"data row3 col4\" >0.495193</td>\n",
       "                        <td id=\"T_ecb4a_row3_col5\" class=\"data row3 col5\" >0.043317</td>\n",
       "                        <td id=\"T_ecb4a_row3_col6\" class=\"data row3 col6\" >-0.061816</td>\n",
       "                        <td id=\"T_ecb4a_row3_col7\" class=\"data row3 col7\" >-0.055134</td>\n",
       "                        <td id=\"T_ecb4a_row3_col8\" class=\"data row3 col8\" >0.111057</td>\n",
       "                        <td id=\"T_ecb4a_row3_col9\" class=\"data row3 col9\" >-0.021356</td>\n",
       "                        <td id=\"T_ecb4a_row3_col10\" class=\"data row3 col10\" >0.126602</td>\n",
       "                        <td id=\"T_ecb4a_row3_col11\" class=\"data row3 col11\" >0.043590</td>\n",
       "                        <td id=\"T_ecb4a_row3_col12\" class=\"data row3 col12\" >0.457077</td>\n",
       "                        <td id=\"T_ecb4a_row3_col13\" class=\"data row3 col13\" >0.052257</td>\n",
       "                        <td id=\"T_ecb4a_row3_col14\" class=\"data row3 col14\" >-0.047489</td>\n",
       "                        <td id=\"T_ecb4a_row3_col15\" class=\"data row3 col15\" >-0.074795</td>\n",
       "                        <td id=\"T_ecb4a_row3_col16\" class=\"data row3 col16\" >-0.033102</td>\n",
       "                        <td id=\"T_ecb4a_row3_col17\" class=\"data row3 col17\" >-0.158687</td>\n",
       "                        <td id=\"T_ecb4a_row3_col18\" class=\"data row3 col18\" >-0.029697</td>\n",
       "                        <td id=\"T_ecb4a_row3_col19\" class=\"data row3 col19\" >-0.067368</td>\n",
       "                        <td id=\"T_ecb4a_row3_col20\" class=\"data row3 col20\" >-0.181646</td>\n",
       "                        <td id=\"T_ecb4a_row3_col21\" class=\"data row3 col21\" >-0.272107</td>\n",
       "            </tr>\n",
       "            <tr>\n",
       "                        <th id=\"T_ecb4a_level0_row4\" class=\"row_heading level0 row4\" >TotalGHGEmissions</th>\n",
       "                        <td id=\"T_ecb4a_row4_col0\" class=\"data row4 col0\" >-0.290287</td>\n",
       "                        <td id=\"T_ecb4a_row4_col1\" class=\"data row4 col1\" >0.050080</td>\n",
       "                        <td id=\"T_ecb4a_row4_col2\" class=\"data row4 col2\" >0.186662</td>\n",
       "                        <td id=\"T_ecb4a_row4_col3\" class=\"data row4 col3\" >0.495193</td>\n",
       "                        <td id=\"T_ecb4a_row4_col4\" class=\"data row4 col4\" >1.000000</td>\n",
       "                        <td id=\"T_ecb4a_row4_col5\" class=\"data row4 col5\" >0.105995</td>\n",
       "                        <td id=\"T_ecb4a_row4_col6\" class=\"data row4 col6\" >-0.121955</td>\n",
       "                        <td id=\"T_ecb4a_row4_col7\" class=\"data row4 col7\" >0.083222</td>\n",
       "                        <td id=\"T_ecb4a_row4_col8\" class=\"data row4 col8\" >0.045310</td>\n",
       "                        <td id=\"T_ecb4a_row4_col9\" class=\"data row4 col9\" >-0.088231</td>\n",
       "                        <td id=\"T_ecb4a_row4_col10\" class=\"data row4 col10\" >0.209670</td>\n",
       "                        <td id=\"T_ecb4a_row4_col11\" class=\"data row4 col11\" >0.059943</td>\n",
       "                        <td id=\"T_ecb4a_row4_col12\" class=\"data row4 col12\" >0.222808</td>\n",
       "                        <td id=\"T_ecb4a_row4_col13\" class=\"data row4 col13\" >0.030273</td>\n",
       "                        <td id=\"T_ecb4a_row4_col14\" class=\"data row4 col14\" >-0.008040</td>\n",
       "                        <td id=\"T_ecb4a_row4_col15\" class=\"data row4 col15\" >0.107208</td>\n",
       "                        <td id=\"T_ecb4a_row4_col16\" class=\"data row4 col16\" >-0.020531</td>\n",
       "                        <td id=\"T_ecb4a_row4_col17\" class=\"data row4 col17\" >-0.264283</td>\n",
       "                        <td id=\"T_ecb4a_row4_col18\" class=\"data row4 col18\" >0.179810</td>\n",
       "                        <td id=\"T_ecb4a_row4_col19\" class=\"data row4 col19\" >-0.196261</td>\n",
       "                        <td id=\"T_ecb4a_row4_col20\" class=\"data row4 col20\" >-0.083295</td>\n",
       "                        <td id=\"T_ecb4a_row4_col21\" class=\"data row4 col21\" >-0.120802</td>\n",
       "            </tr>\n",
       "            <tr>\n",
       "                        <th id=\"T_ecb4a_level0_row5\" class=\"row_heading level0 row5\" >Campus</th>\n",
       "                        <td id=\"T_ecb4a_row5_col0\" class=\"data row5 col0\" >0.016483</td>\n",
       "                        <td id=\"T_ecb4a_row5_col1\" class=\"data row5 col1\" >0.269165</td>\n",
       "                        <td id=\"T_ecb4a_row5_col2\" class=\"data row5 col2\" >-0.024412</td>\n",
       "                        <td id=\"T_ecb4a_row5_col3\" class=\"data row5 col3\" >0.043317</td>\n",
       "                        <td id=\"T_ecb4a_row5_col4\" class=\"data row5 col4\" >0.105995</td>\n",
       "                        <td id=\"T_ecb4a_row5_col5\" class=\"data row5 col5\" >1.000000</td>\n",
       "                        <td id=\"T_ecb4a_row5_col6\" class=\"data row5 col6\" >-0.290650</td>\n",
       "                        <td id=\"T_ecb4a_row5_col7\" class=\"data row5 col7\" >-0.023607</td>\n",
       "                        <td id=\"T_ecb4a_row5_col8\" class=\"data row5 col8\" >-0.028014</td>\n",
       "                        <td id=\"T_ecb4a_row5_col9\" class=\"data row5 col9\" >-0.019906</td>\n",
       "                        <td id=\"T_ecb4a_row5_col10\" class=\"data row5 col10\" >-0.023424</td>\n",
       "                        <td id=\"T_ecb4a_row5_col11\" class=\"data row5 col11\" >0.054440</td>\n",
       "                        <td id=\"T_ecb4a_row5_col12\" class=\"data row5 col12\" >-0.014122</td>\n",
       "                        <td id=\"T_ecb4a_row5_col13\" class=\"data row5 col13\" >-0.016985</td>\n",
       "                        <td id=\"T_ecb4a_row5_col14\" class=\"data row5 col14\" >0.046824</td>\n",
       "                        <td id=\"T_ecb4a_row5_col15\" class=\"data row5 col15\" >0.062953</td>\n",
       "                        <td id=\"T_ecb4a_row5_col16\" class=\"data row5 col16\" >-0.025884</td>\n",
       "                        <td id=\"T_ecb4a_row5_col17\" class=\"data row5 col17\" >-0.051723</td>\n",
       "                        <td id=\"T_ecb4a_row5_col18\" class=\"data row5 col18\" >-0.017697</td>\n",
       "                        <td id=\"T_ecb4a_row5_col19\" class=\"data row5 col19\" >-0.038231</td>\n",
       "                        <td id=\"T_ecb4a_row5_col20\" class=\"data row5 col20\" >-0.022682</td>\n",
       "                        <td id=\"T_ecb4a_row5_col21\" class=\"data row5 col21\" >-0.004084</td>\n",
       "            </tr>\n",
       "            <tr>\n",
       "                        <th id=\"T_ecb4a_level0_row6\" class=\"row_heading level0 row6\" >NonResidential</th>\n",
       "                        <td id=\"T_ecb4a_row6_col0\" class=\"data row6 col0\" >0.059749</td>\n",
       "                        <td id=\"T_ecb4a_row6_col1\" class=\"data row6 col1\" >-0.066712</td>\n",
       "                        <td id=\"T_ecb4a_row6_col2\" class=\"data row6 col2\" >0.163276</td>\n",
       "                        <td id=\"T_ecb4a_row6_col3\" class=\"data row6 col3\" >-0.061816</td>\n",
       "                        <td id=\"T_ecb4a_row6_col4\" class=\"data row6 col4\" >-0.121955</td>\n",
       "                        <td id=\"T_ecb4a_row6_col5\" class=\"data row6 col5\" >-0.290650</td>\n",
       "                        <td id=\"T_ecb4a_row6_col6\" class=\"data row6 col6\" >1.000000</td>\n",
       "                        <td id=\"T_ecb4a_row6_col7\" class=\"data row6 col7\" >-0.591682</td>\n",
       "                        <td id=\"T_ecb4a_row6_col8\" class=\"data row6 col8\" >-0.702142</td>\n",
       "                        <td id=\"T_ecb4a_row6_col9\" class=\"data row6 col9\" >0.045328</td>\n",
       "                        <td id=\"T_ecb4a_row6_col10\" class=\"data row6 col10\" >0.080592</td>\n",
       "                        <td id=\"T_ecb4a_row6_col11\" class=\"data row6 col11\" >-0.576318</td>\n",
       "                        <td id=\"T_ecb4a_row6_col12\" class=\"data row6 col12\" >0.094092</td>\n",
       "                        <td id=\"T_ecb4a_row6_col13\" class=\"data row6 col13\" >0.044990</td>\n",
       "                        <td id=\"T_ecb4a_row6_col14\" class=\"data row6 col14\" >0.033595</td>\n",
       "                        <td id=\"T_ecb4a_row6_col15\" class=\"data row6 col15\" >-0.162853</td>\n",
       "                        <td id=\"T_ecb4a_row6_col16\" class=\"data row6 col16\" >0.089055</td>\n",
       "                        <td id=\"T_ecb4a_row6_col17\" class=\"data row6 col17\" >0.156744</td>\n",
       "                        <td id=\"T_ecb4a_row6_col18\" class=\"data row6 col18\" >0.060889</td>\n",
       "                        <td id=\"T_ecb4a_row6_col19\" class=\"data row6 col19\" >0.085583</td>\n",
       "                        <td id=\"T_ecb4a_row6_col20\" class=\"data row6 col20\" >0.078039</td>\n",
       "                        <td id=\"T_ecb4a_row6_col21\" class=\"data row6 col21\" >0.088335</td>\n",
       "            </tr>\n",
       "            <tr>\n",
       "                        <th id=\"T_ecb4a_level0_row7\" class=\"row_heading level0 row7\" >Nonresidential COS</th>\n",
       "                        <td id=\"T_ecb4a_row7_col0\" class=\"data row7 col0\" >0.029406</td>\n",
       "                        <td id=\"T_ecb4a_row7_col1\" class=\"data row7 col1\" >-0.037474</td>\n",
       "                        <td id=\"T_ecb4a_row7_col2\" class=\"data row7 col2\" >-0.114512</td>\n",
       "                        <td id=\"T_ecb4a_row7_col3\" class=\"data row7 col3\" >-0.055134</td>\n",
       "                        <td id=\"T_ecb4a_row7_col4\" class=\"data row7 col4\" >0.083222</td>\n",
       "                        <td id=\"T_ecb4a_row7_col5\" class=\"data row7 col5\" >-0.023607</td>\n",
       "                        <td id=\"T_ecb4a_row7_col6\" class=\"data row7 col6\" >-0.591682</td>\n",
       "                        <td id=\"T_ecb4a_row7_col7\" class=\"data row7 col7\" >1.000000</td>\n",
       "                        <td id=\"T_ecb4a_row7_col8\" class=\"data row7 col8\" >-0.057028</td>\n",
       "                        <td id=\"T_ecb4a_row7_col9\" class=\"data row7 col9\" >-0.004451</td>\n",
       "                        <td id=\"T_ecb4a_row7_col10\" class=\"data row7 col10\" >-0.047685</td>\n",
       "                        <td id=\"T_ecb4a_row7_col11\" class=\"data row7 col11\" >-0.069091</td>\n",
       "                        <td id=\"T_ecb4a_row7_col12\" class=\"data row7 col12\" >-0.039603</td>\n",
       "                        <td id=\"T_ecb4a_row7_col13\" class=\"data row7 col13\" >-0.013630</td>\n",
       "                        <td id=\"T_ecb4a_row7_col14\" class=\"data row7 col14\" >0.005331</td>\n",
       "                        <td id=\"T_ecb4a_row7_col15\" class=\"data row7 col15\" >0.328826</td>\n",
       "                        <td id=\"T_ecb4a_row7_col16\" class=\"data row7 col16\" >-0.052692</td>\n",
       "                        <td id=\"T_ecb4a_row7_col17\" class=\"data row7 col17\" >-0.072253</td>\n",
       "                        <td id=\"T_ecb4a_row7_col18\" class=\"data row7 col18\" >-0.036027</td>\n",
       "                        <td id=\"T_ecb4a_row7_col19\" class=\"data row7 col19\" >-0.006254</td>\n",
       "                        <td id=\"T_ecb4a_row7_col20\" class=\"data row7 col20\" >-0.046175</td>\n",
       "                        <td id=\"T_ecb4a_row7_col21\" class=\"data row7 col21\" >-0.039662</td>\n",
       "            </tr>\n",
       "            <tr>\n",
       "                        <th id=\"T_ecb4a_level0_row8\" class=\"row_heading level0 row8\" >SPS-District K-12</th>\n",
       "                        <td id=\"T_ecb4a_row8_col0\" class=\"data row8 col0\" >-0.112334</td>\n",
       "                        <td id=\"T_ecb4a_row8_col1\" class=\"data row8 col1\" >0.003771</td>\n",
       "                        <td id=\"T_ecb4a_row8_col2\" class=\"data row8 col2\" >-0.109342</td>\n",
       "                        <td id=\"T_ecb4a_row8_col3\" class=\"data row8 col3\" >0.111057</td>\n",
       "                        <td id=\"T_ecb4a_row8_col4\" class=\"data row8 col4\" >0.045310</td>\n",
       "                        <td id=\"T_ecb4a_row8_col5\" class=\"data row8 col5\" >-0.028014</td>\n",
       "                        <td id=\"T_ecb4a_row8_col6\" class=\"data row8 col6\" >-0.702142</td>\n",
       "                        <td id=\"T_ecb4a_row8_col7\" class=\"data row8 col7\" >-0.057028</td>\n",
       "                        <td id=\"T_ecb4a_row8_col8\" class=\"data row8 col8\" >1.000000</td>\n",
       "                        <td id=\"T_ecb4a_row8_col9\" class=\"data row8 col9\" >-0.048088</td>\n",
       "                        <td id=\"T_ecb4a_row8_col10\" class=\"data row8 col10\" >-0.056587</td>\n",
       "                        <td id=\"T_ecb4a_row8_col11\" class=\"data row8 col11\" >0.806097</td>\n",
       "                        <td id=\"T_ecb4a_row8_col12\" class=\"data row8 col12\" >-0.085638</td>\n",
       "                        <td id=\"T_ecb4a_row8_col13\" class=\"data row8 col13\" >-0.041033</td>\n",
       "                        <td id=\"T_ecb4a_row8_col14\" class=\"data row8 col14\" >-0.069952</td>\n",
       "                        <td id=\"T_ecb4a_row8_col15\" class=\"data row8 col15\" >-0.092042</td>\n",
       "                        <td id=\"T_ecb4a_row8_col16\" class=\"data row8 col16\" >-0.062529</td>\n",
       "                        <td id=\"T_ecb4a_row8_col17\" class=\"data row8 col17\" >-0.124952</td>\n",
       "                        <td id=\"T_ecb4a_row8_col18\" class=\"data row8 col18\" >-0.042752</td>\n",
       "                        <td id=\"T_ecb4a_row8_col19\" class=\"data row8 col19\" >-0.092358</td>\n",
       "                        <td id=\"T_ecb4a_row8_col20\" class=\"data row8 col20\" >-0.054795</td>\n",
       "                        <td id=\"T_ecb4a_row8_col21\" class=\"data row8 col21\" >-0.082277</td>\n",
       "            </tr>\n",
       "            <tr>\n",
       "                        <th id=\"T_ecb4a_level0_row9\" class=\"row_heading level0 row9\" >Distribution Center</th>\n",
       "                        <td id=\"T_ecb4a_row9_col0\" class=\"data row9 col0\" >-0.022858</td>\n",
       "                        <td id=\"T_ecb4a_row9_col1\" class=\"data row9 col1\" >0.033810</td>\n",
       "                        <td id=\"T_ecb4a_row9_col2\" class=\"data row9 col2\" >-0.186702</td>\n",
       "                        <td id=\"T_ecb4a_row9_col3\" class=\"data row9 col3\" >-0.021356</td>\n",
       "                        <td id=\"T_ecb4a_row9_col4\" class=\"data row9 col4\" >-0.088231</td>\n",
       "                        <td id=\"T_ecb4a_row9_col5\" class=\"data row9 col5\" >-0.019906</td>\n",
       "                        <td id=\"T_ecb4a_row9_col6\" class=\"data row9 col6\" >0.045328</td>\n",
       "                        <td id=\"T_ecb4a_row9_col7\" class=\"data row9 col7\" >-0.004451</td>\n",
       "                        <td id=\"T_ecb4a_row9_col8\" class=\"data row9 col8\" >-0.048088</td>\n",
       "                        <td id=\"T_ecb4a_row9_col9\" class=\"data row9 col9\" >1.000000</td>\n",
       "                        <td id=\"T_ecb4a_row9_col10\" class=\"data row9 col10\" >-0.040210</td>\n",
       "                        <td id=\"T_ecb4a_row9_col11\" class=\"data row9 col11\" >-0.058260</td>\n",
       "                        <td id=\"T_ecb4a_row9_col12\" class=\"data row9 col12\" >-0.060853</td>\n",
       "                        <td id=\"T_ecb4a_row9_col13\" class=\"data row9 col13\" >-0.029157</td>\n",
       "                        <td id=\"T_ecb4a_row9_col14\" class=\"data row9 col14\" >-0.049706</td>\n",
       "                        <td id=\"T_ecb4a_row9_col15\" class=\"data row9 col15\" >-0.076531</td>\n",
       "                        <td id=\"T_ecb4a_row9_col16\" class=\"data row9 col16\" >-0.044432</td>\n",
       "                        <td id=\"T_ecb4a_row9_col17\" class=\"data row9 col17\" >-0.088788</td>\n",
       "                        <td id=\"T_ecb4a_row9_col18\" class=\"data row9 col18\" >-0.030379</td>\n",
       "                        <td id=\"T_ecb4a_row9_col19\" class=\"data row9 col19\" >-0.065627</td>\n",
       "                        <td id=\"T_ecb4a_row9_col20\" class=\"data row9 col20\" >-0.038936</td>\n",
       "                        <td id=\"T_ecb4a_row9_col21\" class=\"data row9 col21\" >0.014171</td>\n",
       "            </tr>\n",
       "            <tr>\n",
       "                        <th id=\"T_ecb4a_level0_row10\" class=\"row_heading level0 row10\" >Hotel</th>\n",
       "                        <td id=\"T_ecb4a_row10_col0\" class=\"data row10 col0\" >-0.178664</td>\n",
       "                        <td id=\"T_ecb4a_row10_col1\" class=\"data row10 col1\" >0.016135</td>\n",
       "                        <td id=\"T_ecb4a_row10_col2\" class=\"data row10 col2\" >0.270779</td>\n",
       "                        <td id=\"T_ecb4a_row10_col3\" class=\"data row10 col3\" >0.126602</td>\n",
       "                        <td id=\"T_ecb4a_row10_col4\" class=\"data row10 col4\" >0.209670</td>\n",
       "                        <td id=\"T_ecb4a_row10_col5\" class=\"data row10 col5\" >-0.023424</td>\n",
       "                        <td id=\"T_ecb4a_row10_col6\" class=\"data row10 col6\" >0.080592</td>\n",
       "                        <td id=\"T_ecb4a_row10_col7\" class=\"data row10 col7\" >-0.047685</td>\n",
       "                        <td id=\"T_ecb4a_row10_col8\" class=\"data row10 col8\" >-0.056587</td>\n",
       "                        <td id=\"T_ecb4a_row10_col9\" class=\"data row10 col9\" >-0.040210</td>\n",
       "                        <td id=\"T_ecb4a_row10_col10\" class=\"data row10 col10\" >1.000000</td>\n",
       "                        <td id=\"T_ecb4a_row10_col11\" class=\"data row10 col11\" >-0.068557</td>\n",
       "                        <td id=\"T_ecb4a_row10_col12\" class=\"data row10 col12\" >-0.071608</td>\n",
       "                        <td id=\"T_ecb4a_row10_col13\" class=\"data row10 col13\" >-0.034310</td>\n",
       "                        <td id=\"T_ecb4a_row10_col14\" class=\"data row10 col14\" >-0.058492</td>\n",
       "                        <td id=\"T_ecb4a_row10_col15\" class=\"data row10 col15\" >-0.090057</td>\n",
       "                        <td id=\"T_ecb4a_row10_col16\" class=\"data row10 col16\" >-0.052285</td>\n",
       "                        <td id=\"T_ecb4a_row10_col17\" class=\"data row10 col17\" >-0.104480</td>\n",
       "                        <td id=\"T_ecb4a_row10_col18\" class=\"data row10 col18\" >-0.035748</td>\n",
       "                        <td id=\"T_ecb4a_row10_col19\" class=\"data row10 col19\" >-0.077227</td>\n",
       "                        <td id=\"T_ecb4a_row10_col20\" class=\"data row10 col20\" >-0.045818</td>\n",
       "                        <td id=\"T_ecb4a_row10_col21\" class=\"data row10 col21\" >-0.034838</td>\n",
       "            </tr>\n",
       "            <tr>\n",
       "                        <th id=\"T_ecb4a_level0_row11\" class=\"row_heading level0 row11\" >K-12 School</th>\n",
       "                        <td id=\"T_ecb4a_row11_col0\" class=\"data row11 col0\" >-0.048771</td>\n",
       "                        <td id=\"T_ecb4a_row11_col1\" class=\"data row11 col1\" >0.034187</td>\n",
       "                        <td id=\"T_ecb4a_row11_col2\" class=\"data row11 col2\" >-0.090915</td>\n",
       "                        <td id=\"T_ecb4a_row11_col3\" class=\"data row11 col3\" >0.043590</td>\n",
       "                        <td id=\"T_ecb4a_row11_col4\" class=\"data row11 col4\" >0.059943</td>\n",
       "                        <td id=\"T_ecb4a_row11_col5\" class=\"data row11 col5\" >0.054440</td>\n",
       "                        <td id=\"T_ecb4a_row11_col6\" class=\"data row11 col6\" >-0.576318</td>\n",
       "                        <td id=\"T_ecb4a_row11_col7\" class=\"data row11 col7\" >-0.069091</td>\n",
       "                        <td id=\"T_ecb4a_row11_col8\" class=\"data row11 col8\" >0.806097</td>\n",
       "                        <td id=\"T_ecb4a_row11_col9\" class=\"data row11 col9\" >-0.058260</td>\n",
       "                        <td id=\"T_ecb4a_row11_col10\" class=\"data row11 col10\" >-0.068557</td>\n",
       "                        <td id=\"T_ecb4a_row11_col11\" class=\"data row11 col11\" >1.000000</td>\n",
       "                        <td id=\"T_ecb4a_row11_col12\" class=\"data row11 col12\" >-0.103753</td>\n",
       "                        <td id=\"T_ecb4a_row11_col13\" class=\"data row11 col13\" >-0.049712</td>\n",
       "                        <td id=\"T_ecb4a_row11_col14\" class=\"data row11 col14\" >-0.084749</td>\n",
       "                        <td id=\"T_ecb4a_row11_col15\" class=\"data row11 col15\" >-0.130485</td>\n",
       "                        <td id=\"T_ecb4a_row11_col16\" class=\"data row11 col16\" >-0.075756</td>\n",
       "                        <td id=\"T_ecb4a_row11_col17\" class=\"data row11 col17\" >-0.151382</td>\n",
       "                        <td id=\"T_ecb4a_row11_col18\" class=\"data row11 col18\" >-0.051796</td>\n",
       "                        <td id=\"T_ecb4a_row11_col19\" class=\"data row11 col19\" >-0.111894</td>\n",
       "                        <td id=\"T_ecb4a_row11_col20\" class=\"data row11 col20\" >-0.066385</td>\n",
       "                        <td id=\"T_ecb4a_row11_col21\" class=\"data row11 col21\" >-0.034678</td>\n",
       "            </tr>\n",
       "            <tr>\n",
       "                        <th id=\"T_ecb4a_level0_row12\" class=\"row_heading level0 row12\" >Large Office</th>\n",
       "                        <td id=\"T_ecb4a_row12_col0\" class=\"data row12 col0\" >-0.223816</td>\n",
       "                        <td id=\"T_ecb4a_row12_col1\" class=\"data row12 col1\" >-0.004726</td>\n",
       "                        <td id=\"T_ecb4a_row12_col2\" class=\"data row12 col2\" >0.420947</td>\n",
       "                        <td id=\"T_ecb4a_row12_col3\" class=\"data row12 col3\" >0.457077</td>\n",
       "                        <td id=\"T_ecb4a_row12_col4\" class=\"data row12 col4\" >0.222808</td>\n",
       "                        <td id=\"T_ecb4a_row12_col5\" class=\"data row12 col5\" >-0.014122</td>\n",
       "                        <td id=\"T_ecb4a_row12_col6\" class=\"data row12 col6\" >0.094092</td>\n",
       "                        <td id=\"T_ecb4a_row12_col7\" class=\"data row12 col7\" >-0.039603</td>\n",
       "                        <td id=\"T_ecb4a_row12_col8\" class=\"data row12 col8\" >-0.085638</td>\n",
       "                        <td id=\"T_ecb4a_row12_col9\" class=\"data row12 col9\" >-0.060853</td>\n",
       "                        <td id=\"T_ecb4a_row12_col10\" class=\"data row12 col10\" >-0.071608</td>\n",
       "                        <td id=\"T_ecb4a_row12_col11\" class=\"data row12 col11\" >-0.103753</td>\n",
       "                        <td id=\"T_ecb4a_row12_col12\" class=\"data row12 col12\" >1.000000</td>\n",
       "                        <td id=\"T_ecb4a_row12_col13\" class=\"data row12 col13\" >-0.051925</td>\n",
       "                        <td id=\"T_ecb4a_row12_col14\" class=\"data row12 col14\" >-0.088521</td>\n",
       "                        <td id=\"T_ecb4a_row12_col15\" class=\"data row12 col15\" >-0.136292</td>\n",
       "                        <td id=\"T_ecb4a_row12_col16\" class=\"data row12 col16\" >-0.079127</td>\n",
       "                        <td id=\"T_ecb4a_row12_col17\" class=\"data row12 col17\" >-0.158119</td>\n",
       "                        <td id=\"T_ecb4a_row12_col18\" class=\"data row12 col18\" >-0.054101</td>\n",
       "                        <td id=\"T_ecb4a_row12_col19\" class=\"data row12 col19\" >-0.116874</td>\n",
       "                        <td id=\"T_ecb4a_row12_col20\" class=\"data row12 col20\" >-0.069340</td>\n",
       "                        <td id=\"T_ecb4a_row12_col21\" class=\"data row12 col21\" >-0.164218</td>\n",
       "            </tr>\n",
       "            <tr>\n",
       "                        <th id=\"T_ecb4a_level0_row13\" class=\"row_heading level0 row13\" >Medical Office</th>\n",
       "                        <td id=\"T_ecb4a_row13_col0\" class=\"data row13 col0\" >-0.021717</td>\n",
       "                        <td id=\"T_ecb4a_row13_col1\" class=\"data row13 col1\" >-0.016452</td>\n",
       "                        <td id=\"T_ecb4a_row13_col2\" class=\"data row13 col2\" >0.064275</td>\n",
       "                        <td id=\"T_ecb4a_row13_col3\" class=\"data row13 col3\" >0.052257</td>\n",
       "                        <td id=\"T_ecb4a_row13_col4\" class=\"data row13 col4\" >0.030273</td>\n",
       "                        <td id=\"T_ecb4a_row13_col5\" class=\"data row13 col5\" >-0.016985</td>\n",
       "                        <td id=\"T_ecb4a_row13_col6\" class=\"data row13 col6\" >0.044990</td>\n",
       "                        <td id=\"T_ecb4a_row13_col7\" class=\"data row13 col7\" >-0.013630</td>\n",
       "                        <td id=\"T_ecb4a_row13_col8\" class=\"data row13 col8\" >-0.041033</td>\n",
       "                        <td id=\"T_ecb4a_row13_col9\" class=\"data row13 col9\" >-0.029157</td>\n",
       "                        <td id=\"T_ecb4a_row13_col10\" class=\"data row13 col10\" >-0.034310</td>\n",
       "                        <td id=\"T_ecb4a_row13_col11\" class=\"data row13 col11\" >-0.049712</td>\n",
       "                        <td id=\"T_ecb4a_row13_col12\" class=\"data row13 col12\" >-0.051925</td>\n",
       "                        <td id=\"T_ecb4a_row13_col13\" class=\"data row13 col13\" >1.000000</td>\n",
       "                        <td id=\"T_ecb4a_row13_col14\" class=\"data row13 col14\" >-0.042414</td>\n",
       "                        <td id=\"T_ecb4a_row13_col15\" class=\"data row13 col15\" >-0.065303</td>\n",
       "                        <td id=\"T_ecb4a_row13_col16\" class=\"data row13 col16\" >-0.037913</td>\n",
       "                        <td id=\"T_ecb4a_row13_col17\" class=\"data row13 col17\" >-0.075761</td>\n",
       "                        <td id=\"T_ecb4a_row13_col18\" class=\"data row13 col18\" >-0.025922</td>\n",
       "                        <td id=\"T_ecb4a_row13_col19\" class=\"data row13 col19\" >-0.055999</td>\n",
       "                        <td id=\"T_ecb4a_row13_col20\" class=\"data row13 col20\" >-0.033223</td>\n",
       "                        <td id=\"T_ecb4a_row13_col21\" class=\"data row13 col21\" >-0.070956</td>\n",
       "            </tr>\n",
       "            <tr>\n",
       "                        <th id=\"T_ecb4a_level0_row14\" class=\"row_heading level0 row14\" >Mixed Use Property</th>\n",
       "                        <td id=\"T_ecb4a_row14_col0\" class=\"data row14 col0\" >0.052247</td>\n",
       "                        <td id=\"T_ecb4a_row14_col1\" class=\"data row14 col1\" >-0.007228</td>\n",
       "                        <td id=\"T_ecb4a_row14_col2\" class=\"data row14 col2\" >0.008528</td>\n",
       "                        <td id=\"T_ecb4a_row14_col3\" class=\"data row14 col3\" >-0.047489</td>\n",
       "                        <td id=\"T_ecb4a_row14_col4\" class=\"data row14 col4\" >-0.008040</td>\n",
       "                        <td id=\"T_ecb4a_row14_col5\" class=\"data row14 col5\" >0.046824</td>\n",
       "                        <td id=\"T_ecb4a_row14_col6\" class=\"data row14 col6\" >0.033595</td>\n",
       "                        <td id=\"T_ecb4a_row14_col7\" class=\"data row14 col7\" >0.005331</td>\n",
       "                        <td id=\"T_ecb4a_row14_col8\" class=\"data row14 col8\" >-0.069952</td>\n",
       "                        <td id=\"T_ecb4a_row14_col9\" class=\"data row14 col9\" >-0.049706</td>\n",
       "                        <td id=\"T_ecb4a_row14_col10\" class=\"data row14 col10\" >-0.058492</td>\n",
       "                        <td id=\"T_ecb4a_row14_col11\" class=\"data row14 col11\" >-0.084749</td>\n",
       "                        <td id=\"T_ecb4a_row14_col12\" class=\"data row14 col12\" >-0.088521</td>\n",
       "                        <td id=\"T_ecb4a_row14_col13\" class=\"data row14 col13\" >-0.042414</td>\n",
       "                        <td id=\"T_ecb4a_row14_col14\" class=\"data row14 col14\" >1.000000</td>\n",
       "                        <td id=\"T_ecb4a_row14_col15\" class=\"data row14 col15\" >-0.111327</td>\n",
       "                        <td id=\"T_ecb4a_row14_col16\" class=\"data row14 col16\" >-0.064633</td>\n",
       "                        <td id=\"T_ecb4a_row14_col17\" class=\"data row14 col17\" >-0.129157</td>\n",
       "                        <td id=\"T_ecb4a_row14_col18\" class=\"data row14 col18\" >-0.044191</td>\n",
       "                        <td id=\"T_ecb4a_row14_col19\" class=\"data row14 col19\" >-0.095466</td>\n",
       "                        <td id=\"T_ecb4a_row14_col20\" class=\"data row14 col20\" >-0.056639</td>\n",
       "                        <td id=\"T_ecb4a_row14_col21\" class=\"data row14 col21\" >0.047665</td>\n",
       "            </tr>\n",
       "            <tr>\n",
       "                        <th id=\"T_ecb4a_level0_row15\" class=\"row_heading level0 row15\" >Other</th>\n",
       "                        <td id=\"T_ecb4a_row15_col0\" class=\"data row15 col0\" >0.049232</td>\n",
       "                        <td id=\"T_ecb4a_row15_col1\" class=\"data row15 col1\" >0.069924</td>\n",
       "                        <td id=\"T_ecb4a_row15_col2\" class=\"data row15 col2\" >-0.111495</td>\n",
       "                        <td id=\"T_ecb4a_row15_col3\" class=\"data row15 col3\" >-0.074795</td>\n",
       "                        <td id=\"T_ecb4a_row15_col4\" class=\"data row15 col4\" >0.107208</td>\n",
       "                        <td id=\"T_ecb4a_row15_col5\" class=\"data row15 col5\" >0.062953</td>\n",
       "                        <td id=\"T_ecb4a_row15_col6\" class=\"data row15 col6\" >-0.162853</td>\n",
       "                        <td id=\"T_ecb4a_row15_col7\" class=\"data row15 col7\" >0.328826</td>\n",
       "                        <td id=\"T_ecb4a_row15_col8\" class=\"data row15 col8\" >-0.092042</td>\n",
       "                        <td id=\"T_ecb4a_row15_col9\" class=\"data row15 col9\" >-0.076531</td>\n",
       "                        <td id=\"T_ecb4a_row15_col10\" class=\"data row15 col10\" >-0.090057</td>\n",
       "                        <td id=\"T_ecb4a_row15_col11\" class=\"data row15 col11\" >-0.130485</td>\n",
       "                        <td id=\"T_ecb4a_row15_col12\" class=\"data row15 col12\" >-0.136292</td>\n",
       "                        <td id=\"T_ecb4a_row15_col13\" class=\"data row15 col13\" >-0.065303</td>\n",
       "                        <td id=\"T_ecb4a_row15_col14\" class=\"data row15 col14\" >-0.111327</td>\n",
       "                        <td id=\"T_ecb4a_row15_col15\" class=\"data row15 col15\" >1.000000</td>\n",
       "                        <td id=\"T_ecb4a_row15_col16\" class=\"data row15 col16\" >-0.099513</td>\n",
       "                        <td id=\"T_ecb4a_row15_col17\" class=\"data row15 col17\" >-0.198857</td>\n",
       "                        <td id=\"T_ecb4a_row15_col18\" class=\"data row15 col18\" >-0.068040</td>\n",
       "                        <td id=\"T_ecb4a_row15_col19\" class=\"data row15 col19\" >-0.146985</td>\n",
       "                        <td id=\"T_ecb4a_row15_col20\" class=\"data row15 col20\" >-0.087205</td>\n",
       "                        <td id=\"T_ecb4a_row15_col21\" class=\"data row15 col21\" >-0.009493</td>\n",
       "            </tr>\n",
       "            <tr>\n",
       "                        <th id=\"T_ecb4a_level0_row16\" class=\"row_heading level0 row16\" >Retail Store</th>\n",
       "                        <td id=\"T_ecb4a_row16_col0\" class=\"data row16 col0\" >-0.003105</td>\n",
       "                        <td id=\"T_ecb4a_row16_col1\" class=\"data row16 col1\" >-0.033763</td>\n",
       "                        <td id=\"T_ecb4a_row16_col2\" class=\"data row16 col2\" >-0.132239</td>\n",
       "                        <td id=\"T_ecb4a_row16_col3\" class=\"data row16 col3\" >-0.033102</td>\n",
       "                        <td id=\"T_ecb4a_row16_col4\" class=\"data row16 col4\" >-0.020531</td>\n",
       "                        <td id=\"T_ecb4a_row16_col5\" class=\"data row16 col5\" >-0.025884</td>\n",
       "                        <td id=\"T_ecb4a_row16_col6\" class=\"data row16 col6\" >0.089055</td>\n",
       "                        <td id=\"T_ecb4a_row16_col7\" class=\"data row16 col7\" >-0.052692</td>\n",
       "                        <td id=\"T_ecb4a_row16_col8\" class=\"data row16 col8\" >-0.062529</td>\n",
       "                        <td id=\"T_ecb4a_row16_col9\" class=\"data row16 col9\" >-0.044432</td>\n",
       "                        <td id=\"T_ecb4a_row16_col10\" class=\"data row16 col10\" >-0.052285</td>\n",
       "                        <td id=\"T_ecb4a_row16_col11\" class=\"data row16 col11\" >-0.075756</td>\n",
       "                        <td id=\"T_ecb4a_row16_col12\" class=\"data row16 col12\" >-0.079127</td>\n",
       "                        <td id=\"T_ecb4a_row16_col13\" class=\"data row16 col13\" >-0.037913</td>\n",
       "                        <td id=\"T_ecb4a_row16_col14\" class=\"data row16 col14\" >-0.064633</td>\n",
       "                        <td id=\"T_ecb4a_row16_col15\" class=\"data row16 col15\" >-0.099513</td>\n",
       "                        <td id=\"T_ecb4a_row16_col16\" class=\"data row16 col16\" >1.000000</td>\n",
       "                        <td id=\"T_ecb4a_row16_col17\" class=\"data row16 col17\" >-0.115451</td>\n",
       "                        <td id=\"T_ecb4a_row16_col18\" class=\"data row16 col18\" >-0.039502</td>\n",
       "                        <td id=\"T_ecb4a_row16_col19\" class=\"data row16 col19\" >-0.085335</td>\n",
       "                        <td id=\"T_ecb4a_row16_col20\" class=\"data row16 col20\" >-0.050628</td>\n",
       "                        <td id=\"T_ecb4a_row16_col21\" class=\"data row16 col21\" >0.007209</td>\n",
       "            </tr>\n",
       "            <tr>\n",
       "                        <th id=\"T_ecb4a_level0_row17\" class=\"row_heading level0 row17\" >Small- and Mid-Sized Office</th>\n",
       "                        <td id=\"T_ecb4a_row17_col0\" class=\"data row17 col0\" >0.049996</td>\n",
       "                        <td id=\"T_ecb4a_row17_col1\" class=\"data row17 col1\" >-0.057972</td>\n",
       "                        <td id=\"T_ecb4a_row17_col2\" class=\"data row17 col2\" >0.172905</td>\n",
       "                        <td id=\"T_ecb4a_row17_col3\" class=\"data row17 col3\" >-0.158687</td>\n",
       "                        <td id=\"T_ecb4a_row17_col4\" class=\"data row17 col4\" >-0.264283</td>\n",
       "                        <td id=\"T_ecb4a_row17_col5\" class=\"data row17 col5\" >-0.051723</td>\n",
       "                        <td id=\"T_ecb4a_row17_col6\" class=\"data row17 col6\" >0.156744</td>\n",
       "                        <td id=\"T_ecb4a_row17_col7\" class=\"data row17 col7\" >-0.072253</td>\n",
       "                        <td id=\"T_ecb4a_row17_col8\" class=\"data row17 col8\" >-0.124952</td>\n",
       "                        <td id=\"T_ecb4a_row17_col9\" class=\"data row17 col9\" >-0.088788</td>\n",
       "                        <td id=\"T_ecb4a_row17_col10\" class=\"data row17 col10\" >-0.104480</td>\n",
       "                        <td id=\"T_ecb4a_row17_col11\" class=\"data row17 col11\" >-0.151382</td>\n",
       "                        <td id=\"T_ecb4a_row17_col12\" class=\"data row17 col12\" >-0.158119</td>\n",
       "                        <td id=\"T_ecb4a_row17_col13\" class=\"data row17 col13\" >-0.075761</td>\n",
       "                        <td id=\"T_ecb4a_row17_col14\" class=\"data row17 col14\" >-0.129157</td>\n",
       "                        <td id=\"T_ecb4a_row17_col15\" class=\"data row17 col15\" >-0.198857</td>\n",
       "                        <td id=\"T_ecb4a_row17_col16\" class=\"data row17 col16\" >-0.115451</td>\n",
       "                        <td id=\"T_ecb4a_row17_col17\" class=\"data row17 col17\" >1.000000</td>\n",
       "                        <td id=\"T_ecb4a_row17_col18\" class=\"data row17 col18\" >-0.078936</td>\n",
       "                        <td id=\"T_ecb4a_row17_col19\" class=\"data row17 col19\" >-0.170526</td>\n",
       "                        <td id=\"T_ecb4a_row17_col20\" class=\"data row17 col20\" >-0.101171</td>\n",
       "                        <td id=\"T_ecb4a_row17_col21\" class=\"data row17 col21\" >0.120465</td>\n",
       "            </tr>\n",
       "            <tr>\n",
       "                        <th id=\"T_ecb4a_level0_row18\" class=\"row_heading level0 row18\" >Supermarket / Grocery Store</th>\n",
       "                        <td id=\"T_ecb4a_row18_col0\" class=\"data row18 col0\" >0.071737</td>\n",
       "                        <td id=\"T_ecb4a_row18_col1\" class=\"data row18 col1\" >-0.032879</td>\n",
       "                        <td id=\"T_ecb4a_row18_col2\" class=\"data row18 col2\" >-0.157698</td>\n",
       "                        <td id=\"T_ecb4a_row18_col3\" class=\"data row18 col3\" >-0.029697</td>\n",
       "                        <td id=\"T_ecb4a_row18_col4\" class=\"data row18 col4\" >0.179810</td>\n",
       "                        <td id=\"T_ecb4a_row18_col5\" class=\"data row18 col5\" >-0.017697</td>\n",
       "                        <td id=\"T_ecb4a_row18_col6\" class=\"data row18 col6\" >0.060889</td>\n",
       "                        <td id=\"T_ecb4a_row18_col7\" class=\"data row18 col7\" >-0.036027</td>\n",
       "                        <td id=\"T_ecb4a_row18_col8\" class=\"data row18 col8\" >-0.042752</td>\n",
       "                        <td id=\"T_ecb4a_row18_col9\" class=\"data row18 col9\" >-0.030379</td>\n",
       "                        <td id=\"T_ecb4a_row18_col10\" class=\"data row18 col10\" >-0.035748</td>\n",
       "                        <td id=\"T_ecb4a_row18_col11\" class=\"data row18 col11\" >-0.051796</td>\n",
       "                        <td id=\"T_ecb4a_row18_col12\" class=\"data row18 col12\" >-0.054101</td>\n",
       "                        <td id=\"T_ecb4a_row18_col13\" class=\"data row18 col13\" >-0.025922</td>\n",
       "                        <td id=\"T_ecb4a_row18_col14\" class=\"data row18 col14\" >-0.044191</td>\n",
       "                        <td id=\"T_ecb4a_row18_col15\" class=\"data row18 col15\" >-0.068040</td>\n",
       "                        <td id=\"T_ecb4a_row18_col16\" class=\"data row18 col16\" >-0.039502</td>\n",
       "                        <td id=\"T_ecb4a_row18_col17\" class=\"data row18 col17\" >-0.078936</td>\n",
       "                        <td id=\"T_ecb4a_row18_col18\" class=\"data row18 col18\" >1.000000</td>\n",
       "                        <td id=\"T_ecb4a_row18_col19\" class=\"data row18 col19\" >-0.058346</td>\n",
       "                        <td id=\"T_ecb4a_row18_col20\" class=\"data row18 col20\" >-0.034616</td>\n",
       "                        <td id=\"T_ecb4a_row18_col21\" class=\"data row18 col21\" >-0.101707</td>\n",
       "            </tr>\n",
       "            <tr>\n",
       "                        <th id=\"T_ecb4a_level0_row19\" class=\"row_heading level0 row19\" >Warehouse</th>\n",
       "                        <td id=\"T_ecb4a_row19_col0\" class=\"data row19 col0\" >0.062252</td>\n",
       "                        <td id=\"T_ecb4a_row19_col1\" class=\"data row19 col1\" >-0.012799</td>\n",
       "                        <td id=\"T_ecb4a_row19_col2\" class=\"data row19 col2\" >-0.294888</td>\n",
       "                        <td id=\"T_ecb4a_row19_col3\" class=\"data row19 col3\" >-0.067368</td>\n",
       "                        <td id=\"T_ecb4a_row19_col4\" class=\"data row19 col4\" >-0.196261</td>\n",
       "                        <td id=\"T_ecb4a_row19_col5\" class=\"data row19 col5\" >-0.038231</td>\n",
       "                        <td id=\"T_ecb4a_row19_col6\" class=\"data row19 col6\" >0.085583</td>\n",
       "                        <td id=\"T_ecb4a_row19_col7\" class=\"data row19 col7\" >-0.006254</td>\n",
       "                        <td id=\"T_ecb4a_row19_col8\" class=\"data row19 col8\" >-0.092358</td>\n",
       "                        <td id=\"T_ecb4a_row19_col9\" class=\"data row19 col9\" >-0.065627</td>\n",
       "                        <td id=\"T_ecb4a_row19_col10\" class=\"data row19 col10\" >-0.077227</td>\n",
       "                        <td id=\"T_ecb4a_row19_col11\" class=\"data row19 col11\" >-0.111894</td>\n",
       "                        <td id=\"T_ecb4a_row19_col12\" class=\"data row19 col12\" >-0.116874</td>\n",
       "                        <td id=\"T_ecb4a_row19_col13\" class=\"data row19 col13\" >-0.055999</td>\n",
       "                        <td id=\"T_ecb4a_row19_col14\" class=\"data row19 col14\" >-0.095466</td>\n",
       "                        <td id=\"T_ecb4a_row19_col15\" class=\"data row19 col15\" >-0.146985</td>\n",
       "                        <td id=\"T_ecb4a_row19_col16\" class=\"data row19 col16\" >-0.085335</td>\n",
       "                        <td id=\"T_ecb4a_row19_col17\" class=\"data row19 col17\" >-0.170526</td>\n",
       "                        <td id=\"T_ecb4a_row19_col18\" class=\"data row19 col18\" >-0.058346</td>\n",
       "                        <td id=\"T_ecb4a_row19_col19\" class=\"data row19 col19\" >1.000000</td>\n",
       "                        <td id=\"T_ecb4a_row19_col20\" class=\"data row19 col20\" >-0.074780</td>\n",
       "                        <td id=\"T_ecb4a_row19_col21\" class=\"data row19 col21\" >0.029757</td>\n",
       "            </tr>\n",
       "            <tr>\n",
       "                        <th id=\"T_ecb4a_level0_row20\" class=\"row_heading level0 row20\" >Worship Facility</th>\n",
       "                        <td id=\"T_ecb4a_row20_col0\" class=\"data row20 col0\" >0.092811</td>\n",
       "                        <td id=\"T_ecb4a_row20_col1\" class=\"data row20 col1\" >-0.010935</td>\n",
       "                        <td id=\"T_ecb4a_row20_col2\" class=\"data row20 col2\" >-0.082932</td>\n",
       "                        <td id=\"T_ecb4a_row20_col3\" class=\"data row20 col3\" >-0.181646</td>\n",
       "                        <td id=\"T_ecb4a_row20_col4\" class=\"data row20 col4\" >-0.083295</td>\n",
       "                        <td id=\"T_ecb4a_row20_col5\" class=\"data row20 col5\" >-0.022682</td>\n",
       "                        <td id=\"T_ecb4a_row20_col6\" class=\"data row20 col6\" >0.078039</td>\n",
       "                        <td id=\"T_ecb4a_row20_col7\" class=\"data row20 col7\" >-0.046175</td>\n",
       "                        <td id=\"T_ecb4a_row20_col8\" class=\"data row20 col8\" >-0.054795</td>\n",
       "                        <td id=\"T_ecb4a_row20_col9\" class=\"data row20 col9\" >-0.038936</td>\n",
       "                        <td id=\"T_ecb4a_row20_col10\" class=\"data row20 col10\" >-0.045818</td>\n",
       "                        <td id=\"T_ecb4a_row20_col11\" class=\"data row20 col11\" >-0.066385</td>\n",
       "                        <td id=\"T_ecb4a_row20_col12\" class=\"data row20 col12\" >-0.069340</td>\n",
       "                        <td id=\"T_ecb4a_row20_col13\" class=\"data row20 col13\" >-0.033223</td>\n",
       "                        <td id=\"T_ecb4a_row20_col14\" class=\"data row20 col14\" >-0.056639</td>\n",
       "                        <td id=\"T_ecb4a_row20_col15\" class=\"data row20 col15\" >-0.087205</td>\n",
       "                        <td id=\"T_ecb4a_row20_col16\" class=\"data row20 col16\" >-0.050628</td>\n",
       "                        <td id=\"T_ecb4a_row20_col17\" class=\"data row20 col17\" >-0.101171</td>\n",
       "                        <td id=\"T_ecb4a_row20_col18\" class=\"data row20 col18\" >-0.034616</td>\n",
       "                        <td id=\"T_ecb4a_row20_col19\" class=\"data row20 col19\" >-0.074780</td>\n",
       "                        <td id=\"T_ecb4a_row20_col20\" class=\"data row20 col20\" >1.000000</td>\n",
       "                        <td id=\"T_ecb4a_row20_col21\" class=\"data row20 col21\" >0.103331</td>\n",
       "            </tr>\n",
       "            <tr>\n",
       "                        <th id=\"T_ecb4a_level0_row21\" class=\"row_heading level0 row21\" >Building_age</th>\n",
       "                        <td id=\"T_ecb4a_row21_col0\" class=\"data row21 col0\" >0.030126</td>\n",
       "                        <td id=\"T_ecb4a_row21_col1\" class=\"data row21 col1\" >-0.042367</td>\n",
       "                        <td id=\"T_ecb4a_row21_col2\" class=\"data row21 col2\" >-0.051499</td>\n",
       "                        <td id=\"T_ecb4a_row21_col3\" class=\"data row21 col3\" >-0.272107</td>\n",
       "                        <td id=\"T_ecb4a_row21_col4\" class=\"data row21 col4\" >-0.120802</td>\n",
       "                        <td id=\"T_ecb4a_row21_col5\" class=\"data row21 col5\" >-0.004084</td>\n",
       "                        <td id=\"T_ecb4a_row21_col6\" class=\"data row21 col6\" >0.088335</td>\n",
       "                        <td id=\"T_ecb4a_row21_col7\" class=\"data row21 col7\" >-0.039662</td>\n",
       "                        <td id=\"T_ecb4a_row21_col8\" class=\"data row21 col8\" >-0.082277</td>\n",
       "                        <td id=\"T_ecb4a_row21_col9\" class=\"data row21 col9\" >0.014171</td>\n",
       "                        <td id=\"T_ecb4a_row21_col10\" class=\"data row21 col10\" >-0.034838</td>\n",
       "                        <td id=\"T_ecb4a_row21_col11\" class=\"data row21 col11\" >-0.034678</td>\n",
       "                        <td id=\"T_ecb4a_row21_col12\" class=\"data row21 col12\" >-0.164218</td>\n",
       "                        <td id=\"T_ecb4a_row21_col13\" class=\"data row21 col13\" >-0.070956</td>\n",
       "                        <td id=\"T_ecb4a_row21_col14\" class=\"data row21 col14\" >0.047665</td>\n",
       "                        <td id=\"T_ecb4a_row21_col15\" class=\"data row21 col15\" >-0.009493</td>\n",
       "                        <td id=\"T_ecb4a_row21_col16\" class=\"data row21 col16\" >0.007209</td>\n",
       "                        <td id=\"T_ecb4a_row21_col17\" class=\"data row21 col17\" >0.120465</td>\n",
       "                        <td id=\"T_ecb4a_row21_col18\" class=\"data row21 col18\" >-0.101707</td>\n",
       "                        <td id=\"T_ecb4a_row21_col19\" class=\"data row21 col19\" >0.029757</td>\n",
       "                        <td id=\"T_ecb4a_row21_col20\" class=\"data row21 col20\" >0.103331</td>\n",
       "                        <td id=\"T_ecb4a_row21_col21\" class=\"data row21 col21\" >1.000000</td>\n",
       "            </tr>\n",
       "    </tbody></table>"
      ],
      "text/plain": [
       "<pandas.io.formats.style.Styler at 0x2456a779af0>"
      ]
     },
     "execution_count": 214,
     "metadata": {},
     "output_type": "execute_result"
    }
   ],
   "source": [
    "corrMatrix.style.applymap(lambda x: 'background-color : lightgreen' if (x >= 0.65) & (x < 0.9)\n",
    "                           else 'background-color : green' if (x >= 0.9) & (x != 1)\n",
    "                           else '')"
   ]
  },
  {
   "cell_type": "code",
   "execution_count": null,
   "id": "5c4799a9",
   "metadata": {},
   "outputs": [],
   "source": []
  }
 ],
 "metadata": {
  "kernelspec": {
   "display_name": "Python 3",
   "language": "python",
   "name": "python3"
  },
  "language_info": {
   "codemirror_mode": {
    "name": "ipython",
    "version": 3
   },
   "file_extension": ".py",
   "mimetype": "text/x-python",
   "name": "python",
   "nbconvert_exporter": "python",
   "pygments_lexer": "ipython3",
   "version": "3.8.8"
  }
 },
 "nbformat": 4,
 "nbformat_minor": 5
}
